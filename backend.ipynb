{
 "cells": [
  {
   "cell_type": "code",
   "execution_count": 218,
   "metadata": {},
   "outputs": [],
   "source": [
    "import requests\n",
    "import pandas as pd\n",
    "import plotly.express as px\n",
    "import datetime\n",
    "import numpy as np\n",
    "import plotly.graph_objects as go"
   ]
  },
  {
   "cell_type": "code",
   "execution_count": 219,
   "metadata": {},
   "outputs": [],
   "source": [
    "def download_esios_id(id,fecha_ini,fecha_fin,agrupacion):\n",
    "                       token = '496b263791ef0dcaf80b803b47b332a13b01f2c2352e018b624c7a36a0eaffc0'\n",
    "                       cab = dict()\n",
    "                       cab ['x-api-key']= token\n",
    "                       url_id = 'https://api.esios.ree.es/indicators'\n",
    "                       url=f'{url_id}/{id}?geo_ids[]=3&start_date={fecha_ini}T00:00:00&end_date={fecha_fin}T23:59:59&time_trunc={agrupacion}'\n",
    "                       print(url)\n",
    "                       response = requests.get(url, headers=cab).json()\n",
    "                       \n",
    "\n",
    "                       return response\n",
    "                       "
   ]
  },
  {
   "cell_type": "code",
   "execution_count": 220,
   "metadata": {},
   "outputs": [],
   "source": [
    "id='600'\n",
    "fecha_ini='2024-01-01'\n",
    "fecha_fin='2024-12-31'\n",
    "agrupacion='hour'"
   ]
  },
  {
   "cell_type": "code",
   "execution_count": 221,
   "metadata": {},
   "outputs": [
    {
     "name": "stdout",
     "output_type": "stream",
     "text": [
      "https://api.esios.ree.es/indicators/600?geo_ids[]=3&start_date=2024-01-01T00:00:00&end_date=2024-12-31T23:59:59&time_trunc=hour\n"
     ]
    }
   ],
   "source": [
    "datos_origen =download_esios_id(id,fecha_ini,fecha_fin,agrupacion)\n"
   ]
  },
  {
   "cell_type": "code",
   "execution_count": 222,
   "metadata": {},
   "outputs": [
    {
     "data": {
      "text/html": [
       "<div>\n",
       "<style scoped>\n",
       "    .dataframe tbody tr th:only-of-type {\n",
       "        vertical-align: middle;\n",
       "    }\n",
       "\n",
       "    .dataframe tbody tr th {\n",
       "        vertical-align: top;\n",
       "    }\n",
       "\n",
       "    .dataframe thead th {\n",
       "        text-align: right;\n",
       "    }\n",
       "</style>\n",
       "<table border=\"1\" class=\"dataframe\">\n",
       "  <thead>\n",
       "    <tr style=\"text-align: right;\">\n",
       "      <th></th>\n",
       "      <th>value</th>\n",
       "      <th>datetime</th>\n",
       "      <th>datetime_utc</th>\n",
       "      <th>tz_time</th>\n",
       "      <th>geo_id</th>\n",
       "      <th>geo_name</th>\n",
       "    </tr>\n",
       "  </thead>\n",
       "  <tbody>\n",
       "    <tr>\n",
       "      <th>0</th>\n",
       "      <td>63.33</td>\n",
       "      <td>2024-01-01T00:00:00.000+01:00</td>\n",
       "      <td>2023-12-31T23:00:00Z</td>\n",
       "      <td>2023-12-31T23:00:00.000Z</td>\n",
       "      <td>3</td>\n",
       "      <td>España</td>\n",
       "    </tr>\n",
       "    <tr>\n",
       "      <th>1</th>\n",
       "      <td>50.09</td>\n",
       "      <td>2024-01-01T01:00:00.000+01:00</td>\n",
       "      <td>2024-01-01T00:00:00Z</td>\n",
       "      <td>2024-01-01T00:00:00.000Z</td>\n",
       "      <td>3</td>\n",
       "      <td>España</td>\n",
       "    </tr>\n",
       "    <tr>\n",
       "      <th>2</th>\n",
       "      <td>47.50</td>\n",
       "      <td>2024-01-01T02:00:00.000+01:00</td>\n",
       "      <td>2024-01-01T01:00:00Z</td>\n",
       "      <td>2024-01-01T01:00:00.000Z</td>\n",
       "      <td>3</td>\n",
       "      <td>España</td>\n",
       "    </tr>\n",
       "    <tr>\n",
       "      <th>3</th>\n",
       "      <td>43.50</td>\n",
       "      <td>2024-01-01T03:00:00.000+01:00</td>\n",
       "      <td>2024-01-01T02:00:00Z</td>\n",
       "      <td>2024-01-01T02:00:00.000Z</td>\n",
       "      <td>3</td>\n",
       "      <td>España</td>\n",
       "    </tr>\n",
       "    <tr>\n",
       "      <th>4</th>\n",
       "      <td>42.50</td>\n",
       "      <td>2024-01-01T04:00:00.000+01:00</td>\n",
       "      <td>2024-01-01T03:00:00Z</td>\n",
       "      <td>2024-01-01T03:00:00.000Z</td>\n",
       "      <td>3</td>\n",
       "      <td>España</td>\n",
       "    </tr>\n",
       "    <tr>\n",
       "      <th>...</th>\n",
       "      <td>...</td>\n",
       "      <td>...</td>\n",
       "      <td>...</td>\n",
       "      <td>...</td>\n",
       "      <td>...</td>\n",
       "      <td>...</td>\n",
       "    </tr>\n",
       "    <tr>\n",
       "      <th>4530</th>\n",
       "      <td>35.94</td>\n",
       "      <td>2024-07-07T19:00:00.000+02:00</td>\n",
       "      <td>2024-07-07T17:00:00Z</td>\n",
       "      <td>2024-07-07T17:00:00.000Z</td>\n",
       "      <td>3</td>\n",
       "      <td>España</td>\n",
       "    </tr>\n",
       "    <tr>\n",
       "      <th>4531</th>\n",
       "      <td>59.57</td>\n",
       "      <td>2024-07-07T20:00:00.000+02:00</td>\n",
       "      <td>2024-07-07T18:00:00Z</td>\n",
       "      <td>2024-07-07T18:00:00.000Z</td>\n",
       "      <td>3</td>\n",
       "      <td>España</td>\n",
       "    </tr>\n",
       "    <tr>\n",
       "      <th>4532</th>\n",
       "      <td>100.73</td>\n",
       "      <td>2024-07-07T21:00:00.000+02:00</td>\n",
       "      <td>2024-07-07T19:00:00Z</td>\n",
       "      <td>2024-07-07T19:00:00.000Z</td>\n",
       "      <td>3</td>\n",
       "      <td>España</td>\n",
       "    </tr>\n",
       "    <tr>\n",
       "      <th>4533</th>\n",
       "      <td>104.58</td>\n",
       "      <td>2024-07-07T22:00:00.000+02:00</td>\n",
       "      <td>2024-07-07T20:00:00Z</td>\n",
       "      <td>2024-07-07T20:00:00.000Z</td>\n",
       "      <td>3</td>\n",
       "      <td>España</td>\n",
       "    </tr>\n",
       "    <tr>\n",
       "      <th>4534</th>\n",
       "      <td>100.25</td>\n",
       "      <td>2024-07-07T23:00:00.000+02:00</td>\n",
       "      <td>2024-07-07T21:00:00Z</td>\n",
       "      <td>2024-07-07T21:00:00.000Z</td>\n",
       "      <td>3</td>\n",
       "      <td>España</td>\n",
       "    </tr>\n",
       "  </tbody>\n",
       "</table>\n",
       "<p>4535 rows × 6 columns</p>\n",
       "</div>"
      ],
      "text/plain": [
       "       value                       datetime          datetime_utc  \\\n",
       "0      63.33  2024-01-01T00:00:00.000+01:00  2023-12-31T23:00:00Z   \n",
       "1      50.09  2024-01-01T01:00:00.000+01:00  2024-01-01T00:00:00Z   \n",
       "2      47.50  2024-01-01T02:00:00.000+01:00  2024-01-01T01:00:00Z   \n",
       "3      43.50  2024-01-01T03:00:00.000+01:00  2024-01-01T02:00:00Z   \n",
       "4      42.50  2024-01-01T04:00:00.000+01:00  2024-01-01T03:00:00Z   \n",
       "...      ...                            ...                   ...   \n",
       "4530   35.94  2024-07-07T19:00:00.000+02:00  2024-07-07T17:00:00Z   \n",
       "4531   59.57  2024-07-07T20:00:00.000+02:00  2024-07-07T18:00:00Z   \n",
       "4532  100.73  2024-07-07T21:00:00.000+02:00  2024-07-07T19:00:00Z   \n",
       "4533  104.58  2024-07-07T22:00:00.000+02:00  2024-07-07T20:00:00Z   \n",
       "4534  100.25  2024-07-07T23:00:00.000+02:00  2024-07-07T21:00:00Z   \n",
       "\n",
       "                       tz_time  geo_id geo_name  \n",
       "0     2023-12-31T23:00:00.000Z       3   España  \n",
       "1     2024-01-01T00:00:00.000Z       3   España  \n",
       "2     2024-01-01T01:00:00.000Z       3   España  \n",
       "3     2024-01-01T02:00:00.000Z       3   España  \n",
       "4     2024-01-01T03:00:00.000Z       3   España  \n",
       "...                        ...     ...      ...  \n",
       "4530  2024-07-07T17:00:00.000Z       3   España  \n",
       "4531  2024-07-07T18:00:00.000Z       3   España  \n",
       "4532  2024-07-07T19:00:00.000Z       3   España  \n",
       "4533  2024-07-07T20:00:00.000Z       3   España  \n",
       "4534  2024-07-07T21:00:00.000Z       3   España  \n",
       "\n",
       "[4535 rows x 6 columns]"
      ]
     },
     "execution_count": 222,
     "metadata": {},
     "output_type": "execute_result"
    }
   ],
   "source": [
    "datos=pd.DataFrame(datos_origen['indicator']['values'])\n",
    "datos"
   ]
  },
  {
   "cell_type": "code",
   "execution_count": 223,
   "metadata": {},
   "outputs": [
    {
     "data": {
      "text/html": [
       "<div>\n",
       "<style scoped>\n",
       "    .dataframe tbody tr th:only-of-type {\n",
       "        vertical-align: middle;\n",
       "    }\n",
       "\n",
       "    .dataframe tbody tr th {\n",
       "        vertical-align: top;\n",
       "    }\n",
       "\n",
       "    .dataframe thead th {\n",
       "        text-align: right;\n",
       "    }\n",
       "</style>\n",
       "<table border=\"1\" class=\"dataframe\">\n",
       "  <thead>\n",
       "    <tr style=\"text-align: right;\">\n",
       "      <th></th>\n",
       "      <th>datetime</th>\n",
       "      <th>value</th>\n",
       "    </tr>\n",
       "  </thead>\n",
       "  <tbody>\n",
       "    <tr>\n",
       "      <th>0</th>\n",
       "      <td>2024-01-01 00:00:00</td>\n",
       "      <td>63.33</td>\n",
       "    </tr>\n",
       "    <tr>\n",
       "      <th>1</th>\n",
       "      <td>2024-01-01 01:00:00</td>\n",
       "      <td>50.09</td>\n",
       "    </tr>\n",
       "    <tr>\n",
       "      <th>2</th>\n",
       "      <td>2024-01-01 02:00:00</td>\n",
       "      <td>47.50</td>\n",
       "    </tr>\n",
       "    <tr>\n",
       "      <th>3</th>\n",
       "      <td>2024-01-01 03:00:00</td>\n",
       "      <td>43.50</td>\n",
       "    </tr>\n",
       "    <tr>\n",
       "      <th>4</th>\n",
       "      <td>2024-01-01 04:00:00</td>\n",
       "      <td>42.50</td>\n",
       "    </tr>\n",
       "    <tr>\n",
       "      <th>...</th>\n",
       "      <td>...</td>\n",
       "      <td>...</td>\n",
       "    </tr>\n",
       "    <tr>\n",
       "      <th>4530</th>\n",
       "      <td>2024-07-07 19:00:00</td>\n",
       "      <td>35.94</td>\n",
       "    </tr>\n",
       "    <tr>\n",
       "      <th>4531</th>\n",
       "      <td>2024-07-07 20:00:00</td>\n",
       "      <td>59.57</td>\n",
       "    </tr>\n",
       "    <tr>\n",
       "      <th>4532</th>\n",
       "      <td>2024-07-07 21:00:00</td>\n",
       "      <td>100.73</td>\n",
       "    </tr>\n",
       "    <tr>\n",
       "      <th>4533</th>\n",
       "      <td>2024-07-07 22:00:00</td>\n",
       "      <td>104.58</td>\n",
       "    </tr>\n",
       "    <tr>\n",
       "      <th>4534</th>\n",
       "      <td>2024-07-07 23:00:00</td>\n",
       "      <td>100.25</td>\n",
       "    </tr>\n",
       "  </tbody>\n",
       "</table>\n",
       "<p>4535 rows × 2 columns</p>\n",
       "</div>"
      ],
      "text/plain": [
       "                datetime   value\n",
       "0    2024-01-01 00:00:00   63.33\n",
       "1    2024-01-01 01:00:00   50.09\n",
       "2    2024-01-01 02:00:00   47.50\n",
       "3    2024-01-01 03:00:00   43.50\n",
       "4    2024-01-01 04:00:00   42.50\n",
       "...                  ...     ...\n",
       "4530 2024-07-07 19:00:00   35.94\n",
       "4531 2024-07-07 20:00:00   59.57\n",
       "4532 2024-07-07 21:00:00  100.73\n",
       "4533 2024-07-07 22:00:00  104.58\n",
       "4534 2024-07-07 23:00:00  100.25\n",
       "\n",
       "[4535 rows x 2 columns]"
      ]
     },
     "execution_count": 223,
     "metadata": {},
     "output_type": "execute_result"
    }
   ],
   "source": [
    "datos = (datos\n",
    "         .assign(datetime=lambda vh_: pd #formateamos campo fecha, desde un str con diferencia horaria a un naive\n",
    "                      .to_datetime(vh_['datetime'],utc=True)  # con la fecha local\n",
    "                      .dt\n",
    "                      .tz_convert('Europe/Madrid')\n",
    "                      .dt\n",
    "                      .tz_localize(None)\n",
    "                ) \n",
    "             #.drop(['datetime','datetime_utc','tz_time','geo_id','geo_name'],\n",
    "             #      axis=1) #eliminamos campos\n",
    "             \n",
    "             .loc[:,['datetime','value']]\n",
    "             )\n",
    "\n",
    "datos"
   ]
  },
  {
   "cell_type": "code",
   "execution_count": 224,
   "metadata": {},
   "outputs": [],
   "source": [
    "meses = {\n",
    "    'January': 'Enero',\n",
    "    'February': 'Febrero',\n",
    "    'March': 'Marzo',\n",
    "    'April': 'Abril',\n",
    "    'May': 'Mayo',\n",
    "    'June': 'Junio',\n",
    "    'July': 'Julio',\n",
    "    'August': 'Agosto',\n",
    "    'September': 'Septiembre',\n",
    "    'October': 'Octubre',\n",
    "    'November': 'Noviembre',\n",
    "    'December': 'Diciembre'\n",
    "}"
   ]
  },
  {
   "cell_type": "markdown",
   "metadata": {},
   "source": [
    "### Esta es la tabla de valores horarios tratada"
   ]
  },
  {
   "cell_type": "code",
   "execution_count": 225,
   "metadata": {},
   "outputs": [
    {
     "data": {
      "text/html": [
       "<div>\n",
       "<style scoped>\n",
       "    .dataframe tbody tr th:only-of-type {\n",
       "        vertical-align: middle;\n",
       "    }\n",
       "\n",
       "    .dataframe tbody tr th {\n",
       "        vertical-align: top;\n",
       "    }\n",
       "\n",
       "    .dataframe thead th {\n",
       "        text-align: right;\n",
       "    }\n",
       "</style>\n",
       "<table border=\"1\" class=\"dataframe\">\n",
       "  <thead>\n",
       "    <tr style=\"text-align: right;\">\n",
       "      <th></th>\n",
       "      <th>value</th>\n",
       "      <th>fecha</th>\n",
       "      <th>hora</th>\n",
       "      <th>dia</th>\n",
       "      <th>mes</th>\n",
       "      <th>año</th>\n",
       "    </tr>\n",
       "    <tr>\n",
       "      <th>datetime</th>\n",
       "      <th></th>\n",
       "      <th></th>\n",
       "      <th></th>\n",
       "      <th></th>\n",
       "      <th></th>\n",
       "      <th></th>\n",
       "    </tr>\n",
       "  </thead>\n",
       "  <tbody>\n",
       "    <tr>\n",
       "      <th>2024-01-01 00:00:00</th>\n",
       "      <td>63.33</td>\n",
       "      <td>2024-01-01</td>\n",
       "      <td>0</td>\n",
       "      <td>1</td>\n",
       "      <td>1</td>\n",
       "      <td>2024</td>\n",
       "    </tr>\n",
       "    <tr>\n",
       "      <th>2024-01-01 01:00:00</th>\n",
       "      <td>50.09</td>\n",
       "      <td>2024-01-01</td>\n",
       "      <td>1</td>\n",
       "      <td>1</td>\n",
       "      <td>1</td>\n",
       "      <td>2024</td>\n",
       "    </tr>\n",
       "    <tr>\n",
       "      <th>2024-01-01 02:00:00</th>\n",
       "      <td>47.50</td>\n",
       "      <td>2024-01-01</td>\n",
       "      <td>2</td>\n",
       "      <td>1</td>\n",
       "      <td>1</td>\n",
       "      <td>2024</td>\n",
       "    </tr>\n",
       "    <tr>\n",
       "      <th>2024-01-01 03:00:00</th>\n",
       "      <td>43.50</td>\n",
       "      <td>2024-01-01</td>\n",
       "      <td>3</td>\n",
       "      <td>1</td>\n",
       "      <td>1</td>\n",
       "      <td>2024</td>\n",
       "    </tr>\n",
       "    <tr>\n",
       "      <th>2024-01-01 04:00:00</th>\n",
       "      <td>42.50</td>\n",
       "      <td>2024-01-01</td>\n",
       "      <td>4</td>\n",
       "      <td>1</td>\n",
       "      <td>1</td>\n",
       "      <td>2024</td>\n",
       "    </tr>\n",
       "    <tr>\n",
       "      <th>...</th>\n",
       "      <td>...</td>\n",
       "      <td>...</td>\n",
       "      <td>...</td>\n",
       "      <td>...</td>\n",
       "      <td>...</td>\n",
       "      <td>...</td>\n",
       "    </tr>\n",
       "    <tr>\n",
       "      <th>2024-07-07 19:00:00</th>\n",
       "      <td>35.94</td>\n",
       "      <td>2024-07-07</td>\n",
       "      <td>19</td>\n",
       "      <td>7</td>\n",
       "      <td>7</td>\n",
       "      <td>2024</td>\n",
       "    </tr>\n",
       "    <tr>\n",
       "      <th>2024-07-07 20:00:00</th>\n",
       "      <td>59.57</td>\n",
       "      <td>2024-07-07</td>\n",
       "      <td>20</td>\n",
       "      <td>7</td>\n",
       "      <td>7</td>\n",
       "      <td>2024</td>\n",
       "    </tr>\n",
       "    <tr>\n",
       "      <th>2024-07-07 21:00:00</th>\n",
       "      <td>100.73</td>\n",
       "      <td>2024-07-07</td>\n",
       "      <td>21</td>\n",
       "      <td>7</td>\n",
       "      <td>7</td>\n",
       "      <td>2024</td>\n",
       "    </tr>\n",
       "    <tr>\n",
       "      <th>2024-07-07 22:00:00</th>\n",
       "      <td>104.58</td>\n",
       "      <td>2024-07-07</td>\n",
       "      <td>22</td>\n",
       "      <td>7</td>\n",
       "      <td>7</td>\n",
       "      <td>2024</td>\n",
       "    </tr>\n",
       "    <tr>\n",
       "      <th>2024-07-07 23:00:00</th>\n",
       "      <td>100.25</td>\n",
       "      <td>2024-07-07</td>\n",
       "      <td>23</td>\n",
       "      <td>7</td>\n",
       "      <td>7</td>\n",
       "      <td>2024</td>\n",
       "    </tr>\n",
       "  </tbody>\n",
       "</table>\n",
       "<p>4535 rows × 6 columns</p>\n",
       "</div>"
      ],
      "text/plain": [
       "                      value      fecha  hora  dia  mes   año\n",
       "datetime                                                    \n",
       "2024-01-01 00:00:00   63.33 2024-01-01     0    1    1  2024\n",
       "2024-01-01 01:00:00   50.09 2024-01-01     1    1    1  2024\n",
       "2024-01-01 02:00:00   47.50 2024-01-01     2    1    1  2024\n",
       "2024-01-01 03:00:00   43.50 2024-01-01     3    1    1  2024\n",
       "2024-01-01 04:00:00   42.50 2024-01-01     4    1    1  2024\n",
       "...                     ...        ...   ...  ...  ...   ...\n",
       "2024-07-07 19:00:00   35.94 2024-07-07    19    7    7  2024\n",
       "2024-07-07 20:00:00   59.57 2024-07-07    20    7    7  2024\n",
       "2024-07-07 21:00:00  100.73 2024-07-07    21    7    7  2024\n",
       "2024-07-07 22:00:00  104.58 2024-07-07    22    7    7  2024\n",
       "2024-07-07 23:00:00  100.25 2024-07-07    23    7    7  2024\n",
       "\n",
       "[4535 rows x 6 columns]"
      ]
     },
     "execution_count": 225,
     "metadata": {},
     "output_type": "execute_result"
    }
   ],
   "source": [
    "datos['fecha']=datos['datetime'].dt.strftime('%d/%m/%Y')\n",
    "datos['fecha']=pd.to_datetime(datos['fecha'],format='%d/%m/%Y')\n",
    "datos['hora']=datos['datetime'].dt.hour\n",
    "datos['dia']=datos['datetime'].dt.day\n",
    "datos['mes']=datos['datetime'].dt.month\n",
    "datos['año']=datos['datetime'].dt.year\n",
    "#datos['mes_nombre']=datos['datetime'].dt.month_name()\n",
    "#datos['mes_nombre'] = datos['mes_nombre'].map(meses)\n",
    "\n",
    "datos.set_index('datetime', inplace=True)\n",
    "datos"
   ]
  },
  {
   "cell_type": "code",
   "execution_count": 226,
   "metadata": {},
   "outputs": [
    {
     "data": {
      "text/plain": [
       "(-2.0, 181.26)"
      ]
     },
     "execution_count": 226,
     "metadata": {},
     "output_type": "execute_result"
    }
   ],
   "source": [
    "valor_minimo_horario=datos['value'].min()\n",
    "valor_maximo_diario=datos['value'].max()\n",
    "valor_minimo_horario,valor_maximo_diario"
   ]
  },
  {
   "cell_type": "markdown",
   "metadata": {},
   "source": [
    "### Copia para escala de colores"
   ]
  },
  {
   "cell_type": "code",
   "execution_count": 227,
   "metadata": {},
   "outputs": [
    {
     "data": {
      "text/html": [
       "<div>\n",
       "<style scoped>\n",
       "    .dataframe tbody tr th:only-of-type {\n",
       "        vertical-align: middle;\n",
       "    }\n",
       "\n",
       "    .dataframe tbody tr th {\n",
       "        vertical-align: top;\n",
       "    }\n",
       "\n",
       "    .dataframe thead th {\n",
       "        text-align: right;\n",
       "    }\n",
       "</style>\n",
       "<table border=\"1\" class=\"dataframe\">\n",
       "  <thead>\n",
       "    <tr style=\"text-align: right;\">\n",
       "      <th></th>\n",
       "      <th>value</th>\n",
       "      <th>fecha</th>\n",
       "      <th>hora</th>\n",
       "      <th>dia</th>\n",
       "      <th>mes</th>\n",
       "      <th>año</th>\n",
       "    </tr>\n",
       "    <tr>\n",
       "      <th>datetime</th>\n",
       "      <th></th>\n",
       "      <th></th>\n",
       "      <th></th>\n",
       "      <th></th>\n",
       "      <th></th>\n",
       "      <th></th>\n",
       "    </tr>\n",
       "  </thead>\n",
       "  <tbody>\n",
       "    <tr>\n",
       "      <th>2024-01-01 00:00:00</th>\n",
       "      <td>63.33</td>\n",
       "      <td>2024-01-01</td>\n",
       "      <td>0</td>\n",
       "      <td>1</td>\n",
       "      <td>1</td>\n",
       "      <td>2024</td>\n",
       "    </tr>\n",
       "    <tr>\n",
       "      <th>2024-01-01 01:00:00</th>\n",
       "      <td>50.09</td>\n",
       "      <td>2024-01-01</td>\n",
       "      <td>1</td>\n",
       "      <td>1</td>\n",
       "      <td>1</td>\n",
       "      <td>2024</td>\n",
       "    </tr>\n",
       "    <tr>\n",
       "      <th>2024-01-01 02:00:00</th>\n",
       "      <td>47.50</td>\n",
       "      <td>2024-01-01</td>\n",
       "      <td>2</td>\n",
       "      <td>1</td>\n",
       "      <td>1</td>\n",
       "      <td>2024</td>\n",
       "    </tr>\n",
       "    <tr>\n",
       "      <th>2024-01-01 03:00:00</th>\n",
       "      <td>43.50</td>\n",
       "      <td>2024-01-01</td>\n",
       "      <td>3</td>\n",
       "      <td>1</td>\n",
       "      <td>1</td>\n",
       "      <td>2024</td>\n",
       "    </tr>\n",
       "    <tr>\n",
       "      <th>2024-01-01 04:00:00</th>\n",
       "      <td>42.50</td>\n",
       "      <td>2024-01-01</td>\n",
       "      <td>4</td>\n",
       "      <td>1</td>\n",
       "      <td>1</td>\n",
       "      <td>2024</td>\n",
       "    </tr>\n",
       "    <tr>\n",
       "      <th>...</th>\n",
       "      <td>...</td>\n",
       "      <td>...</td>\n",
       "      <td>...</td>\n",
       "      <td>...</td>\n",
       "      <td>...</td>\n",
       "      <td>...</td>\n",
       "    </tr>\n",
       "    <tr>\n",
       "      <th>2024-07-07 19:00:00</th>\n",
       "      <td>35.94</td>\n",
       "      <td>2024-07-07</td>\n",
       "      <td>19</td>\n",
       "      <td>7</td>\n",
       "      <td>7</td>\n",
       "      <td>2024</td>\n",
       "    </tr>\n",
       "    <tr>\n",
       "      <th>2024-07-07 20:00:00</th>\n",
       "      <td>59.57</td>\n",
       "      <td>2024-07-07</td>\n",
       "      <td>20</td>\n",
       "      <td>7</td>\n",
       "      <td>7</td>\n",
       "      <td>2024</td>\n",
       "    </tr>\n",
       "    <tr>\n",
       "      <th>2024-07-07 21:00:00</th>\n",
       "      <td>100.73</td>\n",
       "      <td>2024-07-07</td>\n",
       "      <td>21</td>\n",
       "      <td>7</td>\n",
       "      <td>7</td>\n",
       "      <td>2024</td>\n",
       "    </tr>\n",
       "    <tr>\n",
       "      <th>2024-07-07 22:00:00</th>\n",
       "      <td>104.58</td>\n",
       "      <td>2024-07-07</td>\n",
       "      <td>22</td>\n",
       "      <td>7</td>\n",
       "      <td>7</td>\n",
       "      <td>2024</td>\n",
       "    </tr>\n",
       "    <tr>\n",
       "      <th>2024-07-07 23:00:00</th>\n",
       "      <td>100.25</td>\n",
       "      <td>2024-07-07</td>\n",
       "      <td>23</td>\n",
       "      <td>7</td>\n",
       "      <td>7</td>\n",
       "      <td>2024</td>\n",
       "    </tr>\n",
       "  </tbody>\n",
       "</table>\n",
       "<p>4535 rows × 6 columns</p>\n",
       "</div>"
      ],
      "text/plain": [
       "                      value      fecha  hora  dia  mes   año\n",
       "datetime                                                    \n",
       "2024-01-01 00:00:00   63.33 2024-01-01     0    1    1  2024\n",
       "2024-01-01 01:00:00   50.09 2024-01-01     1    1    1  2024\n",
       "2024-01-01 02:00:00   47.50 2024-01-01     2    1    1  2024\n",
       "2024-01-01 03:00:00   43.50 2024-01-01     3    1    1  2024\n",
       "2024-01-01 04:00:00   42.50 2024-01-01     4    1    1  2024\n",
       "...                     ...        ...   ...  ...  ...   ...\n",
       "2024-07-07 19:00:00   35.94 2024-07-07    19    7    7  2024\n",
       "2024-07-07 20:00:00   59.57 2024-07-07    20    7    7  2024\n",
       "2024-07-07 21:00:00  100.73 2024-07-07    21    7    7  2024\n",
       "2024-07-07 22:00:00  104.58 2024-07-07    22    7    7  2024\n",
       "2024-07-07 23:00:00  100.25 2024-07-07    23    7    7  2024\n",
       "\n",
       "[4535 rows x 6 columns]"
      ]
     },
     "execution_count": 227,
     "metadata": {},
     "output_type": "execute_result"
    }
   ],
   "source": [
    "datos_horarios=datos\n",
    "datos_horarios\n"
   ]
  },
  {
   "cell_type": "markdown",
   "metadata": {},
   "source": [
    "### Agrupación por días"
   ]
  },
  {
   "cell_type": "code",
   "execution_count": 228,
   "metadata": {},
   "outputs": [
    {
     "data": {
      "text/html": [
       "<div>\n",
       "<style scoped>\n",
       "    .dataframe tbody tr th:only-of-type {\n",
       "        vertical-align: middle;\n",
       "    }\n",
       "\n",
       "    .dataframe tbody tr th {\n",
       "        vertical-align: top;\n",
       "    }\n",
       "\n",
       "    .dataframe thead th {\n",
       "        text-align: right;\n",
       "    }\n",
       "</style>\n",
       "<table border=\"1\" class=\"dataframe\">\n",
       "  <thead>\n",
       "    <tr style=\"text-align: right;\">\n",
       "      <th></th>\n",
       "      <th>value</th>\n",
       "      <th>fecha</th>\n",
       "      <th>dia</th>\n",
       "      <th>mes</th>\n",
       "      <th>año</th>\n",
       "    </tr>\n",
       "    <tr>\n",
       "      <th>datetime</th>\n",
       "      <th></th>\n",
       "      <th></th>\n",
       "      <th></th>\n",
       "      <th></th>\n",
       "      <th></th>\n",
       "    </tr>\n",
       "  </thead>\n",
       "  <tbody>\n",
       "    <tr>\n",
       "      <th>2024-01-01</th>\n",
       "      <td>36.24</td>\n",
       "      <td>2024-01-01</td>\n",
       "      <td>1</td>\n",
       "      <td>1</td>\n",
       "      <td>2024</td>\n",
       "    </tr>\n",
       "    <tr>\n",
       "      <th>2024-01-02</th>\n",
       "      <td>40.91</td>\n",
       "      <td>2024-01-02</td>\n",
       "      <td>2</td>\n",
       "      <td>1</td>\n",
       "      <td>2024</td>\n",
       "    </tr>\n",
       "    <tr>\n",
       "      <th>2024-01-03</th>\n",
       "      <td>55.08</td>\n",
       "      <td>2024-01-03</td>\n",
       "      <td>3</td>\n",
       "      <td>1</td>\n",
       "      <td>2024</td>\n",
       "    </tr>\n",
       "    <tr>\n",
       "      <th>2024-01-04</th>\n",
       "      <td>91.36</td>\n",
       "      <td>2024-01-04</td>\n",
       "      <td>4</td>\n",
       "      <td>1</td>\n",
       "      <td>2024</td>\n",
       "    </tr>\n",
       "    <tr>\n",
       "      <th>2024-01-05</th>\n",
       "      <td>68.62</td>\n",
       "      <td>2024-01-05</td>\n",
       "      <td>5</td>\n",
       "      <td>1</td>\n",
       "      <td>2024</td>\n",
       "    </tr>\n",
       "    <tr>\n",
       "      <th>...</th>\n",
       "      <td>...</td>\n",
       "      <td>...</td>\n",
       "      <td>...</td>\n",
       "      <td>...</td>\n",
       "      <td>...</td>\n",
       "    </tr>\n",
       "    <tr>\n",
       "      <th>2024-07-03</th>\n",
       "      <td>61.71</td>\n",
       "      <td>2024-07-03</td>\n",
       "      <td>3</td>\n",
       "      <td>7</td>\n",
       "      <td>2024</td>\n",
       "    </tr>\n",
       "    <tr>\n",
       "      <th>2024-07-04</th>\n",
       "      <td>51.85</td>\n",
       "      <td>2024-07-04</td>\n",
       "      <td>4</td>\n",
       "      <td>7</td>\n",
       "      <td>2024</td>\n",
       "    </tr>\n",
       "    <tr>\n",
       "      <th>2024-07-05</th>\n",
       "      <td>59.88</td>\n",
       "      <td>2024-07-05</td>\n",
       "      <td>5</td>\n",
       "      <td>7</td>\n",
       "      <td>2024</td>\n",
       "    </tr>\n",
       "    <tr>\n",
       "      <th>2024-07-06</th>\n",
       "      <td>33.98</td>\n",
       "      <td>2024-07-06</td>\n",
       "      <td>6</td>\n",
       "      <td>7</td>\n",
       "      <td>2024</td>\n",
       "    </tr>\n",
       "    <tr>\n",
       "      <th>2024-07-07</th>\n",
       "      <td>34.71</td>\n",
       "      <td>2024-07-07</td>\n",
       "      <td>7</td>\n",
       "      <td>7</td>\n",
       "      <td>2024</td>\n",
       "    </tr>\n",
       "  </tbody>\n",
       "</table>\n",
       "<p>189 rows × 5 columns</p>\n",
       "</div>"
      ],
      "text/plain": [
       "            value      fecha  dia  mes   año\n",
       "datetime                                    \n",
       "2024-01-01  36.24 2024-01-01    1    1  2024\n",
       "2024-01-02  40.91 2024-01-02    2    1  2024\n",
       "2024-01-03  55.08 2024-01-03    3    1  2024\n",
       "2024-01-04  91.36 2024-01-04    4    1  2024\n",
       "2024-01-05  68.62 2024-01-05    5    1  2024\n",
       "...           ...        ...  ...  ...   ...\n",
       "2024-07-03  61.71 2024-07-03    3    7  2024\n",
       "2024-07-04  51.85 2024-07-04    4    7  2024\n",
       "2024-07-05  59.88 2024-07-05    5    7  2024\n",
       "2024-07-06  33.98 2024-07-06    6    7  2024\n",
       "2024-07-07  34.71 2024-07-07    7    7  2024\n",
       "\n",
       "[189 rows x 5 columns]"
      ]
     },
     "execution_count": 228,
     "metadata": {},
     "output_type": "execute_result"
    }
   ],
   "source": [
    "\n",
    "datos_dia=datos.resample('D').mean()\n",
    "datos_dia['value']=datos_dia['value'].round(2)\n",
    "datos_dia=datos_dia.drop(columns=['hora'])\n",
    "datos_dia[['dia','mes','año']]=datos_dia[['dia','mes','año']].astype(int)\n",
    "datos_dia"
   ]
  },
  {
   "cell_type": "code",
   "execution_count": 229,
   "metadata": {},
   "outputs": [
    {
     "data": {
      "text/plain": [
       "(0.44, 113.83)"
      ]
     },
     "execution_count": 229,
     "metadata": {},
     "output_type": "execute_result"
    }
   ],
   "source": [
    "valor_minimo_diario=datos_dia['value'].min()\n",
    "valor_maximo_diario=datos_dia['value'].max()\n",
    "valor_minimo_diario,valor_maximo_diario"
   ]
  },
  {
   "cell_type": "markdown",
   "metadata": {},
   "source": [
    "### Agrupación por meses"
   ]
  },
  {
   "cell_type": "code",
   "execution_count": 230,
   "metadata": {},
   "outputs": [
    {
     "data": {
      "text/html": [
       "<div>\n",
       "<style scoped>\n",
       "    .dataframe tbody tr th:only-of-type {\n",
       "        vertical-align: middle;\n",
       "    }\n",
       "\n",
       "    .dataframe tbody tr th {\n",
       "        vertical-align: top;\n",
       "    }\n",
       "\n",
       "    .dataframe thead th {\n",
       "        text-align: right;\n",
       "    }\n",
       "</style>\n",
       "<table border=\"1\" class=\"dataframe\">\n",
       "  <thead>\n",
       "    <tr style=\"text-align: right;\">\n",
       "      <th></th>\n",
       "      <th>value</th>\n",
       "      <th>mes</th>\n",
       "      <th>año</th>\n",
       "    </tr>\n",
       "    <tr>\n",
       "      <th>datetime</th>\n",
       "      <th></th>\n",
       "      <th></th>\n",
       "      <th></th>\n",
       "    </tr>\n",
       "  </thead>\n",
       "  <tbody>\n",
       "    <tr>\n",
       "      <th>2024-01-31</th>\n",
       "      <td>74.10</td>\n",
       "      <td>1</td>\n",
       "      <td>2024</td>\n",
       "    </tr>\n",
       "    <tr>\n",
       "      <th>2024-02-29</th>\n",
       "      <td>40.00</td>\n",
       "      <td>2</td>\n",
       "      <td>2024</td>\n",
       "    </tr>\n",
       "    <tr>\n",
       "      <th>2024-03-31</th>\n",
       "      <td>20.31</td>\n",
       "      <td>3</td>\n",
       "      <td>2024</td>\n",
       "    </tr>\n",
       "    <tr>\n",
       "      <th>2024-04-30</th>\n",
       "      <td>13.67</td>\n",
       "      <td>4</td>\n",
       "      <td>2024</td>\n",
       "    </tr>\n",
       "    <tr>\n",
       "      <th>2024-05-31</th>\n",
       "      <td>30.40</td>\n",
       "      <td>5</td>\n",
       "      <td>2024</td>\n",
       "    </tr>\n",
       "    <tr>\n",
       "      <th>2024-06-30</th>\n",
       "      <td>56.08</td>\n",
       "      <td>6</td>\n",
       "      <td>2024</td>\n",
       "    </tr>\n",
       "    <tr>\n",
       "      <th>2024-07-31</th>\n",
       "      <td>48.90</td>\n",
       "      <td>7</td>\n",
       "      <td>2024</td>\n",
       "    </tr>\n",
       "  </tbody>\n",
       "</table>\n",
       "</div>"
      ],
      "text/plain": [
       "            value  mes   año\n",
       "datetime                    \n",
       "2024-01-31  74.10    1  2024\n",
       "2024-02-29  40.00    2  2024\n",
       "2024-03-31  20.31    3  2024\n",
       "2024-04-30  13.67    4  2024\n",
       "2024-05-31  30.40    5  2024\n",
       "2024-06-30  56.08    6  2024\n",
       "2024-07-31  48.90    7  2024"
      ]
     },
     "execution_count": 230,
     "metadata": {},
     "output_type": "execute_result"
    }
   ],
   "source": [
    "datos_mes=datos.resample('M').mean()\n",
    "datos_mes['value']=datos_mes['value'].round(2)\n",
    "datos_mes=datos_mes.drop(columns=['fecha','hora', 'dia'])\n",
    "datos_mes[['mes','año']]=datos_mes[['mes','año']].astype(int)\n",
    "datos_mes"
   ]
  },
  {
   "cell_type": "markdown",
   "metadata": {},
   "source": [
    "def graf_año():\n",
    "    graf_año=px.line(datos_dia, x='fecha', y='value')\n",
    "    return graf_año"
   ]
  },
  {
   "cell_type": "markdown",
   "metadata": {},
   "source": [
    "### Definimos la escala y sus límites"
   ]
  },
  {
   "cell_type": "code",
   "execution_count": 231,
   "metadata": {},
   "outputs": [],
   "source": [
    "datos_limites = {\n",
    "    'rango': [-10,20,40,60,80,100,10000],\n",
    "    'valor_asignado': ['muy bajo', 'bajo','medio','alto','muy alto','chungo','xtrem'],\n",
    "}"
   ]
  },
  {
   "cell_type": "code",
   "execution_count": 232,
   "metadata": {},
   "outputs": [
    {
     "data": {
      "text/html": [
       "<div>\n",
       "<style scoped>\n",
       "    .dataframe tbody tr th:only-of-type {\n",
       "        vertical-align: middle;\n",
       "    }\n",
       "\n",
       "    .dataframe tbody tr th {\n",
       "        vertical-align: top;\n",
       "    }\n",
       "\n",
       "    .dataframe thead th {\n",
       "        text-align: right;\n",
       "    }\n",
       "</style>\n",
       "<table border=\"1\" class=\"dataframe\">\n",
       "  <thead>\n",
       "    <tr style=\"text-align: right;\">\n",
       "      <th></th>\n",
       "      <th>rango</th>\n",
       "      <th>valor_asignado</th>\n",
       "    </tr>\n",
       "  </thead>\n",
       "  <tbody>\n",
       "    <tr>\n",
       "      <th>0</th>\n",
       "      <td>-10</td>\n",
       "      <td>muy bajo</td>\n",
       "    </tr>\n",
       "    <tr>\n",
       "      <th>1</th>\n",
       "      <td>20</td>\n",
       "      <td>bajo</td>\n",
       "    </tr>\n",
       "    <tr>\n",
       "      <th>2</th>\n",
       "      <td>40</td>\n",
       "      <td>medio</td>\n",
       "    </tr>\n",
       "    <tr>\n",
       "      <th>3</th>\n",
       "      <td>60</td>\n",
       "      <td>alto</td>\n",
       "    </tr>\n",
       "    <tr>\n",
       "      <th>4</th>\n",
       "      <td>80</td>\n",
       "      <td>muy alto</td>\n",
       "    </tr>\n",
       "    <tr>\n",
       "      <th>5</th>\n",
       "      <td>100</td>\n",
       "      <td>chungo</td>\n",
       "    </tr>\n",
       "    <tr>\n",
       "      <th>6</th>\n",
       "      <td>10000</td>\n",
       "      <td>xtrem</td>\n",
       "    </tr>\n",
       "  </tbody>\n",
       "</table>\n",
       "</div>"
      ],
      "text/plain": [
       "   rango valor_asignado\n",
       "0    -10       muy bajo\n",
       "1     20           bajo\n",
       "2     40          medio\n",
       "3     60           alto\n",
       "4     80       muy alto\n",
       "5    100         chungo\n",
       "6  10000          xtrem"
      ]
     },
     "execution_count": 232,
     "metadata": {},
     "output_type": "execute_result"
    }
   ],
   "source": [
    "df_limites=pd.DataFrame(datos_limites)\n",
    "df_limites"
   ]
  },
  {
   "cell_type": "code",
   "execution_count": 233,
   "metadata": {},
   "outputs": [
    {
     "data": {
      "text/plain": [
       "0    muy bajo\n",
       "1        bajo\n",
       "2       medio\n",
       "3        alto\n",
       "4    muy alto\n",
       "5      chungo\n",
       "Name: valor_asignado, dtype: object"
      ]
     },
     "execution_count": 233,
     "metadata": {},
     "output_type": "execute_result"
    }
   ],
   "source": [
    "#etiquetas = df_limites['valor_asignado'][:-1]\n",
    "etiquetas = df_limites['valor_asignado'][:-1]\n",
    "etiquetas"
   ]
  },
  {
   "cell_type": "markdown",
   "metadata": {},
   "source": [
    "### Añadimos la columna escala a todas las tablas"
   ]
  },
  {
   "cell_type": "code",
   "execution_count": 234,
   "metadata": {},
   "outputs": [
    {
     "data": {
      "text/html": [
       "<div>\n",
       "<style scoped>\n",
       "    .dataframe tbody tr th:only-of-type {\n",
       "        vertical-align: middle;\n",
       "    }\n",
       "\n",
       "    .dataframe tbody tr th {\n",
       "        vertical-align: top;\n",
       "    }\n",
       "\n",
       "    .dataframe thead th {\n",
       "        text-align: right;\n",
       "    }\n",
       "</style>\n",
       "<table border=\"1\" class=\"dataframe\">\n",
       "  <thead>\n",
       "    <tr style=\"text-align: right;\">\n",
       "      <th></th>\n",
       "      <th>value</th>\n",
       "      <th>fecha</th>\n",
       "      <th>hora</th>\n",
       "      <th>dia</th>\n",
       "      <th>mes</th>\n",
       "      <th>año</th>\n",
       "      <th>escala</th>\n",
       "    </tr>\n",
       "    <tr>\n",
       "      <th>datetime</th>\n",
       "      <th></th>\n",
       "      <th></th>\n",
       "      <th></th>\n",
       "      <th></th>\n",
       "      <th></th>\n",
       "      <th></th>\n",
       "      <th></th>\n",
       "    </tr>\n",
       "  </thead>\n",
       "  <tbody>\n",
       "    <tr>\n",
       "      <th>2024-01-01 00:00:00</th>\n",
       "      <td>63.33</td>\n",
       "      <td>2024-01-01</td>\n",
       "      <td>0</td>\n",
       "      <td>1</td>\n",
       "      <td>1</td>\n",
       "      <td>2024</td>\n",
       "      <td>alto</td>\n",
       "    </tr>\n",
       "    <tr>\n",
       "      <th>2024-01-01 01:00:00</th>\n",
       "      <td>50.09</td>\n",
       "      <td>2024-01-01</td>\n",
       "      <td>1</td>\n",
       "      <td>1</td>\n",
       "      <td>1</td>\n",
       "      <td>2024</td>\n",
       "      <td>medio</td>\n",
       "    </tr>\n",
       "    <tr>\n",
       "      <th>2024-01-01 02:00:00</th>\n",
       "      <td>47.50</td>\n",
       "      <td>2024-01-01</td>\n",
       "      <td>2</td>\n",
       "      <td>1</td>\n",
       "      <td>1</td>\n",
       "      <td>2024</td>\n",
       "      <td>medio</td>\n",
       "    </tr>\n",
       "    <tr>\n",
       "      <th>2024-01-01 03:00:00</th>\n",
       "      <td>43.50</td>\n",
       "      <td>2024-01-01</td>\n",
       "      <td>3</td>\n",
       "      <td>1</td>\n",
       "      <td>1</td>\n",
       "      <td>2024</td>\n",
       "      <td>medio</td>\n",
       "    </tr>\n",
       "    <tr>\n",
       "      <th>2024-01-01 04:00:00</th>\n",
       "      <td>42.50</td>\n",
       "      <td>2024-01-01</td>\n",
       "      <td>4</td>\n",
       "      <td>1</td>\n",
       "      <td>1</td>\n",
       "      <td>2024</td>\n",
       "      <td>medio</td>\n",
       "    </tr>\n",
       "    <tr>\n",
       "      <th>...</th>\n",
       "      <td>...</td>\n",
       "      <td>...</td>\n",
       "      <td>...</td>\n",
       "      <td>...</td>\n",
       "      <td>...</td>\n",
       "      <td>...</td>\n",
       "      <td>...</td>\n",
       "    </tr>\n",
       "    <tr>\n",
       "      <th>2024-07-07 19:00:00</th>\n",
       "      <td>35.94</td>\n",
       "      <td>2024-07-07</td>\n",
       "      <td>19</td>\n",
       "      <td>7</td>\n",
       "      <td>7</td>\n",
       "      <td>2024</td>\n",
       "      <td>bajo</td>\n",
       "    </tr>\n",
       "    <tr>\n",
       "      <th>2024-07-07 20:00:00</th>\n",
       "      <td>59.57</td>\n",
       "      <td>2024-07-07</td>\n",
       "      <td>20</td>\n",
       "      <td>7</td>\n",
       "      <td>7</td>\n",
       "      <td>2024</td>\n",
       "      <td>medio</td>\n",
       "    </tr>\n",
       "    <tr>\n",
       "      <th>2024-07-07 21:00:00</th>\n",
       "      <td>100.73</td>\n",
       "      <td>2024-07-07</td>\n",
       "      <td>21</td>\n",
       "      <td>7</td>\n",
       "      <td>7</td>\n",
       "      <td>2024</td>\n",
       "      <td>chungo</td>\n",
       "    </tr>\n",
       "    <tr>\n",
       "      <th>2024-07-07 22:00:00</th>\n",
       "      <td>104.58</td>\n",
       "      <td>2024-07-07</td>\n",
       "      <td>22</td>\n",
       "      <td>7</td>\n",
       "      <td>7</td>\n",
       "      <td>2024</td>\n",
       "      <td>chungo</td>\n",
       "    </tr>\n",
       "    <tr>\n",
       "      <th>2024-07-07 23:00:00</th>\n",
       "      <td>100.25</td>\n",
       "      <td>2024-07-07</td>\n",
       "      <td>23</td>\n",
       "      <td>7</td>\n",
       "      <td>7</td>\n",
       "      <td>2024</td>\n",
       "      <td>chungo</td>\n",
       "    </tr>\n",
       "  </tbody>\n",
       "</table>\n",
       "<p>4535 rows × 7 columns</p>\n",
       "</div>"
      ],
      "text/plain": [
       "                      value      fecha  hora  dia  mes   año  escala\n",
       "datetime                                                            \n",
       "2024-01-01 00:00:00   63.33 2024-01-01     0    1    1  2024    alto\n",
       "2024-01-01 01:00:00   50.09 2024-01-01     1    1    1  2024   medio\n",
       "2024-01-01 02:00:00   47.50 2024-01-01     2    1    1  2024   medio\n",
       "2024-01-01 03:00:00   43.50 2024-01-01     3    1    1  2024   medio\n",
       "2024-01-01 04:00:00   42.50 2024-01-01     4    1    1  2024   medio\n",
       "...                     ...        ...   ...  ...  ...   ...     ...\n",
       "2024-07-07 19:00:00   35.94 2024-07-07    19    7    7  2024    bajo\n",
       "2024-07-07 20:00:00   59.57 2024-07-07    20    7    7  2024   medio\n",
       "2024-07-07 21:00:00  100.73 2024-07-07    21    7    7  2024  chungo\n",
       "2024-07-07 22:00:00  104.58 2024-07-07    22    7    7  2024  chungo\n",
       "2024-07-07 23:00:00  100.25 2024-07-07    23    7    7  2024  chungo\n",
       "\n",
       "[4535 rows x 7 columns]"
      ]
     },
     "execution_count": 234,
     "metadata": {},
     "output_type": "execute_result"
    }
   ],
   "source": [
    "datos_horarios['escala']=pd.cut(datos_horarios['value'],bins=df_limites['rango'],labels=etiquetas,right=False)\n",
    "#datos_horarios['escala']=pd.cut(datos_horarios['value'],bins=df_limites['rango'],labels=etiquetas)\n",
    "#datos_horarios['escala']=pd.cut(datos_horarios['value'],bins=df_limites['rango'],labels=df_limites['valor_asignado'],right=False)\n",
    "datos_horarios"
   ]
  },
  {
   "cell_type": "code",
   "execution_count": 235,
   "metadata": {},
   "outputs": [
    {
     "data": {
      "text/plain": [
       "['alto', 'medio', 'bajo', 'muy bajo', 'muy alto', 'chungo']\n",
       "Categories (6, object): ['muy bajo' < 'bajo' < 'medio' < 'alto' < 'muy alto' < 'chungo']"
      ]
     },
     "execution_count": 235,
     "metadata": {},
     "output_type": "execute_result"
    }
   ],
   "source": [
    "lista_escala=datos_horarios['escala'].unique()\n",
    "lista_escala"
   ]
  },
  {
   "cell_type": "code",
   "execution_count": 236,
   "metadata": {},
   "outputs": [
    {
     "data": {
      "text/html": [
       "<div>\n",
       "<style scoped>\n",
       "    .dataframe tbody tr th:only-of-type {\n",
       "        vertical-align: middle;\n",
       "    }\n",
       "\n",
       "    .dataframe tbody tr th {\n",
       "        vertical-align: top;\n",
       "    }\n",
       "\n",
       "    .dataframe thead th {\n",
       "        text-align: right;\n",
       "    }\n",
       "</style>\n",
       "<table border=\"1\" class=\"dataframe\">\n",
       "  <thead>\n",
       "    <tr style=\"text-align: right;\">\n",
       "      <th></th>\n",
       "      <th>value</th>\n",
       "      <th>fecha</th>\n",
       "      <th>dia</th>\n",
       "      <th>mes</th>\n",
       "      <th>año</th>\n",
       "      <th>escala</th>\n",
       "    </tr>\n",
       "    <tr>\n",
       "      <th>datetime</th>\n",
       "      <th></th>\n",
       "      <th></th>\n",
       "      <th></th>\n",
       "      <th></th>\n",
       "      <th></th>\n",
       "      <th></th>\n",
       "    </tr>\n",
       "  </thead>\n",
       "  <tbody>\n",
       "    <tr>\n",
       "      <th>2024-01-01</th>\n",
       "      <td>36.24</td>\n",
       "      <td>2024-01-01</td>\n",
       "      <td>1</td>\n",
       "      <td>1</td>\n",
       "      <td>2024</td>\n",
       "      <td>bajo</td>\n",
       "    </tr>\n",
       "    <tr>\n",
       "      <th>2024-01-02</th>\n",
       "      <td>40.91</td>\n",
       "      <td>2024-01-02</td>\n",
       "      <td>2</td>\n",
       "      <td>1</td>\n",
       "      <td>2024</td>\n",
       "      <td>medio</td>\n",
       "    </tr>\n",
       "    <tr>\n",
       "      <th>2024-01-03</th>\n",
       "      <td>55.08</td>\n",
       "      <td>2024-01-03</td>\n",
       "      <td>3</td>\n",
       "      <td>1</td>\n",
       "      <td>2024</td>\n",
       "      <td>medio</td>\n",
       "    </tr>\n",
       "    <tr>\n",
       "      <th>2024-01-04</th>\n",
       "      <td>91.36</td>\n",
       "      <td>2024-01-04</td>\n",
       "      <td>4</td>\n",
       "      <td>1</td>\n",
       "      <td>2024</td>\n",
       "      <td>muy alto</td>\n",
       "    </tr>\n",
       "    <tr>\n",
       "      <th>2024-01-05</th>\n",
       "      <td>68.62</td>\n",
       "      <td>2024-01-05</td>\n",
       "      <td>5</td>\n",
       "      <td>1</td>\n",
       "      <td>2024</td>\n",
       "      <td>alto</td>\n",
       "    </tr>\n",
       "    <tr>\n",
       "      <th>...</th>\n",
       "      <td>...</td>\n",
       "      <td>...</td>\n",
       "      <td>...</td>\n",
       "      <td>...</td>\n",
       "      <td>...</td>\n",
       "      <td>...</td>\n",
       "    </tr>\n",
       "    <tr>\n",
       "      <th>2024-07-03</th>\n",
       "      <td>61.71</td>\n",
       "      <td>2024-07-03</td>\n",
       "      <td>3</td>\n",
       "      <td>7</td>\n",
       "      <td>2024</td>\n",
       "      <td>alto</td>\n",
       "    </tr>\n",
       "    <tr>\n",
       "      <th>2024-07-04</th>\n",
       "      <td>51.85</td>\n",
       "      <td>2024-07-04</td>\n",
       "      <td>4</td>\n",
       "      <td>7</td>\n",
       "      <td>2024</td>\n",
       "      <td>medio</td>\n",
       "    </tr>\n",
       "    <tr>\n",
       "      <th>2024-07-05</th>\n",
       "      <td>59.88</td>\n",
       "      <td>2024-07-05</td>\n",
       "      <td>5</td>\n",
       "      <td>7</td>\n",
       "      <td>2024</td>\n",
       "      <td>medio</td>\n",
       "    </tr>\n",
       "    <tr>\n",
       "      <th>2024-07-06</th>\n",
       "      <td>33.98</td>\n",
       "      <td>2024-07-06</td>\n",
       "      <td>6</td>\n",
       "      <td>7</td>\n",
       "      <td>2024</td>\n",
       "      <td>bajo</td>\n",
       "    </tr>\n",
       "    <tr>\n",
       "      <th>2024-07-07</th>\n",
       "      <td>34.71</td>\n",
       "      <td>2024-07-07</td>\n",
       "      <td>7</td>\n",
       "      <td>7</td>\n",
       "      <td>2024</td>\n",
       "      <td>bajo</td>\n",
       "    </tr>\n",
       "  </tbody>\n",
       "</table>\n",
       "<p>189 rows × 6 columns</p>\n",
       "</div>"
      ],
      "text/plain": [
       "            value      fecha  dia  mes   año    escala\n",
       "datetime                                              \n",
       "2024-01-01  36.24 2024-01-01    1    1  2024      bajo\n",
       "2024-01-02  40.91 2024-01-02    2    1  2024     medio\n",
       "2024-01-03  55.08 2024-01-03    3    1  2024     medio\n",
       "2024-01-04  91.36 2024-01-04    4    1  2024  muy alto\n",
       "2024-01-05  68.62 2024-01-05    5    1  2024      alto\n",
       "...           ...        ...  ...  ...   ...       ...\n",
       "2024-07-03  61.71 2024-07-03    3    7  2024      alto\n",
       "2024-07-04  51.85 2024-07-04    4    7  2024     medio\n",
       "2024-07-05  59.88 2024-07-05    5    7  2024     medio\n",
       "2024-07-06  33.98 2024-07-06    6    7  2024      bajo\n",
       "2024-07-07  34.71 2024-07-07    7    7  2024      bajo\n",
       "\n",
       "[189 rows x 6 columns]"
      ]
     },
     "execution_count": 236,
     "metadata": {},
     "output_type": "execute_result"
    }
   ],
   "source": [
    "datos_dia['escala']=pd.cut(datos_dia['value'],bins=df_limites['rango'],labels=etiquetas,right=False)\n",
    "datos_dia"
   ]
  },
  {
   "cell_type": "code",
   "execution_count": 237,
   "metadata": {},
   "outputs": [
    {
     "data": {
      "text/html": [
       "<div>\n",
       "<style scoped>\n",
       "    .dataframe tbody tr th:only-of-type {\n",
       "        vertical-align: middle;\n",
       "    }\n",
       "\n",
       "    .dataframe tbody tr th {\n",
       "        vertical-align: top;\n",
       "    }\n",
       "\n",
       "    .dataframe thead th {\n",
       "        text-align: right;\n",
       "    }\n",
       "</style>\n",
       "<table border=\"1\" class=\"dataframe\">\n",
       "  <thead>\n",
       "    <tr style=\"text-align: right;\">\n",
       "      <th></th>\n",
       "      <th>value</th>\n",
       "      <th>mes</th>\n",
       "      <th>año</th>\n",
       "      <th>escala</th>\n",
       "    </tr>\n",
       "    <tr>\n",
       "      <th>datetime</th>\n",
       "      <th></th>\n",
       "      <th></th>\n",
       "      <th></th>\n",
       "      <th></th>\n",
       "    </tr>\n",
       "  </thead>\n",
       "  <tbody>\n",
       "    <tr>\n",
       "      <th>2024-01-31</th>\n",
       "      <td>74.10</td>\n",
       "      <td>1</td>\n",
       "      <td>2024</td>\n",
       "      <td>alto</td>\n",
       "    </tr>\n",
       "    <tr>\n",
       "      <th>2024-02-29</th>\n",
       "      <td>40.00</td>\n",
       "      <td>2</td>\n",
       "      <td>2024</td>\n",
       "      <td>medio</td>\n",
       "    </tr>\n",
       "    <tr>\n",
       "      <th>2024-03-31</th>\n",
       "      <td>20.31</td>\n",
       "      <td>3</td>\n",
       "      <td>2024</td>\n",
       "      <td>bajo</td>\n",
       "    </tr>\n",
       "    <tr>\n",
       "      <th>2024-04-30</th>\n",
       "      <td>13.67</td>\n",
       "      <td>4</td>\n",
       "      <td>2024</td>\n",
       "      <td>muy bajo</td>\n",
       "    </tr>\n",
       "    <tr>\n",
       "      <th>2024-05-31</th>\n",
       "      <td>30.40</td>\n",
       "      <td>5</td>\n",
       "      <td>2024</td>\n",
       "      <td>bajo</td>\n",
       "    </tr>\n",
       "    <tr>\n",
       "      <th>2024-06-30</th>\n",
       "      <td>56.08</td>\n",
       "      <td>6</td>\n",
       "      <td>2024</td>\n",
       "      <td>medio</td>\n",
       "    </tr>\n",
       "    <tr>\n",
       "      <th>2024-07-31</th>\n",
       "      <td>48.90</td>\n",
       "      <td>7</td>\n",
       "      <td>2024</td>\n",
       "      <td>medio</td>\n",
       "    </tr>\n",
       "  </tbody>\n",
       "</table>\n",
       "</div>"
      ],
      "text/plain": [
       "            value  mes   año    escala\n",
       "datetime                              \n",
       "2024-01-31  74.10    1  2024      alto\n",
       "2024-02-29  40.00    2  2024     medio\n",
       "2024-03-31  20.31    3  2024      bajo\n",
       "2024-04-30  13.67    4  2024  muy bajo\n",
       "2024-05-31  30.40    5  2024      bajo\n",
       "2024-06-30  56.08    6  2024     medio\n",
       "2024-07-31  48.90    7  2024     medio"
      ]
     },
     "execution_count": 237,
     "metadata": {},
     "output_type": "execute_result"
    }
   ],
   "source": [
    "datos_mes['escala']=pd.cut(datos_mes['value'],bins=df_limites['rango'],labels=etiquetas,right=False)\n",
    "datos_mes"
   ]
  },
  {
   "cell_type": "markdown",
   "metadata": {},
   "source": [
    "### Definimos los colores según la escala"
   ]
  },
  {
   "cell_type": "code",
   "execution_count": 238,
   "metadata": {},
   "outputs": [],
   "source": [
    "colores = {\n",
    "    'muy bajo': 'lightgreen',\n",
    "    'bajo': 'green',\n",
    "    'medio': 'blue',\n",
    "    'alto': 'orange',\n",
    "    'muy alto': 'red',\n",
    "    'chungo': 'purple',\n",
    "    'xtrem':'black'\n",
    "}"
   ]
  },
  {
   "cell_type": "code",
   "execution_count": 239,
   "metadata": {},
   "outputs": [
    {
     "data": {
      "text/html": [
       "<div>\n",
       "<style scoped>\n",
       "    .dataframe tbody tr th:only-of-type {\n",
       "        vertical-align: middle;\n",
       "    }\n",
       "\n",
       "    .dataframe tbody tr th {\n",
       "        vertical-align: top;\n",
       "    }\n",
       "\n",
       "    .dataframe thead th {\n",
       "        text-align: right;\n",
       "    }\n",
       "</style>\n",
       "<table border=\"1\" class=\"dataframe\">\n",
       "  <thead>\n",
       "    <tr style=\"text-align: right;\">\n",
       "      <th></th>\n",
       "      <th>value</th>\n",
       "      <th>fecha</th>\n",
       "      <th>hora</th>\n",
       "      <th>dia</th>\n",
       "      <th>mes</th>\n",
       "      <th>año</th>\n",
       "      <th>escala</th>\n",
       "      <th>color</th>\n",
       "    </tr>\n",
       "    <tr>\n",
       "      <th>datetime</th>\n",
       "      <th></th>\n",
       "      <th></th>\n",
       "      <th></th>\n",
       "      <th></th>\n",
       "      <th></th>\n",
       "      <th></th>\n",
       "      <th></th>\n",
       "      <th></th>\n",
       "    </tr>\n",
       "  </thead>\n",
       "  <tbody>\n",
       "    <tr>\n",
       "      <th>2024-01-01 00:00:00</th>\n",
       "      <td>63.33</td>\n",
       "      <td>2024-01-01</td>\n",
       "      <td>0</td>\n",
       "      <td>1</td>\n",
       "      <td>1</td>\n",
       "      <td>2024</td>\n",
       "      <td>alto</td>\n",
       "      <td>orange</td>\n",
       "    </tr>\n",
       "    <tr>\n",
       "      <th>2024-01-01 01:00:00</th>\n",
       "      <td>50.09</td>\n",
       "      <td>2024-01-01</td>\n",
       "      <td>1</td>\n",
       "      <td>1</td>\n",
       "      <td>1</td>\n",
       "      <td>2024</td>\n",
       "      <td>medio</td>\n",
       "      <td>blue</td>\n",
       "    </tr>\n",
       "    <tr>\n",
       "      <th>2024-01-01 02:00:00</th>\n",
       "      <td>47.50</td>\n",
       "      <td>2024-01-01</td>\n",
       "      <td>2</td>\n",
       "      <td>1</td>\n",
       "      <td>1</td>\n",
       "      <td>2024</td>\n",
       "      <td>medio</td>\n",
       "      <td>blue</td>\n",
       "    </tr>\n",
       "    <tr>\n",
       "      <th>2024-01-01 03:00:00</th>\n",
       "      <td>43.50</td>\n",
       "      <td>2024-01-01</td>\n",
       "      <td>3</td>\n",
       "      <td>1</td>\n",
       "      <td>1</td>\n",
       "      <td>2024</td>\n",
       "      <td>medio</td>\n",
       "      <td>blue</td>\n",
       "    </tr>\n",
       "    <tr>\n",
       "      <th>2024-01-01 04:00:00</th>\n",
       "      <td>42.50</td>\n",
       "      <td>2024-01-01</td>\n",
       "      <td>4</td>\n",
       "      <td>1</td>\n",
       "      <td>1</td>\n",
       "      <td>2024</td>\n",
       "      <td>medio</td>\n",
       "      <td>blue</td>\n",
       "    </tr>\n",
       "    <tr>\n",
       "      <th>...</th>\n",
       "      <td>...</td>\n",
       "      <td>...</td>\n",
       "      <td>...</td>\n",
       "      <td>...</td>\n",
       "      <td>...</td>\n",
       "      <td>...</td>\n",
       "      <td>...</td>\n",
       "      <td>...</td>\n",
       "    </tr>\n",
       "    <tr>\n",
       "      <th>2024-07-07 19:00:00</th>\n",
       "      <td>35.94</td>\n",
       "      <td>2024-07-07</td>\n",
       "      <td>19</td>\n",
       "      <td>7</td>\n",
       "      <td>7</td>\n",
       "      <td>2024</td>\n",
       "      <td>bajo</td>\n",
       "      <td>green</td>\n",
       "    </tr>\n",
       "    <tr>\n",
       "      <th>2024-07-07 20:00:00</th>\n",
       "      <td>59.57</td>\n",
       "      <td>2024-07-07</td>\n",
       "      <td>20</td>\n",
       "      <td>7</td>\n",
       "      <td>7</td>\n",
       "      <td>2024</td>\n",
       "      <td>medio</td>\n",
       "      <td>blue</td>\n",
       "    </tr>\n",
       "    <tr>\n",
       "      <th>2024-07-07 21:00:00</th>\n",
       "      <td>100.73</td>\n",
       "      <td>2024-07-07</td>\n",
       "      <td>21</td>\n",
       "      <td>7</td>\n",
       "      <td>7</td>\n",
       "      <td>2024</td>\n",
       "      <td>chungo</td>\n",
       "      <td>purple</td>\n",
       "    </tr>\n",
       "    <tr>\n",
       "      <th>2024-07-07 22:00:00</th>\n",
       "      <td>104.58</td>\n",
       "      <td>2024-07-07</td>\n",
       "      <td>22</td>\n",
       "      <td>7</td>\n",
       "      <td>7</td>\n",
       "      <td>2024</td>\n",
       "      <td>chungo</td>\n",
       "      <td>purple</td>\n",
       "    </tr>\n",
       "    <tr>\n",
       "      <th>2024-07-07 23:00:00</th>\n",
       "      <td>100.25</td>\n",
       "      <td>2024-07-07</td>\n",
       "      <td>23</td>\n",
       "      <td>7</td>\n",
       "      <td>7</td>\n",
       "      <td>2024</td>\n",
       "      <td>chungo</td>\n",
       "      <td>purple</td>\n",
       "    </tr>\n",
       "  </tbody>\n",
       "</table>\n",
       "<p>4535 rows × 8 columns</p>\n",
       "</div>"
      ],
      "text/plain": [
       "                      value      fecha  hora  dia  mes   año  escala   color\n",
       "datetime                                                                    \n",
       "2024-01-01 00:00:00   63.33 2024-01-01     0    1    1  2024    alto  orange\n",
       "2024-01-01 01:00:00   50.09 2024-01-01     1    1    1  2024   medio    blue\n",
       "2024-01-01 02:00:00   47.50 2024-01-01     2    1    1  2024   medio    blue\n",
       "2024-01-01 03:00:00   43.50 2024-01-01     3    1    1  2024   medio    blue\n",
       "2024-01-01 04:00:00   42.50 2024-01-01     4    1    1  2024   medio    blue\n",
       "...                     ...        ...   ...  ...  ...   ...     ...     ...\n",
       "2024-07-07 19:00:00   35.94 2024-07-07    19    7    7  2024    bajo   green\n",
       "2024-07-07 20:00:00   59.57 2024-07-07    20    7    7  2024   medio    blue\n",
       "2024-07-07 21:00:00  100.73 2024-07-07    21    7    7  2024  chungo  purple\n",
       "2024-07-07 22:00:00  104.58 2024-07-07    22    7    7  2024  chungo  purple\n",
       "2024-07-07 23:00:00  100.25 2024-07-07    23    7    7  2024  chungo  purple\n",
       "\n",
       "[4535 rows x 8 columns]"
      ]
     },
     "execution_count": 239,
     "metadata": {},
     "output_type": "execute_result"
    }
   ],
   "source": [
    "datos_horarios['color']=datos_horarios['escala'].map(colores)\n",
    "datos_horarios"
   ]
  },
  {
   "cell_type": "code",
   "execution_count": 240,
   "metadata": {},
   "outputs": [
    {
     "data": {
      "text/html": [
       "<div>\n",
       "<style scoped>\n",
       "    .dataframe tbody tr th:only-of-type {\n",
       "        vertical-align: middle;\n",
       "    }\n",
       "\n",
       "    .dataframe tbody tr th {\n",
       "        vertical-align: top;\n",
       "    }\n",
       "\n",
       "    .dataframe thead th {\n",
       "        text-align: right;\n",
       "    }\n",
       "</style>\n",
       "<table border=\"1\" class=\"dataframe\">\n",
       "  <thead>\n",
       "    <tr style=\"text-align: right;\">\n",
       "      <th></th>\n",
       "      <th>value</th>\n",
       "      <th>fecha</th>\n",
       "      <th>dia</th>\n",
       "      <th>mes</th>\n",
       "      <th>año</th>\n",
       "      <th>escala</th>\n",
       "      <th>color</th>\n",
       "    </tr>\n",
       "    <tr>\n",
       "      <th>datetime</th>\n",
       "      <th></th>\n",
       "      <th></th>\n",
       "      <th></th>\n",
       "      <th></th>\n",
       "      <th></th>\n",
       "      <th></th>\n",
       "      <th></th>\n",
       "    </tr>\n",
       "  </thead>\n",
       "  <tbody>\n",
       "    <tr>\n",
       "      <th>2024-01-01</th>\n",
       "      <td>36.24</td>\n",
       "      <td>2024-01-01</td>\n",
       "      <td>1</td>\n",
       "      <td>1</td>\n",
       "      <td>2024</td>\n",
       "      <td>bajo</td>\n",
       "      <td>green</td>\n",
       "    </tr>\n",
       "    <tr>\n",
       "      <th>2024-01-02</th>\n",
       "      <td>40.91</td>\n",
       "      <td>2024-01-02</td>\n",
       "      <td>2</td>\n",
       "      <td>1</td>\n",
       "      <td>2024</td>\n",
       "      <td>medio</td>\n",
       "      <td>blue</td>\n",
       "    </tr>\n",
       "    <tr>\n",
       "      <th>2024-01-03</th>\n",
       "      <td>55.08</td>\n",
       "      <td>2024-01-03</td>\n",
       "      <td>3</td>\n",
       "      <td>1</td>\n",
       "      <td>2024</td>\n",
       "      <td>medio</td>\n",
       "      <td>blue</td>\n",
       "    </tr>\n",
       "    <tr>\n",
       "      <th>2024-01-04</th>\n",
       "      <td>91.36</td>\n",
       "      <td>2024-01-04</td>\n",
       "      <td>4</td>\n",
       "      <td>1</td>\n",
       "      <td>2024</td>\n",
       "      <td>muy alto</td>\n",
       "      <td>red</td>\n",
       "    </tr>\n",
       "    <tr>\n",
       "      <th>2024-01-05</th>\n",
       "      <td>68.62</td>\n",
       "      <td>2024-01-05</td>\n",
       "      <td>5</td>\n",
       "      <td>1</td>\n",
       "      <td>2024</td>\n",
       "      <td>alto</td>\n",
       "      <td>orange</td>\n",
       "    </tr>\n",
       "    <tr>\n",
       "      <th>...</th>\n",
       "      <td>...</td>\n",
       "      <td>...</td>\n",
       "      <td>...</td>\n",
       "      <td>...</td>\n",
       "      <td>...</td>\n",
       "      <td>...</td>\n",
       "      <td>...</td>\n",
       "    </tr>\n",
       "    <tr>\n",
       "      <th>2024-07-03</th>\n",
       "      <td>61.71</td>\n",
       "      <td>2024-07-03</td>\n",
       "      <td>3</td>\n",
       "      <td>7</td>\n",
       "      <td>2024</td>\n",
       "      <td>alto</td>\n",
       "      <td>orange</td>\n",
       "    </tr>\n",
       "    <tr>\n",
       "      <th>2024-07-04</th>\n",
       "      <td>51.85</td>\n",
       "      <td>2024-07-04</td>\n",
       "      <td>4</td>\n",
       "      <td>7</td>\n",
       "      <td>2024</td>\n",
       "      <td>medio</td>\n",
       "      <td>blue</td>\n",
       "    </tr>\n",
       "    <tr>\n",
       "      <th>2024-07-05</th>\n",
       "      <td>59.88</td>\n",
       "      <td>2024-07-05</td>\n",
       "      <td>5</td>\n",
       "      <td>7</td>\n",
       "      <td>2024</td>\n",
       "      <td>medio</td>\n",
       "      <td>blue</td>\n",
       "    </tr>\n",
       "    <tr>\n",
       "      <th>2024-07-06</th>\n",
       "      <td>33.98</td>\n",
       "      <td>2024-07-06</td>\n",
       "      <td>6</td>\n",
       "      <td>7</td>\n",
       "      <td>2024</td>\n",
       "      <td>bajo</td>\n",
       "      <td>green</td>\n",
       "    </tr>\n",
       "    <tr>\n",
       "      <th>2024-07-07</th>\n",
       "      <td>34.71</td>\n",
       "      <td>2024-07-07</td>\n",
       "      <td>7</td>\n",
       "      <td>7</td>\n",
       "      <td>2024</td>\n",
       "      <td>bajo</td>\n",
       "      <td>green</td>\n",
       "    </tr>\n",
       "  </tbody>\n",
       "</table>\n",
       "<p>189 rows × 7 columns</p>\n",
       "</div>"
      ],
      "text/plain": [
       "            value      fecha  dia  mes   año    escala   color\n",
       "datetime                                                      \n",
       "2024-01-01  36.24 2024-01-01    1    1  2024      bajo   green\n",
       "2024-01-02  40.91 2024-01-02    2    1  2024     medio    blue\n",
       "2024-01-03  55.08 2024-01-03    3    1  2024     medio    blue\n",
       "2024-01-04  91.36 2024-01-04    4    1  2024  muy alto     red\n",
       "2024-01-05  68.62 2024-01-05    5    1  2024      alto  orange\n",
       "...           ...        ...  ...  ...   ...       ...     ...\n",
       "2024-07-03  61.71 2024-07-03    3    7  2024      alto  orange\n",
       "2024-07-04  51.85 2024-07-04    4    7  2024     medio    blue\n",
       "2024-07-05  59.88 2024-07-05    5    7  2024     medio    blue\n",
       "2024-07-06  33.98 2024-07-06    6    7  2024      bajo   green\n",
       "2024-07-07  34.71 2024-07-07    7    7  2024      bajo   green\n",
       "\n",
       "[189 rows x 7 columns]"
      ]
     },
     "execution_count": 240,
     "metadata": {},
     "output_type": "execute_result"
    }
   ],
   "source": [
    "datos_dia['color']=datos_dia['escala'].map(colores)\n",
    "datos_dia"
   ]
  },
  {
   "cell_type": "markdown",
   "metadata": {},
   "source": [
    "### Obtenemos la escala ordenada al revés para el gráfico horario"
   ]
  },
  {
   "cell_type": "code",
   "execution_count": 241,
   "metadata": {},
   "outputs": [],
   "source": [
    "valor_asignado_a_rango = {row['valor_asignado']: row['rango'] for _, row in df_limites.iterrows()}"
   ]
  },
  {
   "cell_type": "code",
   "execution_count": 242,
   "metadata": {},
   "outputs": [
    {
     "data": {
      "text/plain": [
       "['alto', 'medio', 'bajo', 'muy bajo', 'muy alto', 'chungo']"
      ]
     },
     "execution_count": 242,
     "metadata": {},
     "output_type": "execute_result"
    }
   ],
   "source": [
    "escala_horaria=['alto', 'medio', 'bajo', 'muy bajo', 'muy alto', 'chungo']\n",
    "escala_horaria"
   ]
  },
  {
   "cell_type": "code",
   "execution_count": 243,
   "metadata": {},
   "outputs": [
    {
     "data": {
      "text/plain": [
       "['chungo', 'muy alto', 'alto', 'medio', 'bajo', 'muy bajo']"
      ]
     },
     "execution_count": 243,
     "metadata": {},
     "output_type": "execute_result"
    }
   ],
   "source": [
    "escala_ordenada_hora = sorted(escala_horaria, key=lambda x: valor_asignado_a_rango[x], reverse=True)\n",
    "escala_ordenada_hora"
   ]
  },
  {
   "cell_type": "code",
   "execution_count": 244,
   "metadata": {},
   "outputs": [
    {
     "data": {
      "text/html": [
       "<div>\n",
       "<style scoped>\n",
       "    .dataframe tbody tr th:only-of-type {\n",
       "        vertical-align: middle;\n",
       "    }\n",
       "\n",
       "    .dataframe tbody tr th {\n",
       "        vertical-align: top;\n",
       "    }\n",
       "\n",
       "    .dataframe thead th {\n",
       "        text-align: right;\n",
       "    }\n",
       "</style>\n",
       "<table border=\"1\" class=\"dataframe\">\n",
       "  <thead>\n",
       "    <tr style=\"text-align: right;\">\n",
       "      <th></th>\n",
       "      <th>value</th>\n",
       "      <th>fecha</th>\n",
       "      <th>hora</th>\n",
       "      <th>dia</th>\n",
       "      <th>mes</th>\n",
       "      <th>año</th>\n",
       "      <th>escala</th>\n",
       "      <th>color</th>\n",
       "    </tr>\n",
       "    <tr>\n",
       "      <th>datetime</th>\n",
       "      <th></th>\n",
       "      <th></th>\n",
       "      <th></th>\n",
       "      <th></th>\n",
       "      <th></th>\n",
       "      <th></th>\n",
       "      <th></th>\n",
       "      <th></th>\n",
       "    </tr>\n",
       "  </thead>\n",
       "  <tbody>\n",
       "    <tr>\n",
       "      <th>2024-01-01 00:00:00</th>\n",
       "      <td>63.33</td>\n",
       "      <td>2024-01-01</td>\n",
       "      <td>0</td>\n",
       "      <td>1</td>\n",
       "      <td>1</td>\n",
       "      <td>2024</td>\n",
       "      <td>alto</td>\n",
       "      <td>orange</td>\n",
       "    </tr>\n",
       "    <tr>\n",
       "      <th>2024-01-01 01:00:00</th>\n",
       "      <td>50.09</td>\n",
       "      <td>2024-01-01</td>\n",
       "      <td>1</td>\n",
       "      <td>1</td>\n",
       "      <td>1</td>\n",
       "      <td>2024</td>\n",
       "      <td>medio</td>\n",
       "      <td>blue</td>\n",
       "    </tr>\n",
       "    <tr>\n",
       "      <th>2024-01-01 02:00:00</th>\n",
       "      <td>47.50</td>\n",
       "      <td>2024-01-01</td>\n",
       "      <td>2</td>\n",
       "      <td>1</td>\n",
       "      <td>1</td>\n",
       "      <td>2024</td>\n",
       "      <td>medio</td>\n",
       "      <td>blue</td>\n",
       "    </tr>\n",
       "    <tr>\n",
       "      <th>2024-01-01 03:00:00</th>\n",
       "      <td>43.50</td>\n",
       "      <td>2024-01-01</td>\n",
       "      <td>3</td>\n",
       "      <td>1</td>\n",
       "      <td>1</td>\n",
       "      <td>2024</td>\n",
       "      <td>medio</td>\n",
       "      <td>blue</td>\n",
       "    </tr>\n",
       "    <tr>\n",
       "      <th>2024-01-01 04:00:00</th>\n",
       "      <td>42.50</td>\n",
       "      <td>2024-01-01</td>\n",
       "      <td>4</td>\n",
       "      <td>1</td>\n",
       "      <td>1</td>\n",
       "      <td>2024</td>\n",
       "      <td>medio</td>\n",
       "      <td>blue</td>\n",
       "    </tr>\n",
       "    <tr>\n",
       "      <th>...</th>\n",
       "      <td>...</td>\n",
       "      <td>...</td>\n",
       "      <td>...</td>\n",
       "      <td>...</td>\n",
       "      <td>...</td>\n",
       "      <td>...</td>\n",
       "      <td>...</td>\n",
       "      <td>...</td>\n",
       "    </tr>\n",
       "    <tr>\n",
       "      <th>2024-07-07 19:00:00</th>\n",
       "      <td>35.94</td>\n",
       "      <td>2024-07-07</td>\n",
       "      <td>19</td>\n",
       "      <td>7</td>\n",
       "      <td>7</td>\n",
       "      <td>2024</td>\n",
       "      <td>bajo</td>\n",
       "      <td>green</td>\n",
       "    </tr>\n",
       "    <tr>\n",
       "      <th>2024-07-07 20:00:00</th>\n",
       "      <td>59.57</td>\n",
       "      <td>2024-07-07</td>\n",
       "      <td>20</td>\n",
       "      <td>7</td>\n",
       "      <td>7</td>\n",
       "      <td>2024</td>\n",
       "      <td>medio</td>\n",
       "      <td>blue</td>\n",
       "    </tr>\n",
       "    <tr>\n",
       "      <th>2024-07-07 21:00:00</th>\n",
       "      <td>100.73</td>\n",
       "      <td>2024-07-07</td>\n",
       "      <td>21</td>\n",
       "      <td>7</td>\n",
       "      <td>7</td>\n",
       "      <td>2024</td>\n",
       "      <td>chungo</td>\n",
       "      <td>purple</td>\n",
       "    </tr>\n",
       "    <tr>\n",
       "      <th>2024-07-07 22:00:00</th>\n",
       "      <td>104.58</td>\n",
       "      <td>2024-07-07</td>\n",
       "      <td>22</td>\n",
       "      <td>7</td>\n",
       "      <td>7</td>\n",
       "      <td>2024</td>\n",
       "      <td>chungo</td>\n",
       "      <td>purple</td>\n",
       "    </tr>\n",
       "    <tr>\n",
       "      <th>2024-07-07 23:00:00</th>\n",
       "      <td>100.25</td>\n",
       "      <td>2024-07-07</td>\n",
       "      <td>23</td>\n",
       "      <td>7</td>\n",
       "      <td>7</td>\n",
       "      <td>2024</td>\n",
       "      <td>chungo</td>\n",
       "      <td>purple</td>\n",
       "    </tr>\n",
       "  </tbody>\n",
       "</table>\n",
       "<p>4535 rows × 8 columns</p>\n",
       "</div>"
      ],
      "text/plain": [
       "                      value      fecha  hora  dia  mes   año  escala   color\n",
       "datetime                                                                    \n",
       "2024-01-01 00:00:00   63.33 2024-01-01     0    1    1  2024    alto  orange\n",
       "2024-01-01 01:00:00   50.09 2024-01-01     1    1    1  2024   medio    blue\n",
       "2024-01-01 02:00:00   47.50 2024-01-01     2    1    1  2024   medio    blue\n",
       "2024-01-01 03:00:00   43.50 2024-01-01     3    1    1  2024   medio    blue\n",
       "2024-01-01 04:00:00   42.50 2024-01-01     4    1    1  2024   medio    blue\n",
       "...                     ...        ...   ...  ...  ...   ...     ...     ...\n",
       "2024-07-07 19:00:00   35.94 2024-07-07    19    7    7  2024    bajo   green\n",
       "2024-07-07 20:00:00   59.57 2024-07-07    20    7    7  2024   medio    blue\n",
       "2024-07-07 21:00:00  100.73 2024-07-07    21    7    7  2024  chungo  purple\n",
       "2024-07-07 22:00:00  104.58 2024-07-07    22    7    7  2024  chungo  purple\n",
       "2024-07-07 23:00:00  100.25 2024-07-07    23    7    7  2024  chungo  purple\n",
       "\n",
       "[4535 rows x 8 columns]"
      ]
     },
     "execution_count": 244,
     "metadata": {},
     "output_type": "execute_result"
    }
   ],
   "source": [
    "datos_horarios['color']=datos_horarios['escala'].map(colores)\n",
    "datos_horarios"
   ]
  },
  {
   "cell_type": "code",
   "execution_count": 245,
   "metadata": {},
   "outputs": [
    {
     "data": {
      "text/html": [
       "<div>\n",
       "<style scoped>\n",
       "    .dataframe tbody tr th:only-of-type {\n",
       "        vertical-align: middle;\n",
       "    }\n",
       "\n",
       "    .dataframe tbody tr th {\n",
       "        vertical-align: top;\n",
       "    }\n",
       "\n",
       "    .dataframe thead th {\n",
       "        text-align: right;\n",
       "    }\n",
       "</style>\n",
       "<table border=\"1\" class=\"dataframe\">\n",
       "  <thead>\n",
       "    <tr style=\"text-align: right;\">\n",
       "      <th></th>\n",
       "      <th>value</th>\n",
       "      <th>fecha</th>\n",
       "      <th>hora</th>\n",
       "      <th>dia</th>\n",
       "      <th>mes</th>\n",
       "      <th>año</th>\n",
       "      <th>escala</th>\n",
       "      <th>color</th>\n",
       "    </tr>\n",
       "    <tr>\n",
       "      <th>datetime</th>\n",
       "      <th></th>\n",
       "      <th></th>\n",
       "      <th></th>\n",
       "      <th></th>\n",
       "      <th></th>\n",
       "      <th></th>\n",
       "      <th></th>\n",
       "      <th></th>\n",
       "    </tr>\n",
       "  </thead>\n",
       "  <tbody>\n",
       "    <tr>\n",
       "      <th>2024-01-01 00:00:00</th>\n",
       "      <td>63.33</td>\n",
       "      <td>2024-01-01</td>\n",
       "      <td>0</td>\n",
       "      <td>1</td>\n",
       "      <td>1</td>\n",
       "      <td>2024</td>\n",
       "      <td>alto</td>\n",
       "      <td>orange</td>\n",
       "    </tr>\n",
       "    <tr>\n",
       "      <th>2024-01-01 01:00:00</th>\n",
       "      <td>50.09</td>\n",
       "      <td>2024-01-01</td>\n",
       "      <td>1</td>\n",
       "      <td>1</td>\n",
       "      <td>1</td>\n",
       "      <td>2024</td>\n",
       "      <td>medio</td>\n",
       "      <td>blue</td>\n",
       "    </tr>\n",
       "    <tr>\n",
       "      <th>2024-01-01 02:00:00</th>\n",
       "      <td>47.50</td>\n",
       "      <td>2024-01-01</td>\n",
       "      <td>2</td>\n",
       "      <td>1</td>\n",
       "      <td>1</td>\n",
       "      <td>2024</td>\n",
       "      <td>medio</td>\n",
       "      <td>blue</td>\n",
       "    </tr>\n",
       "    <tr>\n",
       "      <th>2024-01-01 03:00:00</th>\n",
       "      <td>43.50</td>\n",
       "      <td>2024-01-01</td>\n",
       "      <td>3</td>\n",
       "      <td>1</td>\n",
       "      <td>1</td>\n",
       "      <td>2024</td>\n",
       "      <td>medio</td>\n",
       "      <td>blue</td>\n",
       "    </tr>\n",
       "    <tr>\n",
       "      <th>2024-01-01 04:00:00</th>\n",
       "      <td>42.50</td>\n",
       "      <td>2024-01-01</td>\n",
       "      <td>4</td>\n",
       "      <td>1</td>\n",
       "      <td>1</td>\n",
       "      <td>2024</td>\n",
       "      <td>medio</td>\n",
       "      <td>blue</td>\n",
       "    </tr>\n",
       "    <tr>\n",
       "      <th>...</th>\n",
       "      <td>...</td>\n",
       "      <td>...</td>\n",
       "      <td>...</td>\n",
       "      <td>...</td>\n",
       "      <td>...</td>\n",
       "      <td>...</td>\n",
       "      <td>...</td>\n",
       "      <td>...</td>\n",
       "    </tr>\n",
       "    <tr>\n",
       "      <th>2024-07-07 19:00:00</th>\n",
       "      <td>35.94</td>\n",
       "      <td>2024-07-07</td>\n",
       "      <td>19</td>\n",
       "      <td>7</td>\n",
       "      <td>7</td>\n",
       "      <td>2024</td>\n",
       "      <td>bajo</td>\n",
       "      <td>green</td>\n",
       "    </tr>\n",
       "    <tr>\n",
       "      <th>2024-07-07 20:00:00</th>\n",
       "      <td>59.57</td>\n",
       "      <td>2024-07-07</td>\n",
       "      <td>20</td>\n",
       "      <td>7</td>\n",
       "      <td>7</td>\n",
       "      <td>2024</td>\n",
       "      <td>medio</td>\n",
       "      <td>blue</td>\n",
       "    </tr>\n",
       "    <tr>\n",
       "      <th>2024-07-07 21:00:00</th>\n",
       "      <td>100.73</td>\n",
       "      <td>2024-07-07</td>\n",
       "      <td>21</td>\n",
       "      <td>7</td>\n",
       "      <td>7</td>\n",
       "      <td>2024</td>\n",
       "      <td>chungo</td>\n",
       "      <td>purple</td>\n",
       "    </tr>\n",
       "    <tr>\n",
       "      <th>2024-07-07 22:00:00</th>\n",
       "      <td>104.58</td>\n",
       "      <td>2024-07-07</td>\n",
       "      <td>22</td>\n",
       "      <td>7</td>\n",
       "      <td>7</td>\n",
       "      <td>2024</td>\n",
       "      <td>chungo</td>\n",
       "      <td>purple</td>\n",
       "    </tr>\n",
       "    <tr>\n",
       "      <th>2024-07-07 23:00:00</th>\n",
       "      <td>100.25</td>\n",
       "      <td>2024-07-07</td>\n",
       "      <td>23</td>\n",
       "      <td>7</td>\n",
       "      <td>7</td>\n",
       "      <td>2024</td>\n",
       "      <td>chungo</td>\n",
       "      <td>purple</td>\n",
       "    </tr>\n",
       "  </tbody>\n",
       "</table>\n",
       "<p>4535 rows × 8 columns</p>\n",
       "</div>"
      ],
      "text/plain": [
       "                      value      fecha  hora  dia  mes   año  escala   color\n",
       "datetime                                                                    \n",
       "2024-01-01 00:00:00   63.33 2024-01-01     0    1    1  2024    alto  orange\n",
       "2024-01-01 01:00:00   50.09 2024-01-01     1    1    1  2024   medio    blue\n",
       "2024-01-01 02:00:00   47.50 2024-01-01     2    1    1  2024   medio    blue\n",
       "2024-01-01 03:00:00   43.50 2024-01-01     3    1    1  2024   medio    blue\n",
       "2024-01-01 04:00:00   42.50 2024-01-01     4    1    1  2024   medio    blue\n",
       "...                     ...        ...   ...  ...  ...   ...     ...     ...\n",
       "2024-07-07 19:00:00   35.94 2024-07-07    19    7    7  2024    bajo   green\n",
       "2024-07-07 20:00:00   59.57 2024-07-07    20    7    7  2024   medio    blue\n",
       "2024-07-07 21:00:00  100.73 2024-07-07    21    7    7  2024  chungo  purple\n",
       "2024-07-07 22:00:00  104.58 2024-07-07    22    7    7  2024  chungo  purple\n",
       "2024-07-07 23:00:00  100.25 2024-07-07    23    7    7  2024  chungo  purple\n",
       "\n",
       "[4535 rows x 8 columns]"
      ]
     },
     "execution_count": 245,
     "metadata": {},
     "output_type": "execute_result"
    }
   ],
   "source": [
    "datos_horarios['escala']=pd.Categorical(datos_horarios['escala'],categories=escala_ordenada_hora, ordered=True)\n",
    "datos_horarios"
   ]
  },
  {
   "cell_type": "markdown",
   "metadata": {},
   "source": [
    "### Obtenemos la escala ordenada al reves para el gráfico diario"
   ]
  },
  {
   "cell_type": "code",
   "execution_count": 246,
   "metadata": {},
   "outputs": [
    {
     "data": {
      "text/plain": [
       "['bajo', 'medio', 'muy alto', 'alto', 'chungo', 'muy bajo']\n",
       "Categories (6, object): ['muy bajo' < 'bajo' < 'medio' < 'alto' < 'muy alto' < 'chungo']"
      ]
     },
     "execution_count": 246,
     "metadata": {},
     "output_type": "execute_result"
    }
   ],
   "source": [
    "escala_dia=datos_dia['escala'].unique()\n",
    "escala_dia"
   ]
  },
  {
   "cell_type": "code",
   "execution_count": 247,
   "metadata": {},
   "outputs": [
    {
     "data": {
      "text/plain": [
       "['chungo', 'muy alto', 'alto', 'medio', 'bajo', 'muy bajo']"
      ]
     },
     "execution_count": 247,
     "metadata": {},
     "output_type": "execute_result"
    }
   ],
   "source": [
    "escala_ordenada_dia = sorted(escala_dia, key=lambda x: valor_asignado_a_rango[x], reverse=True)\n",
    "escala_ordenada_dia"
   ]
  },
  {
   "cell_type": "code",
   "execution_count": 248,
   "metadata": {},
   "outputs": [
    {
     "data": {
      "text/html": [
       "<div>\n",
       "<style scoped>\n",
       "    .dataframe tbody tr th:only-of-type {\n",
       "        vertical-align: middle;\n",
       "    }\n",
       "\n",
       "    .dataframe tbody tr th {\n",
       "        vertical-align: top;\n",
       "    }\n",
       "\n",
       "    .dataframe thead th {\n",
       "        text-align: right;\n",
       "    }\n",
       "</style>\n",
       "<table border=\"1\" class=\"dataframe\">\n",
       "  <thead>\n",
       "    <tr style=\"text-align: right;\">\n",
       "      <th></th>\n",
       "      <th>value</th>\n",
       "      <th>mes</th>\n",
       "      <th>año</th>\n",
       "      <th>escala</th>\n",
       "      <th>color</th>\n",
       "    </tr>\n",
       "    <tr>\n",
       "      <th>datetime</th>\n",
       "      <th></th>\n",
       "      <th></th>\n",
       "      <th></th>\n",
       "      <th></th>\n",
       "      <th></th>\n",
       "    </tr>\n",
       "  </thead>\n",
       "  <tbody>\n",
       "    <tr>\n",
       "      <th>2024-01-31</th>\n",
       "      <td>74.10</td>\n",
       "      <td>1</td>\n",
       "      <td>2024</td>\n",
       "      <td>alto</td>\n",
       "      <td>orange</td>\n",
       "    </tr>\n",
       "    <tr>\n",
       "      <th>2024-02-29</th>\n",
       "      <td>40.00</td>\n",
       "      <td>2</td>\n",
       "      <td>2024</td>\n",
       "      <td>medio</td>\n",
       "      <td>blue</td>\n",
       "    </tr>\n",
       "    <tr>\n",
       "      <th>2024-03-31</th>\n",
       "      <td>20.31</td>\n",
       "      <td>3</td>\n",
       "      <td>2024</td>\n",
       "      <td>bajo</td>\n",
       "      <td>green</td>\n",
       "    </tr>\n",
       "    <tr>\n",
       "      <th>2024-04-30</th>\n",
       "      <td>13.67</td>\n",
       "      <td>4</td>\n",
       "      <td>2024</td>\n",
       "      <td>muy bajo</td>\n",
       "      <td>lightgreen</td>\n",
       "    </tr>\n",
       "    <tr>\n",
       "      <th>2024-05-31</th>\n",
       "      <td>30.40</td>\n",
       "      <td>5</td>\n",
       "      <td>2024</td>\n",
       "      <td>bajo</td>\n",
       "      <td>green</td>\n",
       "    </tr>\n",
       "    <tr>\n",
       "      <th>2024-06-30</th>\n",
       "      <td>56.08</td>\n",
       "      <td>6</td>\n",
       "      <td>2024</td>\n",
       "      <td>medio</td>\n",
       "      <td>blue</td>\n",
       "    </tr>\n",
       "    <tr>\n",
       "      <th>2024-07-31</th>\n",
       "      <td>48.90</td>\n",
       "      <td>7</td>\n",
       "      <td>2024</td>\n",
       "      <td>medio</td>\n",
       "      <td>blue</td>\n",
       "    </tr>\n",
       "  </tbody>\n",
       "</table>\n",
       "</div>"
      ],
      "text/plain": [
       "            value  mes   año    escala       color\n",
       "datetime                                          \n",
       "2024-01-31  74.10    1  2024      alto      orange\n",
       "2024-02-29  40.00    2  2024     medio        blue\n",
       "2024-03-31  20.31    3  2024      bajo       green\n",
       "2024-04-30  13.67    4  2024  muy bajo  lightgreen\n",
       "2024-05-31  30.40    5  2024      bajo       green\n",
       "2024-06-30  56.08    6  2024     medio        blue\n",
       "2024-07-31  48.90    7  2024     medio        blue"
      ]
     },
     "execution_count": 248,
     "metadata": {},
     "output_type": "execute_result"
    }
   ],
   "source": [
    "datos_mes['color']=datos_mes['escala'].map(colores)\n",
    "datos_mes"
   ]
  },
  {
   "cell_type": "markdown",
   "metadata": {},
   "source": [
    "### Obtenemos la escala ordenada al reves para el gráfico mensual"
   ]
  },
  {
   "cell_type": "code",
   "execution_count": 249,
   "metadata": {},
   "outputs": [
    {
     "data": {
      "text/plain": [
       "['alto', 'medio', 'bajo', 'muy bajo']\n",
       "Categories (6, object): ['muy bajo' < 'bajo' < 'medio' < 'alto' < 'muy alto' < 'chungo']"
      ]
     },
     "execution_count": 249,
     "metadata": {},
     "output_type": "execute_result"
    }
   ],
   "source": [
    "escala_mes= datos_mes['escala'].unique()\n",
    "escala_mes"
   ]
  },
  {
   "cell_type": "code",
   "execution_count": 250,
   "metadata": {},
   "outputs": [
    {
     "data": {
      "text/plain": [
       "['alto', 'medio', 'bajo', 'muy bajo']"
      ]
     },
     "execution_count": 250,
     "metadata": {},
     "output_type": "execute_result"
    }
   ],
   "source": [
    "escala_ordenada_mes = sorted(escala_mes, key=lambda x: valor_asignado_a_rango[x], reverse=True)\n",
    "escala_ordenada_mes"
   ]
  },
  {
   "cell_type": "markdown",
   "metadata": {},
   "source": [
    "### Esta tabla se usa para el gráfico grande de barras diario"
   ]
  },
  {
   "cell_type": "code",
   "execution_count": 251,
   "metadata": {},
   "outputs": [
    {
     "data": {
      "text/html": [
       "<div>\n",
       "<style scoped>\n",
       "    .dataframe tbody tr th:only-of-type {\n",
       "        vertical-align: middle;\n",
       "    }\n",
       "\n",
       "    .dataframe tbody tr th {\n",
       "        vertical-align: top;\n",
       "    }\n",
       "\n",
       "    .dataframe thead th {\n",
       "        text-align: right;\n",
       "    }\n",
       "</style>\n",
       "<table border=\"1\" class=\"dataframe\">\n",
       "  <thead>\n",
       "    <tr style=\"text-align: right;\">\n",
       "      <th></th>\n",
       "      <th>value</th>\n",
       "      <th>fecha</th>\n",
       "      <th>dia</th>\n",
       "      <th>mes</th>\n",
       "      <th>año</th>\n",
       "      <th>escala</th>\n",
       "      <th>color</th>\n",
       "    </tr>\n",
       "    <tr>\n",
       "      <th>datetime</th>\n",
       "      <th></th>\n",
       "      <th></th>\n",
       "      <th></th>\n",
       "      <th></th>\n",
       "      <th></th>\n",
       "      <th></th>\n",
       "      <th></th>\n",
       "    </tr>\n",
       "  </thead>\n",
       "  <tbody>\n",
       "    <tr>\n",
       "      <th>2024-01-01</th>\n",
       "      <td>36.24</td>\n",
       "      <td>2024-01-01</td>\n",
       "      <td>1</td>\n",
       "      <td>1</td>\n",
       "      <td>2024</td>\n",
       "      <td>bajo</td>\n",
       "      <td>green</td>\n",
       "    </tr>\n",
       "    <tr>\n",
       "      <th>2024-01-02</th>\n",
       "      <td>40.91</td>\n",
       "      <td>2024-01-02</td>\n",
       "      <td>2</td>\n",
       "      <td>1</td>\n",
       "      <td>2024</td>\n",
       "      <td>medio</td>\n",
       "      <td>blue</td>\n",
       "    </tr>\n",
       "    <tr>\n",
       "      <th>2024-01-03</th>\n",
       "      <td>55.08</td>\n",
       "      <td>2024-01-03</td>\n",
       "      <td>3</td>\n",
       "      <td>1</td>\n",
       "      <td>2024</td>\n",
       "      <td>medio</td>\n",
       "      <td>blue</td>\n",
       "    </tr>\n",
       "    <tr>\n",
       "      <th>2024-01-04</th>\n",
       "      <td>91.36</td>\n",
       "      <td>2024-01-04</td>\n",
       "      <td>4</td>\n",
       "      <td>1</td>\n",
       "      <td>2024</td>\n",
       "      <td>muy alto</td>\n",
       "      <td>red</td>\n",
       "    </tr>\n",
       "    <tr>\n",
       "      <th>2024-01-05</th>\n",
       "      <td>68.62</td>\n",
       "      <td>2024-01-05</td>\n",
       "      <td>5</td>\n",
       "      <td>1</td>\n",
       "      <td>2024</td>\n",
       "      <td>alto</td>\n",
       "      <td>orange</td>\n",
       "    </tr>\n",
       "    <tr>\n",
       "      <th>...</th>\n",
       "      <td>...</td>\n",
       "      <td>...</td>\n",
       "      <td>...</td>\n",
       "      <td>...</td>\n",
       "      <td>...</td>\n",
       "      <td>...</td>\n",
       "      <td>...</td>\n",
       "    </tr>\n",
       "    <tr>\n",
       "      <th>2024-07-03</th>\n",
       "      <td>61.71</td>\n",
       "      <td>2024-07-03</td>\n",
       "      <td>3</td>\n",
       "      <td>7</td>\n",
       "      <td>2024</td>\n",
       "      <td>alto</td>\n",
       "      <td>orange</td>\n",
       "    </tr>\n",
       "    <tr>\n",
       "      <th>2024-07-04</th>\n",
       "      <td>51.85</td>\n",
       "      <td>2024-07-04</td>\n",
       "      <td>4</td>\n",
       "      <td>7</td>\n",
       "      <td>2024</td>\n",
       "      <td>medio</td>\n",
       "      <td>blue</td>\n",
       "    </tr>\n",
       "    <tr>\n",
       "      <th>2024-07-05</th>\n",
       "      <td>59.88</td>\n",
       "      <td>2024-07-05</td>\n",
       "      <td>5</td>\n",
       "      <td>7</td>\n",
       "      <td>2024</td>\n",
       "      <td>medio</td>\n",
       "      <td>blue</td>\n",
       "    </tr>\n",
       "    <tr>\n",
       "      <th>2024-07-06</th>\n",
       "      <td>33.98</td>\n",
       "      <td>2024-07-06</td>\n",
       "      <td>6</td>\n",
       "      <td>7</td>\n",
       "      <td>2024</td>\n",
       "      <td>bajo</td>\n",
       "      <td>green</td>\n",
       "    </tr>\n",
       "    <tr>\n",
       "      <th>2024-07-07</th>\n",
       "      <td>34.71</td>\n",
       "      <td>2024-07-07</td>\n",
       "      <td>7</td>\n",
       "      <td>7</td>\n",
       "      <td>2024</td>\n",
       "      <td>bajo</td>\n",
       "      <td>green</td>\n",
       "    </tr>\n",
       "  </tbody>\n",
       "</table>\n",
       "<p>189 rows × 7 columns</p>\n",
       "</div>"
      ],
      "text/plain": [
       "            value      fecha  dia  mes   año    escala   color\n",
       "datetime                                                      \n",
       "2024-01-01  36.24 2024-01-01    1    1  2024      bajo   green\n",
       "2024-01-02  40.91 2024-01-02    2    1  2024     medio    blue\n",
       "2024-01-03  55.08 2024-01-03    3    1  2024     medio    blue\n",
       "2024-01-04  91.36 2024-01-04    4    1  2024  muy alto     red\n",
       "2024-01-05  68.62 2024-01-05    5    1  2024      alto  orange\n",
       "...           ...        ...  ...  ...   ...       ...     ...\n",
       "2024-07-03  61.71 2024-07-03    3    7  2024      alto  orange\n",
       "2024-07-04  51.85 2024-07-04    4    7  2024     medio    blue\n",
       "2024-07-05  59.88 2024-07-05    5    7  2024     medio    blue\n",
       "2024-07-06  33.98 2024-07-06    6    7  2024      bajo   green\n",
       "2024-07-07  34.71 2024-07-07    7    7  2024      bajo   green\n",
       "\n",
       "[189 rows x 7 columns]"
      ]
     },
     "execution_count": 251,
     "metadata": {},
     "output_type": "execute_result"
    }
   ],
   "source": [
    "\n",
    "datos_dia['escala']=pd.Categorical(datos_dia['escala'],categories=escala_ordenada_dia, ordered=True)\n",
    "datos_dia"
   ]
  },
  {
   "cell_type": "markdown",
   "metadata": {},
   "source": [
    "### Estos datos se usan para el grafico de barras mensual"
   ]
  },
  {
   "cell_type": "code",
   "execution_count": 252,
   "metadata": {},
   "outputs": [
    {
     "data": {
      "text/html": [
       "<div>\n",
       "<style scoped>\n",
       "    .dataframe tbody tr th:only-of-type {\n",
       "        vertical-align: middle;\n",
       "    }\n",
       "\n",
       "    .dataframe tbody tr th {\n",
       "        vertical-align: top;\n",
       "    }\n",
       "\n",
       "    .dataframe thead th {\n",
       "        text-align: right;\n",
       "    }\n",
       "</style>\n",
       "<table border=\"1\" class=\"dataframe\">\n",
       "  <thead>\n",
       "    <tr style=\"text-align: right;\">\n",
       "      <th></th>\n",
       "      <th>value</th>\n",
       "      <th>mes</th>\n",
       "      <th>año</th>\n",
       "      <th>escala</th>\n",
       "      <th>color</th>\n",
       "    </tr>\n",
       "    <tr>\n",
       "      <th>datetime</th>\n",
       "      <th></th>\n",
       "      <th></th>\n",
       "      <th></th>\n",
       "      <th></th>\n",
       "      <th></th>\n",
       "    </tr>\n",
       "  </thead>\n",
       "  <tbody>\n",
       "    <tr>\n",
       "      <th>2024-01-31</th>\n",
       "      <td>74.10</td>\n",
       "      <td>1</td>\n",
       "      <td>2024</td>\n",
       "      <td>alto</td>\n",
       "      <td>orange</td>\n",
       "    </tr>\n",
       "    <tr>\n",
       "      <th>2024-02-29</th>\n",
       "      <td>40.00</td>\n",
       "      <td>2</td>\n",
       "      <td>2024</td>\n",
       "      <td>medio</td>\n",
       "      <td>blue</td>\n",
       "    </tr>\n",
       "    <tr>\n",
       "      <th>2024-03-31</th>\n",
       "      <td>20.31</td>\n",
       "      <td>3</td>\n",
       "      <td>2024</td>\n",
       "      <td>bajo</td>\n",
       "      <td>green</td>\n",
       "    </tr>\n",
       "    <tr>\n",
       "      <th>2024-04-30</th>\n",
       "      <td>13.67</td>\n",
       "      <td>4</td>\n",
       "      <td>2024</td>\n",
       "      <td>muy bajo</td>\n",
       "      <td>lightgreen</td>\n",
       "    </tr>\n",
       "    <tr>\n",
       "      <th>2024-05-31</th>\n",
       "      <td>30.40</td>\n",
       "      <td>5</td>\n",
       "      <td>2024</td>\n",
       "      <td>bajo</td>\n",
       "      <td>green</td>\n",
       "    </tr>\n",
       "    <tr>\n",
       "      <th>2024-06-30</th>\n",
       "      <td>56.08</td>\n",
       "      <td>6</td>\n",
       "      <td>2024</td>\n",
       "      <td>medio</td>\n",
       "      <td>blue</td>\n",
       "    </tr>\n",
       "    <tr>\n",
       "      <th>2024-07-31</th>\n",
       "      <td>48.90</td>\n",
       "      <td>7</td>\n",
       "      <td>2024</td>\n",
       "      <td>medio</td>\n",
       "      <td>blue</td>\n",
       "    </tr>\n",
       "  </tbody>\n",
       "</table>\n",
       "</div>"
      ],
      "text/plain": [
       "            value  mes   año    escala       color\n",
       "datetime                                          \n",
       "2024-01-31  74.10    1  2024      alto      orange\n",
       "2024-02-29  40.00    2  2024     medio        blue\n",
       "2024-03-31  20.31    3  2024      bajo       green\n",
       "2024-04-30  13.67    4  2024  muy bajo  lightgreen\n",
       "2024-05-31  30.40    5  2024      bajo       green\n",
       "2024-06-30  56.08    6  2024     medio        blue\n",
       "2024-07-31  48.90    7  2024     medio        blue"
      ]
     },
     "execution_count": 252,
     "metadata": {},
     "output_type": "execute_result"
    }
   ],
   "source": [
    "datos_mes['escala']=pd.Categorical(datos_mes['escala'],categories=escala_ordenada_mes, ordered=True)\n",
    "datos_mes"
   ]
  },
  {
   "cell_type": "markdown",
   "metadata": {},
   "source": [
    "### Estos datos se usan para el quesito"
   ]
  },
  {
   "cell_type": "code",
   "execution_count": 253,
   "metadata": {},
   "outputs": [
    {
     "data": {
      "text/html": [
       "<div>\n",
       "<style scoped>\n",
       "    .dataframe tbody tr th:only-of-type {\n",
       "        vertical-align: middle;\n",
       "    }\n",
       "\n",
       "    .dataframe tbody tr th {\n",
       "        vertical-align: top;\n",
       "    }\n",
       "\n",
       "    .dataframe thead th {\n",
       "        text-align: right;\n",
       "    }\n",
       "</style>\n",
       "<table border=\"1\" class=\"dataframe\">\n",
       "  <thead>\n",
       "    <tr style=\"text-align: right;\">\n",
       "      <th></th>\n",
       "      <th>escala</th>\n",
       "      <th>num_dias</th>\n",
       "    </tr>\n",
       "  </thead>\n",
       "  <tbody>\n",
       "    <tr>\n",
       "      <th>0</th>\n",
       "      <td>chungo</td>\n",
       "      <td>3</td>\n",
       "    </tr>\n",
       "    <tr>\n",
       "      <th>1</th>\n",
       "      <td>muy alto</td>\n",
       "      <td>19</td>\n",
       "    </tr>\n",
       "    <tr>\n",
       "      <th>2</th>\n",
       "      <td>alto</td>\n",
       "      <td>28</td>\n",
       "    </tr>\n",
       "    <tr>\n",
       "      <th>3</th>\n",
       "      <td>medio</td>\n",
       "      <td>43</td>\n",
       "    </tr>\n",
       "    <tr>\n",
       "      <th>4</th>\n",
       "      <td>bajo</td>\n",
       "      <td>34</td>\n",
       "    </tr>\n",
       "    <tr>\n",
       "      <th>5</th>\n",
       "      <td>muy bajo</td>\n",
       "      <td>62</td>\n",
       "    </tr>\n",
       "  </tbody>\n",
       "</table>\n",
       "</div>"
      ],
      "text/plain": [
       "     escala  num_dias\n",
       "0    chungo         3\n",
       "1  muy alto        19\n",
       "2      alto        28\n",
       "3     medio        43\n",
       "4      bajo        34\n",
       "5  muy bajo        62"
      ]
     },
     "execution_count": 253,
     "metadata": {},
     "output_type": "execute_result"
    }
   ],
   "source": [
    "datos_dia_queso=datos_dia.groupby(['escala'])['escala'].count()\n",
    "datos_dia_queso=datos_dia_queso.reset_index(name='num_dias')\n",
    "datos_dia_queso\n"
   ]
  },
  {
   "cell_type": "markdown",
   "metadata": {},
   "source": [
    "### Gráfico de barras principal"
   ]
  },
  {
   "cell_type": "code",
   "execution_count": 254,
   "metadata": {},
   "outputs": [],
   "source": [
    "def graf_ecv_anual():\n",
    "    graf_ecv_anual=px.bar(datos_dia, x='fecha', y='value', \n",
    "        color='escala',\n",
    "        color_discrete_map=colores,\n",
    "        category_orders={'escala':escala_ordenada_dia},\n",
    "        labels={'value':'precio medio diario €/MWh', 'escala':'escala_cv'},\n",
    "        title=\"Precios medios del mercado diario OMIE. Año 2024\")\n",
    "    graf_ecv_anual.update_xaxes(\n",
    "        showgrid=True\n",
    "    )\n",
    "    graf_ecv_anual.update_traces(\n",
    "        marker_line_width=0\n",
    "    )\n",
    "\n",
    "    return graf_ecv_anual"
   ]
  },
  {
   "cell_type": "code",
   "execution_count": 255,
   "metadata": {},
   "outputs": [
    {
     "data": {
      "application/vnd.plotly.v1+json": {
       "config": {
        "plotlyServerURL": "https://plot.ly"
       },
       "data": [
        {
         "alignmentgroup": "True",
         "hovertemplate": "escala_cv=chungo<br>fecha=%{x}<br>precio medio diario €/MWh=%{y}<extra></extra>",
         "legendgroup": "chungo",
         "marker": {
          "color": "purple",
          "line": {
           "width": 0
          },
          "pattern": {
           "shape": ""
          }
         },
         "name": "chungo",
         "offsetgroup": "chungo",
         "orientation": "v",
         "showlegend": true,
         "textposition": "auto",
         "type": "bar",
         "x": [
          "2024-01-08T00:00:00",
          "2024-01-09T00:00:00",
          "2024-01-10T00:00:00"
         ],
         "xaxis": "x",
         "y": [
          105.51,
          113.83,
          100.88
         ],
         "yaxis": "y"
        },
        {
         "alignmentgroup": "True",
         "hovertemplate": "escala_cv=muy alto<br>fecha=%{x}<br>precio medio diario €/MWh=%{y}<extra></extra>",
         "legendgroup": "muy alto",
         "marker": {
          "color": "red",
          "line": {
           "width": 0
          },
          "pattern": {
           "shape": ""
          }
         },
         "name": "muy alto",
         "offsetgroup": "muy alto",
         "orientation": "v",
         "showlegend": true,
         "textposition": "auto",
         "type": "bar",
         "x": [
          "2024-01-04T00:00:00",
          "2024-01-11T00:00:00",
          "2024-01-12T00:00:00",
          "2024-01-13T00:00:00",
          "2024-01-15T00:00:00",
          "2024-01-16T00:00:00",
          "2024-01-20T00:00:00",
          "2024-01-24T00:00:00",
          "2024-01-30T00:00:00",
          "2024-01-31T00:00:00",
          "2024-02-05T00:00:00",
          "2024-06-04T00:00:00",
          "2024-06-05T00:00:00",
          "2024-06-06T00:00:00",
          "2024-06-20T00:00:00",
          "2024-06-21T00:00:00",
          "2024-06-26T00:00:00",
          "2024-06-27T00:00:00",
          "2024-06-28T00:00:00"
         ],
         "xaxis": "x",
         "y": [
          91.36,
          96.97,
          97.56,
          87.35,
          87.56,
          90.12,
          80.53,
          83.42,
          81.28,
          84.26,
          80.92,
          87.64,
          93.26,
          93.42,
          90.6,
          85.92,
          97.17,
          89.1,
          82.04
         ],
         "yaxis": "y"
        },
        {
         "alignmentgroup": "True",
         "hovertemplate": "escala_cv=alto<br>fecha=%{x}<br>precio medio diario €/MWh=%{y}<extra></extra>",
         "legendgroup": "alto",
         "marker": {
          "color": "orange",
          "line": {
           "width": 0
          },
          "pattern": {
           "shape": ""
          }
         },
         "name": "alto",
         "offsetgroup": "alto",
         "orientation": "v",
         "showlegend": true,
         "textposition": "auto",
         "type": "bar",
         "x": [
          "2024-01-05T00:00:00",
          "2024-01-07T00:00:00",
          "2024-01-14T00:00:00",
          "2024-01-19T00:00:00",
          "2024-01-21T00:00:00",
          "2024-01-22T00:00:00",
          "2024-01-23T00:00:00",
          "2024-01-25T00:00:00",
          "2024-01-26T00:00:00",
          "2024-01-27T00:00:00",
          "2024-01-29T00:00:00",
          "2024-02-01T00:00:00",
          "2024-02-02T00:00:00",
          "2024-02-03T00:00:00",
          "2024-02-04T00:00:00",
          "2024-02-06T00:00:00",
          "2024-02-13T00:00:00",
          "2024-03-18T00:00:00",
          "2024-03-19T00:00:00",
          "2024-05-23T00:00:00",
          "2024-05-24T00:00:00",
          "2024-06-07T00:00:00",
          "2024-06-08T00:00:00",
          "2024-06-11T00:00:00",
          "2024-06-13T00:00:00",
          "2024-06-19T00:00:00",
          "2024-06-25T00:00:00",
          "2024-07-03T00:00:00"
         ],
         "xaxis": "x",
         "y": [
          68.62,
          76,
          75.13,
          70.87,
          64.4,
          67.92,
          78.02,
          76.8,
          72.56,
          66.06,
          77.97,
          70.95,
          65.32,
          60.32,
          63.1,
          74.03,
          62.72,
          61.34,
          65,
          60.45,
          71.67,
          79.13,
          71.42,
          65.48,
          65.22,
          76.33,
          70.07,
          61.71
         ],
         "yaxis": "y"
        },
        {
         "alignmentgroup": "True",
         "hovertemplate": "escala_cv=medio<br>fecha=%{x}<br>precio medio diario €/MWh=%{y}<extra></extra>",
         "legendgroup": "medio",
         "marker": {
          "color": "blue",
          "line": {
           "width": 0
          },
          "pattern": {
           "shape": ""
          }
         },
         "name": "medio",
         "offsetgroup": "medio",
         "orientation": "v",
         "showlegend": true,
         "textposition": "auto",
         "type": "bar",
         "x": [
          "2024-01-02T00:00:00",
          "2024-01-03T00:00:00",
          "2024-01-06T00:00:00",
          "2024-01-18T00:00:00",
          "2024-01-28T00:00:00",
          "2024-02-07T00:00:00",
          "2024-02-09T00:00:00",
          "2024-02-11T00:00:00",
          "2024-02-12T00:00:00",
          "2024-02-14T00:00:00",
          "2024-02-15T00:00:00",
          "2024-02-16T00:00:00",
          "2024-02-17T00:00:00",
          "2024-02-18T00:00:00",
          "2024-02-19T00:00:00",
          "2024-02-20T00:00:00",
          "2024-02-21T00:00:00",
          "2024-03-06T00:00:00",
          "2024-03-12T00:00:00",
          "2024-03-13T00:00:00",
          "2024-03-20T00:00:00",
          "2024-04-25T00:00:00",
          "2024-04-26T00:00:00",
          "2024-04-29T00:00:00",
          "2024-04-30T00:00:00",
          "2024-05-06T00:00:00",
          "2024-05-07T00:00:00",
          "2024-05-17T00:00:00",
          "2024-05-21T00:00:00",
          "2024-05-22T00:00:00",
          "2024-05-25T00:00:00",
          "2024-06-10T00:00:00",
          "2024-06-12T00:00:00",
          "2024-06-14T00:00:00",
          "2024-06-18T00:00:00",
          "2024-06-22T00:00:00",
          "2024-06-24T00:00:00",
          "2024-06-29T00:00:00",
          "2024-06-30T00:00:00",
          "2024-07-01T00:00:00",
          "2024-07-02T00:00:00",
          "2024-07-04T00:00:00",
          "2024-07-05T00:00:00"
         ],
         "xaxis": "x",
         "y": [
          40.91,
          55.08,
          43.97,
          46.84,
          52.14,
          50.11,
          40.18,
          44.83,
          45.85,
          59.57,
          51.22,
          54.24,
          48.69,
          47.04,
          45.55,
          52.86,
          45.3,
          45.97,
          42.28,
          42.36,
          56.94,
          41.44,
          57.49,
          58.27,
          53.44,
          47.8,
          42.04,
          53.42,
          46.09,
          44.76,
          43.71,
          44.61,
          55.15,
          43.74,
          56.71,
          42.91,
          41.15,
          50.54,
          57.94,
          53.22,
          46.97,
          51.85,
          59.88
         ],
         "yaxis": "y"
        },
        {
         "alignmentgroup": "True",
         "hovertemplate": "escala_cv=bajo<br>fecha=%{x}<br>precio medio diario €/MWh=%{y}<extra></extra>",
         "legendgroup": "bajo",
         "marker": {
          "color": "green",
          "line": {
           "width": 0
          },
          "pattern": {
           "shape": ""
          }
         },
         "name": "bajo",
         "offsetgroup": "bajo",
         "orientation": "v",
         "showlegend": true,
         "textposition": "auto",
         "type": "bar",
         "x": [
          "2024-01-01T00:00:00",
          "2024-01-17T00:00:00",
          "2024-02-08T00:00:00",
          "2024-03-05T00:00:00",
          "2024-03-14T00:00:00",
          "2024-03-15T00:00:00",
          "2024-03-16T00:00:00",
          "2024-03-17T00:00:00",
          "2024-03-21T00:00:00",
          "2024-03-22T00:00:00",
          "2024-03-25T00:00:00",
          "2024-04-27T00:00:00",
          "2024-04-28T00:00:00",
          "2024-05-03T00:00:00",
          "2024-05-08T00:00:00",
          "2024-05-09T00:00:00",
          "2024-05-10T00:00:00",
          "2024-05-11T00:00:00",
          "2024-05-12T00:00:00",
          "2024-05-13T00:00:00",
          "2024-05-16T00:00:00",
          "2024-05-18T00:00:00",
          "2024-05-19T00:00:00",
          "2024-05-20T00:00:00",
          "2024-05-26T00:00:00",
          "2024-05-27T00:00:00",
          "2024-05-28T00:00:00",
          "2024-05-29T00:00:00",
          "2024-05-30T00:00:00",
          "2024-06-03T00:00:00",
          "2024-06-17T00:00:00",
          "2024-06-23T00:00:00",
          "2024-07-06T00:00:00",
          "2024-07-07T00:00:00"
         ],
         "xaxis": "x",
         "y": [
          36.24,
          26.96,
          38.67,
          33.45,
          35.99,
          37.73,
          31.61,
          28.05,
          35.9,
          22.4,
          23.75,
          25.02,
          28.72,
          26.11,
          21.24,
          33.54,
          28.95,
          20.59,
          21.53,
          23.34,
          32.35,
          32.99,
          26.6,
          32.72,
          25.42,
          30.84,
          27.47,
          38.86,
          24.37,
          28.56,
          29.27,
          26.76,
          33.98,
          34.71
         ],
         "yaxis": "y"
        },
        {
         "alignmentgroup": "True",
         "hovertemplate": "escala_cv=muy bajo<br>fecha=%{x}<br>precio medio diario €/MWh=%{y}<extra></extra>",
         "legendgroup": "muy bajo",
         "marker": {
          "color": "lightgreen",
          "line": {
           "width": 0
          },
          "pattern": {
           "shape": ""
          }
         },
         "name": "muy bajo",
         "offsetgroup": "muy bajo",
         "orientation": "v",
         "showlegend": true,
         "textposition": "auto",
         "type": "bar",
         "x": [
          "2024-02-10T00:00:00",
          "2024-02-22T00:00:00",
          "2024-02-23T00:00:00",
          "2024-02-24T00:00:00",
          "2024-02-25T00:00:00",
          "2024-02-26T00:00:00",
          "2024-02-27T00:00:00",
          "2024-02-28T00:00:00",
          "2024-02-29T00:00:00",
          "2024-03-01T00:00:00",
          "2024-03-02T00:00:00",
          "2024-03-03T00:00:00",
          "2024-03-04T00:00:00",
          "2024-03-07T00:00:00",
          "2024-03-08T00:00:00",
          "2024-03-09T00:00:00",
          "2024-03-10T00:00:00",
          "2024-03-11T00:00:00",
          "2024-03-23T00:00:00",
          "2024-03-24T00:00:00",
          "2024-03-26T00:00:00",
          "2024-03-27T00:00:00",
          "2024-03-28T00:00:00",
          "2024-03-29T00:00:00",
          "2024-03-30T00:00:00",
          "2024-03-31T00:00:00",
          "2024-04-01T00:00:00",
          "2024-04-02T00:00:00",
          "2024-04-03T00:00:00",
          "2024-04-04T00:00:00",
          "2024-04-05T00:00:00",
          "2024-04-06T00:00:00",
          "2024-04-07T00:00:00",
          "2024-04-08T00:00:00",
          "2024-04-09T00:00:00",
          "2024-04-10T00:00:00",
          "2024-04-11T00:00:00",
          "2024-04-12T00:00:00",
          "2024-04-13T00:00:00",
          "2024-04-14T00:00:00",
          "2024-04-15T00:00:00",
          "2024-04-16T00:00:00",
          "2024-04-17T00:00:00",
          "2024-04-18T00:00:00",
          "2024-04-19T00:00:00",
          "2024-04-20T00:00:00",
          "2024-04-21T00:00:00",
          "2024-04-22T00:00:00",
          "2024-04-23T00:00:00",
          "2024-04-24T00:00:00",
          "2024-05-01T00:00:00",
          "2024-05-02T00:00:00",
          "2024-05-04T00:00:00",
          "2024-05-05T00:00:00",
          "2024-05-14T00:00:00",
          "2024-05-15T00:00:00",
          "2024-05-31T00:00:00",
          "2024-06-01T00:00:00",
          "2024-06-02T00:00:00",
          "2024-06-09T00:00:00",
          "2024-06-15T00:00:00",
          "2024-06-16T00:00:00"
         ],
         "xaxis": "x",
         "y": [
          9.47,
          10.71,
          6.72,
          6.94,
          3.06,
          3.82,
          3.66,
          9.35,
          4.8,
          2.14,
          4.16,
          3.79,
          7.95,
          8.52,
          1.67,
          0.59,
          0.54,
          14.63,
          2.01,
          6.69,
          2.36,
          0.76,
          0.66,
          4.05,
          4.52,
          0.83,
          2.76,
          9.85,
          9.03,
          4,
          0.44,
          0.74,
          4.05,
          0.52,
          1.29,
          4.31,
          12.03,
          19.94,
          9.17,
          5.6,
          3.48,
          1.37,
          3.26,
          4.54,
          15.18,
          5.66,
          2.17,
          1.9,
          5.84,
          18.57,
          12.53,
          15.6,
          14.8,
          17.53,
          8.14,
          14.21,
          2.69,
          1.76,
          4.26,
          16.43,
          19.69,
          16.12
         ],
         "yaxis": "y"
        }
       ],
       "layout": {
        "barmode": "relative",
        "legend": {
         "title": {
          "text": "escala_cv"
         },
         "tracegroupgap": 0
        },
        "template": {
         "data": {
          "bar": [
           {
            "error_x": {
             "color": "#2a3f5f"
            },
            "error_y": {
             "color": "#2a3f5f"
            },
            "marker": {
             "line": {
              "color": "#E5ECF6",
              "width": 0.5
             },
             "pattern": {
              "fillmode": "overlay",
              "size": 10,
              "solidity": 0.2
             }
            },
            "type": "bar"
           }
          ],
          "barpolar": [
           {
            "marker": {
             "line": {
              "color": "#E5ECF6",
              "width": 0.5
             },
             "pattern": {
              "fillmode": "overlay",
              "size": 10,
              "solidity": 0.2
             }
            },
            "type": "barpolar"
           }
          ],
          "carpet": [
           {
            "aaxis": {
             "endlinecolor": "#2a3f5f",
             "gridcolor": "white",
             "linecolor": "white",
             "minorgridcolor": "white",
             "startlinecolor": "#2a3f5f"
            },
            "baxis": {
             "endlinecolor": "#2a3f5f",
             "gridcolor": "white",
             "linecolor": "white",
             "minorgridcolor": "white",
             "startlinecolor": "#2a3f5f"
            },
            "type": "carpet"
           }
          ],
          "choropleth": [
           {
            "colorbar": {
             "outlinewidth": 0,
             "ticks": ""
            },
            "type": "choropleth"
           }
          ],
          "contour": [
           {
            "colorbar": {
             "outlinewidth": 0,
             "ticks": ""
            },
            "colorscale": [
             [
              0,
              "#0d0887"
             ],
             [
              0.1111111111111111,
              "#46039f"
             ],
             [
              0.2222222222222222,
              "#7201a8"
             ],
             [
              0.3333333333333333,
              "#9c179e"
             ],
             [
              0.4444444444444444,
              "#bd3786"
             ],
             [
              0.5555555555555556,
              "#d8576b"
             ],
             [
              0.6666666666666666,
              "#ed7953"
             ],
             [
              0.7777777777777778,
              "#fb9f3a"
             ],
             [
              0.8888888888888888,
              "#fdca26"
             ],
             [
              1,
              "#f0f921"
             ]
            ],
            "type": "contour"
           }
          ],
          "contourcarpet": [
           {
            "colorbar": {
             "outlinewidth": 0,
             "ticks": ""
            },
            "type": "contourcarpet"
           }
          ],
          "heatmap": [
           {
            "colorbar": {
             "outlinewidth": 0,
             "ticks": ""
            },
            "colorscale": [
             [
              0,
              "#0d0887"
             ],
             [
              0.1111111111111111,
              "#46039f"
             ],
             [
              0.2222222222222222,
              "#7201a8"
             ],
             [
              0.3333333333333333,
              "#9c179e"
             ],
             [
              0.4444444444444444,
              "#bd3786"
             ],
             [
              0.5555555555555556,
              "#d8576b"
             ],
             [
              0.6666666666666666,
              "#ed7953"
             ],
             [
              0.7777777777777778,
              "#fb9f3a"
             ],
             [
              0.8888888888888888,
              "#fdca26"
             ],
             [
              1,
              "#f0f921"
             ]
            ],
            "type": "heatmap"
           }
          ],
          "heatmapgl": [
           {
            "colorbar": {
             "outlinewidth": 0,
             "ticks": ""
            },
            "colorscale": [
             [
              0,
              "#0d0887"
             ],
             [
              0.1111111111111111,
              "#46039f"
             ],
             [
              0.2222222222222222,
              "#7201a8"
             ],
             [
              0.3333333333333333,
              "#9c179e"
             ],
             [
              0.4444444444444444,
              "#bd3786"
             ],
             [
              0.5555555555555556,
              "#d8576b"
             ],
             [
              0.6666666666666666,
              "#ed7953"
             ],
             [
              0.7777777777777778,
              "#fb9f3a"
             ],
             [
              0.8888888888888888,
              "#fdca26"
             ],
             [
              1,
              "#f0f921"
             ]
            ],
            "type": "heatmapgl"
           }
          ],
          "histogram": [
           {
            "marker": {
             "pattern": {
              "fillmode": "overlay",
              "size": 10,
              "solidity": 0.2
             }
            },
            "type": "histogram"
           }
          ],
          "histogram2d": [
           {
            "colorbar": {
             "outlinewidth": 0,
             "ticks": ""
            },
            "colorscale": [
             [
              0,
              "#0d0887"
             ],
             [
              0.1111111111111111,
              "#46039f"
             ],
             [
              0.2222222222222222,
              "#7201a8"
             ],
             [
              0.3333333333333333,
              "#9c179e"
             ],
             [
              0.4444444444444444,
              "#bd3786"
             ],
             [
              0.5555555555555556,
              "#d8576b"
             ],
             [
              0.6666666666666666,
              "#ed7953"
             ],
             [
              0.7777777777777778,
              "#fb9f3a"
             ],
             [
              0.8888888888888888,
              "#fdca26"
             ],
             [
              1,
              "#f0f921"
             ]
            ],
            "type": "histogram2d"
           }
          ],
          "histogram2dcontour": [
           {
            "colorbar": {
             "outlinewidth": 0,
             "ticks": ""
            },
            "colorscale": [
             [
              0,
              "#0d0887"
             ],
             [
              0.1111111111111111,
              "#46039f"
             ],
             [
              0.2222222222222222,
              "#7201a8"
             ],
             [
              0.3333333333333333,
              "#9c179e"
             ],
             [
              0.4444444444444444,
              "#bd3786"
             ],
             [
              0.5555555555555556,
              "#d8576b"
             ],
             [
              0.6666666666666666,
              "#ed7953"
             ],
             [
              0.7777777777777778,
              "#fb9f3a"
             ],
             [
              0.8888888888888888,
              "#fdca26"
             ],
             [
              1,
              "#f0f921"
             ]
            ],
            "type": "histogram2dcontour"
           }
          ],
          "mesh3d": [
           {
            "colorbar": {
             "outlinewidth": 0,
             "ticks": ""
            },
            "type": "mesh3d"
           }
          ],
          "parcoords": [
           {
            "line": {
             "colorbar": {
              "outlinewidth": 0,
              "ticks": ""
             }
            },
            "type": "parcoords"
           }
          ],
          "pie": [
           {
            "automargin": true,
            "type": "pie"
           }
          ],
          "scatter": [
           {
            "fillpattern": {
             "fillmode": "overlay",
             "size": 10,
             "solidity": 0.2
            },
            "type": "scatter"
           }
          ],
          "scatter3d": [
           {
            "line": {
             "colorbar": {
              "outlinewidth": 0,
              "ticks": ""
             }
            },
            "marker": {
             "colorbar": {
              "outlinewidth": 0,
              "ticks": ""
             }
            },
            "type": "scatter3d"
           }
          ],
          "scattercarpet": [
           {
            "marker": {
             "colorbar": {
              "outlinewidth": 0,
              "ticks": ""
             }
            },
            "type": "scattercarpet"
           }
          ],
          "scattergeo": [
           {
            "marker": {
             "colorbar": {
              "outlinewidth": 0,
              "ticks": ""
             }
            },
            "type": "scattergeo"
           }
          ],
          "scattergl": [
           {
            "marker": {
             "colorbar": {
              "outlinewidth": 0,
              "ticks": ""
             }
            },
            "type": "scattergl"
           }
          ],
          "scattermapbox": [
           {
            "marker": {
             "colorbar": {
              "outlinewidth": 0,
              "ticks": ""
             }
            },
            "type": "scattermapbox"
           }
          ],
          "scatterpolar": [
           {
            "marker": {
             "colorbar": {
              "outlinewidth": 0,
              "ticks": ""
             }
            },
            "type": "scatterpolar"
           }
          ],
          "scatterpolargl": [
           {
            "marker": {
             "colorbar": {
              "outlinewidth": 0,
              "ticks": ""
             }
            },
            "type": "scatterpolargl"
           }
          ],
          "scatterternary": [
           {
            "marker": {
             "colorbar": {
              "outlinewidth": 0,
              "ticks": ""
             }
            },
            "type": "scatterternary"
           }
          ],
          "surface": [
           {
            "colorbar": {
             "outlinewidth": 0,
             "ticks": ""
            },
            "colorscale": [
             [
              0,
              "#0d0887"
             ],
             [
              0.1111111111111111,
              "#46039f"
             ],
             [
              0.2222222222222222,
              "#7201a8"
             ],
             [
              0.3333333333333333,
              "#9c179e"
             ],
             [
              0.4444444444444444,
              "#bd3786"
             ],
             [
              0.5555555555555556,
              "#d8576b"
             ],
             [
              0.6666666666666666,
              "#ed7953"
             ],
             [
              0.7777777777777778,
              "#fb9f3a"
             ],
             [
              0.8888888888888888,
              "#fdca26"
             ],
             [
              1,
              "#f0f921"
             ]
            ],
            "type": "surface"
           }
          ],
          "table": [
           {
            "cells": {
             "fill": {
              "color": "#EBF0F8"
             },
             "line": {
              "color": "white"
             }
            },
            "header": {
             "fill": {
              "color": "#C8D4E3"
             },
             "line": {
              "color": "white"
             }
            },
            "type": "table"
           }
          ]
         },
         "layout": {
          "annotationdefaults": {
           "arrowcolor": "#2a3f5f",
           "arrowhead": 0,
           "arrowwidth": 1
          },
          "autotypenumbers": "strict",
          "coloraxis": {
           "colorbar": {
            "outlinewidth": 0,
            "ticks": ""
           }
          },
          "colorscale": {
           "diverging": [
            [
             0,
             "#8e0152"
            ],
            [
             0.1,
             "#c51b7d"
            ],
            [
             0.2,
             "#de77ae"
            ],
            [
             0.3,
             "#f1b6da"
            ],
            [
             0.4,
             "#fde0ef"
            ],
            [
             0.5,
             "#f7f7f7"
            ],
            [
             0.6,
             "#e6f5d0"
            ],
            [
             0.7,
             "#b8e186"
            ],
            [
             0.8,
             "#7fbc41"
            ],
            [
             0.9,
             "#4d9221"
            ],
            [
             1,
             "#276419"
            ]
           ],
           "sequential": [
            [
             0,
             "#0d0887"
            ],
            [
             0.1111111111111111,
             "#46039f"
            ],
            [
             0.2222222222222222,
             "#7201a8"
            ],
            [
             0.3333333333333333,
             "#9c179e"
            ],
            [
             0.4444444444444444,
             "#bd3786"
            ],
            [
             0.5555555555555556,
             "#d8576b"
            ],
            [
             0.6666666666666666,
             "#ed7953"
            ],
            [
             0.7777777777777778,
             "#fb9f3a"
            ],
            [
             0.8888888888888888,
             "#fdca26"
            ],
            [
             1,
             "#f0f921"
            ]
           ],
           "sequentialminus": [
            [
             0,
             "#0d0887"
            ],
            [
             0.1111111111111111,
             "#46039f"
            ],
            [
             0.2222222222222222,
             "#7201a8"
            ],
            [
             0.3333333333333333,
             "#9c179e"
            ],
            [
             0.4444444444444444,
             "#bd3786"
            ],
            [
             0.5555555555555556,
             "#d8576b"
            ],
            [
             0.6666666666666666,
             "#ed7953"
            ],
            [
             0.7777777777777778,
             "#fb9f3a"
            ],
            [
             0.8888888888888888,
             "#fdca26"
            ],
            [
             1,
             "#f0f921"
            ]
           ]
          },
          "colorway": [
           "#636efa",
           "#EF553B",
           "#00cc96",
           "#ab63fa",
           "#FFA15A",
           "#19d3f3",
           "#FF6692",
           "#B6E880",
           "#FF97FF",
           "#FECB52"
          ],
          "font": {
           "color": "#2a3f5f"
          },
          "geo": {
           "bgcolor": "white",
           "lakecolor": "white",
           "landcolor": "#E5ECF6",
           "showlakes": true,
           "showland": true,
           "subunitcolor": "white"
          },
          "hoverlabel": {
           "align": "left"
          },
          "hovermode": "closest",
          "mapbox": {
           "style": "light"
          },
          "paper_bgcolor": "white",
          "plot_bgcolor": "#E5ECF6",
          "polar": {
           "angularaxis": {
            "gridcolor": "white",
            "linecolor": "white",
            "ticks": ""
           },
           "bgcolor": "#E5ECF6",
           "radialaxis": {
            "gridcolor": "white",
            "linecolor": "white",
            "ticks": ""
           }
          },
          "scene": {
           "xaxis": {
            "backgroundcolor": "#E5ECF6",
            "gridcolor": "white",
            "gridwidth": 2,
            "linecolor": "white",
            "showbackground": true,
            "ticks": "",
            "zerolinecolor": "white"
           },
           "yaxis": {
            "backgroundcolor": "#E5ECF6",
            "gridcolor": "white",
            "gridwidth": 2,
            "linecolor": "white",
            "showbackground": true,
            "ticks": "",
            "zerolinecolor": "white"
           },
           "zaxis": {
            "backgroundcolor": "#E5ECF6",
            "gridcolor": "white",
            "gridwidth": 2,
            "linecolor": "white",
            "showbackground": true,
            "ticks": "",
            "zerolinecolor": "white"
           }
          },
          "shapedefaults": {
           "line": {
            "color": "#2a3f5f"
           }
          },
          "ternary": {
           "aaxis": {
            "gridcolor": "white",
            "linecolor": "white",
            "ticks": ""
           },
           "baxis": {
            "gridcolor": "white",
            "linecolor": "white",
            "ticks": ""
           },
           "bgcolor": "#E5ECF6",
           "caxis": {
            "gridcolor": "white",
            "linecolor": "white",
            "ticks": ""
           }
          },
          "title": {
           "x": 0.05
          },
          "xaxis": {
           "automargin": true,
           "gridcolor": "white",
           "linecolor": "white",
           "ticks": "",
           "title": {
            "standoff": 15
           },
           "zerolinecolor": "white",
           "zerolinewidth": 2
          },
          "yaxis": {
           "automargin": true,
           "gridcolor": "white",
           "linecolor": "white",
           "ticks": "",
           "title": {
            "standoff": 15
           },
           "zerolinecolor": "white",
           "zerolinewidth": 2
          }
         }
        },
        "title": {
         "text": "Precios medios del mercado diario OMIE. Año 2024"
        },
        "xaxis": {
         "anchor": "y",
         "domain": [
          0,
          1
         ],
         "showgrid": true,
         "title": {
          "text": "fecha"
         }
        },
        "yaxis": {
         "anchor": "x",
         "domain": [
          0,
          1
         ],
         "title": {
          "text": "precio medio diario €/MWh"
         }
        }
       }
      }
     },
     "metadata": {},
     "output_type": "display_data"
    }
   ],
   "source": [
    "graf_ecv_anual()"
   ]
  },
  {
   "cell_type": "code",
   "execution_count": 256,
   "metadata": {},
   "outputs": [],
   "source": [
    "def graf_ecv_mensual():\n",
    "    graf_ecv_mensual=px.bar(datos_mes, x='mes', y='value',\n",
    "        color='escala',\n",
    "        color_discrete_map=colores,\n",
    "        category_orders={'escala':escala_ordenada_mes},\n",
    "        labels={'value':'precio medio mensual €/MWh', 'escala':'escala_cv'},\n",
    "        title=\"Precios medios mensuales. Año 2024\"\n",
    "        )\n",
    "    #graf_ecv_mensual.update_xaxes(\n",
    "    #    showgrid=True\n",
    "    \n",
    "    #graf_ecv_mensual.update_traces(\n",
    "    #   marker_line_width=0\n",
    "    #)\n",
    "\n",
    "    return graf_ecv_mensual"
   ]
  },
  {
   "cell_type": "code",
   "execution_count": 257,
   "metadata": {},
   "outputs": [
    {
     "data": {
      "application/vnd.plotly.v1+json": {
       "config": {
        "plotlyServerURL": "https://plot.ly"
       },
       "data": [
        {
         "alignmentgroup": "True",
         "hovertemplate": "escala_cv=alto<br>mes=%{x}<br>precio medio mensual €/MWh=%{y}<extra></extra>",
         "legendgroup": "alto",
         "marker": {
          "color": "orange",
          "pattern": {
           "shape": ""
          }
         },
         "name": "alto",
         "offsetgroup": "alto",
         "orientation": "v",
         "showlegend": true,
         "textposition": "auto",
         "type": "bar",
         "x": [
          1
         ],
         "xaxis": "x",
         "y": [
          74.1
         ],
         "yaxis": "y"
        },
        {
         "alignmentgroup": "True",
         "hovertemplate": "escala_cv=medio<br>mes=%{x}<br>precio medio mensual €/MWh=%{y}<extra></extra>",
         "legendgroup": "medio",
         "marker": {
          "color": "blue",
          "pattern": {
           "shape": ""
          }
         },
         "name": "medio",
         "offsetgroup": "medio",
         "orientation": "v",
         "showlegend": true,
         "textposition": "auto",
         "type": "bar",
         "x": [
          2,
          6,
          7
         ],
         "xaxis": "x",
         "y": [
          40,
          56.08,
          48.9
         ],
         "yaxis": "y"
        },
        {
         "alignmentgroup": "True",
         "hovertemplate": "escala_cv=bajo<br>mes=%{x}<br>precio medio mensual €/MWh=%{y}<extra></extra>",
         "legendgroup": "bajo",
         "marker": {
          "color": "green",
          "pattern": {
           "shape": ""
          }
         },
         "name": "bajo",
         "offsetgroup": "bajo",
         "orientation": "v",
         "showlegend": true,
         "textposition": "auto",
         "type": "bar",
         "x": [
          3,
          5
         ],
         "xaxis": "x",
         "y": [
          20.31,
          30.4
         ],
         "yaxis": "y"
        },
        {
         "alignmentgroup": "True",
         "hovertemplate": "escala_cv=muy bajo<br>mes=%{x}<br>precio medio mensual €/MWh=%{y}<extra></extra>",
         "legendgroup": "muy bajo",
         "marker": {
          "color": "lightgreen",
          "pattern": {
           "shape": ""
          }
         },
         "name": "muy bajo",
         "offsetgroup": "muy bajo",
         "orientation": "v",
         "showlegend": true,
         "textposition": "auto",
         "type": "bar",
         "x": [
          4
         ],
         "xaxis": "x",
         "y": [
          13.67
         ],
         "yaxis": "y"
        }
       ],
       "layout": {
        "barmode": "relative",
        "legend": {
         "title": {
          "text": "escala_cv"
         },
         "tracegroupgap": 0
        },
        "template": {
         "data": {
          "bar": [
           {
            "error_x": {
             "color": "#2a3f5f"
            },
            "error_y": {
             "color": "#2a3f5f"
            },
            "marker": {
             "line": {
              "color": "#E5ECF6",
              "width": 0.5
             },
             "pattern": {
              "fillmode": "overlay",
              "size": 10,
              "solidity": 0.2
             }
            },
            "type": "bar"
           }
          ],
          "barpolar": [
           {
            "marker": {
             "line": {
              "color": "#E5ECF6",
              "width": 0.5
             },
             "pattern": {
              "fillmode": "overlay",
              "size": 10,
              "solidity": 0.2
             }
            },
            "type": "barpolar"
           }
          ],
          "carpet": [
           {
            "aaxis": {
             "endlinecolor": "#2a3f5f",
             "gridcolor": "white",
             "linecolor": "white",
             "minorgridcolor": "white",
             "startlinecolor": "#2a3f5f"
            },
            "baxis": {
             "endlinecolor": "#2a3f5f",
             "gridcolor": "white",
             "linecolor": "white",
             "minorgridcolor": "white",
             "startlinecolor": "#2a3f5f"
            },
            "type": "carpet"
           }
          ],
          "choropleth": [
           {
            "colorbar": {
             "outlinewidth": 0,
             "ticks": ""
            },
            "type": "choropleth"
           }
          ],
          "contour": [
           {
            "colorbar": {
             "outlinewidth": 0,
             "ticks": ""
            },
            "colorscale": [
             [
              0,
              "#0d0887"
             ],
             [
              0.1111111111111111,
              "#46039f"
             ],
             [
              0.2222222222222222,
              "#7201a8"
             ],
             [
              0.3333333333333333,
              "#9c179e"
             ],
             [
              0.4444444444444444,
              "#bd3786"
             ],
             [
              0.5555555555555556,
              "#d8576b"
             ],
             [
              0.6666666666666666,
              "#ed7953"
             ],
             [
              0.7777777777777778,
              "#fb9f3a"
             ],
             [
              0.8888888888888888,
              "#fdca26"
             ],
             [
              1,
              "#f0f921"
             ]
            ],
            "type": "contour"
           }
          ],
          "contourcarpet": [
           {
            "colorbar": {
             "outlinewidth": 0,
             "ticks": ""
            },
            "type": "contourcarpet"
           }
          ],
          "heatmap": [
           {
            "colorbar": {
             "outlinewidth": 0,
             "ticks": ""
            },
            "colorscale": [
             [
              0,
              "#0d0887"
             ],
             [
              0.1111111111111111,
              "#46039f"
             ],
             [
              0.2222222222222222,
              "#7201a8"
             ],
             [
              0.3333333333333333,
              "#9c179e"
             ],
             [
              0.4444444444444444,
              "#bd3786"
             ],
             [
              0.5555555555555556,
              "#d8576b"
             ],
             [
              0.6666666666666666,
              "#ed7953"
             ],
             [
              0.7777777777777778,
              "#fb9f3a"
             ],
             [
              0.8888888888888888,
              "#fdca26"
             ],
             [
              1,
              "#f0f921"
             ]
            ],
            "type": "heatmap"
           }
          ],
          "heatmapgl": [
           {
            "colorbar": {
             "outlinewidth": 0,
             "ticks": ""
            },
            "colorscale": [
             [
              0,
              "#0d0887"
             ],
             [
              0.1111111111111111,
              "#46039f"
             ],
             [
              0.2222222222222222,
              "#7201a8"
             ],
             [
              0.3333333333333333,
              "#9c179e"
             ],
             [
              0.4444444444444444,
              "#bd3786"
             ],
             [
              0.5555555555555556,
              "#d8576b"
             ],
             [
              0.6666666666666666,
              "#ed7953"
             ],
             [
              0.7777777777777778,
              "#fb9f3a"
             ],
             [
              0.8888888888888888,
              "#fdca26"
             ],
             [
              1,
              "#f0f921"
             ]
            ],
            "type": "heatmapgl"
           }
          ],
          "histogram": [
           {
            "marker": {
             "pattern": {
              "fillmode": "overlay",
              "size": 10,
              "solidity": 0.2
             }
            },
            "type": "histogram"
           }
          ],
          "histogram2d": [
           {
            "colorbar": {
             "outlinewidth": 0,
             "ticks": ""
            },
            "colorscale": [
             [
              0,
              "#0d0887"
             ],
             [
              0.1111111111111111,
              "#46039f"
             ],
             [
              0.2222222222222222,
              "#7201a8"
             ],
             [
              0.3333333333333333,
              "#9c179e"
             ],
             [
              0.4444444444444444,
              "#bd3786"
             ],
             [
              0.5555555555555556,
              "#d8576b"
             ],
             [
              0.6666666666666666,
              "#ed7953"
             ],
             [
              0.7777777777777778,
              "#fb9f3a"
             ],
             [
              0.8888888888888888,
              "#fdca26"
             ],
             [
              1,
              "#f0f921"
             ]
            ],
            "type": "histogram2d"
           }
          ],
          "histogram2dcontour": [
           {
            "colorbar": {
             "outlinewidth": 0,
             "ticks": ""
            },
            "colorscale": [
             [
              0,
              "#0d0887"
             ],
             [
              0.1111111111111111,
              "#46039f"
             ],
             [
              0.2222222222222222,
              "#7201a8"
             ],
             [
              0.3333333333333333,
              "#9c179e"
             ],
             [
              0.4444444444444444,
              "#bd3786"
             ],
             [
              0.5555555555555556,
              "#d8576b"
             ],
             [
              0.6666666666666666,
              "#ed7953"
             ],
             [
              0.7777777777777778,
              "#fb9f3a"
             ],
             [
              0.8888888888888888,
              "#fdca26"
             ],
             [
              1,
              "#f0f921"
             ]
            ],
            "type": "histogram2dcontour"
           }
          ],
          "mesh3d": [
           {
            "colorbar": {
             "outlinewidth": 0,
             "ticks": ""
            },
            "type": "mesh3d"
           }
          ],
          "parcoords": [
           {
            "line": {
             "colorbar": {
              "outlinewidth": 0,
              "ticks": ""
             }
            },
            "type": "parcoords"
           }
          ],
          "pie": [
           {
            "automargin": true,
            "type": "pie"
           }
          ],
          "scatter": [
           {
            "fillpattern": {
             "fillmode": "overlay",
             "size": 10,
             "solidity": 0.2
            },
            "type": "scatter"
           }
          ],
          "scatter3d": [
           {
            "line": {
             "colorbar": {
              "outlinewidth": 0,
              "ticks": ""
             }
            },
            "marker": {
             "colorbar": {
              "outlinewidth": 0,
              "ticks": ""
             }
            },
            "type": "scatter3d"
           }
          ],
          "scattercarpet": [
           {
            "marker": {
             "colorbar": {
              "outlinewidth": 0,
              "ticks": ""
             }
            },
            "type": "scattercarpet"
           }
          ],
          "scattergeo": [
           {
            "marker": {
             "colorbar": {
              "outlinewidth": 0,
              "ticks": ""
             }
            },
            "type": "scattergeo"
           }
          ],
          "scattergl": [
           {
            "marker": {
             "colorbar": {
              "outlinewidth": 0,
              "ticks": ""
             }
            },
            "type": "scattergl"
           }
          ],
          "scattermapbox": [
           {
            "marker": {
             "colorbar": {
              "outlinewidth": 0,
              "ticks": ""
             }
            },
            "type": "scattermapbox"
           }
          ],
          "scatterpolar": [
           {
            "marker": {
             "colorbar": {
              "outlinewidth": 0,
              "ticks": ""
             }
            },
            "type": "scatterpolar"
           }
          ],
          "scatterpolargl": [
           {
            "marker": {
             "colorbar": {
              "outlinewidth": 0,
              "ticks": ""
             }
            },
            "type": "scatterpolargl"
           }
          ],
          "scatterternary": [
           {
            "marker": {
             "colorbar": {
              "outlinewidth": 0,
              "ticks": ""
             }
            },
            "type": "scatterternary"
           }
          ],
          "surface": [
           {
            "colorbar": {
             "outlinewidth": 0,
             "ticks": ""
            },
            "colorscale": [
             [
              0,
              "#0d0887"
             ],
             [
              0.1111111111111111,
              "#46039f"
             ],
             [
              0.2222222222222222,
              "#7201a8"
             ],
             [
              0.3333333333333333,
              "#9c179e"
             ],
             [
              0.4444444444444444,
              "#bd3786"
             ],
             [
              0.5555555555555556,
              "#d8576b"
             ],
             [
              0.6666666666666666,
              "#ed7953"
             ],
             [
              0.7777777777777778,
              "#fb9f3a"
             ],
             [
              0.8888888888888888,
              "#fdca26"
             ],
             [
              1,
              "#f0f921"
             ]
            ],
            "type": "surface"
           }
          ],
          "table": [
           {
            "cells": {
             "fill": {
              "color": "#EBF0F8"
             },
             "line": {
              "color": "white"
             }
            },
            "header": {
             "fill": {
              "color": "#C8D4E3"
             },
             "line": {
              "color": "white"
             }
            },
            "type": "table"
           }
          ]
         },
         "layout": {
          "annotationdefaults": {
           "arrowcolor": "#2a3f5f",
           "arrowhead": 0,
           "arrowwidth": 1
          },
          "autotypenumbers": "strict",
          "coloraxis": {
           "colorbar": {
            "outlinewidth": 0,
            "ticks": ""
           }
          },
          "colorscale": {
           "diverging": [
            [
             0,
             "#8e0152"
            ],
            [
             0.1,
             "#c51b7d"
            ],
            [
             0.2,
             "#de77ae"
            ],
            [
             0.3,
             "#f1b6da"
            ],
            [
             0.4,
             "#fde0ef"
            ],
            [
             0.5,
             "#f7f7f7"
            ],
            [
             0.6,
             "#e6f5d0"
            ],
            [
             0.7,
             "#b8e186"
            ],
            [
             0.8,
             "#7fbc41"
            ],
            [
             0.9,
             "#4d9221"
            ],
            [
             1,
             "#276419"
            ]
           ],
           "sequential": [
            [
             0,
             "#0d0887"
            ],
            [
             0.1111111111111111,
             "#46039f"
            ],
            [
             0.2222222222222222,
             "#7201a8"
            ],
            [
             0.3333333333333333,
             "#9c179e"
            ],
            [
             0.4444444444444444,
             "#bd3786"
            ],
            [
             0.5555555555555556,
             "#d8576b"
            ],
            [
             0.6666666666666666,
             "#ed7953"
            ],
            [
             0.7777777777777778,
             "#fb9f3a"
            ],
            [
             0.8888888888888888,
             "#fdca26"
            ],
            [
             1,
             "#f0f921"
            ]
           ],
           "sequentialminus": [
            [
             0,
             "#0d0887"
            ],
            [
             0.1111111111111111,
             "#46039f"
            ],
            [
             0.2222222222222222,
             "#7201a8"
            ],
            [
             0.3333333333333333,
             "#9c179e"
            ],
            [
             0.4444444444444444,
             "#bd3786"
            ],
            [
             0.5555555555555556,
             "#d8576b"
            ],
            [
             0.6666666666666666,
             "#ed7953"
            ],
            [
             0.7777777777777778,
             "#fb9f3a"
            ],
            [
             0.8888888888888888,
             "#fdca26"
            ],
            [
             1,
             "#f0f921"
            ]
           ]
          },
          "colorway": [
           "#636efa",
           "#EF553B",
           "#00cc96",
           "#ab63fa",
           "#FFA15A",
           "#19d3f3",
           "#FF6692",
           "#B6E880",
           "#FF97FF",
           "#FECB52"
          ],
          "font": {
           "color": "#2a3f5f"
          },
          "geo": {
           "bgcolor": "white",
           "lakecolor": "white",
           "landcolor": "#E5ECF6",
           "showlakes": true,
           "showland": true,
           "subunitcolor": "white"
          },
          "hoverlabel": {
           "align": "left"
          },
          "hovermode": "closest",
          "mapbox": {
           "style": "light"
          },
          "paper_bgcolor": "white",
          "plot_bgcolor": "#E5ECF6",
          "polar": {
           "angularaxis": {
            "gridcolor": "white",
            "linecolor": "white",
            "ticks": ""
           },
           "bgcolor": "#E5ECF6",
           "radialaxis": {
            "gridcolor": "white",
            "linecolor": "white",
            "ticks": ""
           }
          },
          "scene": {
           "xaxis": {
            "backgroundcolor": "#E5ECF6",
            "gridcolor": "white",
            "gridwidth": 2,
            "linecolor": "white",
            "showbackground": true,
            "ticks": "",
            "zerolinecolor": "white"
           },
           "yaxis": {
            "backgroundcolor": "#E5ECF6",
            "gridcolor": "white",
            "gridwidth": 2,
            "linecolor": "white",
            "showbackground": true,
            "ticks": "",
            "zerolinecolor": "white"
           },
           "zaxis": {
            "backgroundcolor": "#E5ECF6",
            "gridcolor": "white",
            "gridwidth": 2,
            "linecolor": "white",
            "showbackground": true,
            "ticks": "",
            "zerolinecolor": "white"
           }
          },
          "shapedefaults": {
           "line": {
            "color": "#2a3f5f"
           }
          },
          "ternary": {
           "aaxis": {
            "gridcolor": "white",
            "linecolor": "white",
            "ticks": ""
           },
           "baxis": {
            "gridcolor": "white",
            "linecolor": "white",
            "ticks": ""
           },
           "bgcolor": "#E5ECF6",
           "caxis": {
            "gridcolor": "white",
            "linecolor": "white",
            "ticks": ""
           }
          },
          "title": {
           "x": 0.05
          },
          "xaxis": {
           "automargin": true,
           "gridcolor": "white",
           "linecolor": "white",
           "ticks": "",
           "title": {
            "standoff": 15
           },
           "zerolinecolor": "white",
           "zerolinewidth": 2
          },
          "yaxis": {
           "automargin": true,
           "gridcolor": "white",
           "linecolor": "white",
           "ticks": "",
           "title": {
            "standoff": 15
           },
           "zerolinecolor": "white",
           "zerolinewidth": 2
          }
         }
        },
        "title": {
         "text": "Precios medios mensuales. Año 2024"
        },
        "xaxis": {
         "anchor": "y",
         "domain": [
          0,
          1
         ],
         "title": {
          "text": "mes"
         }
        },
        "yaxis": {
         "anchor": "x",
         "domain": [
          0,
          1
         ],
         "title": {
          "text": "precio medio mensual €/MWh"
         }
        }
       }
      }
     },
     "metadata": {},
     "output_type": "display_data"
    }
   ],
   "source": [
    "graf_ecv_mensual()"
   ]
  },
  {
   "cell_type": "markdown",
   "metadata": {},
   "source": [
    "### Gráfico de queso"
   ]
  },
  {
   "cell_type": "code",
   "execution_count": 258,
   "metadata": {},
   "outputs": [],
   "source": [
    "def graf_ecv_anual_queso():\n",
    "    graf_ecv_anual_queso=px.pie(datos_dia_queso, values='num_dias', names='escala',\n",
    "        color='escala',\n",
    "        color_discrete_map=colores,\n",
    "        #marker=dict(colors=colores),\n",
    "        category_orders={'escala':escala_ordenada_dia},\n",
    "        labels={'num_dias':'num_dias', 'escala':'escala_cv'},\n",
    "        title=\"% y número de días según la Escala CV. Año 2024\",\n",
    "        width=500\n",
    "        )\n",
    "    \n",
    "    return graf_ecv_anual_queso"
   ]
  },
  {
   "cell_type": "code",
   "execution_count": 259,
   "metadata": {},
   "outputs": [
    {
     "data": {
      "application/vnd.plotly.v1+json": {
       "config": {
        "plotlyServerURL": "https://plot.ly"
       },
       "data": [
        {
         "customdata": [
          [
           "chungo"
          ],
          [
           "muy alto"
          ],
          [
           "alto"
          ],
          [
           "medio"
          ],
          [
           "bajo"
          ],
          [
           "muy bajo"
          ]
         ],
         "direction": "clockwise",
         "domain": {
          "x": [
           0,
           1
          ],
          "y": [
           0,
           1
          ]
         },
         "hovertemplate": "escala_cv=%{customdata[0]}<br>num_dias=%{value}<extra></extra>",
         "labels": [
          "chungo",
          "muy alto",
          "alto",
          "medio",
          "bajo",
          "muy bajo"
         ],
         "legendgroup": "",
         "marker": {
          "colors": [
           "purple",
           "red",
           "orange",
           "blue",
           "green",
           "lightgreen"
          ]
         },
         "name": "",
         "showlegend": true,
         "sort": false,
         "type": "pie",
         "values": [
          3,
          19,
          28,
          43,
          34,
          62
         ]
        }
       ],
       "layout": {
        "legend": {
         "tracegroupgap": 0
        },
        "template": {
         "data": {
          "bar": [
           {
            "error_x": {
             "color": "#2a3f5f"
            },
            "error_y": {
             "color": "#2a3f5f"
            },
            "marker": {
             "line": {
              "color": "#E5ECF6",
              "width": 0.5
             },
             "pattern": {
              "fillmode": "overlay",
              "size": 10,
              "solidity": 0.2
             }
            },
            "type": "bar"
           }
          ],
          "barpolar": [
           {
            "marker": {
             "line": {
              "color": "#E5ECF6",
              "width": 0.5
             },
             "pattern": {
              "fillmode": "overlay",
              "size": 10,
              "solidity": 0.2
             }
            },
            "type": "barpolar"
           }
          ],
          "carpet": [
           {
            "aaxis": {
             "endlinecolor": "#2a3f5f",
             "gridcolor": "white",
             "linecolor": "white",
             "minorgridcolor": "white",
             "startlinecolor": "#2a3f5f"
            },
            "baxis": {
             "endlinecolor": "#2a3f5f",
             "gridcolor": "white",
             "linecolor": "white",
             "minorgridcolor": "white",
             "startlinecolor": "#2a3f5f"
            },
            "type": "carpet"
           }
          ],
          "choropleth": [
           {
            "colorbar": {
             "outlinewidth": 0,
             "ticks": ""
            },
            "type": "choropleth"
           }
          ],
          "contour": [
           {
            "colorbar": {
             "outlinewidth": 0,
             "ticks": ""
            },
            "colorscale": [
             [
              0,
              "#0d0887"
             ],
             [
              0.1111111111111111,
              "#46039f"
             ],
             [
              0.2222222222222222,
              "#7201a8"
             ],
             [
              0.3333333333333333,
              "#9c179e"
             ],
             [
              0.4444444444444444,
              "#bd3786"
             ],
             [
              0.5555555555555556,
              "#d8576b"
             ],
             [
              0.6666666666666666,
              "#ed7953"
             ],
             [
              0.7777777777777778,
              "#fb9f3a"
             ],
             [
              0.8888888888888888,
              "#fdca26"
             ],
             [
              1,
              "#f0f921"
             ]
            ],
            "type": "contour"
           }
          ],
          "contourcarpet": [
           {
            "colorbar": {
             "outlinewidth": 0,
             "ticks": ""
            },
            "type": "contourcarpet"
           }
          ],
          "heatmap": [
           {
            "colorbar": {
             "outlinewidth": 0,
             "ticks": ""
            },
            "colorscale": [
             [
              0,
              "#0d0887"
             ],
             [
              0.1111111111111111,
              "#46039f"
             ],
             [
              0.2222222222222222,
              "#7201a8"
             ],
             [
              0.3333333333333333,
              "#9c179e"
             ],
             [
              0.4444444444444444,
              "#bd3786"
             ],
             [
              0.5555555555555556,
              "#d8576b"
             ],
             [
              0.6666666666666666,
              "#ed7953"
             ],
             [
              0.7777777777777778,
              "#fb9f3a"
             ],
             [
              0.8888888888888888,
              "#fdca26"
             ],
             [
              1,
              "#f0f921"
             ]
            ],
            "type": "heatmap"
           }
          ],
          "heatmapgl": [
           {
            "colorbar": {
             "outlinewidth": 0,
             "ticks": ""
            },
            "colorscale": [
             [
              0,
              "#0d0887"
             ],
             [
              0.1111111111111111,
              "#46039f"
             ],
             [
              0.2222222222222222,
              "#7201a8"
             ],
             [
              0.3333333333333333,
              "#9c179e"
             ],
             [
              0.4444444444444444,
              "#bd3786"
             ],
             [
              0.5555555555555556,
              "#d8576b"
             ],
             [
              0.6666666666666666,
              "#ed7953"
             ],
             [
              0.7777777777777778,
              "#fb9f3a"
             ],
             [
              0.8888888888888888,
              "#fdca26"
             ],
             [
              1,
              "#f0f921"
             ]
            ],
            "type": "heatmapgl"
           }
          ],
          "histogram": [
           {
            "marker": {
             "pattern": {
              "fillmode": "overlay",
              "size": 10,
              "solidity": 0.2
             }
            },
            "type": "histogram"
           }
          ],
          "histogram2d": [
           {
            "colorbar": {
             "outlinewidth": 0,
             "ticks": ""
            },
            "colorscale": [
             [
              0,
              "#0d0887"
             ],
             [
              0.1111111111111111,
              "#46039f"
             ],
             [
              0.2222222222222222,
              "#7201a8"
             ],
             [
              0.3333333333333333,
              "#9c179e"
             ],
             [
              0.4444444444444444,
              "#bd3786"
             ],
             [
              0.5555555555555556,
              "#d8576b"
             ],
             [
              0.6666666666666666,
              "#ed7953"
             ],
             [
              0.7777777777777778,
              "#fb9f3a"
             ],
             [
              0.8888888888888888,
              "#fdca26"
             ],
             [
              1,
              "#f0f921"
             ]
            ],
            "type": "histogram2d"
           }
          ],
          "histogram2dcontour": [
           {
            "colorbar": {
             "outlinewidth": 0,
             "ticks": ""
            },
            "colorscale": [
             [
              0,
              "#0d0887"
             ],
             [
              0.1111111111111111,
              "#46039f"
             ],
             [
              0.2222222222222222,
              "#7201a8"
             ],
             [
              0.3333333333333333,
              "#9c179e"
             ],
             [
              0.4444444444444444,
              "#bd3786"
             ],
             [
              0.5555555555555556,
              "#d8576b"
             ],
             [
              0.6666666666666666,
              "#ed7953"
             ],
             [
              0.7777777777777778,
              "#fb9f3a"
             ],
             [
              0.8888888888888888,
              "#fdca26"
             ],
             [
              1,
              "#f0f921"
             ]
            ],
            "type": "histogram2dcontour"
           }
          ],
          "mesh3d": [
           {
            "colorbar": {
             "outlinewidth": 0,
             "ticks": ""
            },
            "type": "mesh3d"
           }
          ],
          "parcoords": [
           {
            "line": {
             "colorbar": {
              "outlinewidth": 0,
              "ticks": ""
             }
            },
            "type": "parcoords"
           }
          ],
          "pie": [
           {
            "automargin": true,
            "type": "pie"
           }
          ],
          "scatter": [
           {
            "fillpattern": {
             "fillmode": "overlay",
             "size": 10,
             "solidity": 0.2
            },
            "type": "scatter"
           }
          ],
          "scatter3d": [
           {
            "line": {
             "colorbar": {
              "outlinewidth": 0,
              "ticks": ""
             }
            },
            "marker": {
             "colorbar": {
              "outlinewidth": 0,
              "ticks": ""
             }
            },
            "type": "scatter3d"
           }
          ],
          "scattercarpet": [
           {
            "marker": {
             "colorbar": {
              "outlinewidth": 0,
              "ticks": ""
             }
            },
            "type": "scattercarpet"
           }
          ],
          "scattergeo": [
           {
            "marker": {
             "colorbar": {
              "outlinewidth": 0,
              "ticks": ""
             }
            },
            "type": "scattergeo"
           }
          ],
          "scattergl": [
           {
            "marker": {
             "colorbar": {
              "outlinewidth": 0,
              "ticks": ""
             }
            },
            "type": "scattergl"
           }
          ],
          "scattermapbox": [
           {
            "marker": {
             "colorbar": {
              "outlinewidth": 0,
              "ticks": ""
             }
            },
            "type": "scattermapbox"
           }
          ],
          "scatterpolar": [
           {
            "marker": {
             "colorbar": {
              "outlinewidth": 0,
              "ticks": ""
             }
            },
            "type": "scatterpolar"
           }
          ],
          "scatterpolargl": [
           {
            "marker": {
             "colorbar": {
              "outlinewidth": 0,
              "ticks": ""
             }
            },
            "type": "scatterpolargl"
           }
          ],
          "scatterternary": [
           {
            "marker": {
             "colorbar": {
              "outlinewidth": 0,
              "ticks": ""
             }
            },
            "type": "scatterternary"
           }
          ],
          "surface": [
           {
            "colorbar": {
             "outlinewidth": 0,
             "ticks": ""
            },
            "colorscale": [
             [
              0,
              "#0d0887"
             ],
             [
              0.1111111111111111,
              "#46039f"
             ],
             [
              0.2222222222222222,
              "#7201a8"
             ],
             [
              0.3333333333333333,
              "#9c179e"
             ],
             [
              0.4444444444444444,
              "#bd3786"
             ],
             [
              0.5555555555555556,
              "#d8576b"
             ],
             [
              0.6666666666666666,
              "#ed7953"
             ],
             [
              0.7777777777777778,
              "#fb9f3a"
             ],
             [
              0.8888888888888888,
              "#fdca26"
             ],
             [
              1,
              "#f0f921"
             ]
            ],
            "type": "surface"
           }
          ],
          "table": [
           {
            "cells": {
             "fill": {
              "color": "#EBF0F8"
             },
             "line": {
              "color": "white"
             }
            },
            "header": {
             "fill": {
              "color": "#C8D4E3"
             },
             "line": {
              "color": "white"
             }
            },
            "type": "table"
           }
          ]
         },
         "layout": {
          "annotationdefaults": {
           "arrowcolor": "#2a3f5f",
           "arrowhead": 0,
           "arrowwidth": 1
          },
          "autotypenumbers": "strict",
          "coloraxis": {
           "colorbar": {
            "outlinewidth": 0,
            "ticks": ""
           }
          },
          "colorscale": {
           "diverging": [
            [
             0,
             "#8e0152"
            ],
            [
             0.1,
             "#c51b7d"
            ],
            [
             0.2,
             "#de77ae"
            ],
            [
             0.3,
             "#f1b6da"
            ],
            [
             0.4,
             "#fde0ef"
            ],
            [
             0.5,
             "#f7f7f7"
            ],
            [
             0.6,
             "#e6f5d0"
            ],
            [
             0.7,
             "#b8e186"
            ],
            [
             0.8,
             "#7fbc41"
            ],
            [
             0.9,
             "#4d9221"
            ],
            [
             1,
             "#276419"
            ]
           ],
           "sequential": [
            [
             0,
             "#0d0887"
            ],
            [
             0.1111111111111111,
             "#46039f"
            ],
            [
             0.2222222222222222,
             "#7201a8"
            ],
            [
             0.3333333333333333,
             "#9c179e"
            ],
            [
             0.4444444444444444,
             "#bd3786"
            ],
            [
             0.5555555555555556,
             "#d8576b"
            ],
            [
             0.6666666666666666,
             "#ed7953"
            ],
            [
             0.7777777777777778,
             "#fb9f3a"
            ],
            [
             0.8888888888888888,
             "#fdca26"
            ],
            [
             1,
             "#f0f921"
            ]
           ],
           "sequentialminus": [
            [
             0,
             "#0d0887"
            ],
            [
             0.1111111111111111,
             "#46039f"
            ],
            [
             0.2222222222222222,
             "#7201a8"
            ],
            [
             0.3333333333333333,
             "#9c179e"
            ],
            [
             0.4444444444444444,
             "#bd3786"
            ],
            [
             0.5555555555555556,
             "#d8576b"
            ],
            [
             0.6666666666666666,
             "#ed7953"
            ],
            [
             0.7777777777777778,
             "#fb9f3a"
            ],
            [
             0.8888888888888888,
             "#fdca26"
            ],
            [
             1,
             "#f0f921"
            ]
           ]
          },
          "colorway": [
           "#636efa",
           "#EF553B",
           "#00cc96",
           "#ab63fa",
           "#FFA15A",
           "#19d3f3",
           "#FF6692",
           "#B6E880",
           "#FF97FF",
           "#FECB52"
          ],
          "font": {
           "color": "#2a3f5f"
          },
          "geo": {
           "bgcolor": "white",
           "lakecolor": "white",
           "landcolor": "#E5ECF6",
           "showlakes": true,
           "showland": true,
           "subunitcolor": "white"
          },
          "hoverlabel": {
           "align": "left"
          },
          "hovermode": "closest",
          "mapbox": {
           "style": "light"
          },
          "paper_bgcolor": "white",
          "plot_bgcolor": "#E5ECF6",
          "polar": {
           "angularaxis": {
            "gridcolor": "white",
            "linecolor": "white",
            "ticks": ""
           },
           "bgcolor": "#E5ECF6",
           "radialaxis": {
            "gridcolor": "white",
            "linecolor": "white",
            "ticks": ""
           }
          },
          "scene": {
           "xaxis": {
            "backgroundcolor": "#E5ECF6",
            "gridcolor": "white",
            "gridwidth": 2,
            "linecolor": "white",
            "showbackground": true,
            "ticks": "",
            "zerolinecolor": "white"
           },
           "yaxis": {
            "backgroundcolor": "#E5ECF6",
            "gridcolor": "white",
            "gridwidth": 2,
            "linecolor": "white",
            "showbackground": true,
            "ticks": "",
            "zerolinecolor": "white"
           },
           "zaxis": {
            "backgroundcolor": "#E5ECF6",
            "gridcolor": "white",
            "gridwidth": 2,
            "linecolor": "white",
            "showbackground": true,
            "ticks": "",
            "zerolinecolor": "white"
           }
          },
          "shapedefaults": {
           "line": {
            "color": "#2a3f5f"
           }
          },
          "ternary": {
           "aaxis": {
            "gridcolor": "white",
            "linecolor": "white",
            "ticks": ""
           },
           "baxis": {
            "gridcolor": "white",
            "linecolor": "white",
            "ticks": ""
           },
           "bgcolor": "#E5ECF6",
           "caxis": {
            "gridcolor": "white",
            "linecolor": "white",
            "ticks": ""
           }
          },
          "title": {
           "x": 0.05
          },
          "xaxis": {
           "automargin": true,
           "gridcolor": "white",
           "linecolor": "white",
           "ticks": "",
           "title": {
            "standoff": 15
           },
           "zerolinecolor": "white",
           "zerolinewidth": 2
          },
          "yaxis": {
           "automargin": true,
           "gridcolor": "white",
           "linecolor": "white",
           "ticks": "",
           "title": {
            "standoff": 15
           },
           "zerolinecolor": "white",
           "zerolinewidth": 2
          }
         }
        },
        "title": {
         "text": "% y número de días según la Escala CV. Año 2024"
        },
        "width": 500
       }
      }
     },
     "metadata": {},
     "output_type": "display_data"
    }
   ],
   "source": [
    "graf_ecv_anual_queso()"
   ]
  },
  {
   "cell_type": "markdown",
   "metadata": {},
   "source": [
    "### Gráfica horaria anual"
   ]
  },
  {
   "cell_type": "code",
   "execution_count": 260,
   "metadata": {},
   "outputs": [],
   "source": [
    "pt_curva_horaria=datos.pivot_table(\n",
    "    values='value',\n",
    "    index='hora'\n",
    ")\n",
    "pt_curva_horaria=pt_curva_horaria['value'].round(2)\n",
    "pt_curva_horaria=pt_curva_horaria.reset_index()\n"
   ]
  },
  {
   "cell_type": "code",
   "execution_count": 261,
   "metadata": {},
   "outputs": [
    {
     "data": {
      "text/html": [
       "<div>\n",
       "<style scoped>\n",
       "    .dataframe tbody tr th:only-of-type {\n",
       "        vertical-align: middle;\n",
       "    }\n",
       "\n",
       "    .dataframe tbody tr th {\n",
       "        vertical-align: top;\n",
       "    }\n",
       "\n",
       "    .dataframe thead th {\n",
       "        text-align: right;\n",
       "    }\n",
       "</style>\n",
       "<table border=\"1\" class=\"dataframe\">\n",
       "  <thead>\n",
       "    <tr style=\"text-align: right;\">\n",
       "      <th></th>\n",
       "      <th>hora</th>\n",
       "      <th>value</th>\n",
       "    </tr>\n",
       "  </thead>\n",
       "  <tbody>\n",
       "    <tr>\n",
       "      <th>0</th>\n",
       "      <td>0</td>\n",
       "      <td>46.49</td>\n",
       "    </tr>\n",
       "    <tr>\n",
       "      <th>1</th>\n",
       "      <td>1</td>\n",
       "      <td>41.84</td>\n",
       "    </tr>\n",
       "    <tr>\n",
       "      <th>2</th>\n",
       "      <td>2</td>\n",
       "      <td>39.45</td>\n",
       "    </tr>\n",
       "    <tr>\n",
       "      <th>3</th>\n",
       "      <td>3</td>\n",
       "      <td>38.19</td>\n",
       "    </tr>\n",
       "    <tr>\n",
       "      <th>4</th>\n",
       "      <td>4</td>\n",
       "      <td>37.38</td>\n",
       "    </tr>\n",
       "    <tr>\n",
       "      <th>5</th>\n",
       "      <td>5</td>\n",
       "      <td>39.16</td>\n",
       "    </tr>\n",
       "    <tr>\n",
       "      <th>6</th>\n",
       "      <td>6</td>\n",
       "      <td>44.41</td>\n",
       "    </tr>\n",
       "    <tr>\n",
       "      <th>7</th>\n",
       "      <td>7</td>\n",
       "      <td>54.29</td>\n",
       "    </tr>\n",
       "    <tr>\n",
       "      <th>8</th>\n",
       "      <td>8</td>\n",
       "      <td>51.07</td>\n",
       "    </tr>\n",
       "    <tr>\n",
       "      <th>9</th>\n",
       "      <td>9</td>\n",
       "      <td>39.15</td>\n",
       "    </tr>\n",
       "    <tr>\n",
       "      <th>10</th>\n",
       "      <td>10</td>\n",
       "      <td>30.67</td>\n",
       "    </tr>\n",
       "    <tr>\n",
       "      <th>11</th>\n",
       "      <td>11</td>\n",
       "      <td>25.20</td>\n",
       "    </tr>\n",
       "    <tr>\n",
       "      <th>12</th>\n",
       "      <td>12</td>\n",
       "      <td>23.14</td>\n",
       "    </tr>\n",
       "    <tr>\n",
       "      <th>13</th>\n",
       "      <td>13</td>\n",
       "      <td>21.42</td>\n",
       "    </tr>\n",
       "    <tr>\n",
       "      <th>14</th>\n",
       "      <td>14</td>\n",
       "      <td>20.36</td>\n",
       "    </tr>\n",
       "    <tr>\n",
       "      <th>15</th>\n",
       "      <td>15</td>\n",
       "      <td>19.82</td>\n",
       "    </tr>\n",
       "    <tr>\n",
       "      <th>16</th>\n",
       "      <td>16</td>\n",
       "      <td>21.66</td>\n",
       "    </tr>\n",
       "    <tr>\n",
       "      <th>17</th>\n",
       "      <td>17</td>\n",
       "      <td>27.33</td>\n",
       "    </tr>\n",
       "    <tr>\n",
       "      <th>18</th>\n",
       "      <td>18</td>\n",
       "      <td>36.00</td>\n",
       "    </tr>\n",
       "    <tr>\n",
       "      <th>19</th>\n",
       "      <td>19</td>\n",
       "      <td>49.08</td>\n",
       "    </tr>\n",
       "    <tr>\n",
       "      <th>20</th>\n",
       "      <td>20</td>\n",
       "      <td>62.61</td>\n",
       "    </tr>\n",
       "    <tr>\n",
       "      <th>21</th>\n",
       "      <td>21</td>\n",
       "      <td>67.40</td>\n",
       "    </tr>\n",
       "    <tr>\n",
       "      <th>22</th>\n",
       "      <td>22</td>\n",
       "      <td>60.43</td>\n",
       "    </tr>\n",
       "    <tr>\n",
       "      <th>23</th>\n",
       "      <td>23</td>\n",
       "      <td>51.30</td>\n",
       "    </tr>\n",
       "  </tbody>\n",
       "</table>\n",
       "</div>"
      ],
      "text/plain": [
       "    hora  value\n",
       "0      0  46.49\n",
       "1      1  41.84\n",
       "2      2  39.45\n",
       "3      3  38.19\n",
       "4      4  37.38\n",
       "5      5  39.16\n",
       "6      6  44.41\n",
       "7      7  54.29\n",
       "8      8  51.07\n",
       "9      9  39.15\n",
       "10    10  30.67\n",
       "11    11  25.20\n",
       "12    12  23.14\n",
       "13    13  21.42\n",
       "14    14  20.36\n",
       "15    15  19.82\n",
       "16    16  21.66\n",
       "17    17  27.33\n",
       "18    18  36.00\n",
       "19    19  49.08\n",
       "20    20  62.61\n",
       "21    21  67.40\n",
       "22    22  60.43\n",
       "23    23  51.30"
      ]
     },
     "execution_count": 261,
     "metadata": {},
     "output_type": "execute_result"
    }
   ],
   "source": [
    "pt_curva_horaria"
   ]
  },
  {
   "cell_type": "code",
   "execution_count": 262,
   "metadata": {},
   "outputs": [
    {
     "data": {
      "text/html": [
       "<div>\n",
       "<style scoped>\n",
       "    .dataframe tbody tr th:only-of-type {\n",
       "        vertical-align: middle;\n",
       "    }\n",
       "\n",
       "    .dataframe tbody tr th {\n",
       "        vertical-align: top;\n",
       "    }\n",
       "\n",
       "    .dataframe thead th {\n",
       "        text-align: right;\n",
       "    }\n",
       "</style>\n",
       "<table border=\"1\" class=\"dataframe\">\n",
       "  <thead>\n",
       "    <tr style=\"text-align: right;\">\n",
       "      <th></th>\n",
       "      <th>value</th>\n",
       "      <th>fecha</th>\n",
       "      <th>hora</th>\n",
       "      <th>dia</th>\n",
       "      <th>mes</th>\n",
       "      <th>año</th>\n",
       "      <th>escala</th>\n",
       "      <th>color</th>\n",
       "    </tr>\n",
       "    <tr>\n",
       "      <th>datetime</th>\n",
       "      <th></th>\n",
       "      <th></th>\n",
       "      <th></th>\n",
       "      <th></th>\n",
       "      <th></th>\n",
       "      <th></th>\n",
       "      <th></th>\n",
       "      <th></th>\n",
       "    </tr>\n",
       "  </thead>\n",
       "  <tbody>\n",
       "    <tr>\n",
       "      <th>2024-01-01 00:00:00</th>\n",
       "      <td>63.33</td>\n",
       "      <td>2024-01-01</td>\n",
       "      <td>0</td>\n",
       "      <td>1</td>\n",
       "      <td>1</td>\n",
       "      <td>2024</td>\n",
       "      <td>alto</td>\n",
       "      <td>orange</td>\n",
       "    </tr>\n",
       "    <tr>\n",
       "      <th>2024-01-01 01:00:00</th>\n",
       "      <td>50.09</td>\n",
       "      <td>2024-01-01</td>\n",
       "      <td>1</td>\n",
       "      <td>1</td>\n",
       "      <td>1</td>\n",
       "      <td>2024</td>\n",
       "      <td>medio</td>\n",
       "      <td>blue</td>\n",
       "    </tr>\n",
       "    <tr>\n",
       "      <th>2024-01-01 02:00:00</th>\n",
       "      <td>47.50</td>\n",
       "      <td>2024-01-01</td>\n",
       "      <td>2</td>\n",
       "      <td>1</td>\n",
       "      <td>1</td>\n",
       "      <td>2024</td>\n",
       "      <td>medio</td>\n",
       "      <td>blue</td>\n",
       "    </tr>\n",
       "    <tr>\n",
       "      <th>2024-01-01 03:00:00</th>\n",
       "      <td>43.50</td>\n",
       "      <td>2024-01-01</td>\n",
       "      <td>3</td>\n",
       "      <td>1</td>\n",
       "      <td>1</td>\n",
       "      <td>2024</td>\n",
       "      <td>medio</td>\n",
       "      <td>blue</td>\n",
       "    </tr>\n",
       "    <tr>\n",
       "      <th>2024-01-01 04:00:00</th>\n",
       "      <td>42.50</td>\n",
       "      <td>2024-01-01</td>\n",
       "      <td>4</td>\n",
       "      <td>1</td>\n",
       "      <td>1</td>\n",
       "      <td>2024</td>\n",
       "      <td>medio</td>\n",
       "      <td>blue</td>\n",
       "    </tr>\n",
       "    <tr>\n",
       "      <th>...</th>\n",
       "      <td>...</td>\n",
       "      <td>...</td>\n",
       "      <td>...</td>\n",
       "      <td>...</td>\n",
       "      <td>...</td>\n",
       "      <td>...</td>\n",
       "      <td>...</td>\n",
       "      <td>...</td>\n",
       "    </tr>\n",
       "    <tr>\n",
       "      <th>2024-07-07 19:00:00</th>\n",
       "      <td>35.94</td>\n",
       "      <td>2024-07-07</td>\n",
       "      <td>19</td>\n",
       "      <td>7</td>\n",
       "      <td>7</td>\n",
       "      <td>2024</td>\n",
       "      <td>bajo</td>\n",
       "      <td>green</td>\n",
       "    </tr>\n",
       "    <tr>\n",
       "      <th>2024-07-07 20:00:00</th>\n",
       "      <td>59.57</td>\n",
       "      <td>2024-07-07</td>\n",
       "      <td>20</td>\n",
       "      <td>7</td>\n",
       "      <td>7</td>\n",
       "      <td>2024</td>\n",
       "      <td>medio</td>\n",
       "      <td>blue</td>\n",
       "    </tr>\n",
       "    <tr>\n",
       "      <th>2024-07-07 21:00:00</th>\n",
       "      <td>100.73</td>\n",
       "      <td>2024-07-07</td>\n",
       "      <td>21</td>\n",
       "      <td>7</td>\n",
       "      <td>7</td>\n",
       "      <td>2024</td>\n",
       "      <td>chungo</td>\n",
       "      <td>purple</td>\n",
       "    </tr>\n",
       "    <tr>\n",
       "      <th>2024-07-07 22:00:00</th>\n",
       "      <td>104.58</td>\n",
       "      <td>2024-07-07</td>\n",
       "      <td>22</td>\n",
       "      <td>7</td>\n",
       "      <td>7</td>\n",
       "      <td>2024</td>\n",
       "      <td>chungo</td>\n",
       "      <td>purple</td>\n",
       "    </tr>\n",
       "    <tr>\n",
       "      <th>2024-07-07 23:00:00</th>\n",
       "      <td>100.25</td>\n",
       "      <td>2024-07-07</td>\n",
       "      <td>23</td>\n",
       "      <td>7</td>\n",
       "      <td>7</td>\n",
       "      <td>2024</td>\n",
       "      <td>chungo</td>\n",
       "      <td>purple</td>\n",
       "    </tr>\n",
       "  </tbody>\n",
       "</table>\n",
       "<p>4535 rows × 8 columns</p>\n",
       "</div>"
      ],
      "text/plain": [
       "                      value      fecha  hora  dia  mes   año  escala   color\n",
       "datetime                                                                    \n",
       "2024-01-01 00:00:00   63.33 2024-01-01     0    1    1  2024    alto  orange\n",
       "2024-01-01 01:00:00   50.09 2024-01-01     1    1    1  2024   medio    blue\n",
       "2024-01-01 02:00:00   47.50 2024-01-01     2    1    1  2024   medio    blue\n",
       "2024-01-01 03:00:00   43.50 2024-01-01     3    1    1  2024   medio    blue\n",
       "2024-01-01 04:00:00   42.50 2024-01-01     4    1    1  2024   medio    blue\n",
       "...                     ...        ...   ...  ...  ...   ...     ...     ...\n",
       "2024-07-07 19:00:00   35.94 2024-07-07    19    7    7  2024    bajo   green\n",
       "2024-07-07 20:00:00   59.57 2024-07-07    20    7    7  2024   medio    blue\n",
       "2024-07-07 21:00:00  100.73 2024-07-07    21    7    7  2024  chungo  purple\n",
       "2024-07-07 22:00:00  104.58 2024-07-07    22    7    7  2024  chungo  purple\n",
       "2024-07-07 23:00:00  100.25 2024-07-07    23    7    7  2024  chungo  purple\n",
       "\n",
       "[4535 rows x 8 columns]"
      ]
     },
     "execution_count": 262,
     "metadata": {},
     "output_type": "execute_result"
    }
   ],
   "source": [
    "datos_horarios"
   ]
  },
  {
   "cell_type": "code",
   "execution_count": 271,
   "metadata": {},
   "outputs": [
    {
     "data": {
      "application/vnd.plotly.v1+json": {
       "config": {
        "plotlyServerURL": "https://plot.ly"
       },
       "data": [
        {
         "hovertemplate": "fecha=2024-01-01 00:00:00<br>hora=%{x}<br>€/MWh=%{y}<extra></extra>",
         "legendgroup": "",
         "marker": {
          "color": "#636efa",
          "symbol": "circle"
         },
         "mode": "markers",
         "name": "",
         "orientation": "v",
         "showlegend": false,
         "type": "scatter",
         "x": [
          0,
          1,
          2,
          3,
          4,
          5,
          6,
          7,
          8,
          9,
          10,
          11,
          12,
          13,
          14,
          15,
          16,
          17,
          18,
          19,
          20,
          21,
          22,
          23
         ],
         "xaxis": "x",
         "y": [
          63.33,
          50.09,
          47.5,
          43.5,
          42.5,
          42.09,
          42.5,
          42.59,
          43.37,
          42.29,
          25,
          3.9,
          3.2,
          2.06,
          1.73,
          5.72,
          18.49,
          37,
          47.5,
          54.97,
          60.9,
          60,
          47.5,
          42.09
         ],
         "yaxis": "y"
        },
        {
         "mode": "lines",
         "name": "Media Anual",
         "type": "scatter",
         "x": [
          0,
          1,
          2,
          3,
          4,
          5,
          6,
          7,
          8,
          9,
          10,
          11,
          12,
          13,
          14,
          15,
          16,
          17,
          18,
          19,
          20,
          21,
          22,
          23
         ],
         "y": [
          46.49,
          41.84,
          39.45,
          38.19,
          37.38,
          39.16,
          44.41,
          54.29,
          51.07,
          39.15,
          30.67,
          25.2,
          23.14,
          21.42,
          20.36,
          19.82,
          21.66,
          27.33,
          36,
          49.08,
          62.61,
          67.4,
          60.43,
          51.3
         ]
        }
       ],
       "frames": [
        {
         "data": [
          {
           "hovertemplate": "fecha=2024-01-01 00:00:00<br>hora=%{x}<br>€/MWh=%{y}<extra></extra>",
           "legendgroup": "",
           "marker": {
            "color": "#636efa",
            "symbol": "circle"
           },
           "mode": "markers",
           "name": "",
           "orientation": "v",
           "showlegend": false,
           "type": "scatter",
           "x": [
            0,
            1,
            2,
            3,
            4,
            5,
            6,
            7,
            8,
            9,
            10,
            11,
            12,
            13,
            14,
            15,
            16,
            17,
            18,
            19,
            20,
            21,
            22,
            23
           ],
           "xaxis": "x",
           "y": [
            63.33,
            50.09,
            47.5,
            43.5,
            42.5,
            42.09,
            42.5,
            42.59,
            43.37,
            42.29,
            25,
            3.9,
            3.2,
            2.06,
            1.73,
            5.72,
            18.49,
            37,
            47.5,
            54.97,
            60.9,
            60,
            47.5,
            42.09
           ],
           "yaxis": "y"
          }
         ],
         "name": "2024-01-01 00:00:00"
        },
        {
         "data": [
          {
           "hovertemplate": "fecha=2024-01-02 00:00:00<br>hora=%{x}<br>€/MWh=%{y}<extra></extra>",
           "legendgroup": "",
           "marker": {
            "color": "#636efa",
            "symbol": "circle"
           },
           "mode": "markers",
           "name": "",
           "orientation": "v",
           "showlegend": false,
           "type": "scatter",
           "x": [
            0,
            1,
            2,
            3,
            4,
            5,
            6,
            7,
            8,
            9,
            10,
            11,
            12,
            13,
            14,
            15,
            16,
            17,
            18,
            19,
            20,
            21,
            22,
            23
           ],
           "xaxis": "x",
           "y": [
            37.8,
            25,
            3.99,
            14,
            10,
            14.54,
            36.29,
            44.7,
            53.78,
            54.23,
            50,
            52.2,
            45,
            43,
            43,
            40.99,
            43.66,
            52.2,
            57.77,
            62.45,
            58,
            52.83,
            46.26,
            40.1
           ],
           "yaxis": "y"
          }
         ],
         "name": "2024-01-02 00:00:00"
        },
        {
         "data": [
          {
           "hovertemplate": "fecha=2024-01-03 00:00:00<br>hora=%{x}<br>€/MWh=%{y}<extra></extra>",
           "legendgroup": "",
           "marker": {
            "color": "#636efa",
            "symbol": "circle"
           },
           "mode": "markers",
           "name": "",
           "orientation": "v",
           "showlegend": false,
           "type": "scatter",
           "x": [
            0,
            1,
            2,
            3,
            4,
            5,
            6,
            7,
            8,
            9,
            10,
            11,
            12,
            13,
            14,
            15,
            16,
            17,
            18,
            19,
            20,
            21,
            22,
            23
           ],
           "xaxis": "x",
           "y": [
            6.8,
            3.2,
            3.2,
            3.2,
            3.2,
            2.21,
            4.78,
            45.42,
            61.92,
            67,
            63.6,
            57.1,
            55,
            55.42,
            61,
            66.03,
            67.52,
            89.57,
            94.2,
            104.35,
            113.26,
            113.26,
            94.2,
            86.58
           ],
           "yaxis": "y"
          }
         ],
         "name": "2024-01-03 00:00:00"
        },
        {
         "data": [
          {
           "hovertemplate": "fecha=2024-01-04 00:00:00<br>hora=%{x}<br>€/MWh=%{y}<extra></extra>",
           "legendgroup": "",
           "marker": {
            "color": "#636efa",
            "symbol": "circle"
           },
           "mode": "markers",
           "name": "",
           "orientation": "v",
           "showlegend": false,
           "type": "scatter",
           "x": [
            0,
            1,
            2,
            3,
            4,
            5,
            6,
            7,
            8,
            9,
            10,
            11,
            12,
            13,
            14,
            15,
            16,
            17,
            18,
            19,
            20,
            21,
            22,
            23
           ],
           "xaxis": "x",
           "y": [
            90.39,
            87,
            80.21,
            70.1,
            66.86,
            68.14,
            86.74,
            94.51,
            96,
            98.13,
            95,
            90.35,
            89,
            85.96,
            92.11,
            98.62,
            99.5,
            100,
            102.57,
            104,
            105.18,
            102.42,
            99.41,
            90.39
           ],
           "yaxis": "y"
          }
         ],
         "name": "2024-01-04 00:00:00"
        },
        {
         "data": [
          {
           "hovertemplate": "fecha=2024-01-05 00:00:00<br>hora=%{x}<br>€/MWh=%{y}<extra></extra>",
           "legendgroup": "",
           "marker": {
            "color": "#636efa",
            "symbol": "circle"
           },
           "mode": "markers",
           "name": "",
           "orientation": "v",
           "showlegend": false,
           "type": "scatter",
           "x": [
            0,
            1,
            2,
            3,
            4,
            5,
            6,
            7,
            8,
            9,
            10,
            11,
            12,
            13,
            14,
            15,
            16,
            17,
            18,
            19,
            20,
            21,
            22,
            23
           ],
           "xaxis": "x",
           "y": [
            86.08,
            80.51,
            77.01,
            70.67,
            61.1,
            68.26,
            75,
            86.39,
            90.88,
            90,
            76.47,
            57.68,
            45.87,
            44.07,
            40,
            30.55,
            44.37,
            67,
            75.47,
            78.19,
            79.94,
            78.26,
            75,
            68
           ],
           "yaxis": "y"
          }
         ],
         "name": "2024-01-05 00:00:00"
        },
        {
         "data": [
          {
           "hovertemplate": "fecha=2024-01-06 00:00:00<br>hora=%{x}<br>€/MWh=%{y}<extra></extra>",
           "legendgroup": "",
           "marker": {
            "color": "#636efa",
            "symbol": "circle"
           },
           "mode": "markers",
           "name": "",
           "orientation": "v",
           "showlegend": false,
           "type": "scatter",
           "x": [
            0,
            1,
            2,
            3,
            4,
            5,
            6,
            7,
            8,
            9,
            10,
            11,
            12,
            13,
            14,
            15,
            16,
            17,
            18,
            19,
            20,
            21,
            22,
            23
           ],
           "xaxis": "x",
           "y": [
            52.5,
            45,
            44.2,
            43.5,
            23.99,
            23.99,
            30.51,
            44.4,
            45.8,
            45,
            25,
            4,
            3.2,
            3.2,
            3.2,
            3.2,
            25,
            65,
            85.96,
            92.05,
            92.14,
            88,
            86.57,
            79.87
           ],
           "yaxis": "y"
          }
         ],
         "name": "2024-01-06 00:00:00"
        },
        {
         "data": [
          {
           "hovertemplate": "fecha=2024-01-07 00:00:00<br>hora=%{x}<br>€/MWh=%{y}<extra></extra>",
           "legendgroup": "",
           "marker": {
            "color": "#636efa",
            "symbol": "circle"
           },
           "mode": "markers",
           "name": "",
           "orientation": "v",
           "showlegend": false,
           "type": "scatter",
           "x": [
            0,
            1,
            2,
            3,
            4,
            5,
            6,
            7,
            8,
            9,
            10,
            11,
            12,
            13,
            14,
            15,
            16,
            17,
            18,
            19,
            20,
            21,
            22,
            23
           ],
           "xaxis": "x",
           "y": [
            84.08,
            79.82,
            76.76,
            73.46,
            71.86,
            72.08,
            74.9,
            77.69,
            81.79,
            84.86,
            61,
            55.87,
            50.6,
            51.77,
            49.98,
            45.57,
            60,
            92.05,
            104.85,
            103.55,
            100.5,
            95.89,
            91.17,
            83.86
           ],
           "yaxis": "y"
          }
         ],
         "name": "2024-01-07 00:00:00"
        },
        {
         "data": [
          {
           "hovertemplate": "fecha=2024-01-08 00:00:00<br>hora=%{x}<br>€/MWh=%{y}<extra></extra>",
           "legendgroup": "",
           "marker": {
            "color": "#636efa",
            "symbol": "circle"
           },
           "mode": "markers",
           "name": "",
           "orientation": "v",
           "showlegend": false,
           "type": "scatter",
           "x": [
            0,
            1,
            2,
            3,
            4,
            5,
            6,
            7,
            8,
            9,
            10,
            11,
            12,
            13,
            14,
            15,
            16,
            17,
            18,
            19,
            20,
            21,
            22,
            23
           ],
           "xaxis": "x",
           "y": [
            86.97,
            84.18,
            81.53,
            78.79,
            78.43,
            82.1,
            94.3,
            111.07,
            120.4,
            116.98,
            110.57,
            103,
            95.46,
            93.88,
            100,
            107.98,
            115.27,
            125.17,
            129.99,
            130,
            133.28,
            129.47,
            115.42,
            107.98
           ],
           "yaxis": "y"
          }
         ],
         "name": "2024-01-08 00:00:00"
        },
        {
         "data": [
          {
           "hovertemplate": "fecha=2024-01-09 00:00:00<br>hora=%{x}<br>€/MWh=%{y}<extra></extra>",
           "legendgroup": "",
           "marker": {
            "color": "#636efa",
            "symbol": "circle"
           },
           "mode": "markers",
           "name": "",
           "orientation": "v",
           "showlegend": false,
           "type": "scatter",
           "x": [
            0,
            1,
            2,
            3,
            4,
            5,
            6,
            7,
            8,
            9,
            10,
            11,
            12,
            13,
            14,
            15,
            16,
            17,
            18,
            19,
            20,
            21,
            22,
            23
           ],
           "xaxis": "x",
           "y": [
            98.92,
            100,
            98.43,
            98.62,
            97.15,
            97.53,
            102.79,
            108.28,
            122.55,
            120.75,
            110.32,
            107.67,
            107.01,
            106.48,
            107.07,
            114.75,
            124.29,
            137.35,
            137,
            138.95,
            148.01,
            130,
            111.86,
            106.11
           ],
           "yaxis": "y"
          }
         ],
         "name": "2024-01-09 00:00:00"
        },
        {
         "data": [
          {
           "hovertemplate": "fecha=2024-01-10 00:00:00<br>hora=%{x}<br>€/MWh=%{y}<extra></extra>",
           "legendgroup": "",
           "marker": {
            "color": "#636efa",
            "symbol": "circle"
           },
           "mode": "markers",
           "name": "",
           "orientation": "v",
           "showlegend": false,
           "type": "scatter",
           "x": [
            0,
            1,
            2,
            3,
            4,
            5,
            6,
            7,
            8,
            9,
            10,
            11,
            12,
            13,
            14,
            15,
            16,
            17,
            18,
            19,
            20,
            21,
            22,
            23
           ],
           "xaxis": "x",
           "y": [
            92.33,
            90.12,
            87.01,
            85.8,
            85,
            86.3,
            95,
            103.94,
            121.4,
            121.4,
            105.38,
            102.97,
            99.99,
            98.5,
            94.76,
            94.73,
            99.37,
            102.7,
            111.29,
            121.4,
            120,
            107.71,
            101.32,
            92.68
           ],
           "yaxis": "y"
          }
         ],
         "name": "2024-01-10 00:00:00"
        },
        {
         "data": [
          {
           "hovertemplate": "fecha=2024-01-11 00:00:00<br>hora=%{x}<br>€/MWh=%{y}<extra></extra>",
           "legendgroup": "",
           "marker": {
            "color": "#636efa",
            "symbol": "circle"
           },
           "mode": "markers",
           "name": "",
           "orientation": "v",
           "showlegend": false,
           "type": "scatter",
           "x": [
            0,
            1,
            2,
            3,
            4,
            5,
            6,
            7,
            8,
            9,
            10,
            11,
            12,
            13,
            14,
            15,
            16,
            17,
            18,
            19,
            20,
            21,
            22,
            23
           ],
           "xaxis": "x",
           "y": [
            91.75,
            86.18,
            82.1,
            80,
            79.6,
            81.1,
            85.91,
            102.05,
            113.84,
            110,
            97.63,
            86.18,
            83.89,
            82.18,
            83,
            85,
            97.63,
            118.5,
            128.93,
            132.31,
            117.93,
            108.33,
            100,
            93.26
           ],
           "yaxis": "y"
          }
         ],
         "name": "2024-01-11 00:00:00"
        },
        {
         "data": [
          {
           "hovertemplate": "fecha=2024-01-12 00:00:00<br>hora=%{x}<br>€/MWh=%{y}<extra></extra>",
           "legendgroup": "",
           "marker": {
            "color": "#636efa",
            "symbol": "circle"
           },
           "mode": "markers",
           "name": "",
           "orientation": "v",
           "showlegend": false,
           "type": "scatter",
           "x": [
            0,
            1,
            2,
            3,
            4,
            5,
            6,
            7,
            8,
            9,
            10,
            11,
            12,
            13,
            14,
            15,
            16,
            17,
            18,
            19,
            20,
            21,
            22,
            23
           ],
           "xaxis": "x",
           "y": [
            88.98,
            86.45,
            84.99,
            83,
            83.14,
            85,
            89,
            102.77,
            113.28,
            105,
            100,
            94.58,
            92,
            91.78,
            90.1,
            92.01,
            100.98,
            107.1,
            126,
            119.47,
            110,
            102.26,
            98,
            95.49
           ],
           "yaxis": "y"
          }
         ],
         "name": "2024-01-12 00:00:00"
        },
        {
         "data": [
          {
           "hovertemplate": "fecha=2024-01-13 00:00:00<br>hora=%{x}<br>€/MWh=%{y}<extra></extra>",
           "legendgroup": "",
           "marker": {
            "color": "#636efa",
            "symbol": "circle"
           },
           "mode": "markers",
           "name": "",
           "orientation": "v",
           "showlegend": false,
           "type": "scatter",
           "x": [
            0,
            1,
            2,
            3,
            4,
            5,
            6,
            7,
            8,
            9,
            10,
            11,
            12,
            13,
            14,
            15,
            16,
            17,
            18,
            19,
            20,
            21,
            22,
            23
           ],
           "xaxis": "x",
           "y": [
            90,
            87.48,
            82,
            78.47,
            75,
            75,
            78.3,
            85.59,
            92.71,
            94.83,
            90.93,
            83.39,
            73.96,
            71.45,
            74.51,
            80.4,
            91.23,
            99.3,
            107.99,
            103.14,
            100,
            97.61,
            93.12,
            90
           ],
           "yaxis": "y"
          }
         ],
         "name": "2024-01-13 00:00:00"
        },
        {
         "data": [
          {
           "hovertemplate": "fecha=2024-01-14 00:00:00<br>hora=%{x}<br>€/MWh=%{y}<extra></extra>",
           "legendgroup": "",
           "marker": {
            "color": "#636efa",
            "symbol": "circle"
           },
           "mode": "markers",
           "name": "",
           "orientation": "v",
           "showlegend": false,
           "type": "scatter",
           "x": [
            0,
            1,
            2,
            3,
            4,
            5,
            6,
            7,
            8,
            9,
            10,
            11,
            12,
            13,
            14,
            15,
            16,
            17,
            18,
            19,
            20,
            21,
            22,
            23
           ],
           "xaxis": "x",
           "y": [
            86.1,
            82.78,
            78.66,
            72.53,
            69.34,
            69.13,
            69.71,
            72.95,
            77.9,
            79.45,
            74.69,
            69,
            67.8,
            65.4,
            63.1,
            62.3,
            65.13,
            72.84,
            86.18,
            92.01,
            86.03,
            84.49,
            82.97,
            72.52
           ],
           "yaxis": "y"
          }
         ],
         "name": "2024-01-14 00:00:00"
        },
        {
         "data": [
          {
           "hovertemplate": "fecha=2024-01-15 00:00:00<br>hora=%{x}<br>€/MWh=%{y}<extra></extra>",
           "legendgroup": "",
           "marker": {
            "color": "#636efa",
            "symbol": "circle"
           },
           "mode": "markers",
           "name": "",
           "orientation": "v",
           "showlegend": false,
           "type": "scatter",
           "x": [
            0,
            1,
            2,
            3,
            4,
            5,
            6,
            7,
            8,
            9,
            10,
            11,
            12,
            13,
            14,
            15,
            16,
            17,
            18,
            19,
            20,
            21,
            22,
            23
           ],
           "xaxis": "x",
           "y": [
            77.7,
            67,
            64.99,
            62.04,
            62.1,
            65.1,
            69.13,
            86.74,
            99.52,
            100.33,
            94.92,
            90.3,
            85.7,
            82.41,
            84.99,
            90.1,
            95.82,
            100,
            112.85,
            113.9,
            107.58,
            100,
            97.21,
            91
           ],
           "yaxis": "y"
          }
         ],
         "name": "2024-01-15 00:00:00"
        },
        {
         "data": [
          {
           "hovertemplate": "fecha=2024-01-16 00:00:00<br>hora=%{x}<br>€/MWh=%{y}<extra></extra>",
           "legendgroup": "",
           "marker": {
            "color": "#636efa",
            "symbol": "circle"
           },
           "mode": "markers",
           "name": "",
           "orientation": "v",
           "showlegend": false,
           "type": "scatter",
           "x": [
            0,
            1,
            2,
            3,
            4,
            5,
            6,
            7,
            8,
            9,
            10,
            11,
            12,
            13,
            14,
            15,
            16,
            17,
            18,
            19,
            20,
            21,
            22,
            23
           ],
           "xaxis": "x",
           "y": [
            86.59,
            83.33,
            80.94,
            78.65,
            78.35,
            80.37,
            89,
            101,
            127.07,
            120.18,
            99.28,
            91.69,
            93,
            89.42,
            90,
            88,
            84.88,
            88,
            89.02,
            99.49,
            99.78,
            88.75,
            75.99,
            60
           ],
           "yaxis": "y"
          }
         ],
         "name": "2024-01-16 00:00:00"
        },
        {
         "data": [
          {
           "hovertemplate": "fecha=2024-01-17 00:00:00<br>hora=%{x}<br>€/MWh=%{y}<extra></extra>",
           "legendgroup": "",
           "marker": {
            "color": "#636efa",
            "symbol": "circle"
           },
           "mode": "markers",
           "name": "",
           "orientation": "v",
           "showlegend": false,
           "type": "scatter",
           "x": [
            0,
            1,
            2,
            3,
            4,
            5,
            6,
            7,
            8,
            9,
            10,
            11,
            12,
            13,
            14,
            15,
            16,
            17,
            18,
            19,
            20,
            21,
            22,
            23
           ],
           "xaxis": "x",
           "y": [
            19.13,
            15.93,
            6,
            4.9,
            4.9,
            5,
            16.7,
            44.2,
            45.5,
            45.5,
            44.8,
            34.52,
            17.29,
            12.99,
            5.1,
            5,
            18.38,
            43.5,
            45.4,
            49.1,
            54.88,
            46.8,
            43.37,
            18.03
           ],
           "yaxis": "y"
          }
         ],
         "name": "2024-01-17 00:00:00"
        },
        {
         "data": [
          {
           "hovertemplate": "fecha=2024-01-18 00:00:00<br>hora=%{x}<br>€/MWh=%{y}<extra></extra>",
           "legendgroup": "",
           "marker": {
            "color": "#636efa",
            "symbol": "circle"
           },
           "mode": "markers",
           "name": "",
           "orientation": "v",
           "showlegend": false,
           "type": "scatter",
           "x": [
            0,
            1,
            2,
            3,
            4,
            5,
            6,
            7,
            8,
            9,
            10,
            11,
            12,
            13,
            14,
            15,
            16,
            17,
            18,
            19,
            20,
            21,
            22,
            23
           ],
           "xaxis": "x",
           "y": [
            3.2,
            3.2,
            1.68,
            0.43,
            0.99,
            3.2,
            3.2,
            30.1,
            47.19,
            55.77,
            45.27,
            43.66,
            39.19,
            35,
            35.3,
            45.4,
            62.17,
            96.02,
            103.71,
            99.6,
            105.34,
            98.84,
            92.14,
            73.61
           ],
           "yaxis": "y"
          }
         ],
         "name": "2024-01-18 00:00:00"
        },
        {
         "data": [
          {
           "hovertemplate": "fecha=2024-01-19 00:00:00<br>hora=%{x}<br>€/MWh=%{y}<extra></extra>",
           "legendgroup": "",
           "marker": {
            "color": "#636efa",
            "symbol": "circle"
           },
           "mode": "markers",
           "name": "",
           "orientation": "v",
           "showlegend": false,
           "type": "scatter",
           "x": [
            0,
            1,
            2,
            3,
            4,
            5,
            6,
            7,
            8,
            9,
            10,
            11,
            12,
            13,
            14,
            15,
            16,
            17,
            18,
            19,
            20,
            21,
            22,
            23
           ],
           "xaxis": "x",
           "y": [
            71.82,
            67.44,
            67.17,
            60,
            54.79,
            50,
            60,
            74.4,
            82.32,
            87.33,
            81,
            78,
            78.74,
            70.83,
            61.13,
            60.14,
            63,
            69.18,
            80.5,
            84.2,
            82.88,
            80.5,
            74.4,
            61
           ],
           "yaxis": "y"
          }
         ],
         "name": "2024-01-19 00:00:00"
        },
        {
         "data": [
          {
           "hovertemplate": "fecha=2024-01-20 00:00:00<br>hora=%{x}<br>€/MWh=%{y}<extra></extra>",
           "legendgroup": "",
           "marker": {
            "color": "#636efa",
            "symbol": "circle"
           },
           "mode": "markers",
           "name": "",
           "orientation": "v",
           "showlegend": false,
           "type": "scatter",
           "x": [
            0,
            1,
            2,
            3,
            4,
            5,
            6,
            7,
            8,
            9,
            10,
            11,
            12,
            13,
            14,
            15,
            16,
            17,
            18,
            19,
            20,
            21,
            22,
            23
           ],
           "xaxis": "x",
           "y": [
            73.75,
            63.92,
            63.81,
            63.81,
            63.68,
            66.1,
            70.3,
            75.93,
            84.09,
            88.31,
            82.85,
            76.64,
            74.65,
            69.84,
            73.41,
            79.21,
            87.97,
            95.07,
            99.94,
            99.58,
            99.94,
            99.58,
            94.46,
            85.78
           ],
           "yaxis": "y"
          }
         ],
         "name": "2024-01-20 00:00:00"
        },
        {
         "data": [
          {
           "hovertemplate": "fecha=2024-01-21 00:00:00<br>hora=%{x}<br>€/MWh=%{y}<extra></extra>",
           "legendgroup": "",
           "marker": {
            "color": "#636efa",
            "symbol": "circle"
           },
           "mode": "markers",
           "name": "",
           "orientation": "v",
           "showlegend": false,
           "type": "scatter",
           "x": [
            0,
            1,
            2,
            3,
            4,
            5,
            6,
            7,
            8,
            9,
            10,
            11,
            12,
            13,
            14,
            15,
            16,
            17,
            18,
            19,
            20,
            21,
            22,
            23
           ],
           "xaxis": "x",
           "y": [
            69.07,
            59.11,
            58.2,
            57.57,
            57.5,
            57.5,
            57.5,
            59,
            60.1,
            59,
            58.64,
            56.8,
            56.36,
            47.42,
            52.67,
            53.75,
            56.89,
            64.89,
            83.98,
            93.52,
            95.62,
            94.52,
            76.83,
            59.2
           ],
           "yaxis": "y"
          }
         ],
         "name": "2024-01-21 00:00:00"
        },
        {
         "data": [
          {
           "hovertemplate": "fecha=2024-01-22 00:00:00<br>hora=%{x}<br>€/MWh=%{y}<extra></extra>",
           "legendgroup": "",
           "marker": {
            "color": "#636efa",
            "symbol": "circle"
           },
           "mode": "markers",
           "name": "",
           "orientation": "v",
           "showlegend": false,
           "type": "scatter",
           "x": [
            0,
            1,
            2,
            3,
            4,
            5,
            6,
            7,
            8,
            9,
            10,
            11,
            12,
            13,
            14,
            15,
            16,
            17,
            18,
            19,
            20,
            21,
            22,
            23
           ],
           "xaxis": "x",
           "y": [
            47,
            41.8,
            35,
            25,
            28.1,
            40,
            49.01,
            75,
            92.69,
            86.66,
            71.08,
            61.99,
            57.67,
            58.48,
            59.87,
            59.99,
            66.07,
            79.09,
            98.18,
            104.91,
            119,
            103.21,
            94.27,
            75.93
           ],
           "yaxis": "y"
          }
         ],
         "name": "2024-01-22 00:00:00"
        },
        {
         "data": [
          {
           "hovertemplate": "fecha=2024-01-23 00:00:00<br>hora=%{x}<br>€/MWh=%{y}<extra></extra>",
           "legendgroup": "",
           "marker": {
            "color": "#636efa",
            "symbol": "circle"
           },
           "mode": "markers",
           "name": "",
           "orientation": "v",
           "showlegend": false,
           "type": "scatter",
           "x": [
            0,
            1,
            2,
            3,
            4,
            5,
            6,
            7,
            8,
            9,
            10,
            11,
            12,
            13,
            14,
            15,
            16,
            17,
            18,
            19,
            20,
            21,
            22,
            23
           ],
           "xaxis": "x",
           "y": [
            61.1,
            59,
            58.5,
            59.87,
            58.5,
            58.5,
            65.55,
            90.1,
            97.5,
            91.86,
            81,
            66.65,
            61.91,
            61.03,
            62.01,
            64,
            66.62,
            84,
            96.98,
            115,
            129.01,
            106.76,
            92.5,
            84.51
           ],
           "yaxis": "y"
          }
         ],
         "name": "2024-01-23 00:00:00"
        },
        {
         "data": [
          {
           "hovertemplate": "fecha=2024-01-24 00:00:00<br>hora=%{x}<br>€/MWh=%{y}<extra></extra>",
           "legendgroup": "",
           "marker": {
            "color": "#636efa",
            "symbol": "circle"
           },
           "mode": "markers",
           "name": "",
           "orientation": "v",
           "showlegend": false,
           "type": "scatter",
           "x": [
            0,
            1,
            2,
            3,
            4,
            5,
            6,
            7,
            8,
            9,
            10,
            11,
            12,
            13,
            14,
            15,
            16,
            17,
            18,
            19,
            20,
            21,
            22,
            23
           ],
           "xaxis": "x",
           "y": [
            86,
            78.93,
            73.73,
            71.69,
            70.94,
            71.69,
            80.19,
            93.18,
            101.5,
            89.02,
            70.69,
            61.8,
            59.87,
            58.2,
            58.2,
            60.5,
            64,
            88.61,
            94.94,
            150.41,
            152.17,
            103,
            88.04,
            74.86
           ],
           "yaxis": "y"
          }
         ],
         "name": "2024-01-24 00:00:00"
        },
        {
         "data": [
          {
           "hovertemplate": "fecha=2024-01-25 00:00:00<br>hora=%{x}<br>€/MWh=%{y}<extra></extra>",
           "legendgroup": "",
           "marker": {
            "color": "#636efa",
            "symbol": "circle"
           },
           "mode": "markers",
           "name": "",
           "orientation": "v",
           "showlegend": false,
           "type": "scatter",
           "x": [
            0,
            1,
            2,
            3,
            4,
            5,
            6,
            7,
            8,
            9,
            10,
            11,
            12,
            13,
            14,
            15,
            16,
            17,
            18,
            19,
            20,
            21,
            22,
            23
           ],
           "xaxis": "x",
           "y": [
            64.97,
            60.53,
            60,
            55.36,
            57.26,
            63.29,
            72.45,
            83.5,
            95.53,
            89.84,
            74.71,
            65.01,
            64.97,
            64.97,
            65,
            61.85,
            67.67,
            75.59,
            94.72,
            113,
            135.36,
            103.01,
            80.95,
            73.58
           ],
           "yaxis": "y"
          }
         ],
         "name": "2024-01-25 00:00:00"
        },
        {
         "data": [
          {
           "hovertemplate": "fecha=2024-01-26 00:00:00<br>hora=%{x}<br>€/MWh=%{y}<extra></extra>",
           "legendgroup": "",
           "marker": {
            "color": "#636efa",
            "symbol": "circle"
           },
           "mode": "markers",
           "name": "",
           "orientation": "v",
           "showlegend": false,
           "type": "scatter",
           "x": [
            0,
            1,
            2,
            3,
            4,
            5,
            6,
            7,
            8,
            9,
            10,
            11,
            12,
            13,
            14,
            15,
            16,
            17,
            18,
            19,
            20,
            21,
            22,
            23
           ],
           "xaxis": "x",
           "y": [
            63.37,
            65,
            63.86,
            63.86,
            62.48,
            63.86,
            69.57,
            80.02,
            115,
            77.3,
            66.19,
            62.39,
            55.78,
            50.7,
            53.61,
            55.52,
            63.38,
            73.74,
            89.62,
            96.8,
            111.07,
            93,
            74.98,
            70.45
           ],
           "yaxis": "y"
          }
         ],
         "name": "2024-01-26 00:00:00"
        },
        {
         "data": [
          {
           "hovertemplate": "fecha=2024-01-27 00:00:00<br>hora=%{x}<br>€/MWh=%{y}<extra></extra>",
           "legendgroup": "",
           "marker": {
            "color": "#636efa",
            "symbol": "circle"
           },
           "mode": "markers",
           "name": "",
           "orientation": "v",
           "showlegend": false,
           "type": "scatter",
           "x": [
            0,
            1,
            2,
            3,
            4,
            5,
            6,
            7,
            8,
            9,
            10,
            11,
            12,
            13,
            14,
            15,
            16,
            17,
            18,
            19,
            20,
            21,
            22,
            23
           ],
           "xaxis": "x",
           "y": [
            64.97,
            61.06,
            59.05,
            55.9,
            55.9,
            57.22,
            59.36,
            66.19,
            78.09,
            73.4,
            62.01,
            54.4,
            47,
            47.7,
            47.5,
            47,
            55.2,
            74.43,
            95.97,
            92.51,
            92.53,
            89.5,
            75.97,
            72.7
           ],
           "yaxis": "y"
          }
         ],
         "name": "2024-01-27 00:00:00"
        },
        {
         "data": [
          {
           "hovertemplate": "fecha=2024-01-28 00:00:00<br>hora=%{x}<br>€/MWh=%{y}<extra></extra>",
           "legendgroup": "",
           "marker": {
            "color": "#636efa",
            "symbol": "circle"
           },
           "mode": "markers",
           "name": "",
           "orientation": "v",
           "showlegend": false,
           "type": "scatter",
           "x": [
            0,
            1,
            2,
            3,
            4,
            5,
            6,
            7,
            8,
            9,
            10,
            11,
            12,
            13,
            14,
            15,
            16,
            17,
            18,
            19,
            20,
            21,
            22,
            23
           ],
           "xaxis": "x",
           "y": [
            62.03,
            58.2,
            52.9,
            47.21,
            44,
            43.2,
            47.05,
            51.4,
            55.29,
            55.1,
            42,
            37,
            42,
            39.93,
            40.09,
            38.03,
            43.12,
            60.8,
            71.14,
            71.55,
            69.87,
            63.11,
            60.34,
            56
           ],
           "yaxis": "y"
          }
         ],
         "name": "2024-01-28 00:00:00"
        },
        {
         "data": [
          {
           "hovertemplate": "fecha=2024-01-29 00:00:00<br>hora=%{x}<br>€/MWh=%{y}<extra></extra>",
           "legendgroup": "",
           "marker": {
            "color": "#636efa",
            "symbol": "circle"
           },
           "mode": "markers",
           "name": "",
           "orientation": "v",
           "showlegend": false,
           "type": "scatter",
           "x": [
            0,
            1,
            2,
            3,
            4,
            5,
            6,
            7,
            8,
            9,
            10,
            11,
            12,
            13,
            14,
            15,
            16,
            17,
            18,
            19,
            20,
            21,
            22,
            23
           ],
           "xaxis": "x",
           "y": [
            49.97,
            47.26,
            48.12,
            47.97,
            51.58,
            60.06,
            80.66,
            88.7,
            99.26,
            88.39,
            78.9,
            71.27,
            70.24,
            73.81,
            78.03,
            78.78,
            82.87,
            89.86,
            110,
            107.52,
            108.5,
            92.18,
            87,
            80.29
           ],
           "yaxis": "y"
          }
         ],
         "name": "2024-01-29 00:00:00"
        },
        {
         "data": [
          {
           "hovertemplate": "fecha=2024-01-30 00:00:00<br>hora=%{x}<br>€/MWh=%{y}<extra></extra>",
           "legendgroup": "",
           "marker": {
            "color": "#636efa",
            "symbol": "circle"
           },
           "mode": "markers",
           "name": "",
           "orientation": "v",
           "showlegend": false,
           "type": "scatter",
           "x": [
            0,
            1,
            2,
            3,
            4,
            5,
            6,
            7,
            8,
            9,
            10,
            11,
            12,
            13,
            14,
            15,
            16,
            17,
            18,
            19,
            20,
            21,
            22,
            23
           ],
           "xaxis": "x",
           "y": [
            71.94,
            68.64,
            69.37,
            65.1,
            64,
            69.37,
            79.02,
            91.04,
            95.95,
            88.7,
            77.15,
            70.1,
            68.1,
            68.23,
            71.93,
            71.95,
            78.89,
            88.83,
            99.76,
            107,
            123.22,
            95.06,
            88.7,
            78.78
           ],
           "yaxis": "y"
          }
         ],
         "name": "2024-01-30 00:00:00"
        },
        {
         "data": [
          {
           "hovertemplate": "fecha=2024-01-31 00:00:00<br>hora=%{x}<br>€/MWh=%{y}<extra></extra>",
           "legendgroup": "",
           "marker": {
            "color": "#636efa",
            "symbol": "circle"
           },
           "mode": "markers",
           "name": "",
           "orientation": "v",
           "showlegend": false,
           "type": "scatter",
           "x": [
            0,
            1,
            2,
            3,
            4,
            5,
            6,
            7,
            8,
            9,
            10,
            11,
            12,
            13,
            14,
            15,
            16,
            17,
            18,
            19,
            20,
            21,
            22,
            23
           ],
           "xaxis": "x",
           "y": [
            74.09,
            71.48,
            70.89,
            69.82,
            69.25,
            74.01,
            84.44,
            93.29,
            120.23,
            93.23,
            82.98,
            72.19,
            70.01,
            66.5,
            65.8,
            64.95,
            66.26,
            77,
            91,
            119.47,
            168.35,
            94.54,
            85,
            77.52
           ],
           "yaxis": "y"
          }
         ],
         "name": "2024-01-31 00:00:00"
        },
        {
         "data": [
          {
           "hovertemplate": "fecha=2024-02-01 00:00:00<br>hora=%{x}<br>€/MWh=%{y}<extra></extra>",
           "legendgroup": "",
           "marker": {
            "color": "#636efa",
            "symbol": "circle"
           },
           "mode": "markers",
           "name": "",
           "orientation": "v",
           "showlegend": false,
           "type": "scatter",
           "x": [
            0,
            1,
            2,
            3,
            4,
            5,
            6,
            7,
            8,
            9,
            10,
            11,
            12,
            13,
            14,
            15,
            16,
            17,
            18,
            19,
            20,
            21,
            22,
            23
           ],
           "xaxis": "x",
           "y": [
            69,
            60.44,
            55.1,
            54.6,
            53.47,
            59.82,
            72.42,
            88.76,
            95.76,
            88.77,
            62.8,
            55.98,
            54.44,
            54,
            54.44,
            54.6,
            60.44,
            76,
            101.89,
            99.05,
            94,
            83.66,
            82.13,
            71.19
           ],
           "yaxis": "y"
          }
         ],
         "name": "2024-02-01 00:00:00"
        },
        {
         "data": [
          {
           "hovertemplate": "fecha=2024-02-02 00:00:00<br>hora=%{x}<br>€/MWh=%{y}<extra></extra>",
           "legendgroup": "",
           "marker": {
            "color": "#636efa",
            "symbol": "circle"
           },
           "mode": "markers",
           "name": "",
           "orientation": "v",
           "showlegend": false,
           "type": "scatter",
           "x": [
            0,
            1,
            2,
            3,
            4,
            5,
            6,
            7,
            8,
            9,
            10,
            11,
            12,
            13,
            14,
            15,
            16,
            17,
            18,
            19,
            20,
            21,
            22,
            23
           ],
           "xaxis": "x",
           "y": [
            62.95,
            60.05,
            58,
            54.69,
            52.41,
            55,
            61,
            80.34,
            90.75,
            83.98,
            61.42,
            54,
            54,
            55.5,
            53.3,
            55.91,
            55.5,
            70.95,
            80.16,
            83.83,
            83.98,
            76.46,
            68.44,
            55
           ],
           "yaxis": "y"
          }
         ],
         "name": "2024-02-02 00:00:00"
        },
        {
         "data": [
          {
           "hovertemplate": "fecha=2024-02-03 00:00:00<br>hora=%{x}<br>€/MWh=%{y}<extra></extra>",
           "legendgroup": "",
           "marker": {
            "color": "#636efa",
            "symbol": "circle"
           },
           "mode": "markers",
           "name": "",
           "orientation": "v",
           "showlegend": false,
           "type": "scatter",
           "x": [
            0,
            1,
            2,
            3,
            4,
            5,
            6,
            7,
            8,
            9,
            10,
            11,
            12,
            13,
            14,
            15,
            16,
            17,
            18,
            19,
            20,
            21,
            22,
            23
           ],
           "xaxis": "x",
           "y": [
            56.44,
            52.71,
            51.18,
            50.83,
            51.16,
            52.57,
            53.5,
            56.8,
            63,
            59.1,
            53.28,
            45.27,
            41.58,
            39.81,
            41.76,
            46.44,
            53,
            64.87,
            81.43,
            87.76,
            95.68,
            92.71,
            86.11,
            70.79
           ],
           "yaxis": "y"
          }
         ],
         "name": "2024-02-03 00:00:00"
        },
        {
         "data": [
          {
           "hovertemplate": "fecha=2024-02-04 00:00:00<br>hora=%{x}<br>€/MWh=%{y}<extra></extra>",
           "legendgroup": "",
           "marker": {
            "color": "#636efa",
            "symbol": "circle"
           },
           "mode": "markers",
           "name": "",
           "orientation": "v",
           "showlegend": false,
           "type": "scatter",
           "x": [
            0,
            1,
            2,
            3,
            4,
            5,
            6,
            7,
            8,
            9,
            10,
            11,
            12,
            13,
            14,
            15,
            16,
            17,
            18,
            19,
            20,
            21,
            22,
            23
           ],
           "xaxis": "x",
           "y": [
            66.62,
            64.78,
            64.91,
            63.92,
            61.75,
            61.75,
            60,
            59.8,
            63.92,
            53,
            44.7,
            40,
            34.28,
            35.65,
            35,
            32,
            43.35,
            54.93,
            77.5,
            89,
            129.81,
            119.77,
            82.94,
            75
           ],
           "yaxis": "y"
          }
         ],
         "name": "2024-02-04 00:00:00"
        },
        {
         "data": [
          {
           "hovertemplate": "fecha=2024-02-05 00:00:00<br>hora=%{x}<br>€/MWh=%{y}<extra></extra>",
           "legendgroup": "",
           "marker": {
            "color": "#636efa",
            "symbol": "circle"
           },
           "mode": "markers",
           "name": "",
           "orientation": "v",
           "showlegend": false,
           "type": "scatter",
           "x": [
            0,
            1,
            2,
            3,
            4,
            5,
            6,
            7,
            8,
            9,
            10,
            11,
            12,
            13,
            14,
            15,
            16,
            17,
            18,
            19,
            20,
            21,
            22,
            23
           ],
           "xaxis": "x",
           "y": [
            71.66,
            73,
            69.1,
            67.87,
            67.87,
            69.78,
            73.22,
            83.15,
            98.59,
            87.36,
            76.68,
            69.74,
            60,
            50,
            51,
            59.71,
            68.8,
            76.44,
            89.13,
            129.47,
            181.26,
            111.36,
            81.06,
            75.75
           ],
           "yaxis": "y"
          }
         ],
         "name": "2024-02-05 00:00:00"
        },
        {
         "data": [
          {
           "hovertemplate": "fecha=2024-02-06 00:00:00<br>hora=%{x}<br>€/MWh=%{y}<extra></extra>",
           "legendgroup": "",
           "marker": {
            "color": "#636efa",
            "symbol": "circle"
           },
           "mode": "markers",
           "name": "",
           "orientation": "v",
           "showlegend": false,
           "type": "scatter",
           "x": [
            0,
            1,
            2,
            3,
            4,
            5,
            6,
            7,
            8,
            9,
            10,
            11,
            12,
            13,
            14,
            15,
            16,
            17,
            18,
            19,
            20,
            21,
            22,
            23
           ],
           "xaxis": "x",
           "y": [
            74.5,
            75,
            70.75,
            68.88,
            65.1,
            68.88,
            74.5,
            82.06,
            121.06,
            96.06,
            79.61,
            72.48,
            71,
            56.47,
            51.5,
            56.44,
            61.33,
            71,
            78.77,
            89.01,
            88.87,
            78.28,
            69.03,
            56.09
           ],
           "yaxis": "y"
          }
         ],
         "name": "2024-02-06 00:00:00"
        },
        {
         "data": [
          {
           "hovertemplate": "fecha=2024-02-07 00:00:00<br>hora=%{x}<br>€/MWh=%{y}<extra></extra>",
           "legendgroup": "",
           "marker": {
            "color": "#636efa",
            "symbol": "circle"
           },
           "mode": "markers",
           "name": "",
           "orientation": "v",
           "showlegend": false,
           "type": "scatter",
           "x": [
            0,
            1,
            2,
            3,
            4,
            5,
            6,
            7,
            8,
            9,
            10,
            11,
            12,
            13,
            14,
            15,
            16,
            17,
            18,
            19,
            20,
            21,
            22,
            23
           ],
           "xaxis": "x",
           "y": [
            41.7,
            39,
            37.45,
            33.21,
            21.01,
            38,
            47.28,
            69.99,
            74.49,
            68.61,
            66.04,
            59.2,
            45,
            40.4,
            35,
            28.33,
            37.45,
            41,
            57.84,
            72.76,
            76.89,
            67.72,
            58.42,
            45.8
           ],
           "yaxis": "y"
          }
         ],
         "name": "2024-02-07 00:00:00"
        },
        {
         "data": [
          {
           "hovertemplate": "fecha=2024-02-08 00:00:00<br>hora=%{x}<br>€/MWh=%{y}<extra></extra>",
           "legendgroup": "",
           "marker": {
            "color": "#636efa",
            "symbol": "circle"
           },
           "mode": "markers",
           "name": "",
           "orientation": "v",
           "showlegend": false,
           "type": "scatter",
           "x": [
            0,
            1,
            2,
            3,
            4,
            5,
            6,
            7,
            8,
            9,
            10,
            11,
            12,
            13,
            14,
            15,
            16,
            17,
            18,
            19,
            20,
            21,
            22,
            23
           ],
           "xaxis": "x",
           "y": [
            46.73,
            39,
            33.8,
            32.45,
            31.7,
            32.45,
            41.5,
            50,
            57,
            42.13,
            37,
            35.22,
            38,
            31.7,
            33.8,
            33.08,
            39.4,
            41.5,
            44.23,
            40,
            40.5,
            37.94,
            40.19,
            28.7
           ],
           "yaxis": "y"
          }
         ],
         "name": "2024-02-08 00:00:00"
        },
        {
         "data": [
          {
           "hovertemplate": "fecha=2024-02-09 00:00:00<br>hora=%{x}<br>€/MWh=%{y}<extra></extra>",
           "legendgroup": "",
           "marker": {
            "color": "#636efa",
            "symbol": "circle"
           },
           "mode": "markers",
           "name": "",
           "orientation": "v",
           "showlegend": false,
           "type": "scatter",
           "x": [
            0,
            1,
            2,
            3,
            4,
            5,
            6,
            7,
            8,
            9,
            10,
            11,
            12,
            13,
            14,
            15,
            16,
            17,
            18,
            19,
            20,
            21,
            22,
            23
           ],
           "xaxis": "x",
           "y": [
            22.04,
            11.17,
            5,
            3.2,
            3.2,
            11.14,
            29.62,
            48.92,
            57.84,
            65,
            66.35,
            57.84,
            50.56,
            46.73,
            47.99,
            46.73,
            44.99,
            42,
            44.46,
            59.95,
            66.35,
            55.02,
            43.13,
            35
           ],
           "yaxis": "y"
          }
         ],
         "name": "2024-02-09 00:00:00"
        },
        {
         "data": [
          {
           "hovertemplate": "fecha=2024-02-10 00:00:00<br>hora=%{x}<br>€/MWh=%{y}<extra></extra>",
           "legendgroup": "",
           "marker": {
            "color": "#636efa",
            "symbol": "circle"
           },
           "mode": "markers",
           "name": "",
           "orientation": "v",
           "showlegend": false,
           "type": "scatter",
           "x": [
            0,
            1,
            2,
            3,
            4,
            5,
            6,
            7,
            8,
            9,
            10,
            11,
            12,
            13,
            14,
            15,
            16,
            17,
            18,
            19,
            20,
            21,
            22,
            23
           ],
           "xaxis": "x",
           "y": [
            26.78,
            14,
            5,
            3.2,
            3.2,
            3.2,
            3.2,
            3.2,
            3.2,
            3.2,
            0.43,
            0,
            0,
            0,
            0,
            0,
            0,
            0.43,
            3.2,
            25.01,
            36.46,
            37.9,
            32.68,
            23
           ],
           "yaxis": "y"
          }
         ],
         "name": "2024-02-10 00:00:00"
        },
        {
         "data": [
          {
           "hovertemplate": "fecha=2024-02-11 00:00:00<br>hora=%{x}<br>€/MWh=%{y}<extra></extra>",
           "legendgroup": "",
           "marker": {
            "color": "#636efa",
            "symbol": "circle"
           },
           "mode": "markers",
           "name": "",
           "orientation": "v",
           "showlegend": false,
           "type": "scatter",
           "x": [
            0,
            1,
            2,
            3,
            4,
            5,
            6,
            7,
            8,
            9,
            10,
            11,
            12,
            13,
            14,
            15,
            16,
            17,
            18,
            19,
            20,
            21,
            22,
            23
           ],
           "xaxis": "x",
           "y": [
            35,
            23.26,
            22.01,
            20.5,
            25,
            24.98,
            37.9,
            40.19,
            41,
            42.1,
            43.46,
            40.19,
            39.9,
            40.19,
            39.98,
            39.99,
            46.73,
            61.94,
            83.13,
            83.98,
            76.82,
            70.01,
            56.94,
            40.7
           ],
           "yaxis": "y"
          }
         ],
         "name": "2024-02-11 00:00:00"
        },
        {
         "data": [
          {
           "hovertemplate": "fecha=2024-02-12 00:00:00<br>hora=%{x}<br>€/MWh=%{y}<extra></extra>",
           "legendgroup": "",
           "marker": {
            "color": "#636efa",
            "symbol": "circle"
           },
           "mode": "markers",
           "name": "",
           "orientation": "v",
           "showlegend": false,
           "type": "scatter",
           "x": [
            0,
            1,
            2,
            3,
            4,
            5,
            6,
            7,
            8,
            9,
            10,
            11,
            12,
            13,
            14,
            15,
            16,
            17,
            18,
            19,
            20,
            21,
            22,
            23
           ],
           "xaxis": "x",
           "y": [
            39.23,
            38.12,
            35,
            33.76,
            33.76,
            35.1,
            37.4,
            39.88,
            50.5,
            46.78,
            40,
            35.6,
            33.76,
            35.6,
            35,
            35,
            30,
            40,
            59.34,
            88.21,
            79.15,
            71.54,
            65.87,
            61.9
           ],
           "yaxis": "y"
          }
         ],
         "name": "2024-02-12 00:00:00"
        },
        {
         "data": [
          {
           "hovertemplate": "fecha=2024-02-13 00:00:00<br>hora=%{x}<br>€/MWh=%{y}<extra></extra>",
           "legendgroup": "",
           "marker": {
            "color": "#636efa",
            "symbol": "circle"
           },
           "mode": "markers",
           "name": "",
           "orientation": "v",
           "showlegend": false,
           "type": "scatter",
           "x": [
            0,
            1,
            2,
            3,
            4,
            5,
            6,
            7,
            8,
            9,
            10,
            11,
            12,
            13,
            14,
            15,
            16,
            17,
            18,
            19,
            20,
            21,
            22,
            23
           ],
           "xaxis": "x",
           "y": [
            53.87,
            41.1,
            40,
            40,
            40,
            42.61,
            52,
            65.91,
            87.92,
            66.8,
            65,
            63.87,
            60.53,
            60.26,
            60.52,
            60.52,
            66.5,
            68.61,
            87.92,
            91.81,
            82.14,
            73.17,
            69.18,
            65
           ],
           "yaxis": "y"
          }
         ],
         "name": "2024-02-13 00:00:00"
        },
        {
         "data": [
          {
           "hovertemplate": "fecha=2024-02-14 00:00:00<br>hora=%{x}<br>€/MWh=%{y}<extra></extra>",
           "legendgroup": "",
           "marker": {
            "color": "#636efa",
            "symbol": "circle"
           },
           "mode": "markers",
           "name": "",
           "orientation": "v",
           "showlegend": false,
           "type": "scatter",
           "x": [
            0,
            1,
            2,
            3,
            4,
            5,
            6,
            7,
            8,
            9,
            10,
            11,
            12,
            13,
            14,
            15,
            16,
            17,
            18,
            19,
            20,
            21,
            22,
            23
           ],
           "xaxis": "x",
           "y": [
            60.63,
            59.34,
            55.76,
            54.79,
            55.06,
            59.21,
            64.95,
            74.28,
            80.56,
            69.65,
            59.87,
            47,
            46.1,
            41.1,
            39.88,
            40,
            43,
            59.93,
            65,
            85.16,
            77.1,
            69.59,
            61.77,
            59.93
           ],
           "yaxis": "y"
          }
         ],
         "name": "2024-02-14 00:00:00"
        },
        {
         "data": [
          {
           "hovertemplate": "fecha=2024-02-15 00:00:00<br>hora=%{x}<br>€/MWh=%{y}<extra></extra>",
           "legendgroup": "",
           "marker": {
            "color": "#636efa",
            "symbol": "circle"
           },
           "mode": "markers",
           "name": "",
           "orientation": "v",
           "showlegend": false,
           "type": "scatter",
           "x": [
            0,
            1,
            2,
            3,
            4,
            5,
            6,
            7,
            8,
            9,
            10,
            11,
            12,
            13,
            14,
            15,
            16,
            17,
            18,
            19,
            20,
            21,
            22,
            23
           ],
           "xaxis": "x",
           "y": [
            50.5,
            39.88,
            36.37,
            36.37,
            36.6,
            36.87,
            47,
            62.53,
            62.53,
            59.93,
            54.79,
            55.99,
            52.65,
            48.01,
            45.56,
            46.89,
            45.39,
            49,
            59.5,
            64.44,
            63.29,
            60,
            59.5,
            55.68
           ],
           "yaxis": "y"
          }
         ],
         "name": "2024-02-15 00:00:00"
        },
        {
         "data": [
          {
           "hovertemplate": "fecha=2024-02-16 00:00:00<br>hora=%{x}<br>€/MWh=%{y}<extra></extra>",
           "legendgroup": "",
           "marker": {
            "color": "#636efa",
            "symbol": "circle"
           },
           "mode": "markers",
           "name": "",
           "orientation": "v",
           "showlegend": false,
           "type": "scatter",
           "x": [
            0,
            1,
            2,
            3,
            4,
            5,
            6,
            7,
            8,
            9,
            10,
            11,
            12,
            13,
            14,
            15,
            16,
            17,
            18,
            19,
            20,
            21,
            22,
            23
           ],
           "xaxis": "x",
           "y": [
            51.76,
            51.08,
            49.92,
            47.06,
            42,
            46,
            51.57,
            60.5,
            66.06,
            59,
            48.73,
            47.06,
            42.1,
            44.2,
            42.1,
            42.1,
            47.06,
            52.08,
            63.22,
            77.93,
            73.09,
            69.66,
            65.94,
            61.6
           ],
           "yaxis": "y"
          }
         ],
         "name": "2024-02-16 00:00:00"
        },
        {
         "data": [
          {
           "hovertemplate": "fecha=2024-02-17 00:00:00<br>hora=%{x}<br>€/MWh=%{y}<extra></extra>",
           "legendgroup": "",
           "marker": {
            "color": "#636efa",
            "symbol": "circle"
           },
           "mode": "markers",
           "name": "",
           "orientation": "v",
           "showlegend": false,
           "type": "scatter",
           "x": [
            0,
            1,
            2,
            3,
            4,
            5,
            6,
            7,
            8,
            9,
            10,
            11,
            12,
            13,
            14,
            15,
            16,
            17,
            18,
            19,
            20,
            21,
            22,
            23
           ],
           "xaxis": "x",
           "y": [
            46.8,
            46,
            46,
            45,
            45,
            44.23,
            44.23,
            45.27,
            46.34,
            44.5,
            40,
            35,
            33.2,
            33.5,
            32.4,
            30.7,
            33.5,
            45.27,
            65.68,
            82.93,
            75.03,
            70.75,
            68.2,
            69.11
           ],
           "yaxis": "y"
          }
         ],
         "name": "2024-02-17 00:00:00"
        },
        {
         "data": [
          {
           "hovertemplate": "fecha=2024-02-18 00:00:00<br>hora=%{x}<br>€/MWh=%{y}<extra></extra>",
           "legendgroup": "",
           "marker": {
            "color": "#636efa",
            "symbol": "circle"
           },
           "mode": "markers",
           "name": "",
           "orientation": "v",
           "showlegend": false,
           "type": "scatter",
           "x": [
            0,
            1,
            2,
            3,
            4,
            5,
            6,
            7,
            8,
            9,
            10,
            11,
            12,
            13,
            14,
            15,
            16,
            17,
            18,
            19,
            20,
            21,
            22,
            23
           ],
           "xaxis": "x",
           "y": [
            59.98,
            54.81,
            51.05,
            49.16,
            47.72,
            48.47,
            46.02,
            48.97,
            47.28,
            43.03,
            40,
            35.6,
            34.8,
            33.5,
            33.2,
            30.18,
            32.2,
            41.2,
            51.96,
            63.91,
            64.71,
            59.83,
            57.33,
            53.94
           ],
           "yaxis": "y"
          }
         ],
         "name": "2024-02-18 00:00:00"
        },
        {
         "data": [
          {
           "hovertemplate": "fecha=2024-02-19 00:00:00<br>hora=%{x}<br>€/MWh=%{y}<extra></extra>",
           "legendgroup": "",
           "marker": {
            "color": "#636efa",
            "symbol": "circle"
           },
           "mode": "markers",
           "name": "",
           "orientation": "v",
           "showlegend": false,
           "type": "scatter",
           "x": [
            0,
            1,
            2,
            3,
            4,
            5,
            6,
            7,
            8,
            9,
            10,
            11,
            12,
            13,
            14,
            15,
            16,
            17,
            18,
            19,
            20,
            21,
            22,
            23
           ],
           "xaxis": "x",
           "y": [
            44,
            44.33,
            44.63,
            43.91,
            43.67,
            41.5,
            44,
            55,
            59.04,
            44,
            39.5,
            31.23,
            30.6,
            30.6,
            30,
            27.79,
            31.23,
            43.22,
            53.52,
            66.28,
            72.26,
            65.22,
            54.1,
            53.52
           ],
           "yaxis": "y"
          }
         ],
         "name": "2024-02-19 00:00:00"
        },
        {
         "data": [
          {
           "hovertemplate": "fecha=2024-02-20 00:00:00<br>hora=%{x}<br>€/MWh=%{y}<extra></extra>",
           "legendgroup": "",
           "marker": {
            "color": "#636efa",
            "symbol": "circle"
           },
           "mode": "markers",
           "name": "",
           "orientation": "v",
           "showlegend": false,
           "type": "scatter",
           "x": [
            0,
            1,
            2,
            3,
            4,
            5,
            6,
            7,
            8,
            9,
            10,
            11,
            12,
            13,
            14,
            15,
            16,
            17,
            18,
            19,
            20,
            21,
            22,
            23
           ],
           "xaxis": "x",
           "y": [
            43.74,
            41.43,
            37.88,
            37,
            38,
            41,
            47.96,
            61,
            56.28,
            47.67,
            32.2,
            28.6,
            28.76,
            28.76,
            28.6,
            29.68,
            30.62,
            43.06,
            72.64,
            75.44,
            181,
            119.47,
            63.16,
            54.76
           ],
           "yaxis": "y"
          }
         ],
         "name": "2024-02-20 00:00:00"
        },
        {
         "data": [
          {
           "hovertemplate": "fecha=2024-02-21 00:00:00<br>hora=%{x}<br>€/MWh=%{y}<extra></extra>",
           "legendgroup": "",
           "marker": {
            "color": "#636efa",
            "symbol": "circle"
           },
           "mode": "markers",
           "name": "",
           "orientation": "v",
           "showlegend": false,
           "type": "scatter",
           "x": [
            0,
            1,
            2,
            3,
            4,
            5,
            6,
            7,
            8,
            9,
            10,
            11,
            12,
            13,
            14,
            15,
            16,
            17,
            18,
            19,
            20,
            21,
            22,
            23
           ],
           "xaxis": "x",
           "y": [
            52.84,
            49.5,
            46.99,
            44.95,
            45.68,
            50.35,
            50.98,
            69.6,
            76.7,
            48.77,
            35,
            32.72,
            33.2,
            30,
            28.6,
            28.6,
            32,
            36,
            47.67,
            63.47,
            54.76,
            47.91,
            43.76,
            37.14
           ],
           "yaxis": "y"
          }
         ],
         "name": "2024-02-21 00:00:00"
        },
        {
         "data": [
          {
           "hovertemplate": "fecha=2024-02-22 00:00:00<br>hora=%{x}<br>€/MWh=%{y}<extra></extra>",
           "legendgroup": "",
           "marker": {
            "color": "#636efa",
            "symbol": "circle"
           },
           "mode": "markers",
           "name": "",
           "orientation": "v",
           "showlegend": false,
           "type": "scatter",
           "x": [
            0,
            1,
            2,
            3,
            4,
            5,
            6,
            7,
            8,
            9,
            10,
            11,
            12,
            13,
            14,
            15,
            16,
            17,
            18,
            19,
            20,
            21,
            22,
            23
           ],
           "xaxis": "x",
           "y": [
            22.73,
            16.29,
            14,
            14,
            11.27,
            11.27,
            16.17,
            14.69,
            16.2,
            13.75,
            10.07,
            8.87,
            3.5,
            3.2,
            3.2,
            3.2,
            5,
            9,
            10.07,
            9.99,
            11.8,
            13,
            10.07,
            5.67
           ],
           "yaxis": "y"
          }
         ],
         "name": "2024-02-22 00:00:00"
        },
        {
         "data": [
          {
           "hovertemplate": "fecha=2024-02-23 00:00:00<br>hora=%{x}<br>€/MWh=%{y}<extra></extra>",
           "legendgroup": "",
           "marker": {
            "color": "#636efa",
            "symbol": "circle"
           },
           "mode": "markers",
           "name": "",
           "orientation": "v",
           "showlegend": false,
           "type": "scatter",
           "x": [
            0,
            1,
            2,
            3,
            4,
            5,
            6,
            7,
            8,
            9,
            10,
            11,
            12,
            13,
            14,
            15,
            16,
            17,
            18,
            19,
            20,
            21,
            22,
            23
           ],
           "xaxis": "x",
           "y": [
            9.57,
            4.09,
            3.2,
            1.83,
            2.58,
            3.2,
            6.8,
            11,
            11.22,
            6.8,
            3.2,
            3.2,
            3,
            0.43,
            0.01,
            0.01,
            0.43,
            3.2,
            11.17,
            15.1,
            17.15,
            18.36,
            13.94,
            11.69
           ],
           "yaxis": "y"
          }
         ],
         "name": "2024-02-23 00:00:00"
        },
        {
         "data": [
          {
           "hovertemplate": "fecha=2024-02-24 00:00:00<br>hora=%{x}<br>€/MWh=%{y}<extra></extra>",
           "legendgroup": "",
           "marker": {
            "color": "#636efa",
            "symbol": "circle"
           },
           "mode": "markers",
           "name": "",
           "orientation": "v",
           "showlegend": false,
           "type": "scatter",
           "x": [
            0,
            1,
            2,
            3,
            4,
            5,
            6,
            7,
            8,
            9,
            10,
            11,
            12,
            13,
            14,
            15,
            16,
            17,
            18,
            19,
            20,
            21,
            22,
            23
           ],
           "xaxis": "x",
           "y": [
            7.41,
            5,
            3.2,
            4.2,
            5,
            5,
            6.2,
            8.18,
            7.41,
            3.7,
            3.2,
            0,
            0,
            0,
            0,
            0,
            0,
            3.2,
            8.22,
            15.83,
            32.37,
            25,
            14,
            9.48
           ],
           "yaxis": "y"
          }
         ],
         "name": "2024-02-24 00:00:00"
        },
        {
         "data": [
          {
           "hovertemplate": "fecha=2024-02-25 00:00:00<br>hora=%{x}<br>€/MWh=%{y}<extra></extra>",
           "legendgroup": "",
           "marker": {
            "color": "#636efa",
            "symbol": "circle"
           },
           "mode": "markers",
           "name": "",
           "orientation": "v",
           "showlegend": false,
           "type": "scatter",
           "x": [
            0,
            1,
            2,
            3,
            4,
            5,
            6,
            7,
            8,
            9,
            10,
            11,
            12,
            13,
            14,
            15,
            16,
            17,
            18,
            19,
            20,
            21,
            22,
            23
           ],
           "xaxis": "x",
           "y": [
            4.3,
            3.2,
            3.2,
            3.2,
            3.2,
            3,
            3.2,
            3.2,
            3.2,
            3.2,
            3.2,
            3.2,
            0.43,
            0.43,
            0.43,
            0,
            0.01,
            2.33,
            3.3,
            4.82,
            7,
            7.2,
            5,
            3.2
           ],
           "yaxis": "y"
          }
         ],
         "name": "2024-02-25 00:00:00"
        },
        {
         "data": [
          {
           "hovertemplate": "fecha=2024-02-26 00:00:00<br>hora=%{x}<br>€/MWh=%{y}<extra></extra>",
           "legendgroup": "",
           "marker": {
            "color": "#636efa",
            "symbol": "circle"
           },
           "mode": "markers",
           "name": "",
           "orientation": "v",
           "showlegend": false,
           "type": "scatter",
           "x": [
            0,
            1,
            2,
            3,
            4,
            5,
            6,
            7,
            8,
            9,
            10,
            11,
            12,
            13,
            14,
            15,
            16,
            17,
            18,
            19,
            20,
            21,
            22,
            23
           ],
           "xaxis": "x",
           "y": [
            3.2,
            3.2,
            0.1,
            0.1,
            0.1,
            3,
            3.2,
            11.24,
            10.5,
            3.35,
            3.2,
            3.2,
            0.43,
            0.43,
            0.01,
            0,
            0.2,
            3.2,
            3.21,
            10,
            11.75,
            10,
            4.7,
            3.3
           ],
           "yaxis": "y"
          }
         ],
         "name": "2024-02-26 00:00:00"
        },
        {
         "data": [
          {
           "hovertemplate": "fecha=2024-02-27 00:00:00<br>hora=%{x}<br>€/MWh=%{y}<extra></extra>",
           "legendgroup": "",
           "marker": {
            "color": "#636efa",
            "symbol": "circle"
           },
           "mode": "markers",
           "name": "",
           "orientation": "v",
           "showlegend": false,
           "type": "scatter",
           "x": [
            0,
            1,
            2,
            3,
            4,
            5,
            6,
            7,
            8,
            9,
            10,
            11,
            12,
            13,
            14,
            15,
            16,
            17,
            18,
            19,
            20,
            21,
            22,
            23
           ],
           "xaxis": "x",
           "y": [
            2.58,
            1,
            0,
            0,
            0,
            0,
            3.2,
            4.38,
            4.8,
            3.2,
            0.43,
            0,
            0,
            0,
            0,
            0,
            0.43,
            1.8,
            4.51,
            10,
            25,
            14,
            6.56,
            5.83
           ],
           "yaxis": "y"
          }
         ],
         "name": "2024-02-27 00:00:00"
        },
        {
         "data": [
          {
           "hovertemplate": "fecha=2024-02-28 00:00:00<br>hora=%{x}<br>€/MWh=%{y}<extra></extra>",
           "legendgroup": "",
           "marker": {
            "color": "#636efa",
            "symbol": "circle"
           },
           "mode": "markers",
           "name": "",
           "orientation": "v",
           "showlegend": false,
           "type": "scatter",
           "x": [
            0,
            1,
            2,
            3,
            4,
            5,
            6,
            7,
            8,
            9,
            10,
            11,
            12,
            13,
            14,
            15,
            16,
            17,
            18,
            19,
            20,
            21,
            22,
            23
           ],
           "xaxis": "x",
           "y": [
            3.2,
            3.2,
            3.2,
            3.2,
            3.2,
            3.2,
            3.2,
            5.68,
            5.9,
            3.2,
            0.43,
            0,
            0,
            0,
            0,
            0,
            0,
            3.2,
            10.54,
            25,
            66.96,
            50,
            19.71,
            11.29
           ],
           "yaxis": "y"
          }
         ],
         "name": "2024-02-28 00:00:00"
        },
        {
         "data": [
          {
           "hovertemplate": "fecha=2024-02-29 00:00:00<br>hora=%{x}<br>€/MWh=%{y}<extra></extra>",
           "legendgroup": "",
           "marker": {
            "color": "#636efa",
            "symbol": "circle"
           },
           "mode": "markers",
           "name": "",
           "orientation": "v",
           "showlegend": false,
           "type": "scatter",
           "x": [
            0,
            1,
            2,
            3,
            4,
            5,
            6,
            7,
            8,
            9,
            10,
            11,
            12,
            13,
            14,
            15,
            16,
            17,
            18,
            19,
            20,
            21,
            22,
            23
           ],
           "xaxis": "x",
           "y": [
            14.67,
            10,
            6.48,
            6,
            5.68,
            5.83,
            5.6,
            10.67,
            10,
            5.9,
            3.2,
            0.1,
            0,
            0,
            0,
            0,
            0,
            0.01,
            3.28,
            5,
            7.97,
            6.33,
            5,
            3.4
           ],
           "yaxis": "y"
          }
         ],
         "name": "2024-02-29 00:00:00"
        },
        {
         "data": [
          {
           "hovertemplate": "fecha=2024-03-01 00:00:00<br>hora=%{x}<br>€/MWh=%{y}<extra></extra>",
           "legendgroup": "",
           "marker": {
            "color": "#636efa",
            "symbol": "circle"
           },
           "mode": "markers",
           "name": "",
           "orientation": "v",
           "showlegend": false,
           "type": "scatter",
           "x": [
            0,
            1,
            2,
            3,
            4,
            5,
            6,
            7,
            8,
            9,
            10,
            11,
            12,
            13,
            14,
            15,
            16,
            17,
            18,
            19,
            20,
            21,
            22,
            23
           ],
           "xaxis": "x",
           "y": [
            2.17,
            0.5,
            0.2,
            0.1,
            0.01,
            0.5,
            3,
            3.25,
            3.25,
            3.2,
            0,
            0,
            0,
            0,
            0,
            0,
            0,
            0.84,
            3.25,
            5.68,
            10.1,
            6.48,
            5,
            3.8
           ],
           "yaxis": "y"
          }
         ],
         "name": "2024-03-01 00:00:00"
        },
        {
         "data": [
          {
           "hovertemplate": "fecha=2024-03-02 00:00:00<br>hora=%{x}<br>€/MWh=%{y}<extra></extra>",
           "legendgroup": "",
           "marker": {
            "color": "#636efa",
            "symbol": "circle"
           },
           "mode": "markers",
           "name": "",
           "orientation": "v",
           "showlegend": false,
           "type": "scatter",
           "x": [
            0,
            1,
            2,
            3,
            4,
            5,
            6,
            7,
            8,
            9,
            10,
            11,
            12,
            13,
            14,
            15,
            16,
            17,
            18,
            19,
            20,
            21,
            22,
            23
           ],
           "xaxis": "x",
           "y": [
            3.2,
            2,
            0.5,
            0.01,
            0.01,
            0,
            0.1,
            2.1,
            2.17,
            2.05,
            1.68,
            0.01,
            0,
            0.01,
            0.01,
            0.01,
            1.02,
            2.1,
            3.2,
            8.12,
            31.25,
            30.6,
            5.6,
            4.2
           ],
           "yaxis": "y"
          }
         ],
         "name": "2024-03-02 00:00:00"
        },
        {
         "data": [
          {
           "hovertemplate": "fecha=2024-03-03 00:00:00<br>hora=%{x}<br>€/MWh=%{y}<extra></extra>",
           "legendgroup": "",
           "marker": {
            "color": "#636efa",
            "symbol": "circle"
           },
           "mode": "markers",
           "name": "",
           "orientation": "v",
           "showlegend": false,
           "type": "scatter",
           "x": [
            0,
            1,
            2,
            3,
            4,
            5,
            6,
            7,
            8,
            9,
            10,
            11,
            12,
            13,
            14,
            15,
            16,
            17,
            18,
            19,
            20,
            21,
            22,
            23
           ],
           "xaxis": "x",
           "y": [
            1.8,
            0.1,
            0,
            0,
            0,
            0,
            0.01,
            0.19,
            0,
            0,
            0,
            0,
            0,
            0,
            0,
            0,
            0,
            0,
            2.06,
            7.98,
            29.6,
            30.6,
            14,
            4.6
           ],
           "yaxis": "y"
          }
         ],
         "name": "2024-03-03 00:00:00"
        },
        {
         "data": [
          {
           "hovertemplate": "fecha=2024-03-04 00:00:00<br>hora=%{x}<br>€/MWh=%{y}<extra></extra>",
           "legendgroup": "",
           "marker": {
            "color": "#636efa",
            "symbol": "circle"
           },
           "mode": "markers",
           "name": "",
           "orientation": "v",
           "showlegend": false,
           "type": "scatter",
           "x": [
            0,
            1,
            2,
            3,
            4,
            5,
            6,
            7,
            8,
            9,
            10,
            11,
            12,
            13,
            14,
            15,
            16,
            17,
            18,
            19,
            20,
            21,
            22,
            23
           ],
           "xaxis": "x",
           "y": [
            6,
            3.2,
            3.2,
            3.2,
            3.19,
            3.2,
            3.2,
            20,
            25,
            15,
            7.6,
            3.2,
            3.2,
            2.91,
            1.68,
            1,
            2.33,
            3.2,
            5,
            14,
            25,
            17.98,
            12.5,
            6.1
           ],
           "yaxis": "y"
          }
         ],
         "name": "2024-03-04 00:00:00"
        },
        {
         "data": [
          {
           "hovertemplate": "fecha=2024-03-05 00:00:00<br>hora=%{x}<br>€/MWh=%{y}<extra></extra>",
           "legendgroup": "",
           "marker": {
            "color": "#636efa",
            "symbol": "circle"
           },
           "mode": "markers",
           "name": "",
           "orientation": "v",
           "showlegend": false,
           "type": "scatter",
           "x": [
            0,
            1,
            2,
            3,
            4,
            5,
            6,
            7,
            8,
            9,
            10,
            11,
            12,
            13,
            14,
            15,
            16,
            17,
            18,
            19,
            20,
            21,
            22,
            23
           ],
           "xaxis": "x",
           "y": [
            7.36,
            4.66,
            4.66,
            5,
            6,
            8.23,
            24.1,
            50.01,
            61.45,
            17.63,
            8,
            4.6,
            4,
            3.9,
            3.9,
            4,
            5.83,
            17,
            50.51,
            125.17,
            129.47,
            99.12,
            85.41,
            72.86
           ],
           "yaxis": "y"
          }
         ],
         "name": "2024-03-05 00:00:00"
        },
        {
         "data": [
          {
           "hovertemplate": "fecha=2024-03-06 00:00:00<br>hora=%{x}<br>€/MWh=%{y}<extra></extra>",
           "legendgroup": "",
           "marker": {
            "color": "#636efa",
            "symbol": "circle"
           },
           "mode": "markers",
           "name": "",
           "orientation": "v",
           "showlegend": false,
           "type": "scatter",
           "x": [
            0,
            1,
            2,
            3,
            4,
            5,
            6,
            7,
            8,
            9,
            10,
            11,
            12,
            13,
            14,
            15,
            16,
            17,
            18,
            19,
            20,
            21,
            22,
            23
           ],
           "xaxis": "x",
           "y": [
            71,
            50.5,
            50.51,
            50.01,
            41.64,
            50.01,
            65.68,
            106.64,
            108.7,
            25,
            14.24,
            5.96,
            4.07,
            3.9,
            3.87,
            3.9,
            5.87,
            18.75,
            41.64,
            119.27,
            103.75,
            80.15,
            54.46,
            23.67
           ],
           "yaxis": "y"
          }
         ],
         "name": "2024-03-06 00:00:00"
        },
        {
         "data": [
          {
           "hovertemplate": "fecha=2024-03-07 00:00:00<br>hora=%{x}<br>€/MWh=%{y}<extra></extra>",
           "legendgroup": "",
           "marker": {
            "color": "#636efa",
            "symbol": "circle"
           },
           "mode": "markers",
           "name": "",
           "orientation": "v",
           "showlegend": false,
           "type": "scatter",
           "x": [
            0,
            1,
            2,
            3,
            4,
            5,
            6,
            7,
            8,
            9,
            10,
            11,
            12,
            13,
            14,
            15,
            16,
            17,
            18,
            19,
            20,
            21,
            22,
            23
           ],
           "xaxis": "x",
           "y": [
            14.13,
            4.89,
            3.51,
            3.2,
            3.2,
            3.2,
            4.89,
            14,
            17,
            5.7,
            3.9,
            3.2,
            2,
            0.43,
            0.43,
            0.43,
            0.76,
            3.2,
            5.48,
            24.67,
            35,
            30,
            16,
            5.33
           ],
           "yaxis": "y"
          }
         ],
         "name": "2024-03-07 00:00:00"
        },
        {
         "data": [
          {
           "hovertemplate": "fecha=2024-03-08 00:00:00<br>hora=%{x}<br>€/MWh=%{y}<extra></extra>",
           "legendgroup": "",
           "marker": {
            "color": "#636efa",
            "symbol": "circle"
           },
           "mode": "markers",
           "name": "",
           "orientation": "v",
           "showlegend": false,
           "type": "scatter",
           "x": [
            0,
            1,
            2,
            3,
            4,
            5,
            6,
            7,
            8,
            9,
            10,
            11,
            12,
            13,
            14,
            15,
            16,
            17,
            18,
            19,
            20,
            21,
            22,
            23
           ],
           "xaxis": "x",
           "y": [
            3.2,
            0.59,
            0.35,
            0.05,
            0.01,
            0.13,
            3.2,
            4,
            4,
            3.2,
            0.43,
            0,
            0,
            0,
            0,
            0,
            0,
            2.41,
            1.59,
            3.2,
            5.98,
            4,
            3.2,
            0.43
           ],
           "yaxis": "y"
          }
         ],
         "name": "2024-03-08 00:00:00"
        },
        {
         "data": [
          {
           "hovertemplate": "fecha=2024-03-09 00:00:00<br>hora=%{x}<br>€/MWh=%{y}<extra></extra>",
           "legendgroup": "",
           "marker": {
            "color": "#636efa",
            "symbol": "circle"
           },
           "mode": "markers",
           "name": "",
           "orientation": "v",
           "showlegend": false,
           "type": "scatter",
           "x": [
            0,
            1,
            2,
            3,
            4,
            5,
            6,
            7,
            8,
            9,
            10,
            11,
            12,
            13,
            14,
            15,
            16,
            17,
            18,
            19,
            20,
            21,
            22,
            23
           ],
           "xaxis": "x",
           "y": [
            0.01,
            0,
            0,
            0,
            0,
            0,
            0,
            0,
            0.01,
            0.13,
            0.43,
            0.1,
            0,
            0,
            0,
            0,
            0,
            0,
            0.2,
            3.2,
            3.5,
            3.2,
            3.2,
            0.2
           ],
           "yaxis": "y"
          }
         ],
         "name": "2024-03-09 00:00:00"
        },
        {
         "data": [
          {
           "hovertemplate": "fecha=2024-03-10 00:00:00<br>hora=%{x}<br>€/MWh=%{y}<extra></extra>",
           "legendgroup": "",
           "marker": {
            "color": "#636efa",
            "symbol": "circle"
           },
           "mode": "markers",
           "name": "",
           "orientation": "v",
           "showlegend": false,
           "type": "scatter",
           "x": [
            0,
            1,
            2,
            3,
            4,
            5,
            6,
            7,
            8,
            9,
            10,
            11,
            12,
            13,
            14,
            15,
            16,
            17,
            18,
            19,
            20,
            21,
            22,
            23
           ],
           "xaxis": "x",
           "y": [
            0,
            0,
            0,
            0,
            0,
            0,
            0,
            0,
            0,
            0,
            0,
            0,
            0,
            0,
            0,
            0,
            0,
            0,
            0,
            3.19,
            3.2,
            3.2,
            3.2,
            0.1
           ],
           "yaxis": "y"
          }
         ],
         "name": "2024-03-10 00:00:00"
        },
        {
         "data": [
          {
           "hovertemplate": "fecha=2024-03-11 00:00:00<br>hora=%{x}<br>€/MWh=%{y}<extra></extra>",
           "legendgroup": "",
           "marker": {
            "color": "#636efa",
            "symbol": "circle"
           },
           "mode": "markers",
           "name": "",
           "orientation": "v",
           "showlegend": false,
           "type": "scatter",
           "x": [
            0,
            1,
            2,
            3,
            4,
            5,
            6,
            7,
            8,
            9,
            10,
            11,
            12,
            13,
            14,
            15,
            16,
            17,
            18,
            19,
            20,
            21,
            22,
            23
           ],
           "xaxis": "x",
           "y": [
            0.1,
            0,
            0,
            0,
            0,
            0,
            1.68,
            4.97,
            3.2,
            0.01,
            0,
            0,
            0,
            0,
            0,
            0,
            0,
            0,
            5.51,
            70,
            87.97,
            76.64,
            75,
            26.1
           ],
           "yaxis": "y"
          }
         ],
         "name": "2024-03-11 00:00:00"
        },
        {
         "data": [
          {
           "hovertemplate": "fecha=2024-03-12 00:00:00<br>hora=%{x}<br>€/MWh=%{y}<extra></extra>",
           "legendgroup": "",
           "marker": {
            "color": "#636efa",
            "symbol": "circle"
           },
           "mode": "markers",
           "name": "",
           "orientation": "v",
           "showlegend": false,
           "type": "scatter",
           "x": [
            0,
            1,
            2,
            3,
            4,
            5,
            6,
            7,
            8,
            9,
            10,
            11,
            12,
            13,
            14,
            15,
            16,
            17,
            18,
            19,
            20,
            21,
            22,
            23
           ],
           "xaxis": "x",
           "y": [
            35,
            27.3,
            25,
            24.6,
            25,
            25,
            60.02,
            89.8,
            75,
            20,
            0.5,
            0.43,
            0.15,
            0.1,
            0.1,
            0.42,
            3,
            20.1,
            60.02,
            98.99,
            173.82,
            117.9,
            70.54,
            61.99
           ],
           "yaxis": "y"
          }
         ],
         "name": "2024-03-12 00:00:00"
        },
        {
         "data": [
          {
           "hovertemplate": "fecha=2024-03-13 00:00:00<br>hora=%{x}<br>€/MWh=%{y}<extra></extra>",
           "legendgroup": "",
           "marker": {
            "color": "#636efa",
            "symbol": "circle"
           },
           "mode": "markers",
           "name": "",
           "orientation": "v",
           "showlegend": false,
           "type": "scatter",
           "x": [
            0,
            1,
            2,
            3,
            4,
            5,
            6,
            7,
            8,
            9,
            10,
            11,
            12,
            13,
            14,
            15,
            16,
            17,
            18,
            19,
            20,
            21,
            22,
            23
           ],
           "xaxis": "x",
           "y": [
            55.09,
            35,
            26.1,
            24.1,
            24.74,
            25.11,
            57.54,
            88.03,
            86.74,
            22.08,
            10,
            3.2,
            3,
            2.3,
            2.01,
            2.3,
            3.2,
            21.62,
            76.41,
            98.78,
            134.32,
            89.05,
            68.26,
            57.56
           ],
           "yaxis": "y"
          }
         ],
         "name": "2024-03-13 00:00:00"
        },
        {
         "data": [
          {
           "hovertemplate": "fecha=2024-03-14 00:00:00<br>hora=%{x}<br>€/MWh=%{y}<extra></extra>",
           "legendgroup": "",
           "marker": {
            "color": "#636efa",
            "symbol": "circle"
           },
           "mode": "markers",
           "name": "",
           "orientation": "v",
           "showlegend": false,
           "type": "scatter",
           "x": [
            0,
            1,
            2,
            3,
            4,
            5,
            6,
            7,
            8,
            9,
            10,
            11,
            12,
            13,
            14,
            15,
            16,
            17,
            18,
            19,
            20,
            21,
            22,
            23
           ],
           "xaxis": "x",
           "y": [
            37.48,
            31.05,
            26.1,
            24.6,
            24.6,
            31.05,
            36.83,
            87.85,
            70,
            35,
            31.05,
            12,
            10.2,
            9.14,
            3.5,
            3.2,
            9.14,
            21.71,
            35,
            85.82,
            78.25,
            62.8,
            59.91,
            37.48
           ],
           "yaxis": "y"
          }
         ],
         "name": "2024-03-14 00:00:00"
        },
        {
         "data": [
          {
           "hovertemplate": "fecha=2024-03-15 00:00:00<br>hora=%{x}<br>€/MWh=%{y}<extra></extra>",
           "legendgroup": "",
           "marker": {
            "color": "#636efa",
            "symbol": "circle"
           },
           "mode": "markers",
           "name": "",
           "orientation": "v",
           "showlegend": false,
           "type": "scatter",
           "x": [
            0,
            1,
            2,
            3,
            4,
            5,
            6,
            7,
            8,
            9,
            10,
            11,
            12,
            13,
            14,
            15,
            16,
            17,
            18,
            19,
            20,
            21,
            22,
            23
           ],
           "xaxis": "x",
           "y": [
            34.97,
            27.2,
            24.1,
            23.6,
            20.89,
            24.1,
            33.26,
            51.92,
            40.33,
            24.1,
            15.35,
            15.05,
            12.43,
            10.95,
            10.55,
            10.55,
            15.15,
            25,
            40,
            88.01,
            123.58,
            110,
            74.9,
            49.59
           ],
           "yaxis": "y"
          }
         ],
         "name": "2024-03-15 00:00:00"
        },
        {
         "data": [
          {
           "hovertemplate": "fecha=2024-03-16 00:00:00<br>hora=%{x}<br>€/MWh=%{y}<extra></extra>",
           "legendgroup": "",
           "marker": {
            "color": "#636efa",
            "symbol": "circle"
           },
           "mode": "markers",
           "name": "",
           "orientation": "v",
           "showlegend": false,
           "type": "scatter",
           "x": [
            0,
            1,
            2,
            3,
            4,
            5,
            6,
            7,
            8,
            9,
            10,
            11,
            12,
            13,
            14,
            15,
            16,
            17,
            18,
            19,
            20,
            21,
            22,
            23
           ],
           "xaxis": "x",
           "y": [
            45.18,
            42.31,
            37.99,
            35.58,
            35,
            41.17,
            48.28,
            37.45,
            26.45,
            14.77,
            10.5,
            5.42,
            3.2,
            3.2,
            1,
            0.43,
            4.25,
            13.45,
            30,
            80.5,
            82.61,
            73.35,
            51.06,
            35.58
           ],
           "yaxis": "y"
          }
         ],
         "name": "2024-03-16 00:00:00"
        },
        {
         "data": [
          {
           "hovertemplate": "fecha=2024-03-17 00:00:00<br>hora=%{x}<br>€/MWh=%{y}<extra></extra>",
           "legendgroup": "",
           "marker": {
            "color": "#636efa",
            "symbol": "circle"
           },
           "mode": "markers",
           "name": "",
           "orientation": "v",
           "showlegend": false,
           "type": "scatter",
           "x": [
            0,
            1,
            2,
            3,
            4,
            5,
            6,
            7,
            8,
            9,
            10,
            11,
            12,
            13,
            14,
            15,
            16,
            17,
            18,
            19,
            20,
            21,
            22,
            23
           ],
           "xaxis": "x",
           "y": [
            35,
            30,
            25.15,
            25.15,
            25.15,
            25,
            21.45,
            24,
            11.25,
            11.34,
            9.72,
            0.43,
            0.43,
            0.43,
            0.43,
            0.43,
            9.72,
            14.95,
            35,
            79.96,
            77.89,
            72.33,
            72.1,
            65.91
           ],
           "yaxis": "y"
          }
         ],
         "name": "2024-03-17 00:00:00"
        },
        {
         "data": [
          {
           "hovertemplate": "fecha=2024-03-18 00:00:00<br>hora=%{x}<br>€/MWh=%{y}<extra></extra>",
           "legendgroup": "",
           "marker": {
            "color": "#636efa",
            "symbol": "circle"
           },
           "mode": "markers",
           "name": "",
           "orientation": "v",
           "showlegend": false,
           "type": "scatter",
           "x": [
            0,
            1,
            2,
            3,
            4,
            5,
            6,
            7,
            8,
            9,
            10,
            11,
            12,
            13,
            14,
            15,
            16,
            17,
            18,
            19,
            20,
            21,
            22,
            23
           ],
           "xaxis": "x",
           "y": [
            64.12,
            50.3,
            48.85,
            48.85,
            46.03,
            44.28,
            61.71,
            94.68,
            94.45,
            52.61,
            42.1,
            35,
            35,
            35,
            35,
            35.5,
            43.86,
            47.7,
            73.45,
            125.16,
            114.24,
            95.85,
            77.8,
            70.51
           ],
           "yaxis": "y"
          }
         ],
         "name": "2024-03-18 00:00:00"
        },
        {
         "data": [
          {
           "hovertemplate": "fecha=2024-03-19 00:00:00<br>hora=%{x}<br>€/MWh=%{y}<extra></extra>",
           "legendgroup": "",
           "marker": {
            "color": "#636efa",
            "symbol": "circle"
           },
           "mode": "markers",
           "name": "",
           "orientation": "v",
           "showlegend": false,
           "type": "scatter",
           "x": [
            0,
            1,
            2,
            3,
            4,
            5,
            6,
            7,
            8,
            9,
            10,
            11,
            12,
            13,
            14,
            15,
            16,
            17,
            18,
            19,
            20,
            21,
            22,
            23
           ],
           "xaxis": "x",
           "y": [
            69.14,
            65.06,
            58.13,
            56.18,
            53,
            58.76,
            76.18,
            101.64,
            95.87,
            58.13,
            37.28,
            35.26,
            35,
            35,
            35,
            35,
            35.54,
            54.5,
            76.62,
            128.96,
            110,
            92.01,
            81.75,
            76.1
           ],
           "yaxis": "y"
          }
         ],
         "name": "2024-03-19 00:00:00"
        },
        {
         "data": [
          {
           "hovertemplate": "fecha=2024-03-20 00:00:00<br>hora=%{x}<br>€/MWh=%{y}<extra></extra>",
           "legendgroup": "",
           "marker": {
            "color": "#636efa",
            "symbol": "circle"
           },
           "mode": "markers",
           "name": "",
           "orientation": "v",
           "showlegend": false,
           "type": "scatter",
           "x": [
            0,
            1,
            2,
            3,
            4,
            5,
            6,
            7,
            8,
            9,
            10,
            11,
            12,
            13,
            14,
            15,
            16,
            17,
            18,
            19,
            20,
            21,
            22,
            23
           ],
           "xaxis": "x",
           "y": [
            70,
            68.57,
            60.78,
            50.53,
            42.84,
            58,
            68,
            88.38,
            85.25,
            61.76,
            35.7,
            35,
            33.26,
            27,
            27.28,
            28.69,
            34.15,
            35.43,
            61.02,
            97.01,
            100.76,
            79.25,
            68,
            50
           ],
           "yaxis": "y"
          }
         ],
         "name": "2024-03-20 00:00:00"
        },
        {
         "data": [
          {
           "hovertemplate": "fecha=2024-03-21 00:00:00<br>hora=%{x}<br>€/MWh=%{y}<extra></extra>",
           "legendgroup": "",
           "marker": {
            "color": "#636efa",
            "symbol": "circle"
           },
           "mode": "markers",
           "name": "",
           "orientation": "v",
           "showlegend": false,
           "type": "scatter",
           "x": [
            0,
            1,
            2,
            3,
            4,
            5,
            6,
            7,
            8,
            9,
            10,
            11,
            12,
            13,
            14,
            15,
            16,
            17,
            18,
            19,
            20,
            21,
            22,
            23
           ],
           "xaxis": "x",
           "y": [
            35,
            34.47,
            33.97,
            34.17,
            34.07,
            35,
            35,
            55.96,
            45.02,
            35,
            30,
            17.27,
            15.99,
            14,
            10.83,
            10.61,
            15.98,
            26.1,
            35,
            70.4,
            84,
            65.86,
            48,
            40
           ],
           "yaxis": "y"
          }
         ],
         "name": "2024-03-21 00:00:00"
        },
        {
         "data": [
          {
           "hovertemplate": "fecha=2024-03-22 00:00:00<br>hora=%{x}<br>€/MWh=%{y}<extra></extra>",
           "legendgroup": "",
           "marker": {
            "color": "#636efa",
            "symbol": "circle"
           },
           "mode": "markers",
           "name": "",
           "orientation": "v",
           "showlegend": false,
           "type": "scatter",
           "x": [
            0,
            1,
            2,
            3,
            4,
            5,
            6,
            7,
            8,
            9,
            10,
            11,
            12,
            13,
            14,
            15,
            16,
            17,
            18,
            19,
            20,
            21,
            22,
            23
           ],
           "xaxis": "x",
           "y": [
            25,
            20.1,
            17.2,
            16.7,
            18.9,
            25,
            35,
            49.19,
            35,
            20,
            14.5,
            7,
            3.35,
            2.44,
            1.1,
            3.19,
            3.35,
            14.7,
            35,
            57.3,
            53.92,
            35,
            29.16,
            15.6
           ],
           "yaxis": "y"
          }
         ],
         "name": "2024-03-22 00:00:00"
        },
        {
         "data": [
          {
           "hovertemplate": "fecha=2024-03-23 00:00:00<br>hora=%{x}<br>€/MWh=%{y}<extra></extra>",
           "legendgroup": "",
           "marker": {
            "color": "#636efa",
            "symbol": "circle"
           },
           "mode": "markers",
           "name": "",
           "orientation": "v",
           "showlegend": false,
           "type": "scatter",
           "x": [
            0,
            1,
            2,
            3,
            4,
            5,
            6,
            7,
            8,
            9,
            10,
            11,
            12,
            13,
            14,
            15,
            16,
            17,
            18,
            19,
            20,
            21,
            22,
            23
           ],
           "xaxis": "x",
           "y": [
            3.2,
            3.03,
            0.9,
            2.71,
            2.05,
            2,
            2.1,
            2.3,
            0.43,
            0,
            0,
            0,
            0,
            0,
            0,
            0,
            0,
            0.43,
            3.19,
            3.2,
            9.01,
            7.18,
            3.2,
            3.2
           ],
           "yaxis": "y"
          }
         ],
         "name": "2024-03-23 00:00:00"
        },
        {
         "data": [
          {
           "hovertemplate": "fecha=2024-03-24 00:00:00<br>hora=%{x}<br>€/MWh=%{y}<extra></extra>",
           "legendgroup": "",
           "marker": {
            "color": "#636efa",
            "symbol": "circle"
           },
           "mode": "markers",
           "name": "",
           "orientation": "v",
           "showlegend": false,
           "type": "scatter",
           "x": [
            0,
            1,
            2,
            3,
            4,
            5,
            6,
            7,
            8,
            9,
            10,
            11,
            12,
            13,
            14,
            15,
            16,
            17,
            18,
            19,
            20,
            21,
            22,
            23
           ],
           "xaxis": "x",
           "y": [
            0.16,
            0,
            0,
            0,
            0,
            0,
            0.01,
            0.1,
            0,
            0,
            0,
            0,
            0,
            0,
            0,
            0,
            0,
            0.43,
            3.2,
            16.7,
            35,
            35,
            35,
            35
           ],
           "yaxis": "y"
          }
         ],
         "name": "2024-03-24 00:00:00"
        },
        {
         "data": [
          {
           "hovertemplate": "fecha=2024-03-25 00:00:00<br>hora=%{x}<br>€/MWh=%{y}<extra></extra>",
           "legendgroup": "",
           "marker": {
            "color": "#636efa",
            "symbol": "circle"
           },
           "mode": "markers",
           "name": "",
           "orientation": "v",
           "showlegend": false,
           "type": "scatter",
           "x": [
            0,
            1,
            2,
            3,
            4,
            5,
            6,
            7,
            8,
            9,
            10,
            11,
            12,
            13,
            14,
            15,
            16,
            17,
            18,
            19,
            20,
            21,
            22,
            23
           ],
           "xaxis": "x",
           "y": [
            35,
            30,
            28.26,
            30.5,
            28.35,
            34.47,
            35,
            75.75,
            59,
            35,
            20,
            13.3,
            12.21,
            4,
            3.2,
            2.1,
            3.12,
            3.2,
            3.2,
            20.02,
            35,
            29.11,
            17.2,
            12.9
           ],
           "yaxis": "y"
          }
         ],
         "name": "2024-03-25 00:00:00"
        },
        {
         "data": [
          {
           "hovertemplate": "fecha=2024-03-26 00:00:00<br>hora=%{x}<br>€/MWh=%{y}<extra></extra>",
           "legendgroup": "",
           "marker": {
            "color": "#636efa",
            "symbol": "circle"
           },
           "mode": "markers",
           "name": "",
           "orientation": "v",
           "showlegend": false,
           "type": "scatter",
           "x": [
            0,
            1,
            2,
            3,
            4,
            5,
            6,
            7,
            8,
            9,
            10,
            11,
            12,
            13,
            14,
            15,
            16,
            17,
            18,
            19,
            20,
            21,
            22,
            23
           ],
           "xaxis": "x",
           "y": [
            3.2,
            3.19,
            1.54,
            1,
            0.98,
            0.98,
            3.2,
            4,
            3.2,
            1.2,
            0.2,
            0,
            0,
            0,
            0,
            0,
            0,
            0.55,
            2,
            5,
            14,
            7.5,
            3.2,
            1.69
           ],
           "yaxis": "y"
          }
         ],
         "name": "2024-03-26 00:00:00"
        },
        {
         "data": [
          {
           "hovertemplate": "fecha=2024-03-27 00:00:00<br>hora=%{x}<br>€/MWh=%{y}<extra></extra>",
           "legendgroup": "",
           "marker": {
            "color": "#636efa",
            "symbol": "circle"
           },
           "mode": "markers",
           "name": "",
           "orientation": "v",
           "showlegend": false,
           "type": "scatter",
           "x": [
            0,
            1,
            2,
            3,
            4,
            5,
            6,
            7,
            8,
            9,
            10,
            11,
            12,
            13,
            14,
            15,
            16,
            17,
            18,
            19,
            20,
            21,
            22,
            23
           ],
           "xaxis": "x",
           "y": [
            3.2,
            0.57,
            0.01,
            0,
            0,
            0,
            0.1,
            0.54,
            0.43,
            0.13,
            0,
            0,
            0,
            0,
            0,
            0,
            0,
            0,
            0.43,
            3.17,
            3.2,
            3.2,
            3.02,
            0.12
           ],
           "yaxis": "y"
          }
         ],
         "name": "2024-03-27 00:00:00"
        },
        {
         "data": [
          {
           "hovertemplate": "fecha=2024-03-28 00:00:00<br>hora=%{x}<br>€/MWh=%{y}<extra></extra>",
           "legendgroup": "",
           "marker": {
            "color": "#636efa",
            "symbol": "circle"
           },
           "mode": "markers",
           "name": "",
           "orientation": "v",
           "showlegend": false,
           "type": "scatter",
           "x": [
            0,
            1,
            2,
            3,
            4,
            5,
            6,
            7,
            8,
            9,
            10,
            11,
            12,
            13,
            14,
            15,
            16,
            17,
            18,
            19,
            20,
            21,
            22,
            23
           ],
           "xaxis": "x",
           "y": [
            0.4,
            0,
            0,
            0,
            0,
            0,
            0.02,
            0.34,
            0.19,
            0,
            0,
            0,
            0,
            0,
            0,
            0,
            0,
            0.02,
            0.6,
            3.2,
            3.2,
            3.2,
            3.2,
            1.47
           ],
           "yaxis": "y"
          }
         ],
         "name": "2024-03-28 00:00:00"
        },
        {
         "data": [
          {
           "hovertemplate": "fecha=2024-03-29 00:00:00<br>hora=%{x}<br>€/MWh=%{y}<extra></extra>",
           "legendgroup": "",
           "marker": {
            "color": "#636efa",
            "symbol": "circle"
           },
           "mode": "markers",
           "name": "",
           "orientation": "v",
           "showlegend": false,
           "type": "scatter",
           "x": [
            0,
            1,
            2,
            3,
            4,
            5,
            6,
            7,
            8,
            9,
            10,
            11,
            12,
            13,
            14,
            15,
            16,
            17,
            18,
            19,
            20,
            21,
            22,
            23
           ],
           "xaxis": "x",
           "y": [
            2,
            0.58,
            0.52,
            0.5,
            0.57,
            1,
            2,
            3.1,
            1.47,
            1,
            0.9,
            0.77,
            0.53,
            0.5,
            0.47,
            0.4,
            0.4,
            0.5,
            3.2,
            6.82,
            17.47,
            21.42,
            16,
            15.14
           ],
           "yaxis": "y"
          }
         ],
         "name": "2024-03-29 00:00:00"
        },
        {
         "data": [
          {
           "hovertemplate": "fecha=2024-03-30 00:00:00<br>hora=%{x}<br>€/MWh=%{y}<extra></extra>",
           "legendgroup": "",
           "marker": {
            "color": "#636efa",
            "symbol": "circle"
           },
           "mode": "markers",
           "name": "",
           "orientation": "v",
           "showlegend": false,
           "type": "scatter",
           "x": [
            0,
            1,
            2,
            3,
            4,
            5,
            6,
            7,
            8,
            9,
            10,
            11,
            12,
            13,
            14,
            15,
            16,
            17,
            18,
            19,
            20,
            21,
            22,
            23
           ],
           "xaxis": "x",
           "y": [
            10.6,
            6.66,
            4.91,
            3.2,
            3.2,
            4,
            6,
            5.04,
            3.2,
            1,
            0.58,
            0.43,
            0.43,
            0.43,
            0.43,
            0.43,
            0.5,
            1.47,
            3.5,
            9.36,
            16.7,
            16.27,
            6.66,
            3.38
           ],
           "yaxis": "y"
          }
         ],
         "name": "2024-03-30 00:00:00"
        },
        {
         "data": [
          {
           "hovertemplate": "fecha=2024-03-31 00:00:00<br>hora=%{x}<br>€/MWh=%{y}<extra></extra>",
           "legendgroup": "",
           "marker": {
            "color": "#636efa",
            "symbol": "circle"
           },
           "mode": "markers",
           "name": "",
           "orientation": "v",
           "showlegend": false,
           "type": "scatter",
           "x": [
            0,
            1,
            3,
            4,
            5,
            6,
            7,
            8,
            9,
            10,
            11,
            12,
            13,
            14,
            15,
            16,
            17,
            18,
            19,
            20,
            21,
            22,
            23
           ],
           "xaxis": "x",
           "y": [
            3.2,
            1.63,
            0.5,
            0.5,
            0.5,
            0.6,
            0.5,
            0.6,
            0.5,
            0.5,
            0.4,
            0,
            0,
            0,
            0,
            0,
            0,
            0,
            0,
            1.69,
            3.2,
            3.2,
            1.63
           ],
           "yaxis": "y"
          }
         ],
         "name": "2024-03-31 00:00:00"
        },
        {
         "data": [
          {
           "hovertemplate": "fecha=2024-04-01 00:00:00<br>hora=%{x}<br>€/MWh=%{y}<extra></extra>",
           "legendgroup": "",
           "marker": {
            "color": "#636efa",
            "symbol": "circle"
           },
           "mode": "markers",
           "name": "",
           "orientation": "v",
           "showlegend": false,
           "type": "scatter",
           "x": [
            0,
            1,
            2,
            3,
            4,
            5,
            6,
            7,
            8,
            9,
            10,
            11,
            12,
            13,
            14,
            15,
            16,
            17,
            18,
            19,
            20,
            21,
            22,
            23
           ],
           "xaxis": "x",
           "y": [
            0.7,
            0.02,
            0,
            0,
            0,
            0,
            0.13,
            1.19,
            0.94,
            0.13,
            0,
            0,
            0,
            0,
            -0.01,
            -0.01,
            -0.01,
            0,
            0,
            0.44,
            11.33,
            21.43,
            17.47,
            12.58
           ],
           "yaxis": "y"
          }
         ],
         "name": "2024-04-01 00:00:00"
        },
        {
         "data": [
          {
           "hovertemplate": "fecha=2024-04-02 00:00:00<br>hora=%{x}<br>€/MWh=%{y}<extra></extra>",
           "legendgroup": "",
           "marker": {
            "color": "#636efa",
            "symbol": "circle"
           },
           "mode": "markers",
           "name": "",
           "orientation": "v",
           "showlegend": false,
           "type": "scatter",
           "x": [
            0,
            1,
            2,
            3,
            4,
            5,
            6,
            7,
            8,
            9,
            10,
            11,
            12,
            13,
            14,
            15,
            16,
            17,
            18,
            19,
            20,
            21,
            22,
            23
           ],
           "xaxis": "x",
           "y": [
            3.6,
            3.25,
            3.25,
            1.63,
            2,
            3.25,
            20,
            35,
            35,
            10.02,
            1.63,
            0.44,
            0.44,
            0.01,
            0,
            0,
            0.01,
            0.94,
            2.77,
            8.69,
            34.9,
            35,
            29.6,
            5
           ],
           "yaxis": "y"
          }
         ],
         "name": "2024-04-02 00:00:00"
        },
        {
         "data": [
          {
           "hovertemplate": "fecha=2024-04-03 00:00:00<br>hora=%{x}<br>€/MWh=%{y}<extra></extra>",
           "legendgroup": "",
           "marker": {
            "color": "#636efa",
            "symbol": "circle"
           },
           "mode": "markers",
           "name": "",
           "orientation": "v",
           "showlegend": false,
           "type": "scatter",
           "x": [
            0,
            1,
            2,
            3,
            4,
            5,
            6,
            7,
            8,
            9,
            10,
            11,
            12,
            13,
            14,
            15,
            16,
            17,
            18,
            19,
            20,
            21,
            22,
            23
           ],
           "xaxis": "x",
           "y": [
            3.25,
            1.68,
            1.35,
            1,
            0.09,
            1,
            3.25,
            28.07,
            34.9,
            5.5,
            2,
            0.44,
            0,
            0,
            0,
            0,
            0,
            0,
            0.4,
            6.76,
            35,
            35,
            31.62,
            25.43
           ],
           "yaxis": "y"
          }
         ],
         "name": "2024-04-03 00:00:00"
        },
        {
         "data": [
          {
           "hovertemplate": "fecha=2024-04-04 00:00:00<br>hora=%{x}<br>€/MWh=%{y}<extra></extra>",
           "legendgroup": "",
           "marker": {
            "color": "#636efa",
            "symbol": "circle"
           },
           "mode": "markers",
           "name": "",
           "orientation": "v",
           "showlegend": false,
           "type": "scatter",
           "x": [
            0,
            1,
            2,
            3,
            4,
            5,
            6,
            7,
            8,
            9,
            10,
            11,
            12,
            13,
            14,
            15,
            16,
            17,
            18,
            19,
            20,
            21,
            22,
            23
           ],
           "xaxis": "x",
           "y": [
            2.6,
            0.44,
            3.25,
            4.99,
            3.25,
            3.25,
            3.25,
            11.19,
            13.47,
            3.74,
            0.44,
            0,
            0,
            0,
            0,
            0,
            0,
            0,
            0,
            3.25,
            10,
            25,
            4.6,
            3.25
           ],
           "yaxis": "y"
          }
         ],
         "name": "2024-04-04 00:00:00"
        },
        {
         "data": [
          {
           "hovertemplate": "fecha=2024-04-05 00:00:00<br>hora=%{x}<br>€/MWh=%{y}<extra></extra>",
           "legendgroup": "",
           "marker": {
            "color": "#636efa",
            "symbol": "circle"
           },
           "mode": "markers",
           "name": "",
           "orientation": "v",
           "showlegend": false,
           "type": "scatter",
           "x": [
            0,
            1,
            2,
            3,
            4,
            5,
            6,
            7,
            8,
            9,
            10,
            11,
            12,
            13,
            14,
            15,
            16,
            17,
            18,
            19,
            20,
            21,
            22,
            23
           ],
           "xaxis": "x",
           "y": [
            0.44,
            0.48,
            0.01,
            0,
            0,
            0,
            0.4,
            3.25,
            2.97,
            0,
            0,
            0,
            0,
            0,
            -0.01,
            -0.01,
            0,
            0,
            0,
            0,
            0.02,
            2,
            1,
            0
           ],
           "yaxis": "y"
          }
         ],
         "name": "2024-04-05 00:00:00"
        },
        {
         "data": [
          {
           "hovertemplate": "fecha=2024-04-06 00:00:00<br>hora=%{x}<br>€/MWh=%{y}<extra></extra>",
           "legendgroup": "",
           "marker": {
            "color": "#636efa",
            "symbol": "circle"
           },
           "mode": "markers",
           "name": "",
           "orientation": "v",
           "showlegend": false,
           "type": "scatter",
           "x": [
            0,
            1,
            2,
            3,
            4,
            5,
            6,
            7,
            8,
            9,
            10,
            11,
            12,
            13,
            14,
            15,
            16,
            17,
            18,
            19,
            20,
            21,
            22,
            23
           ],
           "xaxis": "x",
           "y": [
            0,
            0,
            0,
            0,
            0,
            0,
            0,
            0,
            0,
            0,
            -0.01,
            -0.01,
            -0.01,
            -0.01,
            -0.01,
            -0.02,
            -0.01,
            -0.01,
            0,
            0.01,
            3.25,
            8,
            3.44,
            3.25
           ],
           "yaxis": "y"
          }
         ],
         "name": "2024-04-06 00:00:00"
        },
        {
         "data": [
          {
           "hovertemplate": "fecha=2024-04-07 00:00:00<br>hora=%{x}<br>€/MWh=%{y}<extra></extra>",
           "legendgroup": "",
           "marker": {
            "color": "#636efa",
            "symbol": "circle"
           },
           "mode": "markers",
           "name": "",
           "orientation": "v",
           "showlegend": false,
           "type": "scatter",
           "x": [
            0,
            1,
            2,
            3,
            4,
            5,
            6,
            7,
            8,
            9,
            10,
            11,
            12,
            13,
            14,
            15,
            16,
            17,
            18,
            19,
            20,
            21,
            22,
            23
           ],
           "xaxis": "x",
           "y": [
            0.97,
            0.15,
            0,
            0,
            0,
            0,
            0,
            0,
            0,
            0,
            0,
            0,
            0,
            -0.01,
            -0.01,
            -0.01,
            -0.01,
            0,
            0,
            0.4,
            25,
            35,
            25,
            10.66
           ],
           "yaxis": "y"
          }
         ],
         "name": "2024-04-07 00:00:00"
        },
        {
         "data": [
          {
           "hovertemplate": "fecha=2024-04-08 00:00:00<br>hora=%{x}<br>€/MWh=%{y}<extra></extra>",
           "legendgroup": "",
           "marker": {
            "color": "#636efa",
            "symbol": "circle"
           },
           "mode": "markers",
           "name": "",
           "orientation": "v",
           "showlegend": false,
           "type": "scatter",
           "x": [
            0,
            1,
            2,
            3,
            4,
            5,
            6,
            7,
            8,
            9,
            10,
            11,
            12,
            13,
            14,
            15,
            16,
            17,
            18,
            19,
            20,
            21,
            22,
            23
           ],
           "xaxis": "x",
           "y": [
            1.33,
            0,
            0,
            0,
            0,
            0,
            0,
            3.25,
            3.25,
            0,
            0,
            0,
            0,
            0,
            0,
            0,
            -0.01,
            0,
            0,
            0,
            0.44,
            3.25,
            1,
            0
           ],
           "yaxis": "y"
          }
         ],
         "name": "2024-04-08 00:00:00"
        },
        {
         "data": [
          {
           "hovertemplate": "fecha=2024-04-09 00:00:00<br>hora=%{x}<br>€/MWh=%{y}<extra></extra>",
           "legendgroup": "",
           "marker": {
            "color": "#636efa",
            "symbol": "circle"
           },
           "mode": "markers",
           "name": "",
           "orientation": "v",
           "showlegend": false,
           "type": "scatter",
           "x": [
            0,
            1,
            2,
            3,
            4,
            5,
            6,
            7,
            8,
            9,
            10,
            11,
            12,
            13,
            14,
            15,
            16,
            17,
            18,
            19,
            20,
            21,
            22,
            23
           ],
           "xaxis": "x",
           "y": [
            0,
            0,
            0,
            0,
            0,
            0,
            0,
            0,
            0,
            0,
            0,
            -0.01,
            -0.02,
            -0.02,
            -0.02,
            -0.02,
            -0.02,
            -0.02,
            0,
            0.01,
            5,
            14.72,
            6.35,
            5
           ],
           "yaxis": "y"
          }
         ],
         "name": "2024-04-09 00:00:00"
        },
        {
         "data": [
          {
           "hovertemplate": "fecha=2024-04-10 00:00:00<br>hora=%{x}<br>€/MWh=%{y}<extra></extra>",
           "legendgroup": "",
           "marker": {
            "color": "#636efa",
            "symbol": "circle"
           },
           "mode": "markers",
           "name": "",
           "orientation": "v",
           "showlegend": false,
           "type": "scatter",
           "x": [
            0,
            1,
            2,
            3,
            4,
            5,
            6,
            7,
            8,
            9,
            10,
            11,
            12,
            13,
            14,
            15,
            16,
            17,
            18,
            19,
            20,
            21,
            22,
            23
           ],
           "xaxis": "x",
           "y": [
            4.21,
            3.25,
            1,
            0.44,
            0.35,
            1,
            2.17,
            35,
            7.68,
            0,
            -0.01,
            -0.03,
            -0.03,
            -0.03,
            -0.05,
            -0.05,
            -0.05,
            -0.05,
            -0.01,
            0,
            6,
            34.45,
            5,
            3.25
           ],
           "yaxis": "y"
          }
         ],
         "name": "2024-04-10 00:00:00"
        },
        {
         "data": [
          {
           "hovertemplate": "fecha=2024-04-11 00:00:00<br>hora=%{x}<br>€/MWh=%{y}<extra></extra>",
           "legendgroup": "",
           "marker": {
            "color": "#636efa",
            "symbol": "circle"
           },
           "mode": "markers",
           "name": "",
           "orientation": "v",
           "showlegend": false,
           "type": "scatter",
           "x": [
            0,
            1,
            2,
            3,
            4,
            5,
            6,
            7,
            8,
            9,
            10,
            11,
            12,
            13,
            14,
            15,
            16,
            17,
            18,
            19,
            20,
            21,
            22,
            23
           ],
           "xaxis": "x",
           "y": [
            3.25,
            1,
            0.04,
            0,
            0,
            1.47,
            3.6,
            22.42,
            17.04,
            0.01,
            0,
            -0.01,
            -0.01,
            -0.01,
            -0.02,
            -0.01,
            -0.01,
            -0.01,
            0,
            4.9,
            60,
            70.95,
            70.01,
            34.08
           ],
           "yaxis": "y"
          }
         ],
         "name": "2024-04-11 00:00:00"
        },
        {
         "data": [
          {
           "hovertemplate": "fecha=2024-04-12 00:00:00<br>hora=%{x}<br>€/MWh=%{y}<extra></extra>",
           "legendgroup": "",
           "marker": {
            "color": "#636efa",
            "symbol": "circle"
           },
           "mode": "markers",
           "name": "",
           "orientation": "v",
           "showlegend": false,
           "type": "scatter",
           "x": [
            0,
            1,
            2,
            3,
            4,
            5,
            6,
            7,
            8,
            9,
            10,
            11,
            12,
            13,
            14,
            15,
            16,
            17,
            18,
            19,
            20,
            21,
            22,
            23
           ],
           "xaxis": "x",
           "y": [
            23.77,
            15.37,
            12.5,
            11.94,
            12.49,
            16.93,
            33.47,
            78.44,
            74.04,
            5.85,
            0,
            0,
            0,
            -0.06,
            -0.06,
            -0.1,
            -0.03,
            0,
            0,
            15.77,
            39.35,
            74.23,
            38.05,
            26.67
           ],
           "yaxis": "y"
          }
         ],
         "name": "2024-04-12 00:00:00"
        },
        {
         "data": [
          {
           "hovertemplate": "fecha=2024-04-13 00:00:00<br>hora=%{x}<br>€/MWh=%{y}<extra></extra>",
           "legendgroup": "",
           "marker": {
            "color": "#636efa",
            "symbol": "circle"
           },
           "mode": "markers",
           "name": "",
           "orientation": "v",
           "showlegend": false,
           "type": "scatter",
           "x": [
            0,
            1,
            2,
            3,
            4,
            5,
            6,
            7,
            8,
            9,
            10,
            11,
            12,
            13,
            14,
            15,
            16,
            17,
            18,
            19,
            20,
            21,
            22,
            23
           ],
           "xaxis": "x",
           "y": [
            24.15,
            17.73,
            17.15,
            11.13,
            7.74,
            6.79,
            10.39,
            11.76,
            13.26,
            0.01,
            -0.02,
            -0.1,
            -0.1,
            -0.1,
            -0.2,
            -0.4,
            -0.4,
            -0.08,
            0,
            3.25,
            24.96,
            35,
            24.26,
            13.83
           ],
           "yaxis": "y"
          }
         ],
         "name": "2024-04-13 00:00:00"
        },
        {
         "data": [
          {
           "hovertemplate": "fecha=2024-04-14 00:00:00<br>hora=%{x}<br>€/MWh=%{y}<extra></extra>",
           "legendgroup": "",
           "marker": {
            "color": "#636efa",
            "symbol": "circle"
           },
           "mode": "markers",
           "name": "",
           "orientation": "v",
           "showlegend": false,
           "type": "scatter",
           "x": [
            0,
            1,
            2,
            3,
            4,
            5,
            6,
            7,
            8,
            9,
            10,
            11,
            12,
            13,
            14,
            15,
            16,
            17,
            18,
            19,
            20,
            21,
            22,
            23
           ],
           "xaxis": "x",
           "y": [
            5.79,
            2.74,
            1.69,
            1.51,
            3.25,
            6.35,
            12.86,
            13,
            5.6,
            0,
            -0.53,
            -1,
            -1,
            -1,
            -1,
            -1.01,
            -1.01,
            -0.25,
            -0.02,
            2.5,
            18.41,
            30.77,
            19.72,
            17
           ],
           "yaxis": "y"
          }
         ],
         "name": "2024-04-14 00:00:00"
        },
        {
         "data": [
          {
           "hovertemplate": "fecha=2024-04-15 00:00:00<br>hora=%{x}<br>€/MWh=%{y}<extra></extra>",
           "legendgroup": "",
           "marker": {
            "color": "#636efa",
            "symbol": "circle"
           },
           "mode": "markers",
           "name": "",
           "orientation": "v",
           "showlegend": false,
           "type": "scatter",
           "x": [
            0,
            1,
            2,
            3,
            4,
            5,
            6,
            7,
            8,
            9,
            10,
            11,
            12,
            13,
            14,
            15,
            16,
            17,
            18,
            19,
            20,
            21,
            22,
            23
           ],
           "xaxis": "x",
           "y": [
            7.3,
            3.25,
            1.77,
            0.44,
            0.03,
            0.07,
            1,
            10.75,
            18.7,
            1.5,
            0,
            0,
            -0.01,
            -0.04,
            -0.1,
            -0.32,
            -1,
            -0.09,
            0,
            0.44,
            10,
            19.72,
            6,
            4.2
           ],
           "yaxis": "y"
          }
         ],
         "name": "2024-04-15 00:00:00"
        },
        {
         "data": [
          {
           "hovertemplate": "fecha=2024-04-16 00:00:00<br>hora=%{x}<br>€/MWh=%{y}<extra></extra>",
           "legendgroup": "",
           "marker": {
            "color": "#636efa",
            "symbol": "circle"
           },
           "mode": "markers",
           "name": "",
           "orientation": "v",
           "showlegend": false,
           "type": "scatter",
           "x": [
            0,
            1,
            2,
            3,
            4,
            5,
            6,
            7,
            8,
            9,
            10,
            11,
            12,
            13,
            14,
            15,
            16,
            17,
            18,
            19,
            20,
            21,
            22,
            23
           ],
           "xaxis": "x",
           "y": [
            0.44,
            0,
            0,
            0,
            0,
            0,
            0.08,
            6,
            4.47,
            0,
            -0.01,
            -0.01,
            -0.03,
            -0.1,
            -0.1,
            -0.1,
            -0.13,
            -0.1,
            -0.01,
            0,
            4.15,
            10.01,
            5,
            3.25
           ],
           "yaxis": "y"
          }
         ],
         "name": "2024-04-16 00:00:00"
        },
        {
         "data": [
          {
           "hovertemplate": "fecha=2024-04-17 00:00:00<br>hora=%{x}<br>€/MWh=%{y}<extra></extra>",
           "legendgroup": "",
           "marker": {
            "color": "#636efa",
            "symbol": "circle"
           },
           "mode": "markers",
           "name": "",
           "orientation": "v",
           "showlegend": false,
           "type": "scatter",
           "x": [
            0,
            1,
            2,
            3,
            4,
            5,
            6,
            7,
            8,
            9,
            10,
            11,
            12,
            13,
            14,
            15,
            16,
            17,
            18,
            19,
            20,
            21,
            22,
            23
           ],
           "xaxis": "x",
           "y": [
            3.25,
            3.25,
            1.77,
            1.24,
            1,
            1.5,
            3.25,
            19.72,
            5,
            0.44,
            0,
            -0.01,
            -0.02,
            -0.03,
            -0.05,
            -0.05,
            -0.03,
            -0.01,
            0,
            0.44,
            6,
            22.34,
            6,
            3.25
           ],
           "yaxis": "y"
          }
         ],
         "name": "2024-04-17 00:00:00"
        },
        {
         "data": [
          {
           "hovertemplate": "fecha=2024-04-18 00:00:00<br>hora=%{x}<br>€/MWh=%{y}<extra></extra>",
           "legendgroup": "",
           "marker": {
            "color": "#636efa",
            "symbol": "circle"
           },
           "mode": "markers",
           "name": "",
           "orientation": "v",
           "showlegend": false,
           "type": "scatter",
           "x": [
            0,
            1,
            2,
            3,
            4,
            5,
            6,
            7,
            8,
            9,
            10,
            11,
            12,
            13,
            14,
            15,
            16,
            17,
            18,
            19,
            20,
            21,
            22,
            23
           ],
           "xaxis": "x",
           "y": [
            3.25,
            2.9,
            2.2,
            2,
            1.77,
            2,
            3.25,
            21.03,
            6,
            1.77,
            0,
            0,
            0,
            0,
            0,
            -0.01,
            0,
            0,
            0,
            2,
            12.17,
            30.77,
            14.21,
            3.6
           ],
           "yaxis": "y"
          }
         ],
         "name": "2024-04-18 00:00:00"
        },
        {
         "data": [
          {
           "hovertemplate": "fecha=2024-04-19 00:00:00<br>hora=%{x}<br>€/MWh=%{y}<extra></extra>",
           "legendgroup": "",
           "marker": {
            "color": "#636efa",
            "symbol": "circle"
           },
           "mode": "markers",
           "name": "",
           "orientation": "v",
           "showlegend": false,
           "type": "scatter",
           "x": [
            0,
            1,
            2,
            3,
            4,
            5,
            6,
            7,
            8,
            9,
            10,
            11,
            12,
            13,
            14,
            15,
            16,
            17,
            18,
            19,
            20,
            21,
            22,
            23
           ],
           "xaxis": "x",
           "y": [
            13.07,
            12.17,
            12.59,
            13.75,
            9.02,
            17.59,
            25.73,
            35,
            35,
            8.6,
            3.35,
            3.25,
            0.6,
            0.04,
            0.02,
            0,
            0,
            2.5,
            7.62,
            21.96,
            34.96,
            37.52,
            35,
            35
           ],
           "yaxis": "y"
          }
         ],
         "name": "2024-04-19 00:00:00"
        },
        {
         "data": [
          {
           "hovertemplate": "fecha=2024-04-20 00:00:00<br>hora=%{x}<br>€/MWh=%{y}<extra></extra>",
           "legendgroup": "",
           "marker": {
            "color": "#636efa",
            "symbol": "circle"
           },
           "mode": "markers",
           "name": "",
           "orientation": "v",
           "showlegend": false,
           "type": "scatter",
           "x": [
            0,
            1,
            2,
            3,
            4,
            5,
            6,
            7,
            8,
            9,
            10,
            11,
            12,
            13,
            14,
            15,
            16,
            17,
            18,
            19,
            20,
            21,
            22,
            23
           ],
           "xaxis": "x",
           "y": [
            24.69,
            10,
            11.39,
            10,
            9.57,
            7,
            7.54,
            8.43,
            7.42,
            2.1,
            0.44,
            0.05,
            0,
            0,
            0,
            -0.04,
            -0.07,
            -0.01,
            0.04,
            3.25,
            7.88,
            10,
            8.58,
            7.54
           ],
           "yaxis": "y"
          }
         ],
         "name": "2024-04-20 00:00:00"
        },
        {
         "data": [
          {
           "hovertemplate": "fecha=2024-04-21 00:00:00<br>hora=%{x}<br>€/MWh=%{y}<extra></extra>",
           "legendgroup": "",
           "marker": {
            "color": "#636efa",
            "symbol": "circle"
           },
           "mode": "markers",
           "name": "",
           "orientation": "v",
           "showlegend": false,
           "type": "scatter",
           "x": [
            0,
            1,
            2,
            3,
            4,
            5,
            6,
            7,
            8,
            9,
            10,
            11,
            12,
            13,
            14,
            15,
            16,
            17,
            18,
            19,
            20,
            21,
            22,
            23
           ],
           "xaxis": "x",
           "y": [
            3.25,
            3.25,
            3.22,
            3.25,
            3.25,
            3.25,
            3.6,
            7.46,
            3.25,
            0.44,
            0,
            -0.01,
            -0.07,
            -1.21,
            -1.49,
            -1.5,
            -1.32,
            -0.25,
            -0.01,
            0.44,
            3.35,
            8.93,
            7.46,
            3.6
           ],
           "yaxis": "y"
          }
         ],
         "name": "2024-04-21 00:00:00"
        },
        {
         "data": [
          {
           "hovertemplate": "fecha=2024-04-22 00:00:00<br>hora=%{x}<br>€/MWh=%{y}<extra></extra>",
           "legendgroup": "",
           "marker": {
            "color": "#636efa",
            "symbol": "circle"
           },
           "mode": "markers",
           "name": "",
           "orientation": "v",
           "showlegend": false,
           "type": "scatter",
           "x": [
            0,
            1,
            2,
            3,
            4,
            5,
            6,
            7,
            8,
            9,
            10,
            11,
            12,
            13,
            14,
            15,
            16,
            17,
            18,
            19,
            20,
            21,
            22,
            23
           ],
           "xaxis": "x",
           "y": [
            3,
            2,
            1.1,
            1.01,
            0.49,
            1,
            1.1,
            3.25,
            1.1,
            0,
            0,
            -0.01,
            -0.03,
            -0.05,
            -0.1,
            -0.25,
            -0.3,
            -0.1,
            0,
            0.45,
            6,
            12.81,
            7.62,
            5.54
           ],
           "yaxis": "y"
          }
         ],
         "name": "2024-04-22 00:00:00"
        },
        {
         "data": [
          {
           "hovertemplate": "fecha=2024-04-23 00:00:00<br>hora=%{x}<br>€/MWh=%{y}<extra></extra>",
           "legendgroup": "",
           "marker": {
            "color": "#636efa",
            "symbol": "circle"
           },
           "mode": "markers",
           "name": "",
           "orientation": "v",
           "showlegend": false,
           "type": "scatter",
           "x": [
            0,
            1,
            2,
            3,
            4,
            5,
            6,
            7,
            8,
            9,
            10,
            11,
            12,
            13,
            14,
            15,
            16,
            17,
            18,
            19,
            20,
            21,
            22,
            23
           ],
           "xaxis": "x",
           "y": [
            6.15,
            3.6,
            3.25,
            3.35,
            3.6,
            5,
            6.58,
            20,
            6.9,
            0.5,
            0,
            0,
            0,
            0,
            -0.01,
            -0.01,
            -0.01,
            0,
            0,
            1,
            12.17,
            35,
            24.89,
            8.21
           ],
           "yaxis": "y"
          }
         ],
         "name": "2024-04-23 00:00:00"
        },
        {
         "data": [
          {
           "hovertemplate": "fecha=2024-04-24 00:00:00<br>hora=%{x}<br>€/MWh=%{y}<extra></extra>",
           "legendgroup": "",
           "marker": {
            "color": "#636efa",
            "symbol": "circle"
           },
           "mode": "markers",
           "name": "",
           "orientation": "v",
           "showlegend": false,
           "type": "scatter",
           "x": [
            0,
            1,
            2,
            3,
            4,
            5,
            6,
            7,
            8,
            9,
            10,
            11,
            12,
            13,
            14,
            15,
            16,
            17,
            18,
            19,
            20,
            21,
            22,
            23
           ],
           "xaxis": "x",
           "y": [
            23.21,
            16.05,
            12.08,
            11.28,
            10.7,
            11.93,
            17.33,
            33.69,
            24.89,
            5,
            1,
            0.04,
            0,
            0,
            0,
            0,
            0,
            0.04,
            3.25,
            24.89,
            35.02,
            101.48,
            78.85,
            35.01
           ],
           "yaxis": "y"
          }
         ],
         "name": "2024-04-24 00:00:00"
        },
        {
         "data": [
          {
           "hovertemplate": "fecha=2024-04-25 00:00:00<br>hora=%{x}<br>€/MWh=%{y}<extra></extra>",
           "legendgroup": "",
           "marker": {
            "color": "#636efa",
            "symbol": "circle"
           },
           "mode": "markers",
           "name": "",
           "orientation": "v",
           "showlegend": false,
           "type": "scatter",
           "x": [
            0,
            1,
            2,
            3,
            4,
            5,
            6,
            7,
            8,
            9,
            10,
            11,
            12,
            13,
            14,
            15,
            16,
            17,
            18,
            19,
            20,
            21,
            22,
            23
           ],
           "xaxis": "x",
           "y": [
            38.07,
            35.02,
            35.01,
            35.01,
            35.01,
            35.01,
            38.69,
            100,
            66.85,
            35,
            26.96,
            22.3,
            19.29,
            15.65,
            9.99,
            7,
            6,
            9.35,
            22.3,
            32.56,
            88.61,
            109.9,
            91.35,
            79.74
           ],
           "yaxis": "y"
          }
         ],
         "name": "2024-04-25 00:00:00"
        },
        {
         "data": [
          {
           "hovertemplate": "fecha=2024-04-26 00:00:00<br>hora=%{x}<br>€/MWh=%{y}<extra></extra>",
           "legendgroup": "",
           "marker": {
            "color": "#636efa",
            "symbol": "circle"
           },
           "mode": "markers",
           "name": "",
           "orientation": "v",
           "showlegend": false,
           "type": "scatter",
           "x": [
            0,
            1,
            2,
            3,
            4,
            5,
            6,
            7,
            8,
            9,
            10,
            11,
            12,
            13,
            14,
            15,
            16,
            17,
            18,
            19,
            20,
            21,
            22,
            23
           ],
           "xaxis": "x",
           "y": [
            79.87,
            74,
            65.15,
            74.07,
            77.1,
            73.88,
            91.82,
            104.06,
            96.06,
            81.08,
            35.33,
            35,
            33.75,
            31.2,
            21.2,
            20.1,
            16.98,
            20.2,
            24.89,
            35,
            58.53,
            96.06,
            81.49,
            52.97
           ],
           "yaxis": "y"
          }
         ],
         "name": "2024-04-26 00:00:00"
        },
        {
         "data": [
          {
           "hovertemplate": "fecha=2024-04-27 00:00:00<br>hora=%{x}<br>€/MWh=%{y}<extra></extra>",
           "legendgroup": "",
           "marker": {
            "color": "#636efa",
            "symbol": "circle"
           },
           "mode": "markers",
           "name": "",
           "orientation": "v",
           "showlegend": false,
           "type": "scatter",
           "x": [
            0,
            1,
            2,
            3,
            4,
            5,
            6,
            7,
            8,
            9,
            10,
            11,
            12,
            13,
            14,
            15,
            16,
            17,
            18,
            19,
            20,
            21,
            22,
            23
           ],
           "xaxis": "x",
           "y": [
            47.88,
            40,
            35,
            35,
            35,
            35,
            35,
            34.21,
            30,
            15.4,
            7.3,
            3.25,
            0.03,
            0,
            0,
            0,
            0,
            0,
            0.44,
            14.98,
            45.51,
            65.27,
            62.78,
            58.52
           ],
           "yaxis": "y"
          }
         ],
         "name": "2024-04-27 00:00:00"
        },
        {
         "data": [
          {
           "hovertemplate": "fecha=2024-04-28 00:00:00<br>hora=%{x}<br>€/MWh=%{y}<extra></extra>",
           "legendgroup": "",
           "marker": {
            "color": "#636efa",
            "symbol": "circle"
           },
           "mode": "markers",
           "name": "",
           "orientation": "v",
           "showlegend": false,
           "type": "scatter",
           "x": [
            0,
            1,
            2,
            3,
            4,
            5,
            6,
            7,
            8,
            9,
            10,
            11,
            12,
            13,
            14,
            15,
            16,
            17,
            18,
            19,
            20,
            21,
            22,
            23
           ],
           "xaxis": "x",
           "y": [
            56.39,
            38.96,
            39.6,
            35.01,
            35.01,
            35.5,
            35.76,
            36.73,
            35,
            14.98,
            0.44,
            0,
            0,
            0,
            0,
            0,
            -0.01,
            0,
            20.66,
            35.01,
            58.88,
            78.56,
            72.21,
            60.65
           ],
           "yaxis": "y"
          }
         ],
         "name": "2024-04-28 00:00:00"
        },
        {
         "data": [
          {
           "hovertemplate": "fecha=2024-04-29 00:00:00<br>hora=%{x}<br>€/MWh=%{y}<extra></extra>",
           "legendgroup": "",
           "marker": {
            "color": "#636efa",
            "symbol": "circle"
           },
           "mode": "markers",
           "name": "",
           "orientation": "v",
           "showlegend": false,
           "type": "scatter",
           "x": [
            0,
            1,
            2,
            3,
            4,
            5,
            6,
            7,
            8,
            9,
            10,
            11,
            12,
            13,
            14,
            15,
            16,
            17,
            18,
            19,
            20,
            21,
            22,
            23
           ],
           "xaxis": "x",
           "y": [
            63.15,
            60.05,
            58.93,
            58.87,
            56,
            58.52,
            52.25,
            102.26,
            96.24,
            59.79,
            45.5,
            36.73,
            35.1,
            35.01,
            35.01,
            35.01,
            35,
            35.2,
            40.74,
            60.53,
            87.21,
            97.92,
            83.75,
            69.77
           ],
           "yaxis": "y"
          }
         ],
         "name": "2024-04-29 00:00:00"
        },
        {
         "data": [
          {
           "hovertemplate": "fecha=2024-04-30 00:00:00<br>hora=%{x}<br>€/MWh=%{y}<extra></extra>",
           "legendgroup": "",
           "marker": {
            "color": "#636efa",
            "symbol": "circle"
           },
           "mode": "markers",
           "name": "",
           "orientation": "v",
           "showlegend": false,
           "type": "scatter",
           "x": [
            0,
            1,
            2,
            3,
            4,
            5,
            6,
            7,
            8,
            9,
            10,
            11,
            12,
            13,
            14,
            15,
            16,
            17,
            18,
            19,
            20,
            21,
            22,
            23
           ],
           "xaxis": "x",
           "y": [
            73.73,
            57.83,
            58.99,
            68.81,
            64.77,
            77.13,
            85.36,
            99.32,
            84.41,
            58,
            41,
            35.01,
            28.26,
            15.1,
            17.5,
            19.14,
            17.5,
            20.4,
            31.96,
            48.25,
            60.1,
            83.91,
            70.98,
            65
           ],
           "yaxis": "y"
          }
         ],
         "name": "2024-04-30 00:00:00"
        },
        {
         "data": [
          {
           "hovertemplate": "fecha=2024-05-01 00:00:00<br>hora=%{x}<br>€/MWh=%{y}<extra></extra>",
           "legendgroup": "",
           "marker": {
            "color": "#636efa",
            "symbol": "circle"
           },
           "mode": "markers",
           "name": "",
           "orientation": "v",
           "showlegend": false,
           "type": "scatter",
           "x": [
            0,
            1,
            2,
            3,
            4,
            5,
            6,
            7,
            8,
            9,
            10,
            11,
            12,
            13,
            14,
            15,
            16,
            17,
            18,
            19,
            20,
            21,
            22,
            23
           ],
           "xaxis": "x",
           "y": [
            35.01,
            34.99,
            21.07,
            19.77,
            17.83,
            17.83,
            18.97,
            17.83,
            8,
            3,
            -0.01,
            -0.07,
            -0.06,
            -1,
            -1.26,
            -1.29,
            -1.29,
            -0.13,
            0,
            0.44,
            19,
            35,
            33.4,
            23.71
           ],
           "yaxis": "y"
          }
         ],
         "name": "2024-05-01 00:00:00"
        },
        {
         "data": [
          {
           "hovertemplate": "fecha=2024-05-02 00:00:00<br>hora=%{x}<br>€/MWh=%{y}<extra></extra>",
           "legendgroup": "",
           "marker": {
            "color": "#636efa",
            "symbol": "circle"
           },
           "mode": "markers",
           "name": "",
           "orientation": "v",
           "showlegend": false,
           "type": "scatter",
           "x": [
            0,
            1,
            2,
            3,
            4,
            5,
            6,
            7,
            8,
            9,
            10,
            11,
            12,
            13,
            14,
            15,
            16,
            17,
            18,
            19,
            20,
            21,
            22,
            23
           ],
           "xaxis": "x",
           "y": [
            14.56,
            10.94,
            10,
            7.8,
            8,
            10.94,
            22.9,
            35.01,
            35,
            10.94,
            3.25,
            2.49,
            1.79,
            1.83,
            0,
            0.44,
            1.06,
            0.44,
            5.39,
            17.6,
            35.4,
            59.14,
            43.9,
            35.64
           ],
           "yaxis": "y"
          }
         ],
         "name": "2024-05-02 00:00:00"
        },
        {
         "data": [
          {
           "hovertemplate": "fecha=2024-05-03 00:00:00<br>hora=%{x}<br>€/MWh=%{y}<extra></extra>",
           "legendgroup": "",
           "marker": {
            "color": "#636efa",
            "symbol": "circle"
           },
           "mode": "markers",
           "name": "",
           "orientation": "v",
           "showlegend": false,
           "type": "scatter",
           "x": [
            0,
            1,
            2,
            3,
            4,
            5,
            6,
            7,
            8,
            9,
            10,
            11,
            12,
            13,
            14,
            15,
            16,
            17,
            18,
            19,
            20,
            21,
            22,
            23
           ],
           "xaxis": "x",
           "y": [
            35.01,
            35.01,
            35,
            35,
            35,
            34.43,
            35,
            41,
            35,
            28.9,
            16.2,
            4.99,
            6.1,
            5,
            3.25,
            2.51,
            0.44,
            3.25,
            9.08,
            27.94,
            40,
            66.52,
            50.02,
            42
           ],
           "yaxis": "y"
          }
         ],
         "name": "2024-05-03 00:00:00"
        },
        {
         "data": [
          {
           "hovertemplate": "fecha=2024-05-04 00:00:00<br>hora=%{x}<br>€/MWh=%{y}<extra></extra>",
           "legendgroup": "",
           "marker": {
            "color": "#636efa",
            "symbol": "circle"
           },
           "mode": "markers",
           "name": "",
           "orientation": "v",
           "showlegend": false,
           "type": "scatter",
           "x": [
            0,
            1,
            2,
            3,
            4,
            5,
            6,
            7,
            8,
            9,
            10,
            11,
            12,
            13,
            14,
            15,
            16,
            17,
            18,
            19,
            20,
            21,
            22,
            23
           ],
           "xaxis": "x",
           "y": [
            35,
            33.11,
            27.94,
            18.9,
            16.2,
            18.9,
            22.23,
            26.22,
            16.2,
            2.1,
            0.01,
            0,
            0,
            0,
            0,
            0,
            0,
            0,
            0,
            3.25,
            30,
            35.01,
            35.02,
            35.01
           ],
           "yaxis": "y"
          }
         ],
         "name": "2024-05-04 00:00:00"
        },
        {
         "data": [
          {
           "hovertemplate": "fecha=2024-05-05 00:00:00<br>hora=%{x}<br>€/MWh=%{y}<extra></extra>",
           "legendgroup": "",
           "marker": {
            "color": "#636efa",
            "symbol": "circle"
           },
           "mode": "markers",
           "name": "",
           "orientation": "v",
           "showlegend": false,
           "type": "scatter",
           "x": [
            0,
            1,
            2,
            3,
            4,
            5,
            6,
            7,
            8,
            9,
            10,
            11,
            12,
            13,
            14,
            15,
            16,
            17,
            18,
            19,
            20,
            21,
            22,
            23
           ],
           "xaxis": "x",
           "y": [
            30,
            26.87,
            24.13,
            22.62,
            22.86,
            24.81,
            26.87,
            25.63,
            16.72,
            3.25,
            1.88,
            0.44,
            0,
            -0.04,
            -0.58,
            -0.1,
            0,
            0,
            3.25,
            6.1,
            29.9,
            54.33,
            51.61,
            50.15
           ],
           "yaxis": "y"
          }
         ],
         "name": "2024-05-05 00:00:00"
        },
        {
         "data": [
          {
           "hovertemplate": "fecha=2024-05-06 00:00:00<br>hora=%{x}<br>€/MWh=%{y}<extra></extra>",
           "legendgroup": "",
           "marker": {
            "color": "#636efa",
            "symbol": "circle"
           },
           "mode": "markers",
           "name": "",
           "orientation": "v",
           "showlegend": false,
           "type": "scatter",
           "x": [
            0,
            1,
            2,
            3,
            4,
            5,
            6,
            7,
            8,
            9,
            10,
            11,
            12,
            13,
            14,
            15,
            16,
            17,
            18,
            19,
            20,
            21,
            22,
            23
           ],
           "xaxis": "x",
           "y": [
            63.58,
            55.99,
            51.91,
            53.96,
            51.08,
            53.96,
            57.1,
            84.03,
            86.89,
            61.54,
            45.13,
            35,
            18.9,
            10,
            6.1,
            4.99,
            4.23,
            5,
            9.9,
            37.62,
            75.1,
            97.69,
            93.2,
            84.42
           ],
           "yaxis": "y"
          }
         ],
         "name": "2024-05-06 00:00:00"
        },
        {
         "data": [
          {
           "hovertemplate": "fecha=2024-05-07 00:00:00<br>hora=%{x}<br>€/MWh=%{y}<extra></extra>",
           "legendgroup": "",
           "marker": {
            "color": "#636efa",
            "symbol": "circle"
           },
           "mode": "markers",
           "name": "",
           "orientation": "v",
           "showlegend": false,
           "type": "scatter",
           "x": [
            0,
            1,
            2,
            3,
            4,
            5,
            6,
            7,
            8,
            9,
            10,
            11,
            12,
            13,
            14,
            15,
            16,
            17,
            18,
            19,
            20,
            21,
            22,
            23
           ],
           "xaxis": "x",
           "y": [
            81.73,
            77.64,
            74.77,
            68.24,
            66.82,
            69.09,
            75.98,
            99.87,
            75.62,
            35,
            10,
            3.6,
            0,
            0,
            0,
            0,
            0,
            0,
            0,
            35,
            56.18,
            67.44,
            62,
            50.01
           ],
           "yaxis": "y"
          }
         ],
         "name": "2024-05-07 00:00:00"
        },
        {
         "data": [
          {
           "hovertemplate": "fecha=2024-05-08 00:00:00<br>hora=%{x}<br>€/MWh=%{y}<extra></extra>",
           "legendgroup": "",
           "marker": {
            "color": "#636efa",
            "symbol": "circle"
           },
           "mode": "markers",
           "name": "",
           "orientation": "v",
           "showlegend": false,
           "type": "scatter",
           "x": [
            0,
            1,
            2,
            3,
            4,
            5,
            6,
            7,
            8,
            9,
            10,
            11,
            12,
            13,
            14,
            15,
            16,
            17,
            18,
            19,
            20,
            21,
            22,
            23
           ],
           "xaxis": "x",
           "y": [
            30,
            20.18,
            19.47,
            17.27,
            19.47,
            18.67,
            21.07,
            35.01,
            30,
            18.67,
            10,
            6.55,
            3.25,
            3.25,
            3.25,
            3.25,
            3.25,
            3.6,
            10,
            24.5,
            39.52,
            63.38,
            54.36,
            51.91
           ],
           "yaxis": "y"
          }
         ],
         "name": "2024-05-08 00:00:00"
        },
        {
         "data": [
          {
           "hovertemplate": "fecha=2024-05-09 00:00:00<br>hora=%{x}<br>€/MWh=%{y}<extra></extra>",
           "legendgroup": "",
           "marker": {
            "color": "#636efa",
            "symbol": "circle"
           },
           "mode": "markers",
           "name": "",
           "orientation": "v",
           "showlegend": false,
           "type": "scatter",
           "x": [
            0,
            1,
            2,
            3,
            4,
            5,
            6,
            7,
            8,
            9,
            10,
            11,
            12,
            13,
            14,
            15,
            16,
            17,
            18,
            19,
            20,
            21,
            22,
            23
           ],
           "xaxis": "x",
           "y": [
            35.01,
            35.01,
            35,
            35,
            35.01,
            35.01,
            47.33,
            68.78,
            40.15,
            29.9,
            10.99,
            3.25,
            0.44,
            0.44,
            0.44,
            0.44,
            1.74,
            5.89,
            14.99,
            35,
            72.94,
            104.62,
            91.83,
            65.72
           ],
           "yaxis": "y"
          }
         ],
         "name": "2024-05-09 00:00:00"
        },
        {
         "data": [
          {
           "hovertemplate": "fecha=2024-05-10 00:00:00<br>hora=%{x}<br>€/MWh=%{y}<extra></extra>",
           "legendgroup": "",
           "marker": {
            "color": "#636efa",
            "symbol": "circle"
           },
           "mode": "markers",
           "name": "",
           "orientation": "v",
           "showlegend": false,
           "type": "scatter",
           "x": [
            0,
            1,
            2,
            3,
            4,
            5,
            6,
            7,
            8,
            9,
            10,
            11,
            12,
            13,
            14,
            15,
            16,
            17,
            18,
            19,
            20,
            21,
            22,
            23
           ],
           "xaxis": "x",
           "y": [
            45,
            40.74,
            39.95,
            38,
            38.55,
            40.86,
            57,
            75.72,
            40.89,
            22.98,
            12.1,
            3.25,
            0.98,
            0.44,
            0.44,
            0.88,
            3.25,
            6.31,
            9.76,
            14.99,
            39.52,
            75.72,
            47.25,
            40.17
           ],
           "yaxis": "y"
          }
         ],
         "name": "2024-05-10 00:00:00"
        },
        {
         "data": [
          {
           "hovertemplate": "fecha=2024-05-11 00:00:00<br>hora=%{x}<br>€/MWh=%{y}<extra></extra>",
           "legendgroup": "",
           "marker": {
            "color": "#636efa",
            "symbol": "circle"
           },
           "mode": "markers",
           "name": "",
           "orientation": "v",
           "showlegend": false,
           "type": "scatter",
           "x": [
            0,
            1,
            2,
            3,
            4,
            5,
            6,
            7,
            8,
            9,
            10,
            11,
            12,
            13,
            14,
            15,
            16,
            17,
            18,
            19,
            20,
            21,
            22,
            23
           ],
           "xaxis": "x",
           "y": [
            38.86,
            35.01,
            35,
            35.01,
            35.01,
            35.01,
            35.01,
            35.01,
            28.07,
            6.4,
            0,
            0,
            0,
            0,
            -0.01,
            -0.25,
            -0.41,
            0,
            3.25,
            11.1,
            35,
            44,
            41.63,
            41.46
           ],
           "yaxis": "y"
          }
         ],
         "name": "2024-05-11 00:00:00"
        },
        {
         "data": [
          {
           "hovertemplate": "fecha=2024-05-12 00:00:00<br>hora=%{x}<br>€/MWh=%{y}<extra></extra>",
           "legendgroup": "",
           "marker": {
            "color": "#636efa",
            "symbol": "circle"
           },
           "mode": "markers",
           "name": "",
           "orientation": "v",
           "showlegend": false,
           "type": "scatter",
           "x": [
            0,
            1,
            2,
            3,
            4,
            5,
            6,
            7,
            8,
            9,
            10,
            11,
            12,
            13,
            14,
            15,
            16,
            17,
            18,
            19,
            20,
            21,
            22,
            23
           ],
           "xaxis": "x",
           "y": [
            35.01,
            35,
            35,
            35,
            35,
            35,
            35,
            34.07,
            2.35,
            0,
            0,
            -0.75,
            -0.62,
            -0.66,
            -0.66,
            -1,
            -1,
            0,
            14.3,
            35,
            39.53,
            61.5,
            49.98,
            39.68
           ],
           "yaxis": "y"
          }
         ],
         "name": "2024-05-12 00:00:00"
        },
        {
         "data": [
          {
           "hovertemplate": "fecha=2024-05-13 00:00:00<br>hora=%{x}<br>€/MWh=%{y}<extra></extra>",
           "legendgroup": "",
           "marker": {
            "color": "#636efa",
            "symbol": "circle"
           },
           "mode": "markers",
           "name": "",
           "orientation": "v",
           "showlegend": false,
           "type": "scatter",
           "x": [
            0,
            1,
            2,
            3,
            4,
            5,
            6,
            7,
            8,
            9,
            10,
            11,
            12,
            13,
            14,
            15,
            16,
            17,
            18,
            19,
            20,
            21,
            22,
            23
           ],
           "xaxis": "x",
           "y": [
            35,
            35,
            35,
            34.04,
            34.03,
            34,
            35,
            49.35,
            50,
            38.03,
            11.7,
            1.52,
            0,
            0,
            0,
            0,
            0.44,
            1.7,
            3.25,
            14.3,
            35,
            38.03,
            39.68,
            35.01
           ],
           "yaxis": "y"
          }
         ],
         "name": "2024-05-13 00:00:00"
        },
        {
         "data": [
          {
           "hovertemplate": "fecha=2024-05-14 00:00:00<br>hora=%{x}<br>€/MWh=%{y}<extra></extra>",
           "legendgroup": "",
           "marker": {
            "color": "#636efa",
            "symbol": "circle"
           },
           "mode": "markers",
           "name": "",
           "orientation": "v",
           "showlegend": false,
           "type": "scatter",
           "x": [
            0,
            1,
            2,
            3,
            4,
            5,
            6,
            7,
            8,
            9,
            10,
            11,
            12,
            13,
            14,
            15,
            16,
            17,
            18,
            19,
            20,
            21,
            22,
            23
           ],
           "xaxis": "x",
           "y": [
            11.1,
            5,
            4.16,
            2,
            0.01,
            0.49,
            3.25,
            22,
            16.5,
            7.67,
            0,
            0,
            0,
            0,
            -0.01,
            -0.06,
            -0.01,
            0,
            0,
            3.25,
            21.96,
            35,
            35,
            28.07
           ],
           "yaxis": "y"
          }
         ],
         "name": "2024-05-14 00:00:00"
        },
        {
         "data": [
          {
           "hovertemplate": "fecha=2024-05-15 00:00:00<br>hora=%{x}<br>€/MWh=%{y}<extra></extra>",
           "legendgroup": "",
           "marker": {
            "color": "#636efa",
            "symbol": "circle"
           },
           "mode": "markers",
           "name": "",
           "orientation": "v",
           "showlegend": false,
           "type": "scatter",
           "x": [
            0,
            1,
            2,
            3,
            4,
            5,
            6,
            7,
            8,
            9,
            10,
            11,
            12,
            13,
            14,
            15,
            16,
            17,
            18,
            19,
            20,
            21,
            22,
            23
           ],
           "xaxis": "x",
           "y": [
            17.84,
            14.99,
            12.03,
            10.96,
            11,
            16.55,
            30.64,
            35.01,
            30,
            3.25,
            3.21,
            0.15,
            0,
            0,
            0,
            0,
            0,
            0,
            0.01,
            3.25,
            22.78,
            43.12,
            51.29,
            35.01
           ],
           "yaxis": "y"
          }
         ],
         "name": "2024-05-15 00:00:00"
        },
        {
         "data": [
          {
           "hovertemplate": "fecha=2024-05-16 00:00:00<br>hora=%{x}<br>€/MWh=%{y}<extra></extra>",
           "legendgroup": "",
           "marker": {
            "color": "#636efa",
            "symbol": "circle"
           },
           "mode": "markers",
           "name": "",
           "orientation": "v",
           "showlegend": false,
           "type": "scatter",
           "x": [
            0,
            1,
            2,
            3,
            4,
            5,
            6,
            7,
            8,
            9,
            10,
            11,
            12,
            13,
            14,
            15,
            16,
            17,
            18,
            19,
            20,
            21,
            22,
            23
           ],
           "xaxis": "x",
           "y": [
            53.52,
            39.52,
            35.5,
            35.01,
            35,
            34.47,
            35,
            35.01,
            35.01,
            30,
            12,
            3.25,
            3.25,
            2.95,
            2.15,
            0.49,
            0.57,
            2.6,
            3.25,
            30,
            39.52,
            120,
            106.39,
            81.94
           ],
           "yaxis": "y"
          }
         ],
         "name": "2024-05-16 00:00:00"
        },
        {
         "data": [
          {
           "hovertemplate": "fecha=2024-05-17 00:00:00<br>hora=%{x}<br>€/MWh=%{y}<extra></extra>",
           "legendgroup": "",
           "marker": {
            "color": "#636efa",
            "symbol": "circle"
           },
           "mode": "markers",
           "name": "",
           "orientation": "v",
           "showlegend": false,
           "type": "scatter",
           "x": [
            0,
            1,
            2,
            3,
            4,
            5,
            6,
            7,
            8,
            9,
            10,
            11,
            12,
            13,
            14,
            15,
            16,
            17,
            18,
            19,
            20,
            21,
            22,
            23
           ],
           "xaxis": "x",
           "y": [
            90.34,
            80.32,
            67.51,
            60,
            50.6,
            59.5,
            67.78,
            102.66,
            89.46,
            49.84,
            35.01,
            33.49,
            35.01,
            20.39,
            16.84,
            11.9,
            10.61,
            17.74,
            29.57,
            37.93,
            64.8,
            84.24,
            89.4,
            77.18
           ],
           "yaxis": "y"
          }
         ],
         "name": "2024-05-17 00:00:00"
        },
        {
         "data": [
          {
           "hovertemplate": "fecha=2024-05-18 00:00:00<br>hora=%{x}<br>€/MWh=%{y}<extra></extra>",
           "legendgroup": "",
           "marker": {
            "color": "#636efa",
            "symbol": "circle"
           },
           "mode": "markers",
           "name": "",
           "orientation": "v",
           "showlegend": false,
           "type": "scatter",
           "x": [
            0,
            1,
            2,
            3,
            4,
            5,
            6,
            7,
            8,
            9,
            10,
            11,
            12,
            13,
            14,
            15,
            16,
            17,
            18,
            19,
            20,
            21,
            22,
            23
           ],
           "xaxis": "x",
           "y": [
            71.37,
            63.23,
            45.13,
            44.98,
            47.78,
            48.16,
            50.85,
            43.48,
            31.96,
            20.6,
            9.43,
            0.71,
            0,
            0,
            0,
            0,
            0,
            4.9,
            15.25,
            35,
            45.42,
            72.87,
            74.46,
            66.17
           ],
           "yaxis": "y"
          }
         ],
         "name": "2024-05-18 00:00:00"
        },
        {
         "data": [
          {
           "hovertemplate": "fecha=2024-05-19 00:00:00<br>hora=%{x}<br>€/MWh=%{y}<extra></extra>",
           "legendgroup": "",
           "marker": {
            "color": "#636efa",
            "symbol": "circle"
           },
           "mode": "markers",
           "name": "",
           "orientation": "v",
           "showlegend": false,
           "type": "scatter",
           "x": [
            0,
            1,
            2,
            3,
            4,
            5,
            6,
            7,
            8,
            9,
            10,
            11,
            12,
            13,
            14,
            15,
            16,
            17,
            18,
            19,
            20,
            21,
            22,
            23
           ],
           "xaxis": "x",
           "y": [
            58.15,
            53.85,
            50.91,
            49.98,
            48.47,
            39.9,
            41.2,
            49.19,
            35,
            6.69,
            0,
            0,
            0,
            0,
            0,
            -0.62,
            -0.62,
            0,
            5,
            20.8,
            35,
            51.86,
            45.54,
            48.15
           ],
           "yaxis": "y"
          }
         ],
         "name": "2024-05-19 00:00:00"
        },
        {
         "data": [
          {
           "hovertemplate": "fecha=2024-05-20 00:00:00<br>hora=%{x}<br>€/MWh=%{y}<extra></extra>",
           "legendgroup": "",
           "marker": {
            "color": "#636efa",
            "symbol": "circle"
           },
           "mode": "markers",
           "name": "",
           "orientation": "v",
           "showlegend": false,
           "type": "scatter",
           "x": [
            0,
            1,
            2,
            3,
            4,
            5,
            6,
            7,
            8,
            9,
            10,
            11,
            12,
            13,
            14,
            15,
            16,
            17,
            18,
            19,
            20,
            21,
            22,
            23
           ],
           "xaxis": "x",
           "y": [
            49.12,
            44,
            46.62,
            48.16,
            48.4,
            50.5,
            55.99,
            58.82,
            49.98,
            33.8,
            13.5,
            8.33,
            3.26,
            1.09,
            0.78,
            0.54,
            3.25,
            5,
            15.17,
            33.8,
            49.12,
            59.31,
            57.63,
            49
           ],
           "yaxis": "y"
          }
         ],
         "name": "2024-05-20 00:00:00"
        },
        {
         "data": [
          {
           "hovertemplate": "fecha=2024-05-21 00:00:00<br>hora=%{x}<br>€/MWh=%{y}<extra></extra>",
           "legendgroup": "",
           "marker": {
            "color": "#636efa",
            "symbol": "circle"
           },
           "mode": "markers",
           "name": "",
           "orientation": "v",
           "showlegend": false,
           "type": "scatter",
           "x": [
            0,
            1,
            2,
            3,
            4,
            5,
            6,
            7,
            8,
            9,
            10,
            11,
            12,
            13,
            14,
            15,
            16,
            17,
            18,
            19,
            20,
            21,
            22,
            23
           ],
           "xaxis": "x",
           "y": [
            72.43,
            70.5,
            69.13,
            69,
            68.01,
            68.84,
            67,
            67.92,
            72.87,
            41.7,
            30,
            18.82,
            20.43,
            14.7,
            9.66,
            8.21,
            7.44,
            14.7,
            19.44,
            34.79,
            62.73,
            68.01,
            66.77,
            63.08
           ],
           "yaxis": "y"
          }
         ],
         "name": "2024-05-21 00:00:00"
        },
        {
         "data": [
          {
           "hovertemplate": "fecha=2024-05-22 00:00:00<br>hora=%{x}<br>€/MWh=%{y}<extra></extra>",
           "legendgroup": "",
           "marker": {
            "color": "#636efa",
            "symbol": "circle"
           },
           "mode": "markers",
           "name": "",
           "orientation": "v",
           "showlegend": false,
           "type": "scatter",
           "x": [
            0,
            1,
            2,
            3,
            4,
            5,
            6,
            7,
            8,
            9,
            10,
            11,
            12,
            13,
            14,
            15,
            16,
            17,
            18,
            19,
            20,
            21,
            22,
            23
           ],
           "xaxis": "x",
           "y": [
            72,
            68.9,
            65.9,
            66.32,
            64.76,
            67.88,
            62.9,
            66.43,
            58.58,
            38.65,
            24.17,
            22,
            21.76,
            11.72,
            10.23,
            3.25,
            3.25,
            8.47,
            25.1,
            41.2,
            57.24,
            74.63,
            67.88,
            71
           ],
           "yaxis": "y"
          }
         ],
         "name": "2024-05-22 00:00:00"
        },
        {
         "data": [
          {
           "hovertemplate": "fecha=2024-05-23 00:00:00<br>hora=%{x}<br>€/MWh=%{y}<extra></extra>",
           "legendgroup": "",
           "marker": {
            "color": "#636efa",
            "symbol": "circle"
           },
           "mode": "markers",
           "name": "",
           "orientation": "v",
           "showlegend": false,
           "type": "scatter",
           "x": [
            0,
            1,
            2,
            3,
            4,
            5,
            6,
            7,
            8,
            9,
            10,
            11,
            12,
            13,
            14,
            15,
            16,
            17,
            18,
            19,
            20,
            21,
            22,
            23
           ],
           "xaxis": "x",
           "y": [
            72,
            71.12,
            54,
            71.3,
            71.12,
            71.74,
            72,
            80.58,
            82.67,
            71.74,
            49.21,
            42.63,
            35.01,
            35,
            30.39,
            26.1,
            26.31,
            35.01,
            43.56,
            71.12,
            68.43,
            91.73,
            92.3,
            85.65
           ],
           "yaxis": "y"
          }
         ],
         "name": "2024-05-23 00:00:00"
        },
        {
         "data": [
          {
           "hovertemplate": "fecha=2024-05-24 00:00:00<br>hora=%{x}<br>€/MWh=%{y}<extra></extra>",
           "legendgroup": "",
           "marker": {
            "color": "#636efa",
            "symbol": "circle"
           },
           "mode": "markers",
           "name": "",
           "orientation": "v",
           "showlegend": false,
           "type": "scatter",
           "x": [
            0,
            1,
            2,
            3,
            4,
            5,
            6,
            7,
            8,
            9,
            10,
            11,
            12,
            13,
            14,
            15,
            16,
            17,
            18,
            19,
            20,
            21,
            22,
            23
           ],
           "xaxis": "x",
           "y": [
            85,
            78.34,
            77.51,
            72,
            71,
            81.09,
            83.34,
            89.72,
            86.84,
            74.9,
            61.22,
            48.1,
            48.3,
            40.8,
            36.76,
            35.01,
            38.5,
            41.1,
            68,
            81.56,
            92.76,
            117.19,
            111.1,
            99.84
           ],
           "yaxis": "y"
          }
         ],
         "name": "2024-05-24 00:00:00"
        },
        {
         "data": [
          {
           "hovertemplate": "fecha=2024-05-25 00:00:00<br>hora=%{x}<br>€/MWh=%{y}<extra></extra>",
           "legendgroup": "",
           "marker": {
            "color": "#636efa",
            "symbol": "circle"
           },
           "mode": "markers",
           "name": "",
           "orientation": "v",
           "showlegend": false,
           "type": "scatter",
           "x": [
            0,
            1,
            2,
            3,
            4,
            5,
            6,
            7,
            8,
            9,
            10,
            11,
            12,
            13,
            14,
            15,
            16,
            17,
            18,
            19,
            20,
            21,
            22,
            23
           ],
           "xaxis": "x",
           "y": [
            94.88,
            85.74,
            74.88,
            72,
            70.99,
            70,
            71.3,
            71.74,
            30.52,
            24.44,
            16.5,
            9.32,
            3.24,
            0.04,
            0,
            0,
            0,
            0,
            2,
            28.5,
            70.99,
            80.54,
            86.85,
            84.68
           ],
           "yaxis": "y"
          }
         ],
         "name": "2024-05-25 00:00:00"
        },
        {
         "data": [
          {
           "hovertemplate": "fecha=2024-05-26 00:00:00<br>hora=%{x}<br>€/MWh=%{y}<extra></extra>",
           "legendgroup": "",
           "marker": {
            "color": "#636efa",
            "symbol": "circle"
           },
           "mode": "markers",
           "name": "",
           "orientation": "v",
           "showlegend": false,
           "type": "scatter",
           "x": [
            0,
            1,
            2,
            3,
            4,
            5,
            6,
            7,
            8,
            9,
            10,
            11,
            12,
            13,
            14,
            15,
            16,
            17,
            18,
            19,
            20,
            21,
            22,
            23
           ],
           "xaxis": "x",
           "y": [
            56.64,
            53.71,
            46.65,
            46.65,
            50,
            55.92,
            56.16,
            35.8,
            20.33,
            0.02,
            0,
            -0.01,
            -0.01,
            -0.01,
            -0.03,
            -0.6,
            -0.6,
            0,
            0.44,
            16.72,
            35.23,
            46,
            55.52,
            35.6
           ],
           "yaxis": "y"
          }
         ],
         "name": "2024-05-26 00:00:00"
        },
        {
         "data": [
          {
           "hovertemplate": "fecha=2024-05-27 00:00:00<br>hora=%{x}<br>€/MWh=%{y}<extra></extra>",
           "legendgroup": "",
           "marker": {
            "color": "#636efa",
            "symbol": "circle"
           },
           "mode": "markers",
           "name": "",
           "orientation": "v",
           "showlegend": false,
           "type": "scatter",
           "x": [
            0,
            1,
            2,
            3,
            4,
            5,
            6,
            7,
            8,
            9,
            10,
            11,
            12,
            13,
            14,
            15,
            16,
            17,
            18,
            19,
            20,
            21,
            22,
            23
           ],
           "xaxis": "x",
           "y": [
            32.3,
            33,
            31,
            30.9,
            28,
            30.8,
            35.01,
            43.01,
            35,
            33.5,
            31.53,
            26.12,
            30.6,
            25,
            22.23,
            14.33,
            6,
            17.72,
            25.57,
            31.66,
            35.01,
            54,
            52.82,
            35.05
           ],
           "yaxis": "y"
          }
         ],
         "name": "2024-05-27 00:00:00"
        },
        {
         "data": [
          {
           "hovertemplate": "fecha=2024-05-28 00:00:00<br>hora=%{x}<br>€/MWh=%{y}<extra></extra>",
           "legendgroup": "",
           "marker": {
            "color": "#636efa",
            "symbol": "circle"
           },
           "mode": "markers",
           "name": "",
           "orientation": "v",
           "showlegend": false,
           "type": "scatter",
           "x": [
            0,
            1,
            2,
            3,
            4,
            5,
            6,
            7,
            8,
            9,
            10,
            11,
            12,
            13,
            14,
            15,
            16,
            17,
            18,
            19,
            20,
            21,
            22,
            23
           ],
           "xaxis": "x",
           "y": [
            35,
            35,
            35.01,
            35.01,
            35.01,
            35.01,
            41.22,
            51.79,
            40.74,
            35,
            28.2,
            0.07,
            0.08,
            0,
            0,
            0,
            0.01,
            5,
            8,
            29.6,
            41.1,
            70.96,
            55.94,
            41.46
           ],
           "yaxis": "y"
          }
         ],
         "name": "2024-05-28 00:00:00"
        },
        {
         "data": [
          {
           "hovertemplate": "fecha=2024-05-29 00:00:00<br>hora=%{x}<br>€/MWh=%{y}<extra></extra>",
           "legendgroup": "",
           "marker": {
            "color": "#636efa",
            "symbol": "circle"
           },
           "mode": "markers",
           "name": "",
           "orientation": "v",
           "showlegend": false,
           "type": "scatter",
           "x": [
            0,
            1,
            2,
            3,
            4,
            5,
            6,
            7,
            8,
            9,
            10,
            11,
            12,
            13,
            14,
            15,
            16,
            17,
            18,
            19,
            20,
            21,
            22,
            23
           ],
           "xaxis": "x",
           "y": [
            54.77,
            40.94,
            40.58,
            40.34,
            40.7,
            40.94,
            59.36,
            65,
            52.19,
            38.5,
            29,
            20.5,
            24.08,
            18.4,
            17.47,
            11.98,
            11,
            19.76,
            29.38,
            35.01,
            40.94,
            67.94,
            69.87,
            63.95
           ],
           "yaxis": "y"
          }
         ],
         "name": "2024-05-29 00:00:00"
        },
        {
         "data": [
          {
           "hovertemplate": "fecha=2024-05-30 00:00:00<br>hora=%{x}<br>€/MWh=%{y}<extra></extra>",
           "legendgroup": "",
           "marker": {
            "color": "#636efa",
            "symbol": "circle"
           },
           "mode": "markers",
           "name": "",
           "orientation": "v",
           "showlegend": false,
           "type": "scatter",
           "x": [
            0,
            1,
            2,
            3,
            4,
            5,
            6,
            7,
            8,
            9,
            10,
            11,
            12,
            13,
            14,
            15,
            16,
            17,
            18,
            19,
            20,
            21,
            22,
            23
           ],
           "xaxis": "x",
           "y": [
            50.94,
            45.32,
            43.12,
            40.53,
            38.64,
            42.79,
            45.44,
            45.44,
            38.64,
            27.42,
            10.27,
            3.82,
            3.25,
            0.44,
            0,
            0,
            0,
            0,
            1,
            7,
            37.5,
            35.01,
            37.92,
            30.33
           ],
           "yaxis": "y"
          }
         ],
         "name": "2024-05-30 00:00:00"
        },
        {
         "data": [
          {
           "hovertemplate": "fecha=2024-05-31 00:00:00<br>hora=%{x}<br>€/MWh=%{y}<extra></extra>",
           "legendgroup": "",
           "marker": {
            "color": "#636efa",
            "symbol": "circle"
           },
           "mode": "markers",
           "name": "",
           "orientation": "v",
           "showlegend": false,
           "type": "scatter",
           "x": [
            0,
            1,
            2,
            3,
            4,
            5,
            6,
            7,
            8,
            9,
            10,
            11,
            12,
            13,
            14,
            15,
            16,
            17,
            18,
            19,
            20,
            21,
            22,
            23
           ],
           "xaxis": "x",
           "y": [
            10,
            5.5,
            4.77,
            3.25,
            3.25,
            4.37,
            6.67,
            5,
            2.47,
            0,
            0,
            0,
            0,
            0,
            -0.01,
            -0.01,
            -0.01,
            -0.01,
            0,
            0,
            3.25,
            7.3,
            5.5,
            3.25
           ],
           "yaxis": "y"
          }
         ],
         "name": "2024-05-31 00:00:00"
        },
        {
         "data": [
          {
           "hovertemplate": "fecha=2024-06-01 00:00:00<br>hora=%{x}<br>€/MWh=%{y}<extra></extra>",
           "legendgroup": "",
           "marker": {
            "color": "#636efa",
            "symbol": "circle"
           },
           "mode": "markers",
           "name": "",
           "orientation": "v",
           "showlegend": false,
           "type": "scatter",
           "x": [
            0,
            1,
            2,
            3,
            4,
            5,
            6,
            7,
            8,
            9,
            10,
            11,
            12,
            13,
            14,
            15,
            16,
            17,
            18,
            19,
            20,
            21,
            22,
            23
           ],
           "xaxis": "x",
           "y": [
            4.99,
            3.25,
            3.25,
            1.23,
            0.09,
            3.25,
            3.25,
            3.25,
            0,
            0,
            -0.01,
            -0.36,
            -0.5,
            -0.36,
            -0.6,
            -0.62,
            -0.66,
            -0.6,
            -0.01,
            0,
            3.25,
            7.2,
            8.44,
            4.5
           ],
           "yaxis": "y"
          }
         ],
         "name": "2024-06-01 00:00:00"
        },
        {
         "data": [
          {
           "hovertemplate": "fecha=2024-06-02 00:00:00<br>hora=%{x}<br>€/MWh=%{y}<extra></extra>",
           "legendgroup": "",
           "marker": {
            "color": "#636efa",
            "symbol": "circle"
           },
           "mode": "markers",
           "name": "",
           "orientation": "v",
           "showlegend": false,
           "type": "scatter",
           "x": [
            0,
            1,
            2,
            3,
            4,
            5,
            6,
            7,
            8,
            9,
            10,
            11,
            12,
            13,
            14,
            15,
            16,
            17,
            18,
            19,
            20,
            21,
            22,
            23
           ],
           "xaxis": "x",
           "y": [
            7.2,
            5,
            4.35,
            3.6,
            3.6,
            5,
            4.43,
            3.25,
            0,
            -0.03,
            -1.05,
            -1.86,
            -1.86,
            -1.86,
            -1.86,
            -1.86,
            -1.86,
            -1,
            -0.01,
            0.44,
            11.35,
            25.01,
            28.87,
            13.42
           ],
           "yaxis": "y"
          }
         ],
         "name": "2024-06-02 00:00:00"
        },
        {
         "data": [
          {
           "hovertemplate": "fecha=2024-06-03 00:00:00<br>hora=%{x}<br>€/MWh=%{y}<extra></extra>",
           "legendgroup": "",
           "marker": {
            "color": "#636efa",
            "symbol": "circle"
           },
           "mode": "markers",
           "name": "",
           "orientation": "v",
           "showlegend": false,
           "type": "scatter",
           "x": [
            0,
            1,
            2,
            3,
            4,
            5,
            6,
            7,
            8,
            9,
            10,
            11,
            12,
            13,
            14,
            15,
            16,
            17,
            18,
            19,
            20,
            21,
            22,
            23
           ],
           "xaxis": "x",
           "y": [
            9.16,
            14.1,
            14.1,
            12.5,
            14.32,
            10.15,
            35.01,
            37.94,
            41.93,
            35,
            16.9,
            5.44,
            4.46,
            8.3,
            3.25,
            1.31,
            3.25,
            11.86,
            35,
            49.22,
            75.37,
            102.15,
            81.31,
            63.3
           ],
           "yaxis": "y"
          }
         ],
         "name": "2024-06-03 00:00:00"
        },
        {
         "data": [
          {
           "hovertemplate": "fecha=2024-06-04 00:00:00<br>hora=%{x}<br>€/MWh=%{y}<extra></extra>",
           "legendgroup": "",
           "marker": {
            "color": "#636efa",
            "symbol": "circle"
           },
           "mode": "markers",
           "name": "",
           "orientation": "v",
           "showlegend": false,
           "type": "scatter",
           "x": [
            0,
            1,
            2,
            3,
            4,
            5,
            6,
            7,
            8,
            9,
            10,
            11,
            12,
            13,
            14,
            15,
            16,
            17,
            18,
            19,
            20,
            21,
            22,
            23
           ],
           "xaxis": "x",
           "y": [
            99.2,
            92.72,
            94.88,
            84.82,
            94.88,
            95.4,
            150,
            175.55,
            113.22,
            81.82,
            70,
            37.3,
            35.01,
            35,
            35,
            27.5,
            30,
            35.01,
            59.48,
            67.18,
            116.24,
            171.15,
            157,
            145
           ],
           "yaxis": "y"
          }
         ],
         "name": "2024-06-04 00:00:00"
        },
        {
         "data": [
          {
           "hovertemplate": "fecha=2024-06-05 00:00:00<br>hora=%{x}<br>€/MWh=%{y}<extra></extra>",
           "legendgroup": "",
           "marker": {
            "color": "#636efa",
            "symbol": "circle"
           },
           "mode": "markers",
           "name": "",
           "orientation": "v",
           "showlegend": false,
           "type": "scatter",
           "x": [
            0,
            1,
            2,
            3,
            4,
            5,
            6,
            7,
            8,
            9,
            10,
            11,
            12,
            13,
            14,
            15,
            16,
            17,
            18,
            19,
            20,
            21,
            22,
            23
           ],
           "xaxis": "x",
           "y": [
            117.01,
            112.42,
            110,
            110,
            104.68,
            107.19,
            110,
            123.08,
            120.22,
            110.91,
            81.56,
            55,
            50.21,
            47.25,
            35.01,
            35.01,
            35.01,
            54.88,
            79,
            108.41,
            124.12,
            170.01,
            124.07,
            113.2
           ],
           "yaxis": "y"
          }
         ],
         "name": "2024-06-05 00:00:00"
        },
        {
         "data": [
          {
           "hovertemplate": "fecha=2024-06-06 00:00:00<br>hora=%{x}<br>€/MWh=%{y}<extra></extra>",
           "legendgroup": "",
           "marker": {
            "color": "#636efa",
            "symbol": "circle"
           },
           "mode": "markers",
           "name": "",
           "orientation": "v",
           "showlegend": false,
           "type": "scatter",
           "x": [
            0,
            1,
            2,
            3,
            4,
            5,
            6,
            7,
            8,
            9,
            10,
            11,
            12,
            13,
            14,
            15,
            16,
            17,
            18,
            19,
            20,
            21,
            22,
            23
           ],
           "xaxis": "x",
           "y": [
            103.72,
            107.63,
            110.3,
            109.53,
            110,
            110.3,
            112.88,
            114.47,
            101.44,
            84.16,
            81.15,
            69,
            62,
            56.3,
            56.2,
            55.9,
            62,
            80,
            90,
            100.3,
            115.23,
            122.37,
            116.87,
            110.41
           ],
           "yaxis": "y"
          }
         ],
         "name": "2024-06-06 00:00:00"
        },
        {
         "data": [
          {
           "hovertemplate": "fecha=2024-06-07 00:00:00<br>hora=%{x}<br>€/MWh=%{y}<extra></extra>",
           "legendgroup": "",
           "marker": {
            "color": "#636efa",
            "symbol": "circle"
           },
           "mode": "markers",
           "name": "",
           "orientation": "v",
           "showlegend": false,
           "type": "scatter",
           "x": [
            0,
            1,
            2,
            3,
            4,
            5,
            6,
            7,
            8,
            9,
            10,
            11,
            12,
            13,
            14,
            15,
            16,
            17,
            18,
            19,
            20,
            21,
            22,
            23
           ],
           "xaxis": "x",
           "y": [
            98.98,
            98,
            95,
            97.79,
            97.79,
            98,
            98,
            99.82,
            103.49,
            97.65,
            78.2,
            52.4,
            50.69,
            45.1,
            39.5,
            38.1,
            38.1,
            40,
            56.2,
            82.84,
            94.2,
            100,
            99.94,
            99.4
           ],
           "yaxis": "y"
          }
         ],
         "name": "2024-06-07 00:00:00"
        },
        {
         "data": [
          {
           "hovertemplate": "fecha=2024-06-08 00:00:00<br>hora=%{x}<br>€/MWh=%{y}<extra></extra>",
           "legendgroup": "",
           "marker": {
            "color": "#636efa",
            "symbol": "circle"
           },
           "mode": "markers",
           "name": "",
           "orientation": "v",
           "showlegend": false,
           "type": "scatter",
           "x": [
            0,
            1,
            2,
            3,
            4,
            5,
            6,
            7,
            8,
            9,
            10,
            11,
            12,
            13,
            14,
            15,
            16,
            17,
            18,
            19,
            20,
            21,
            22,
            23
           ],
           "xaxis": "x",
           "y": [
            95.09,
            90,
            85.86,
            85.64,
            85.64,
            85.88,
            99.35,
            101.44,
            100.3,
            94.01,
            70.2,
            51.44,
            42.1,
            41.6,
            35.13,
            35,
            30.49,
            25.3,
            35.01,
            47.7,
            85.03,
            101.12,
            100.76,
            90
           ],
           "yaxis": "y"
          }
         ],
         "name": "2024-06-08 00:00:00"
        },
        {
         "data": [
          {
           "hovertemplate": "fecha=2024-06-09 00:00:00<br>hora=%{x}<br>€/MWh=%{y}<extra></extra>",
           "legendgroup": "",
           "marker": {
            "color": "#636efa",
            "symbol": "circle"
           },
           "mode": "markers",
           "name": "",
           "orientation": "v",
           "showlegend": false,
           "type": "scatter",
           "x": [
            0,
            1,
            2,
            3,
            4,
            5,
            6,
            7,
            8,
            9,
            10,
            11,
            12,
            13,
            14,
            15,
            16,
            17,
            18,
            19,
            20,
            21,
            22,
            23
           ],
           "xaxis": "x",
           "y": [
            35.13,
            22.41,
            12.76,
            8.46,
            8.94,
            22.99,
            10,
            5,
            3.25,
            0,
            0,
            0,
            0,
            0,
            0,
            -0.01,
            -0.01,
            0,
            3.25,
            35,
            41.8,
            58.76,
            69.64,
            56.9
           ],
           "yaxis": "y"
          }
         ],
         "name": "2024-06-09 00:00:00"
        },
        {
         "data": [
          {
           "hovertemplate": "fecha=2024-06-10 00:00:00<br>hora=%{x}<br>€/MWh=%{y}<extra></extra>",
           "legendgroup": "",
           "marker": {
            "color": "#636efa",
            "symbol": "circle"
           },
           "mode": "markers",
           "name": "",
           "orientation": "v",
           "showlegend": false,
           "type": "scatter",
           "x": [
            0,
            1,
            2,
            3,
            4,
            5,
            6,
            7,
            8,
            9,
            10,
            11,
            12,
            13,
            14,
            15,
            16,
            17,
            18,
            19,
            20,
            21,
            22,
            23
           ],
           "xaxis": "x",
           "y": [
            69.41,
            35.5,
            38.2,
            35.01,
            35,
            35.01,
            38.5,
            55.05,
            35.5,
            38.3,
            35.13,
            35.1,
            35.01,
            35.01,
            35,
            34.8,
            34.8,
            35,
            35,
            40.56,
            71.36,
            86.75,
            71.48,
            70.06
           ],
           "yaxis": "y"
          }
         ],
         "name": "2024-06-10 00:00:00"
        },
        {
         "data": [
          {
           "hovertemplate": "fecha=2024-06-11 00:00:00<br>hora=%{x}<br>€/MWh=%{y}<extra></extra>",
           "legendgroup": "",
           "marker": {
            "color": "#636efa",
            "symbol": "circle"
           },
           "mode": "markers",
           "name": "",
           "orientation": "v",
           "showlegend": false,
           "type": "scatter",
           "x": [
            0,
            1,
            2,
            3,
            4,
            5,
            6,
            7,
            8,
            9,
            10,
            11,
            12,
            13,
            14,
            15,
            16,
            17,
            18,
            19,
            20,
            21,
            22,
            23
           ],
           "xaxis": "x",
           "y": [
            98.3,
            95.09,
            84.83,
            78.2,
            78.2,
            85.41,
            71.48,
            90.34,
            98.13,
            70,
            44.8,
            42.3,
            41.2,
            40,
            35.02,
            35.01,
            35.01,
            35.13,
            43,
            66.05,
            71.12,
            85.41,
            77.29,
            70.13
           ],
           "yaxis": "y"
          }
         ],
         "name": "2024-06-11 00:00:00"
        },
        {
         "data": [
          {
           "hovertemplate": "fecha=2024-06-12 00:00:00<br>hora=%{x}<br>€/MWh=%{y}<extra></extra>",
           "legendgroup": "",
           "marker": {
            "color": "#636efa",
            "symbol": "circle"
           },
           "mode": "markers",
           "name": "",
           "orientation": "v",
           "showlegend": false,
           "type": "scatter",
           "x": [
            0,
            1,
            2,
            3,
            4,
            5,
            6,
            7,
            8,
            9,
            10,
            11,
            12,
            13,
            14,
            15,
            16,
            17,
            18,
            19,
            20,
            21,
            22,
            23
           ],
           "xaxis": "x",
           "y": [
            83.13,
            61.4,
            61.58,
            60.1,
            55.2,
            55.2,
            60,
            90.34,
            75,
            42.5,
            35.02,
            35.01,
            35.01,
            35.01,
            33,
            12.25,
            10.43,
            25.73,
            40,
            55.1,
            75,
            101.34,
            100.98,
            85.17
           ],
           "yaxis": "y"
          }
         ],
         "name": "2024-06-12 00:00:00"
        },
        {
         "data": [
          {
           "hovertemplate": "fecha=2024-06-13 00:00:00<br>hora=%{x}<br>€/MWh=%{y}<extra></extra>",
           "legendgroup": "",
           "marker": {
            "color": "#636efa",
            "symbol": "circle"
           },
           "mode": "markers",
           "name": "",
           "orientation": "v",
           "showlegend": false,
           "type": "scatter",
           "x": [
            0,
            1,
            2,
            3,
            4,
            5,
            6,
            7,
            8,
            9,
            10,
            11,
            12,
            13,
            14,
            15,
            16,
            17,
            18,
            19,
            20,
            21,
            22,
            23
           ],
           "xaxis": "x",
           "y": [
            97.86,
            93.1,
            90.34,
            95.26,
            101.76,
            105.36,
            120,
            130,
            90,
            72.94,
            35.02,
            35,
            33.9,
            10,
            0,
            0,
            0,
            5.49,
            14.74,
            35.45,
            82.1,
            111.81,
            109.81,
            95.26
           ],
           "yaxis": "y"
          }
         ],
         "name": "2024-06-13 00:00:00"
        },
        {
         "data": [
          {
           "hovertemplate": "fecha=2024-06-14 00:00:00<br>hora=%{x}<br>€/MWh=%{y}<extra></extra>",
           "legendgroup": "",
           "marker": {
            "color": "#636efa",
            "symbol": "circle"
           },
           "mode": "markers",
           "name": "",
           "orientation": "v",
           "showlegend": false,
           "type": "scatter",
           "x": [
            0,
            1,
            2,
            3,
            4,
            5,
            6,
            7,
            8,
            9,
            10,
            11,
            12,
            13,
            14,
            15,
            16,
            17,
            18,
            19,
            20,
            21,
            22,
            23
           ],
           "xaxis": "x",
           "y": [
            78.86,
            76.44,
            75.72,
            75.3,
            75.72,
            78.02,
            79.1,
            90,
            79.34,
            45.91,
            35.01,
            12.21,
            3.25,
            0.44,
            0.02,
            0,
            0,
            0,
            0.96,
            7,
            35.02,
            75.72,
            76.44,
            49.36
           ],
           "yaxis": "y"
          }
         ],
         "name": "2024-06-14 00:00:00"
        },
        {
         "data": [
          {
           "hovertemplate": "fecha=2024-06-15 00:00:00<br>hora=%{x}<br>€/MWh=%{y}<extra></extra>",
           "legendgroup": "",
           "marker": {
            "color": "#636efa",
            "symbol": "circle"
           },
           "mode": "markers",
           "name": "",
           "orientation": "v",
           "showlegend": false,
           "type": "scatter",
           "x": [
            0,
            1,
            2,
            3,
            4,
            5,
            6,
            7,
            8,
            9,
            10,
            11,
            12,
            13,
            14,
            15,
            16,
            17,
            18,
            19,
            20,
            21,
            22,
            23
           ],
           "xaxis": "x",
           "y": [
            38.1,
            35.02,
            35.02,
            35.02,
            35.02,
            35.02,
            35.02,
            35.01,
            17.8,
            0,
            -0.01,
            -0.6,
            -0.25,
            -0.5,
            -0.6,
            -0.72,
            -0.79,
            -0.62,
            0,
            9.59,
            35.01,
            41.64,
            47.7,
            41.76
           ],
           "yaxis": "y"
          }
         ],
         "name": "2024-06-15 00:00:00"
        },
        {
         "data": [
          {
           "hovertemplate": "fecha=2024-06-16 00:00:00<br>hora=%{x}<br>€/MWh=%{y}<extra></extra>",
           "legendgroup": "",
           "marker": {
            "color": "#636efa",
            "symbol": "circle"
           },
           "mode": "markers",
           "name": "",
           "orientation": "v",
           "showlegend": false,
           "type": "scatter",
           "x": [
            0,
            1,
            2,
            3,
            4,
            5,
            6,
            7,
            8,
            9,
            10,
            11,
            12,
            13,
            14,
            15,
            16,
            17,
            18,
            19,
            20,
            21,
            22,
            23
           ],
           "xaxis": "x",
           "y": [
            35.01,
            35,
            35,
            35,
            35,
            35,
            35.01,
            18.5,
            0,
            -0.62,
            -1.01,
            -2,
            -2,
            -2,
            -2,
            -2,
            -2,
            -0.85,
            -0.01,
            3.25,
            16.8,
            35.02,
            41.26,
            41.62
           ],
           "yaxis": "y"
          }
         ],
         "name": "2024-06-16 00:00:00"
        },
        {
         "data": [
          {
           "hovertemplate": "fecha=2024-06-17 00:00:00<br>hora=%{x}<br>€/MWh=%{y}<extra></extra>",
           "legendgroup": "",
           "marker": {
            "color": "#636efa",
            "symbol": "circle"
           },
           "mode": "markers",
           "name": "",
           "orientation": "v",
           "showlegend": false,
           "type": "scatter",
           "x": [
            0,
            1,
            2,
            3,
            4,
            5,
            6,
            7,
            8,
            9,
            10,
            11,
            12,
            13,
            14,
            15,
            16,
            17,
            18,
            19,
            20,
            21,
            22,
            23
           ],
           "xaxis": "x",
           "y": [
            41.49,
            35.01,
            35,
            35,
            32,
            35,
            35.01,
            46.5,
            46.5,
            35.01,
            22.28,
            3.25,
            1.5,
            0.44,
            0,
            0,
            0,
            0.44,
            3.25,
            21.72,
            46.38,
            72.75,
            91.27,
            62.78
           ],
           "yaxis": "y"
          }
         ],
         "name": "2024-06-17 00:00:00"
        },
        {
         "data": [
          {
           "hovertemplate": "fecha=2024-06-18 00:00:00<br>hora=%{x}<br>€/MWh=%{y}<extra></extra>",
           "legendgroup": "",
           "marker": {
            "color": "#636efa",
            "symbol": "circle"
           },
           "mode": "markers",
           "name": "",
           "orientation": "v",
           "showlegend": false,
           "type": "scatter",
           "x": [
            0,
            1,
            2,
            3,
            4,
            5,
            6,
            7,
            8,
            9,
            10,
            11,
            12,
            13,
            14,
            15,
            16,
            17,
            18,
            19,
            20,
            21,
            22,
            23
           ],
           "xaxis": "x",
           "y": [
            51.76,
            37,
            51.01,
            52.59,
            53.99,
            66.75,
            96.13,
            101,
            96.13,
            53.39,
            39,
            35,
            28.37,
            20.97,
            11.21,
            10.6,
            9.99,
            20.27,
            35,
            45.28,
            80.23,
            124.12,
            130.9,
            110.41
           ],
           "yaxis": "y"
          }
         ],
         "name": "2024-06-18 00:00:00"
        },
        {
         "data": [
          {
           "hovertemplate": "fecha=2024-06-19 00:00:00<br>hora=%{x}<br>€/MWh=%{y}<extra></extra>",
           "legendgroup": "",
           "marker": {
            "color": "#636efa",
            "symbol": "circle"
           },
           "mode": "markers",
           "name": "",
           "orientation": "v",
           "showlegend": false,
           "type": "scatter",
           "x": [
            0,
            1,
            2,
            3,
            4,
            5,
            6,
            7,
            8,
            9,
            10,
            11,
            12,
            13,
            14,
            15,
            16,
            17,
            18,
            19,
            20,
            21,
            22,
            23
           ],
           "xaxis": "x",
           "y": [
            105.16,
            99.96,
            94.76,
            90.56,
            90.56,
            94.76,
            100,
            114.32,
            100,
            84.69,
            74.71,
            46.41,
            43.54,
            37,
            36.4,
            35.02,
            35.01,
            35.02,
            38.47,
            79.83,
            87.41,
            109.81,
            109,
            89.59
           ],
           "yaxis": "y"
          }
         ],
         "name": "2024-06-19 00:00:00"
        },
        {
         "data": [
          {
           "hovertemplate": "fecha=2024-06-20 00:00:00<br>hora=%{x}<br>€/MWh=%{y}<extra></extra>",
           "legendgroup": "",
           "marker": {
            "color": "#636efa",
            "symbol": "circle"
           },
           "mode": "markers",
           "name": "",
           "orientation": "v",
           "showlegend": false,
           "type": "scatter",
           "x": [
            0,
            1,
            2,
            3,
            4,
            5,
            6,
            7,
            8,
            9,
            10,
            11,
            12,
            13,
            14,
            15,
            16,
            17,
            18,
            19,
            20,
            21,
            22,
            23
           ],
           "xaxis": "x",
           "y": [
            109.26,
            105,
            103,
            102.1,
            96.9,
            94.3,
            99,
            111.72,
            103,
            95,
            71.87,
            63.04,
            59.94,
            58.35,
            61.42,
            61.93,
            61.42,
            62.15,
            77.46,
            107,
            115.28,
            122.78,
            120,
            112.48
           ],
           "yaxis": "y"
          }
         ],
         "name": "2024-06-20 00:00:00"
        },
        {
         "data": [
          {
           "hovertemplate": "fecha=2024-06-21 00:00:00<br>hora=%{x}<br>€/MWh=%{y}<extra></extra>",
           "legendgroup": "",
           "marker": {
            "color": "#636efa",
            "symbol": "circle"
           },
           "mode": "markers",
           "name": "",
           "orientation": "v",
           "showlegend": false,
           "type": "scatter",
           "x": [
            0,
            1,
            2,
            3,
            4,
            5,
            6,
            7,
            8,
            9,
            10,
            11,
            12,
            13,
            14,
            15,
            16,
            17,
            18,
            19,
            20,
            21,
            22,
            23
           ],
           "xaxis": "x",
           "y": [
            102.72,
            100.34,
            102.3,
            102.3,
            102.3,
            102.72,
            100,
            113.47,
            114.32,
            105,
            80,
            60,
            61.34,
            57.4,
            55.1,
            43.17,
            40,
            49.8,
            56.75,
            77.46,
            100.01,
            114.86,
            115,
            105.74
           ],
           "yaxis": "y"
          }
         ],
         "name": "2024-06-21 00:00:00"
        },
        {
         "data": [
          {
           "hovertemplate": "fecha=2024-06-22 00:00:00<br>hora=%{x}<br>€/MWh=%{y}<extra></extra>",
           "legendgroup": "",
           "marker": {
            "color": "#636efa",
            "symbol": "circle"
           },
           "mode": "markers",
           "name": "",
           "orientation": "v",
           "showlegend": false,
           "type": "scatter",
           "x": [
            0,
            1,
            2,
            3,
            4,
            5,
            6,
            7,
            8,
            9,
            10,
            11,
            12,
            13,
            14,
            15,
            16,
            17,
            18,
            19,
            20,
            21,
            22,
            23
           ],
           "xaxis": "x",
           "y": [
            84,
            76.58,
            75.64,
            76.1,
            75.74,
            75.62,
            75.64,
            63.45,
            36.95,
            34.65,
            12.54,
            3.59,
            0.44,
            0.03,
            0,
            0,
            0,
            0,
            0.44,
            35,
            50,
            76.79,
            99.1,
            77.46
           ],
           "yaxis": "y"
          }
         ],
         "name": "2024-06-22 00:00:00"
        },
        {
         "data": [
          {
           "hovertemplate": "fecha=2024-06-23 00:00:00<br>hora=%{x}<br>€/MWh=%{y}<extra></extra>",
           "legendgroup": "",
           "marker": {
            "color": "#636efa",
            "symbol": "circle"
           },
           "mode": "markers",
           "name": "",
           "orientation": "v",
           "showlegend": false,
           "type": "scatter",
           "x": [
            0,
            1,
            2,
            3,
            4,
            5,
            6,
            7,
            8,
            9,
            10,
            11,
            12,
            13,
            14,
            15,
            16,
            17,
            18,
            19,
            20,
            21,
            22,
            23
           ],
           "xaxis": "x",
           "y": [
            77,
            56.99,
            46.19,
            35.01,
            35,
            35,
            35,
            30.65,
            9.76,
            0,
            -0.01,
            -0.11,
            -0.5,
            -1,
            -1.99,
            -2,
            -0.85,
            -0.66,
            -0.01,
            1,
            35.01,
            77,
            95.62,
            80.15
           ],
           "yaxis": "y"
          }
         ],
         "name": "2024-06-23 00:00:00"
        },
        {
         "data": [
          {
           "hovertemplate": "fecha=2024-06-24 00:00:00<br>hora=%{x}<br>€/MWh=%{y}<extra></extra>",
           "legendgroup": "",
           "marker": {
            "color": "#636efa",
            "symbol": "circle"
           },
           "mode": "markers",
           "name": "",
           "orientation": "v",
           "showlegend": false,
           "type": "scatter",
           "x": [
            0,
            1,
            2,
            3,
            4,
            5,
            6,
            7,
            8,
            9,
            10,
            11,
            12,
            13,
            14,
            15,
            16,
            17,
            18,
            19,
            20,
            21,
            22,
            23
           ],
           "xaxis": "x",
           "y": [
            51.8,
            43.6,
            40,
            35.4,
            35.02,
            49.07,
            55.03,
            70,
            40,
            35.02,
            35,
            5,
            3.6,
            5.1,
            2.9,
            0,
            0,
            5,
            34.8,
            35.45,
            83.27,
            117.33,
            113.7,
            91.54
           ],
           "yaxis": "y"
          }
         ],
         "name": "2024-06-24 00:00:00"
        },
        {
         "data": [
          {
           "hovertemplate": "fecha=2024-06-25 00:00:00<br>hora=%{x}<br>€/MWh=%{y}<extra></extra>",
           "legendgroup": "",
           "marker": {
            "color": "#636efa",
            "symbol": "circle"
           },
           "mode": "markers",
           "name": "",
           "orientation": "v",
           "showlegend": false,
           "type": "scatter",
           "x": [
            0,
            1,
            2,
            3,
            4,
            5,
            6,
            7,
            8,
            9,
            10,
            11,
            12,
            13,
            14,
            15,
            16,
            17,
            18,
            19,
            20,
            21,
            22,
            23
           ],
           "xaxis": "x",
           "y": [
            79.51,
            94.85,
            91.15,
            82,
            89.85,
            73,
            82,
            98.2,
            74.77,
            64.9,
            35.69,
            35.02,
            35.01,
            35.01,
            35,
            35,
            35,
            35.02,
            48.99,
            77,
            105,
            117.41,
            116.81,
            105.45
           ],
           "yaxis": "y"
          }
         ],
         "name": "2024-06-25 00:00:00"
        },
        {
         "data": [
          {
           "hovertemplate": "fecha=2024-06-26 00:00:00<br>hora=%{x}<br>€/MWh=%{y}<extra></extra>",
           "legendgroup": "",
           "marker": {
            "color": "#636efa",
            "symbol": "circle"
           },
           "mode": "markers",
           "name": "",
           "orientation": "v",
           "showlegend": false,
           "type": "scatter",
           "x": [
            0,
            1,
            2,
            3,
            4,
            5,
            6,
            7,
            8,
            9,
            10,
            11,
            12,
            13,
            14,
            15,
            16,
            17,
            18,
            19,
            20,
            21,
            22,
            23
           ],
           "xaxis": "x",
           "y": [
            107.43,
            99.96,
            95.32,
            95.46,
            91.7,
            97.12,
            109.59,
            130,
            115.45,
            101.76,
            90.98,
            85.99,
            79.41,
            77.24,
            73.65,
            60,
            61,
            82.01,
            91.22,
            104.55,
            116.05,
            137.18,
            118.98,
            110
           ],
           "yaxis": "y"
          }
         ],
         "name": "2024-06-26 00:00:00"
        },
        {
         "data": [
          {
           "hovertemplate": "fecha=2024-06-27 00:00:00<br>hora=%{x}<br>€/MWh=%{y}<extra></extra>",
           "legendgroup": "",
           "marker": {
            "color": "#636efa",
            "symbol": "circle"
           },
           "mode": "markers",
           "name": "",
           "orientation": "v",
           "showlegend": false,
           "type": "scatter",
           "x": [
            0,
            1,
            2,
            3,
            4,
            5,
            6,
            7,
            8,
            9,
            10,
            11,
            12,
            13,
            14,
            15,
            16,
            17,
            18,
            19,
            20,
            21,
            22,
            23
           ],
           "xaxis": "x",
           "y": [
            102.07,
            99,
            101.77,
            104.37,
            101.77,
            99.17,
            112.72,
            120.74,
            115.44,
            102.07,
            100.47,
            77,
            65.01,
            64.75,
            51.1,
            45.66,
            42.45,
            45.06,
            63.43,
            75.39,
            99.75,
            116.05,
            118.35,
            114.72
           ],
           "yaxis": "y"
          }
         ],
         "name": "2024-06-27 00:00:00"
        },
        {
         "data": [
          {
           "hovertemplate": "fecha=2024-06-28 00:00:00<br>hora=%{x}<br>€/MWh=%{y}<extra></extra>",
           "legendgroup": "",
           "marker": {
            "color": "#636efa",
            "symbol": "circle"
           },
           "mode": "markers",
           "name": "",
           "orientation": "v",
           "showlegend": false,
           "type": "scatter",
           "x": [
            0,
            1,
            2,
            3,
            4,
            5,
            6,
            7,
            8,
            9,
            10,
            11,
            12,
            13,
            14,
            15,
            16,
            17,
            18,
            19,
            20,
            21,
            22,
            23
           ],
           "xaxis": "x",
           "y": [
            99,
            100,
            98.6,
            94.04,
            93.4,
            95.81,
            99.9,
            100.16,
            103.5,
            98.6,
            92,
            76.1,
            59.99,
            47.01,
            45.77,
            40,
            35.02,
            35.02,
            48.64,
            88.5,
            94.04,
            105.42,
            113.3,
            105.18
           ],
           "yaxis": "y"
          }
         ],
         "name": "2024-06-28 00:00:00"
        },
        {
         "data": [
          {
           "hovertemplate": "fecha=2024-06-29 00:00:00<br>hora=%{x}<br>€/MWh=%{y}<extra></extra>",
           "legendgroup": "",
           "marker": {
            "color": "#636efa",
            "symbol": "circle"
           },
           "mode": "markers",
           "name": "",
           "orientation": "v",
           "showlegend": false,
           "type": "scatter",
           "x": [
            0,
            1,
            2,
            3,
            4,
            5,
            6,
            7,
            8,
            9,
            10,
            11,
            12,
            13,
            14,
            15,
            16,
            17,
            18,
            19,
            20,
            21,
            22,
            23
           ],
           "xaxis": "x",
           "y": [
            90,
            71.6,
            47.5,
            47.5,
            47.29,
            47.01,
            47.29,
            50.2,
            47.29,
            46.62,
            45.06,
            35.02,
            35.01,
            35,
            10,
            1.5,
            12.76,
            31.86,
            35.02,
            46.6,
            73.37,
            102.36,
            106.08,
            100.94
           ],
           "yaxis": "y"
          }
         ],
         "name": "2024-06-29 00:00:00"
        },
        {
         "data": [
          {
           "hovertemplate": "fecha=2024-06-30 00:00:00<br>hora=%{x}<br>€/MWh=%{y}<extra></extra>",
           "legendgroup": "",
           "marker": {
            "color": "#636efa",
            "symbol": "circle"
           },
           "mode": "markers",
           "name": "",
           "orientation": "v",
           "showlegend": false,
           "type": "scatter",
           "x": [
            0,
            1,
            2,
            3,
            4,
            5,
            6,
            7,
            8,
            9,
            10,
            11,
            12,
            13,
            14,
            15,
            16,
            17,
            18,
            19,
            20,
            21,
            22,
            23
           ],
           "xaxis": "x",
           "y": [
            102.9,
            101.7,
            101.7,
            101.7,
            100.92,
            100.92,
            99.75,
            73.37,
            47.5,
            44.01,
            35.01,
            22.99,
            10,
            4.49,
            0.02,
            0,
            0.94,
            3.6,
            27.43,
            46.62,
            59.1,
            101.64,
            103.22,
            100.92
           ],
           "yaxis": "y"
          }
         ],
         "name": "2024-06-30 00:00:00"
        },
        {
         "data": [
          {
           "hovertemplate": "fecha=2024-07-01 00:00:00<br>hora=%{x}<br>€/MWh=%{y}<extra></extra>",
           "legendgroup": "",
           "marker": {
            "color": "#636efa",
            "symbol": "circle"
           },
           "mode": "markers",
           "name": "",
           "orientation": "v",
           "showlegend": false,
           "type": "scatter",
           "x": [
            0,
            1,
            2,
            3,
            4,
            5,
            6,
            7,
            8,
            9,
            10,
            11,
            12,
            13,
            14,
            15,
            16,
            17,
            18,
            19,
            20,
            21,
            22,
            23
           ],
           "xaxis": "x",
           "y": [
            73.37,
            67.3,
            60,
            66.54,
            50.2,
            51.9,
            59.26,
            87.57,
            71.18,
            50.03,
            44.52,
            35.01,
            35.01,
            35,
            21.17,
            15.02,
            10.15,
            21.17,
            35.02,
            49.28,
            71.18,
            80.79,
            99.26,
            87.46
           ],
           "yaxis": "y"
          }
         ],
         "name": "2024-07-01 00:00:00"
        },
        {
         "data": [
          {
           "hovertemplate": "fecha=2024-07-02 00:00:00<br>hora=%{x}<br>€/MWh=%{y}<extra></extra>",
           "legendgroup": "",
           "marker": {
            "color": "#636efa",
            "symbol": "circle"
           },
           "mode": "markers",
           "name": "",
           "orientation": "v",
           "showlegend": false,
           "type": "scatter",
           "x": [
            0,
            1,
            2,
            3,
            4,
            5,
            6,
            7,
            8,
            9,
            10,
            11,
            12,
            13,
            14,
            15,
            16,
            17,
            18,
            19,
            20,
            21,
            22,
            23
           ],
           "xaxis": "x",
           "y": [
            65.53,
            49.9,
            39.69,
            38.01,
            37.75,
            41.07,
            55,
            81.82,
            61.66,
            45,
            35,
            30.9,
            26.79,
            24.99,
            17.95,
            4,
            4,
            10.96,
            35,
            37.75,
            74.64,
            110.41,
            109.45,
            89.99
           ],
           "yaxis": "y"
          }
         ],
         "name": "2024-07-02 00:00:00"
        },
        {
         "data": [
          {
           "hovertemplate": "fecha=2024-07-03 00:00:00<br>hora=%{x}<br>€/MWh=%{y}<extra></extra>",
           "legendgroup": "",
           "marker": {
            "color": "#636efa",
            "symbol": "circle"
           },
           "mode": "markers",
           "name": "",
           "orientation": "v",
           "showlegend": false,
           "type": "scatter",
           "x": [
            0,
            1,
            2,
            3,
            4,
            5,
            6,
            7,
            8,
            9,
            10,
            11,
            12,
            13,
            14,
            15,
            16,
            17,
            18,
            19,
            20,
            21,
            22,
            23
           ],
           "xaxis": "x",
           "y": [
            94.22,
            83.79,
            80,
            72,
            70.8,
            65.65,
            85,
            99.77,
            95.75,
            76,
            54.08,
            40.25,
            35,
            21.34,
            14,
            8.68,
            3.6,
            12.17,
            34.27,
            35.02,
            89.9,
            107.51,
            106.49,
            95.66
           ],
           "yaxis": "y"
          }
         ],
         "name": "2024-07-03 00:00:00"
        },
        {
         "data": [
          {
           "hovertemplate": "fecha=2024-07-04 00:00:00<br>hora=%{x}<br>€/MWh=%{y}<extra></extra>",
           "legendgroup": "",
           "marker": {
            "color": "#636efa",
            "symbol": "circle"
           },
           "mode": "markers",
           "name": "",
           "orientation": "v",
           "showlegend": false,
           "type": "scatter",
           "x": [
            0,
            1,
            2,
            3,
            4,
            5,
            6,
            7,
            8,
            9,
            10,
            11,
            12,
            13,
            14,
            15,
            16,
            17,
            18,
            19,
            20,
            21,
            22,
            23
           ],
           "xaxis": "x",
           "y": [
            94.94,
            80,
            72.5,
            83.54,
            80,
            86.27,
            96.04,
            99.88,
            83.82,
            40,
            4.83,
            0,
            0,
            0,
            0,
            -0.82,
            -0.82,
            0,
            6.77,
            42.38,
            86.9,
            99.64,
            98.5,
            90
           ],
           "yaxis": "y"
          }
         ],
         "name": "2024-07-04 00:00:00"
        },
        {
         "data": [
          {
           "hovertemplate": "fecha=2024-07-05 00:00:00<br>hora=%{x}<br>€/MWh=%{y}<extra></extra>",
           "legendgroup": "",
           "marker": {
            "color": "#636efa",
            "symbol": "circle"
           },
           "mode": "markers",
           "name": "",
           "orientation": "v",
           "showlegend": false,
           "type": "scatter",
           "x": [
            0,
            1,
            2,
            3,
            4,
            5,
            6,
            7,
            8,
            9,
            10,
            11,
            12,
            13,
            14,
            15,
            16,
            17,
            18,
            19,
            20,
            21,
            22,
            23
           ],
           "xaxis": "x",
           "y": [
            81.66,
            81.66,
            81.42,
            87.75,
            88.2,
            90.01,
            95.33,
            104.25,
            91.43,
            59.5,
            35.01,
            29,
            7.44,
            3.32,
            3.32,
            1.23,
            3.32,
            17.42,
            38,
            63.31,
            82.7,
            95,
            106.33,
            90.4
           ],
           "yaxis": "y"
          }
         ],
         "name": "2024-07-05 00:00:00"
        },
        {
         "data": [
          {
           "hovertemplate": "fecha=2024-07-06 00:00:00<br>hora=%{x}<br>€/MWh=%{y}<extra></extra>",
           "legendgroup": "",
           "marker": {
            "color": "#636efa",
            "symbol": "circle"
           },
           "mode": "markers",
           "name": "",
           "orientation": "v",
           "showlegend": false,
           "type": "scatter",
           "x": [
            0,
            1,
            2,
            3,
            4,
            5,
            6,
            7,
            8,
            9,
            10,
            11,
            12,
            13,
            14,
            15,
            16,
            17,
            18,
            19,
            20,
            21,
            22,
            23
           ],
           "xaxis": "x",
           "y": [
            101,
            96.96,
            79.74,
            71.91,
            77.25,
            70.66,
            70.66,
            65.5,
            30.87,
            0,
            0,
            -0.01,
            -0.51,
            -0.76,
            -0.95,
            -1,
            -1.01,
            -1,
            -0.82,
            0,
            9.23,
            41.1,
            59.7,
            46.89
           ],
           "yaxis": "y"
          }
         ],
         "name": "2024-07-06 00:00:00"
        },
        {
         "data": [
          {
           "hovertemplate": "fecha=2024-07-07 00:00:00<br>hora=%{x}<br>€/MWh=%{y}<extra></extra>",
           "legendgroup": "",
           "marker": {
            "color": "#636efa",
            "symbol": "circle"
           },
           "mode": "markers",
           "name": "",
           "orientation": "v",
           "showlegend": false,
           "type": "scatter",
           "x": [
            0,
            1,
            2,
            3,
            4,
            5,
            6,
            7,
            8,
            9,
            10,
            11,
            12,
            13,
            14,
            15,
            16,
            17,
            18,
            19,
            20,
            21,
            22,
            23
           ],
           "xaxis": "x",
           "y": [
            56.55,
            48.95,
            44.16,
            44.9,
            44.16,
            56.55,
            56.55,
            56.68,
            24.87,
            -0.01,
            -0.51,
            -0.78,
            -0.66,
            -0.02,
            -0.78,
            -1,
            -1.01,
            0,
            3.32,
            35.94,
            59.57,
            100.73,
            104.58,
            100.25
           ],
           "yaxis": "y"
          }
         ],
         "name": "2024-07-07 00:00:00"
        }
       ],
       "layout": {
        "legend": {
         "tracegroupgap": 0
        },
        "sliders": [
         {
          "active": 0,
          "currentvalue": {
           "prefix": "fecha="
          },
          "len": 0.9,
          "pad": {
           "b": 10,
           "t": 60
          },
          "steps": [
           {
            "args": [
             [
              "2024-01-01 00:00:00"
             ],
             {
              "frame": {
               "duration": 0,
               "redraw": false
              },
              "fromcurrent": true,
              "mode": "immediate",
              "transition": {
               "duration": 0,
               "easing": "linear"
              }
             }
            ],
            "label": "2024-01-01 00:00:00",
            "method": "animate"
           },
           {
            "args": [
             [
              "2024-01-02 00:00:00"
             ],
             {
              "frame": {
               "duration": 0,
               "redraw": false
              },
              "fromcurrent": true,
              "mode": "immediate",
              "transition": {
               "duration": 0,
               "easing": "linear"
              }
             }
            ],
            "label": "2024-01-02 00:00:00",
            "method": "animate"
           },
           {
            "args": [
             [
              "2024-01-03 00:00:00"
             ],
             {
              "frame": {
               "duration": 0,
               "redraw": false
              },
              "fromcurrent": true,
              "mode": "immediate",
              "transition": {
               "duration": 0,
               "easing": "linear"
              }
             }
            ],
            "label": "2024-01-03 00:00:00",
            "method": "animate"
           },
           {
            "args": [
             [
              "2024-01-04 00:00:00"
             ],
             {
              "frame": {
               "duration": 0,
               "redraw": false
              },
              "fromcurrent": true,
              "mode": "immediate",
              "transition": {
               "duration": 0,
               "easing": "linear"
              }
             }
            ],
            "label": "2024-01-04 00:00:00",
            "method": "animate"
           },
           {
            "args": [
             [
              "2024-01-05 00:00:00"
             ],
             {
              "frame": {
               "duration": 0,
               "redraw": false
              },
              "fromcurrent": true,
              "mode": "immediate",
              "transition": {
               "duration": 0,
               "easing": "linear"
              }
             }
            ],
            "label": "2024-01-05 00:00:00",
            "method": "animate"
           },
           {
            "args": [
             [
              "2024-01-06 00:00:00"
             ],
             {
              "frame": {
               "duration": 0,
               "redraw": false
              },
              "fromcurrent": true,
              "mode": "immediate",
              "transition": {
               "duration": 0,
               "easing": "linear"
              }
             }
            ],
            "label": "2024-01-06 00:00:00",
            "method": "animate"
           },
           {
            "args": [
             [
              "2024-01-07 00:00:00"
             ],
             {
              "frame": {
               "duration": 0,
               "redraw": false
              },
              "fromcurrent": true,
              "mode": "immediate",
              "transition": {
               "duration": 0,
               "easing": "linear"
              }
             }
            ],
            "label": "2024-01-07 00:00:00",
            "method": "animate"
           },
           {
            "args": [
             [
              "2024-01-08 00:00:00"
             ],
             {
              "frame": {
               "duration": 0,
               "redraw": false
              },
              "fromcurrent": true,
              "mode": "immediate",
              "transition": {
               "duration": 0,
               "easing": "linear"
              }
             }
            ],
            "label": "2024-01-08 00:00:00",
            "method": "animate"
           },
           {
            "args": [
             [
              "2024-01-09 00:00:00"
             ],
             {
              "frame": {
               "duration": 0,
               "redraw": false
              },
              "fromcurrent": true,
              "mode": "immediate",
              "transition": {
               "duration": 0,
               "easing": "linear"
              }
             }
            ],
            "label": "2024-01-09 00:00:00",
            "method": "animate"
           },
           {
            "args": [
             [
              "2024-01-10 00:00:00"
             ],
             {
              "frame": {
               "duration": 0,
               "redraw": false
              },
              "fromcurrent": true,
              "mode": "immediate",
              "transition": {
               "duration": 0,
               "easing": "linear"
              }
             }
            ],
            "label": "2024-01-10 00:00:00",
            "method": "animate"
           },
           {
            "args": [
             [
              "2024-01-11 00:00:00"
             ],
             {
              "frame": {
               "duration": 0,
               "redraw": false
              },
              "fromcurrent": true,
              "mode": "immediate",
              "transition": {
               "duration": 0,
               "easing": "linear"
              }
             }
            ],
            "label": "2024-01-11 00:00:00",
            "method": "animate"
           },
           {
            "args": [
             [
              "2024-01-12 00:00:00"
             ],
             {
              "frame": {
               "duration": 0,
               "redraw": false
              },
              "fromcurrent": true,
              "mode": "immediate",
              "transition": {
               "duration": 0,
               "easing": "linear"
              }
             }
            ],
            "label": "2024-01-12 00:00:00",
            "method": "animate"
           },
           {
            "args": [
             [
              "2024-01-13 00:00:00"
             ],
             {
              "frame": {
               "duration": 0,
               "redraw": false
              },
              "fromcurrent": true,
              "mode": "immediate",
              "transition": {
               "duration": 0,
               "easing": "linear"
              }
             }
            ],
            "label": "2024-01-13 00:00:00",
            "method": "animate"
           },
           {
            "args": [
             [
              "2024-01-14 00:00:00"
             ],
             {
              "frame": {
               "duration": 0,
               "redraw": false
              },
              "fromcurrent": true,
              "mode": "immediate",
              "transition": {
               "duration": 0,
               "easing": "linear"
              }
             }
            ],
            "label": "2024-01-14 00:00:00",
            "method": "animate"
           },
           {
            "args": [
             [
              "2024-01-15 00:00:00"
             ],
             {
              "frame": {
               "duration": 0,
               "redraw": false
              },
              "fromcurrent": true,
              "mode": "immediate",
              "transition": {
               "duration": 0,
               "easing": "linear"
              }
             }
            ],
            "label": "2024-01-15 00:00:00",
            "method": "animate"
           },
           {
            "args": [
             [
              "2024-01-16 00:00:00"
             ],
             {
              "frame": {
               "duration": 0,
               "redraw": false
              },
              "fromcurrent": true,
              "mode": "immediate",
              "transition": {
               "duration": 0,
               "easing": "linear"
              }
             }
            ],
            "label": "2024-01-16 00:00:00",
            "method": "animate"
           },
           {
            "args": [
             [
              "2024-01-17 00:00:00"
             ],
             {
              "frame": {
               "duration": 0,
               "redraw": false
              },
              "fromcurrent": true,
              "mode": "immediate",
              "transition": {
               "duration": 0,
               "easing": "linear"
              }
             }
            ],
            "label": "2024-01-17 00:00:00",
            "method": "animate"
           },
           {
            "args": [
             [
              "2024-01-18 00:00:00"
             ],
             {
              "frame": {
               "duration": 0,
               "redraw": false
              },
              "fromcurrent": true,
              "mode": "immediate",
              "transition": {
               "duration": 0,
               "easing": "linear"
              }
             }
            ],
            "label": "2024-01-18 00:00:00",
            "method": "animate"
           },
           {
            "args": [
             [
              "2024-01-19 00:00:00"
             ],
             {
              "frame": {
               "duration": 0,
               "redraw": false
              },
              "fromcurrent": true,
              "mode": "immediate",
              "transition": {
               "duration": 0,
               "easing": "linear"
              }
             }
            ],
            "label": "2024-01-19 00:00:00",
            "method": "animate"
           },
           {
            "args": [
             [
              "2024-01-20 00:00:00"
             ],
             {
              "frame": {
               "duration": 0,
               "redraw": false
              },
              "fromcurrent": true,
              "mode": "immediate",
              "transition": {
               "duration": 0,
               "easing": "linear"
              }
             }
            ],
            "label": "2024-01-20 00:00:00",
            "method": "animate"
           },
           {
            "args": [
             [
              "2024-01-21 00:00:00"
             ],
             {
              "frame": {
               "duration": 0,
               "redraw": false
              },
              "fromcurrent": true,
              "mode": "immediate",
              "transition": {
               "duration": 0,
               "easing": "linear"
              }
             }
            ],
            "label": "2024-01-21 00:00:00",
            "method": "animate"
           },
           {
            "args": [
             [
              "2024-01-22 00:00:00"
             ],
             {
              "frame": {
               "duration": 0,
               "redraw": false
              },
              "fromcurrent": true,
              "mode": "immediate",
              "transition": {
               "duration": 0,
               "easing": "linear"
              }
             }
            ],
            "label": "2024-01-22 00:00:00",
            "method": "animate"
           },
           {
            "args": [
             [
              "2024-01-23 00:00:00"
             ],
             {
              "frame": {
               "duration": 0,
               "redraw": false
              },
              "fromcurrent": true,
              "mode": "immediate",
              "transition": {
               "duration": 0,
               "easing": "linear"
              }
             }
            ],
            "label": "2024-01-23 00:00:00",
            "method": "animate"
           },
           {
            "args": [
             [
              "2024-01-24 00:00:00"
             ],
             {
              "frame": {
               "duration": 0,
               "redraw": false
              },
              "fromcurrent": true,
              "mode": "immediate",
              "transition": {
               "duration": 0,
               "easing": "linear"
              }
             }
            ],
            "label": "2024-01-24 00:00:00",
            "method": "animate"
           },
           {
            "args": [
             [
              "2024-01-25 00:00:00"
             ],
             {
              "frame": {
               "duration": 0,
               "redraw": false
              },
              "fromcurrent": true,
              "mode": "immediate",
              "transition": {
               "duration": 0,
               "easing": "linear"
              }
             }
            ],
            "label": "2024-01-25 00:00:00",
            "method": "animate"
           },
           {
            "args": [
             [
              "2024-01-26 00:00:00"
             ],
             {
              "frame": {
               "duration": 0,
               "redraw": false
              },
              "fromcurrent": true,
              "mode": "immediate",
              "transition": {
               "duration": 0,
               "easing": "linear"
              }
             }
            ],
            "label": "2024-01-26 00:00:00",
            "method": "animate"
           },
           {
            "args": [
             [
              "2024-01-27 00:00:00"
             ],
             {
              "frame": {
               "duration": 0,
               "redraw": false
              },
              "fromcurrent": true,
              "mode": "immediate",
              "transition": {
               "duration": 0,
               "easing": "linear"
              }
             }
            ],
            "label": "2024-01-27 00:00:00",
            "method": "animate"
           },
           {
            "args": [
             [
              "2024-01-28 00:00:00"
             ],
             {
              "frame": {
               "duration": 0,
               "redraw": false
              },
              "fromcurrent": true,
              "mode": "immediate",
              "transition": {
               "duration": 0,
               "easing": "linear"
              }
             }
            ],
            "label": "2024-01-28 00:00:00",
            "method": "animate"
           },
           {
            "args": [
             [
              "2024-01-29 00:00:00"
             ],
             {
              "frame": {
               "duration": 0,
               "redraw": false
              },
              "fromcurrent": true,
              "mode": "immediate",
              "transition": {
               "duration": 0,
               "easing": "linear"
              }
             }
            ],
            "label": "2024-01-29 00:00:00",
            "method": "animate"
           },
           {
            "args": [
             [
              "2024-01-30 00:00:00"
             ],
             {
              "frame": {
               "duration": 0,
               "redraw": false
              },
              "fromcurrent": true,
              "mode": "immediate",
              "transition": {
               "duration": 0,
               "easing": "linear"
              }
             }
            ],
            "label": "2024-01-30 00:00:00",
            "method": "animate"
           },
           {
            "args": [
             [
              "2024-01-31 00:00:00"
             ],
             {
              "frame": {
               "duration": 0,
               "redraw": false
              },
              "fromcurrent": true,
              "mode": "immediate",
              "transition": {
               "duration": 0,
               "easing": "linear"
              }
             }
            ],
            "label": "2024-01-31 00:00:00",
            "method": "animate"
           },
           {
            "args": [
             [
              "2024-02-01 00:00:00"
             ],
             {
              "frame": {
               "duration": 0,
               "redraw": false
              },
              "fromcurrent": true,
              "mode": "immediate",
              "transition": {
               "duration": 0,
               "easing": "linear"
              }
             }
            ],
            "label": "2024-02-01 00:00:00",
            "method": "animate"
           },
           {
            "args": [
             [
              "2024-02-02 00:00:00"
             ],
             {
              "frame": {
               "duration": 0,
               "redraw": false
              },
              "fromcurrent": true,
              "mode": "immediate",
              "transition": {
               "duration": 0,
               "easing": "linear"
              }
             }
            ],
            "label": "2024-02-02 00:00:00",
            "method": "animate"
           },
           {
            "args": [
             [
              "2024-02-03 00:00:00"
             ],
             {
              "frame": {
               "duration": 0,
               "redraw": false
              },
              "fromcurrent": true,
              "mode": "immediate",
              "transition": {
               "duration": 0,
               "easing": "linear"
              }
             }
            ],
            "label": "2024-02-03 00:00:00",
            "method": "animate"
           },
           {
            "args": [
             [
              "2024-02-04 00:00:00"
             ],
             {
              "frame": {
               "duration": 0,
               "redraw": false
              },
              "fromcurrent": true,
              "mode": "immediate",
              "transition": {
               "duration": 0,
               "easing": "linear"
              }
             }
            ],
            "label": "2024-02-04 00:00:00",
            "method": "animate"
           },
           {
            "args": [
             [
              "2024-02-05 00:00:00"
             ],
             {
              "frame": {
               "duration": 0,
               "redraw": false
              },
              "fromcurrent": true,
              "mode": "immediate",
              "transition": {
               "duration": 0,
               "easing": "linear"
              }
             }
            ],
            "label": "2024-02-05 00:00:00",
            "method": "animate"
           },
           {
            "args": [
             [
              "2024-02-06 00:00:00"
             ],
             {
              "frame": {
               "duration": 0,
               "redraw": false
              },
              "fromcurrent": true,
              "mode": "immediate",
              "transition": {
               "duration": 0,
               "easing": "linear"
              }
             }
            ],
            "label": "2024-02-06 00:00:00",
            "method": "animate"
           },
           {
            "args": [
             [
              "2024-02-07 00:00:00"
             ],
             {
              "frame": {
               "duration": 0,
               "redraw": false
              },
              "fromcurrent": true,
              "mode": "immediate",
              "transition": {
               "duration": 0,
               "easing": "linear"
              }
             }
            ],
            "label": "2024-02-07 00:00:00",
            "method": "animate"
           },
           {
            "args": [
             [
              "2024-02-08 00:00:00"
             ],
             {
              "frame": {
               "duration": 0,
               "redraw": false
              },
              "fromcurrent": true,
              "mode": "immediate",
              "transition": {
               "duration": 0,
               "easing": "linear"
              }
             }
            ],
            "label": "2024-02-08 00:00:00",
            "method": "animate"
           },
           {
            "args": [
             [
              "2024-02-09 00:00:00"
             ],
             {
              "frame": {
               "duration": 0,
               "redraw": false
              },
              "fromcurrent": true,
              "mode": "immediate",
              "transition": {
               "duration": 0,
               "easing": "linear"
              }
             }
            ],
            "label": "2024-02-09 00:00:00",
            "method": "animate"
           },
           {
            "args": [
             [
              "2024-02-10 00:00:00"
             ],
             {
              "frame": {
               "duration": 0,
               "redraw": false
              },
              "fromcurrent": true,
              "mode": "immediate",
              "transition": {
               "duration": 0,
               "easing": "linear"
              }
             }
            ],
            "label": "2024-02-10 00:00:00",
            "method": "animate"
           },
           {
            "args": [
             [
              "2024-02-11 00:00:00"
             ],
             {
              "frame": {
               "duration": 0,
               "redraw": false
              },
              "fromcurrent": true,
              "mode": "immediate",
              "transition": {
               "duration": 0,
               "easing": "linear"
              }
             }
            ],
            "label": "2024-02-11 00:00:00",
            "method": "animate"
           },
           {
            "args": [
             [
              "2024-02-12 00:00:00"
             ],
             {
              "frame": {
               "duration": 0,
               "redraw": false
              },
              "fromcurrent": true,
              "mode": "immediate",
              "transition": {
               "duration": 0,
               "easing": "linear"
              }
             }
            ],
            "label": "2024-02-12 00:00:00",
            "method": "animate"
           },
           {
            "args": [
             [
              "2024-02-13 00:00:00"
             ],
             {
              "frame": {
               "duration": 0,
               "redraw": false
              },
              "fromcurrent": true,
              "mode": "immediate",
              "transition": {
               "duration": 0,
               "easing": "linear"
              }
             }
            ],
            "label": "2024-02-13 00:00:00",
            "method": "animate"
           },
           {
            "args": [
             [
              "2024-02-14 00:00:00"
             ],
             {
              "frame": {
               "duration": 0,
               "redraw": false
              },
              "fromcurrent": true,
              "mode": "immediate",
              "transition": {
               "duration": 0,
               "easing": "linear"
              }
             }
            ],
            "label": "2024-02-14 00:00:00",
            "method": "animate"
           },
           {
            "args": [
             [
              "2024-02-15 00:00:00"
             ],
             {
              "frame": {
               "duration": 0,
               "redraw": false
              },
              "fromcurrent": true,
              "mode": "immediate",
              "transition": {
               "duration": 0,
               "easing": "linear"
              }
             }
            ],
            "label": "2024-02-15 00:00:00",
            "method": "animate"
           },
           {
            "args": [
             [
              "2024-02-16 00:00:00"
             ],
             {
              "frame": {
               "duration": 0,
               "redraw": false
              },
              "fromcurrent": true,
              "mode": "immediate",
              "transition": {
               "duration": 0,
               "easing": "linear"
              }
             }
            ],
            "label": "2024-02-16 00:00:00",
            "method": "animate"
           },
           {
            "args": [
             [
              "2024-02-17 00:00:00"
             ],
             {
              "frame": {
               "duration": 0,
               "redraw": false
              },
              "fromcurrent": true,
              "mode": "immediate",
              "transition": {
               "duration": 0,
               "easing": "linear"
              }
             }
            ],
            "label": "2024-02-17 00:00:00",
            "method": "animate"
           },
           {
            "args": [
             [
              "2024-02-18 00:00:00"
             ],
             {
              "frame": {
               "duration": 0,
               "redraw": false
              },
              "fromcurrent": true,
              "mode": "immediate",
              "transition": {
               "duration": 0,
               "easing": "linear"
              }
             }
            ],
            "label": "2024-02-18 00:00:00",
            "method": "animate"
           },
           {
            "args": [
             [
              "2024-02-19 00:00:00"
             ],
             {
              "frame": {
               "duration": 0,
               "redraw": false
              },
              "fromcurrent": true,
              "mode": "immediate",
              "transition": {
               "duration": 0,
               "easing": "linear"
              }
             }
            ],
            "label": "2024-02-19 00:00:00",
            "method": "animate"
           },
           {
            "args": [
             [
              "2024-02-20 00:00:00"
             ],
             {
              "frame": {
               "duration": 0,
               "redraw": false
              },
              "fromcurrent": true,
              "mode": "immediate",
              "transition": {
               "duration": 0,
               "easing": "linear"
              }
             }
            ],
            "label": "2024-02-20 00:00:00",
            "method": "animate"
           },
           {
            "args": [
             [
              "2024-02-21 00:00:00"
             ],
             {
              "frame": {
               "duration": 0,
               "redraw": false
              },
              "fromcurrent": true,
              "mode": "immediate",
              "transition": {
               "duration": 0,
               "easing": "linear"
              }
             }
            ],
            "label": "2024-02-21 00:00:00",
            "method": "animate"
           },
           {
            "args": [
             [
              "2024-02-22 00:00:00"
             ],
             {
              "frame": {
               "duration": 0,
               "redraw": false
              },
              "fromcurrent": true,
              "mode": "immediate",
              "transition": {
               "duration": 0,
               "easing": "linear"
              }
             }
            ],
            "label": "2024-02-22 00:00:00",
            "method": "animate"
           },
           {
            "args": [
             [
              "2024-02-23 00:00:00"
             ],
             {
              "frame": {
               "duration": 0,
               "redraw": false
              },
              "fromcurrent": true,
              "mode": "immediate",
              "transition": {
               "duration": 0,
               "easing": "linear"
              }
             }
            ],
            "label": "2024-02-23 00:00:00",
            "method": "animate"
           },
           {
            "args": [
             [
              "2024-02-24 00:00:00"
             ],
             {
              "frame": {
               "duration": 0,
               "redraw": false
              },
              "fromcurrent": true,
              "mode": "immediate",
              "transition": {
               "duration": 0,
               "easing": "linear"
              }
             }
            ],
            "label": "2024-02-24 00:00:00",
            "method": "animate"
           },
           {
            "args": [
             [
              "2024-02-25 00:00:00"
             ],
             {
              "frame": {
               "duration": 0,
               "redraw": false
              },
              "fromcurrent": true,
              "mode": "immediate",
              "transition": {
               "duration": 0,
               "easing": "linear"
              }
             }
            ],
            "label": "2024-02-25 00:00:00",
            "method": "animate"
           },
           {
            "args": [
             [
              "2024-02-26 00:00:00"
             ],
             {
              "frame": {
               "duration": 0,
               "redraw": false
              },
              "fromcurrent": true,
              "mode": "immediate",
              "transition": {
               "duration": 0,
               "easing": "linear"
              }
             }
            ],
            "label": "2024-02-26 00:00:00",
            "method": "animate"
           },
           {
            "args": [
             [
              "2024-02-27 00:00:00"
             ],
             {
              "frame": {
               "duration": 0,
               "redraw": false
              },
              "fromcurrent": true,
              "mode": "immediate",
              "transition": {
               "duration": 0,
               "easing": "linear"
              }
             }
            ],
            "label": "2024-02-27 00:00:00",
            "method": "animate"
           },
           {
            "args": [
             [
              "2024-02-28 00:00:00"
             ],
             {
              "frame": {
               "duration": 0,
               "redraw": false
              },
              "fromcurrent": true,
              "mode": "immediate",
              "transition": {
               "duration": 0,
               "easing": "linear"
              }
             }
            ],
            "label": "2024-02-28 00:00:00",
            "method": "animate"
           },
           {
            "args": [
             [
              "2024-02-29 00:00:00"
             ],
             {
              "frame": {
               "duration": 0,
               "redraw": false
              },
              "fromcurrent": true,
              "mode": "immediate",
              "transition": {
               "duration": 0,
               "easing": "linear"
              }
             }
            ],
            "label": "2024-02-29 00:00:00",
            "method": "animate"
           },
           {
            "args": [
             [
              "2024-03-01 00:00:00"
             ],
             {
              "frame": {
               "duration": 0,
               "redraw": false
              },
              "fromcurrent": true,
              "mode": "immediate",
              "transition": {
               "duration": 0,
               "easing": "linear"
              }
             }
            ],
            "label": "2024-03-01 00:00:00",
            "method": "animate"
           },
           {
            "args": [
             [
              "2024-03-02 00:00:00"
             ],
             {
              "frame": {
               "duration": 0,
               "redraw": false
              },
              "fromcurrent": true,
              "mode": "immediate",
              "transition": {
               "duration": 0,
               "easing": "linear"
              }
             }
            ],
            "label": "2024-03-02 00:00:00",
            "method": "animate"
           },
           {
            "args": [
             [
              "2024-03-03 00:00:00"
             ],
             {
              "frame": {
               "duration": 0,
               "redraw": false
              },
              "fromcurrent": true,
              "mode": "immediate",
              "transition": {
               "duration": 0,
               "easing": "linear"
              }
             }
            ],
            "label": "2024-03-03 00:00:00",
            "method": "animate"
           },
           {
            "args": [
             [
              "2024-03-04 00:00:00"
             ],
             {
              "frame": {
               "duration": 0,
               "redraw": false
              },
              "fromcurrent": true,
              "mode": "immediate",
              "transition": {
               "duration": 0,
               "easing": "linear"
              }
             }
            ],
            "label": "2024-03-04 00:00:00",
            "method": "animate"
           },
           {
            "args": [
             [
              "2024-03-05 00:00:00"
             ],
             {
              "frame": {
               "duration": 0,
               "redraw": false
              },
              "fromcurrent": true,
              "mode": "immediate",
              "transition": {
               "duration": 0,
               "easing": "linear"
              }
             }
            ],
            "label": "2024-03-05 00:00:00",
            "method": "animate"
           },
           {
            "args": [
             [
              "2024-03-06 00:00:00"
             ],
             {
              "frame": {
               "duration": 0,
               "redraw": false
              },
              "fromcurrent": true,
              "mode": "immediate",
              "transition": {
               "duration": 0,
               "easing": "linear"
              }
             }
            ],
            "label": "2024-03-06 00:00:00",
            "method": "animate"
           },
           {
            "args": [
             [
              "2024-03-07 00:00:00"
             ],
             {
              "frame": {
               "duration": 0,
               "redraw": false
              },
              "fromcurrent": true,
              "mode": "immediate",
              "transition": {
               "duration": 0,
               "easing": "linear"
              }
             }
            ],
            "label": "2024-03-07 00:00:00",
            "method": "animate"
           },
           {
            "args": [
             [
              "2024-03-08 00:00:00"
             ],
             {
              "frame": {
               "duration": 0,
               "redraw": false
              },
              "fromcurrent": true,
              "mode": "immediate",
              "transition": {
               "duration": 0,
               "easing": "linear"
              }
             }
            ],
            "label": "2024-03-08 00:00:00",
            "method": "animate"
           },
           {
            "args": [
             [
              "2024-03-09 00:00:00"
             ],
             {
              "frame": {
               "duration": 0,
               "redraw": false
              },
              "fromcurrent": true,
              "mode": "immediate",
              "transition": {
               "duration": 0,
               "easing": "linear"
              }
             }
            ],
            "label": "2024-03-09 00:00:00",
            "method": "animate"
           },
           {
            "args": [
             [
              "2024-03-10 00:00:00"
             ],
             {
              "frame": {
               "duration": 0,
               "redraw": false
              },
              "fromcurrent": true,
              "mode": "immediate",
              "transition": {
               "duration": 0,
               "easing": "linear"
              }
             }
            ],
            "label": "2024-03-10 00:00:00",
            "method": "animate"
           },
           {
            "args": [
             [
              "2024-03-11 00:00:00"
             ],
             {
              "frame": {
               "duration": 0,
               "redraw": false
              },
              "fromcurrent": true,
              "mode": "immediate",
              "transition": {
               "duration": 0,
               "easing": "linear"
              }
             }
            ],
            "label": "2024-03-11 00:00:00",
            "method": "animate"
           },
           {
            "args": [
             [
              "2024-03-12 00:00:00"
             ],
             {
              "frame": {
               "duration": 0,
               "redraw": false
              },
              "fromcurrent": true,
              "mode": "immediate",
              "transition": {
               "duration": 0,
               "easing": "linear"
              }
             }
            ],
            "label": "2024-03-12 00:00:00",
            "method": "animate"
           },
           {
            "args": [
             [
              "2024-03-13 00:00:00"
             ],
             {
              "frame": {
               "duration": 0,
               "redraw": false
              },
              "fromcurrent": true,
              "mode": "immediate",
              "transition": {
               "duration": 0,
               "easing": "linear"
              }
             }
            ],
            "label": "2024-03-13 00:00:00",
            "method": "animate"
           },
           {
            "args": [
             [
              "2024-03-14 00:00:00"
             ],
             {
              "frame": {
               "duration": 0,
               "redraw": false
              },
              "fromcurrent": true,
              "mode": "immediate",
              "transition": {
               "duration": 0,
               "easing": "linear"
              }
             }
            ],
            "label": "2024-03-14 00:00:00",
            "method": "animate"
           },
           {
            "args": [
             [
              "2024-03-15 00:00:00"
             ],
             {
              "frame": {
               "duration": 0,
               "redraw": false
              },
              "fromcurrent": true,
              "mode": "immediate",
              "transition": {
               "duration": 0,
               "easing": "linear"
              }
             }
            ],
            "label": "2024-03-15 00:00:00",
            "method": "animate"
           },
           {
            "args": [
             [
              "2024-03-16 00:00:00"
             ],
             {
              "frame": {
               "duration": 0,
               "redraw": false
              },
              "fromcurrent": true,
              "mode": "immediate",
              "transition": {
               "duration": 0,
               "easing": "linear"
              }
             }
            ],
            "label": "2024-03-16 00:00:00",
            "method": "animate"
           },
           {
            "args": [
             [
              "2024-03-17 00:00:00"
             ],
             {
              "frame": {
               "duration": 0,
               "redraw": false
              },
              "fromcurrent": true,
              "mode": "immediate",
              "transition": {
               "duration": 0,
               "easing": "linear"
              }
             }
            ],
            "label": "2024-03-17 00:00:00",
            "method": "animate"
           },
           {
            "args": [
             [
              "2024-03-18 00:00:00"
             ],
             {
              "frame": {
               "duration": 0,
               "redraw": false
              },
              "fromcurrent": true,
              "mode": "immediate",
              "transition": {
               "duration": 0,
               "easing": "linear"
              }
             }
            ],
            "label": "2024-03-18 00:00:00",
            "method": "animate"
           },
           {
            "args": [
             [
              "2024-03-19 00:00:00"
             ],
             {
              "frame": {
               "duration": 0,
               "redraw": false
              },
              "fromcurrent": true,
              "mode": "immediate",
              "transition": {
               "duration": 0,
               "easing": "linear"
              }
             }
            ],
            "label": "2024-03-19 00:00:00",
            "method": "animate"
           },
           {
            "args": [
             [
              "2024-03-20 00:00:00"
             ],
             {
              "frame": {
               "duration": 0,
               "redraw": false
              },
              "fromcurrent": true,
              "mode": "immediate",
              "transition": {
               "duration": 0,
               "easing": "linear"
              }
             }
            ],
            "label": "2024-03-20 00:00:00",
            "method": "animate"
           },
           {
            "args": [
             [
              "2024-03-21 00:00:00"
             ],
             {
              "frame": {
               "duration": 0,
               "redraw": false
              },
              "fromcurrent": true,
              "mode": "immediate",
              "transition": {
               "duration": 0,
               "easing": "linear"
              }
             }
            ],
            "label": "2024-03-21 00:00:00",
            "method": "animate"
           },
           {
            "args": [
             [
              "2024-03-22 00:00:00"
             ],
             {
              "frame": {
               "duration": 0,
               "redraw": false
              },
              "fromcurrent": true,
              "mode": "immediate",
              "transition": {
               "duration": 0,
               "easing": "linear"
              }
             }
            ],
            "label": "2024-03-22 00:00:00",
            "method": "animate"
           },
           {
            "args": [
             [
              "2024-03-23 00:00:00"
             ],
             {
              "frame": {
               "duration": 0,
               "redraw": false
              },
              "fromcurrent": true,
              "mode": "immediate",
              "transition": {
               "duration": 0,
               "easing": "linear"
              }
             }
            ],
            "label": "2024-03-23 00:00:00",
            "method": "animate"
           },
           {
            "args": [
             [
              "2024-03-24 00:00:00"
             ],
             {
              "frame": {
               "duration": 0,
               "redraw": false
              },
              "fromcurrent": true,
              "mode": "immediate",
              "transition": {
               "duration": 0,
               "easing": "linear"
              }
             }
            ],
            "label": "2024-03-24 00:00:00",
            "method": "animate"
           },
           {
            "args": [
             [
              "2024-03-25 00:00:00"
             ],
             {
              "frame": {
               "duration": 0,
               "redraw": false
              },
              "fromcurrent": true,
              "mode": "immediate",
              "transition": {
               "duration": 0,
               "easing": "linear"
              }
             }
            ],
            "label": "2024-03-25 00:00:00",
            "method": "animate"
           },
           {
            "args": [
             [
              "2024-03-26 00:00:00"
             ],
             {
              "frame": {
               "duration": 0,
               "redraw": false
              },
              "fromcurrent": true,
              "mode": "immediate",
              "transition": {
               "duration": 0,
               "easing": "linear"
              }
             }
            ],
            "label": "2024-03-26 00:00:00",
            "method": "animate"
           },
           {
            "args": [
             [
              "2024-03-27 00:00:00"
             ],
             {
              "frame": {
               "duration": 0,
               "redraw": false
              },
              "fromcurrent": true,
              "mode": "immediate",
              "transition": {
               "duration": 0,
               "easing": "linear"
              }
             }
            ],
            "label": "2024-03-27 00:00:00",
            "method": "animate"
           },
           {
            "args": [
             [
              "2024-03-28 00:00:00"
             ],
             {
              "frame": {
               "duration": 0,
               "redraw": false
              },
              "fromcurrent": true,
              "mode": "immediate",
              "transition": {
               "duration": 0,
               "easing": "linear"
              }
             }
            ],
            "label": "2024-03-28 00:00:00",
            "method": "animate"
           },
           {
            "args": [
             [
              "2024-03-29 00:00:00"
             ],
             {
              "frame": {
               "duration": 0,
               "redraw": false
              },
              "fromcurrent": true,
              "mode": "immediate",
              "transition": {
               "duration": 0,
               "easing": "linear"
              }
             }
            ],
            "label": "2024-03-29 00:00:00",
            "method": "animate"
           },
           {
            "args": [
             [
              "2024-03-30 00:00:00"
             ],
             {
              "frame": {
               "duration": 0,
               "redraw": false
              },
              "fromcurrent": true,
              "mode": "immediate",
              "transition": {
               "duration": 0,
               "easing": "linear"
              }
             }
            ],
            "label": "2024-03-30 00:00:00",
            "method": "animate"
           },
           {
            "args": [
             [
              "2024-03-31 00:00:00"
             ],
             {
              "frame": {
               "duration": 0,
               "redraw": false
              },
              "fromcurrent": true,
              "mode": "immediate",
              "transition": {
               "duration": 0,
               "easing": "linear"
              }
             }
            ],
            "label": "2024-03-31 00:00:00",
            "method": "animate"
           },
           {
            "args": [
             [
              "2024-04-01 00:00:00"
             ],
             {
              "frame": {
               "duration": 0,
               "redraw": false
              },
              "fromcurrent": true,
              "mode": "immediate",
              "transition": {
               "duration": 0,
               "easing": "linear"
              }
             }
            ],
            "label": "2024-04-01 00:00:00",
            "method": "animate"
           },
           {
            "args": [
             [
              "2024-04-02 00:00:00"
             ],
             {
              "frame": {
               "duration": 0,
               "redraw": false
              },
              "fromcurrent": true,
              "mode": "immediate",
              "transition": {
               "duration": 0,
               "easing": "linear"
              }
             }
            ],
            "label": "2024-04-02 00:00:00",
            "method": "animate"
           },
           {
            "args": [
             [
              "2024-04-03 00:00:00"
             ],
             {
              "frame": {
               "duration": 0,
               "redraw": false
              },
              "fromcurrent": true,
              "mode": "immediate",
              "transition": {
               "duration": 0,
               "easing": "linear"
              }
             }
            ],
            "label": "2024-04-03 00:00:00",
            "method": "animate"
           },
           {
            "args": [
             [
              "2024-04-04 00:00:00"
             ],
             {
              "frame": {
               "duration": 0,
               "redraw": false
              },
              "fromcurrent": true,
              "mode": "immediate",
              "transition": {
               "duration": 0,
               "easing": "linear"
              }
             }
            ],
            "label": "2024-04-04 00:00:00",
            "method": "animate"
           },
           {
            "args": [
             [
              "2024-04-05 00:00:00"
             ],
             {
              "frame": {
               "duration": 0,
               "redraw": false
              },
              "fromcurrent": true,
              "mode": "immediate",
              "transition": {
               "duration": 0,
               "easing": "linear"
              }
             }
            ],
            "label": "2024-04-05 00:00:00",
            "method": "animate"
           },
           {
            "args": [
             [
              "2024-04-06 00:00:00"
             ],
             {
              "frame": {
               "duration": 0,
               "redraw": false
              },
              "fromcurrent": true,
              "mode": "immediate",
              "transition": {
               "duration": 0,
               "easing": "linear"
              }
             }
            ],
            "label": "2024-04-06 00:00:00",
            "method": "animate"
           },
           {
            "args": [
             [
              "2024-04-07 00:00:00"
             ],
             {
              "frame": {
               "duration": 0,
               "redraw": false
              },
              "fromcurrent": true,
              "mode": "immediate",
              "transition": {
               "duration": 0,
               "easing": "linear"
              }
             }
            ],
            "label": "2024-04-07 00:00:00",
            "method": "animate"
           },
           {
            "args": [
             [
              "2024-04-08 00:00:00"
             ],
             {
              "frame": {
               "duration": 0,
               "redraw": false
              },
              "fromcurrent": true,
              "mode": "immediate",
              "transition": {
               "duration": 0,
               "easing": "linear"
              }
             }
            ],
            "label": "2024-04-08 00:00:00",
            "method": "animate"
           },
           {
            "args": [
             [
              "2024-04-09 00:00:00"
             ],
             {
              "frame": {
               "duration": 0,
               "redraw": false
              },
              "fromcurrent": true,
              "mode": "immediate",
              "transition": {
               "duration": 0,
               "easing": "linear"
              }
             }
            ],
            "label": "2024-04-09 00:00:00",
            "method": "animate"
           },
           {
            "args": [
             [
              "2024-04-10 00:00:00"
             ],
             {
              "frame": {
               "duration": 0,
               "redraw": false
              },
              "fromcurrent": true,
              "mode": "immediate",
              "transition": {
               "duration": 0,
               "easing": "linear"
              }
             }
            ],
            "label": "2024-04-10 00:00:00",
            "method": "animate"
           },
           {
            "args": [
             [
              "2024-04-11 00:00:00"
             ],
             {
              "frame": {
               "duration": 0,
               "redraw": false
              },
              "fromcurrent": true,
              "mode": "immediate",
              "transition": {
               "duration": 0,
               "easing": "linear"
              }
             }
            ],
            "label": "2024-04-11 00:00:00",
            "method": "animate"
           },
           {
            "args": [
             [
              "2024-04-12 00:00:00"
             ],
             {
              "frame": {
               "duration": 0,
               "redraw": false
              },
              "fromcurrent": true,
              "mode": "immediate",
              "transition": {
               "duration": 0,
               "easing": "linear"
              }
             }
            ],
            "label": "2024-04-12 00:00:00",
            "method": "animate"
           },
           {
            "args": [
             [
              "2024-04-13 00:00:00"
             ],
             {
              "frame": {
               "duration": 0,
               "redraw": false
              },
              "fromcurrent": true,
              "mode": "immediate",
              "transition": {
               "duration": 0,
               "easing": "linear"
              }
             }
            ],
            "label": "2024-04-13 00:00:00",
            "method": "animate"
           },
           {
            "args": [
             [
              "2024-04-14 00:00:00"
             ],
             {
              "frame": {
               "duration": 0,
               "redraw": false
              },
              "fromcurrent": true,
              "mode": "immediate",
              "transition": {
               "duration": 0,
               "easing": "linear"
              }
             }
            ],
            "label": "2024-04-14 00:00:00",
            "method": "animate"
           },
           {
            "args": [
             [
              "2024-04-15 00:00:00"
             ],
             {
              "frame": {
               "duration": 0,
               "redraw": false
              },
              "fromcurrent": true,
              "mode": "immediate",
              "transition": {
               "duration": 0,
               "easing": "linear"
              }
             }
            ],
            "label": "2024-04-15 00:00:00",
            "method": "animate"
           },
           {
            "args": [
             [
              "2024-04-16 00:00:00"
             ],
             {
              "frame": {
               "duration": 0,
               "redraw": false
              },
              "fromcurrent": true,
              "mode": "immediate",
              "transition": {
               "duration": 0,
               "easing": "linear"
              }
             }
            ],
            "label": "2024-04-16 00:00:00",
            "method": "animate"
           },
           {
            "args": [
             [
              "2024-04-17 00:00:00"
             ],
             {
              "frame": {
               "duration": 0,
               "redraw": false
              },
              "fromcurrent": true,
              "mode": "immediate",
              "transition": {
               "duration": 0,
               "easing": "linear"
              }
             }
            ],
            "label": "2024-04-17 00:00:00",
            "method": "animate"
           },
           {
            "args": [
             [
              "2024-04-18 00:00:00"
             ],
             {
              "frame": {
               "duration": 0,
               "redraw": false
              },
              "fromcurrent": true,
              "mode": "immediate",
              "transition": {
               "duration": 0,
               "easing": "linear"
              }
             }
            ],
            "label": "2024-04-18 00:00:00",
            "method": "animate"
           },
           {
            "args": [
             [
              "2024-04-19 00:00:00"
             ],
             {
              "frame": {
               "duration": 0,
               "redraw": false
              },
              "fromcurrent": true,
              "mode": "immediate",
              "transition": {
               "duration": 0,
               "easing": "linear"
              }
             }
            ],
            "label": "2024-04-19 00:00:00",
            "method": "animate"
           },
           {
            "args": [
             [
              "2024-04-20 00:00:00"
             ],
             {
              "frame": {
               "duration": 0,
               "redraw": false
              },
              "fromcurrent": true,
              "mode": "immediate",
              "transition": {
               "duration": 0,
               "easing": "linear"
              }
             }
            ],
            "label": "2024-04-20 00:00:00",
            "method": "animate"
           },
           {
            "args": [
             [
              "2024-04-21 00:00:00"
             ],
             {
              "frame": {
               "duration": 0,
               "redraw": false
              },
              "fromcurrent": true,
              "mode": "immediate",
              "transition": {
               "duration": 0,
               "easing": "linear"
              }
             }
            ],
            "label": "2024-04-21 00:00:00",
            "method": "animate"
           },
           {
            "args": [
             [
              "2024-04-22 00:00:00"
             ],
             {
              "frame": {
               "duration": 0,
               "redraw": false
              },
              "fromcurrent": true,
              "mode": "immediate",
              "transition": {
               "duration": 0,
               "easing": "linear"
              }
             }
            ],
            "label": "2024-04-22 00:00:00",
            "method": "animate"
           },
           {
            "args": [
             [
              "2024-04-23 00:00:00"
             ],
             {
              "frame": {
               "duration": 0,
               "redraw": false
              },
              "fromcurrent": true,
              "mode": "immediate",
              "transition": {
               "duration": 0,
               "easing": "linear"
              }
             }
            ],
            "label": "2024-04-23 00:00:00",
            "method": "animate"
           },
           {
            "args": [
             [
              "2024-04-24 00:00:00"
             ],
             {
              "frame": {
               "duration": 0,
               "redraw": false
              },
              "fromcurrent": true,
              "mode": "immediate",
              "transition": {
               "duration": 0,
               "easing": "linear"
              }
             }
            ],
            "label": "2024-04-24 00:00:00",
            "method": "animate"
           },
           {
            "args": [
             [
              "2024-04-25 00:00:00"
             ],
             {
              "frame": {
               "duration": 0,
               "redraw": false
              },
              "fromcurrent": true,
              "mode": "immediate",
              "transition": {
               "duration": 0,
               "easing": "linear"
              }
             }
            ],
            "label": "2024-04-25 00:00:00",
            "method": "animate"
           },
           {
            "args": [
             [
              "2024-04-26 00:00:00"
             ],
             {
              "frame": {
               "duration": 0,
               "redraw": false
              },
              "fromcurrent": true,
              "mode": "immediate",
              "transition": {
               "duration": 0,
               "easing": "linear"
              }
             }
            ],
            "label": "2024-04-26 00:00:00",
            "method": "animate"
           },
           {
            "args": [
             [
              "2024-04-27 00:00:00"
             ],
             {
              "frame": {
               "duration": 0,
               "redraw": false
              },
              "fromcurrent": true,
              "mode": "immediate",
              "transition": {
               "duration": 0,
               "easing": "linear"
              }
             }
            ],
            "label": "2024-04-27 00:00:00",
            "method": "animate"
           },
           {
            "args": [
             [
              "2024-04-28 00:00:00"
             ],
             {
              "frame": {
               "duration": 0,
               "redraw": false
              },
              "fromcurrent": true,
              "mode": "immediate",
              "transition": {
               "duration": 0,
               "easing": "linear"
              }
             }
            ],
            "label": "2024-04-28 00:00:00",
            "method": "animate"
           },
           {
            "args": [
             [
              "2024-04-29 00:00:00"
             ],
             {
              "frame": {
               "duration": 0,
               "redraw": false
              },
              "fromcurrent": true,
              "mode": "immediate",
              "transition": {
               "duration": 0,
               "easing": "linear"
              }
             }
            ],
            "label": "2024-04-29 00:00:00",
            "method": "animate"
           },
           {
            "args": [
             [
              "2024-04-30 00:00:00"
             ],
             {
              "frame": {
               "duration": 0,
               "redraw": false
              },
              "fromcurrent": true,
              "mode": "immediate",
              "transition": {
               "duration": 0,
               "easing": "linear"
              }
             }
            ],
            "label": "2024-04-30 00:00:00",
            "method": "animate"
           },
           {
            "args": [
             [
              "2024-05-01 00:00:00"
             ],
             {
              "frame": {
               "duration": 0,
               "redraw": false
              },
              "fromcurrent": true,
              "mode": "immediate",
              "transition": {
               "duration": 0,
               "easing": "linear"
              }
             }
            ],
            "label": "2024-05-01 00:00:00",
            "method": "animate"
           },
           {
            "args": [
             [
              "2024-05-02 00:00:00"
             ],
             {
              "frame": {
               "duration": 0,
               "redraw": false
              },
              "fromcurrent": true,
              "mode": "immediate",
              "transition": {
               "duration": 0,
               "easing": "linear"
              }
             }
            ],
            "label": "2024-05-02 00:00:00",
            "method": "animate"
           },
           {
            "args": [
             [
              "2024-05-03 00:00:00"
             ],
             {
              "frame": {
               "duration": 0,
               "redraw": false
              },
              "fromcurrent": true,
              "mode": "immediate",
              "transition": {
               "duration": 0,
               "easing": "linear"
              }
             }
            ],
            "label": "2024-05-03 00:00:00",
            "method": "animate"
           },
           {
            "args": [
             [
              "2024-05-04 00:00:00"
             ],
             {
              "frame": {
               "duration": 0,
               "redraw": false
              },
              "fromcurrent": true,
              "mode": "immediate",
              "transition": {
               "duration": 0,
               "easing": "linear"
              }
             }
            ],
            "label": "2024-05-04 00:00:00",
            "method": "animate"
           },
           {
            "args": [
             [
              "2024-05-05 00:00:00"
             ],
             {
              "frame": {
               "duration": 0,
               "redraw": false
              },
              "fromcurrent": true,
              "mode": "immediate",
              "transition": {
               "duration": 0,
               "easing": "linear"
              }
             }
            ],
            "label": "2024-05-05 00:00:00",
            "method": "animate"
           },
           {
            "args": [
             [
              "2024-05-06 00:00:00"
             ],
             {
              "frame": {
               "duration": 0,
               "redraw": false
              },
              "fromcurrent": true,
              "mode": "immediate",
              "transition": {
               "duration": 0,
               "easing": "linear"
              }
             }
            ],
            "label": "2024-05-06 00:00:00",
            "method": "animate"
           },
           {
            "args": [
             [
              "2024-05-07 00:00:00"
             ],
             {
              "frame": {
               "duration": 0,
               "redraw": false
              },
              "fromcurrent": true,
              "mode": "immediate",
              "transition": {
               "duration": 0,
               "easing": "linear"
              }
             }
            ],
            "label": "2024-05-07 00:00:00",
            "method": "animate"
           },
           {
            "args": [
             [
              "2024-05-08 00:00:00"
             ],
             {
              "frame": {
               "duration": 0,
               "redraw": false
              },
              "fromcurrent": true,
              "mode": "immediate",
              "transition": {
               "duration": 0,
               "easing": "linear"
              }
             }
            ],
            "label": "2024-05-08 00:00:00",
            "method": "animate"
           },
           {
            "args": [
             [
              "2024-05-09 00:00:00"
             ],
             {
              "frame": {
               "duration": 0,
               "redraw": false
              },
              "fromcurrent": true,
              "mode": "immediate",
              "transition": {
               "duration": 0,
               "easing": "linear"
              }
             }
            ],
            "label": "2024-05-09 00:00:00",
            "method": "animate"
           },
           {
            "args": [
             [
              "2024-05-10 00:00:00"
             ],
             {
              "frame": {
               "duration": 0,
               "redraw": false
              },
              "fromcurrent": true,
              "mode": "immediate",
              "transition": {
               "duration": 0,
               "easing": "linear"
              }
             }
            ],
            "label": "2024-05-10 00:00:00",
            "method": "animate"
           },
           {
            "args": [
             [
              "2024-05-11 00:00:00"
             ],
             {
              "frame": {
               "duration": 0,
               "redraw": false
              },
              "fromcurrent": true,
              "mode": "immediate",
              "transition": {
               "duration": 0,
               "easing": "linear"
              }
             }
            ],
            "label": "2024-05-11 00:00:00",
            "method": "animate"
           },
           {
            "args": [
             [
              "2024-05-12 00:00:00"
             ],
             {
              "frame": {
               "duration": 0,
               "redraw": false
              },
              "fromcurrent": true,
              "mode": "immediate",
              "transition": {
               "duration": 0,
               "easing": "linear"
              }
             }
            ],
            "label": "2024-05-12 00:00:00",
            "method": "animate"
           },
           {
            "args": [
             [
              "2024-05-13 00:00:00"
             ],
             {
              "frame": {
               "duration": 0,
               "redraw": false
              },
              "fromcurrent": true,
              "mode": "immediate",
              "transition": {
               "duration": 0,
               "easing": "linear"
              }
             }
            ],
            "label": "2024-05-13 00:00:00",
            "method": "animate"
           },
           {
            "args": [
             [
              "2024-05-14 00:00:00"
             ],
             {
              "frame": {
               "duration": 0,
               "redraw": false
              },
              "fromcurrent": true,
              "mode": "immediate",
              "transition": {
               "duration": 0,
               "easing": "linear"
              }
             }
            ],
            "label": "2024-05-14 00:00:00",
            "method": "animate"
           },
           {
            "args": [
             [
              "2024-05-15 00:00:00"
             ],
             {
              "frame": {
               "duration": 0,
               "redraw": false
              },
              "fromcurrent": true,
              "mode": "immediate",
              "transition": {
               "duration": 0,
               "easing": "linear"
              }
             }
            ],
            "label": "2024-05-15 00:00:00",
            "method": "animate"
           },
           {
            "args": [
             [
              "2024-05-16 00:00:00"
             ],
             {
              "frame": {
               "duration": 0,
               "redraw": false
              },
              "fromcurrent": true,
              "mode": "immediate",
              "transition": {
               "duration": 0,
               "easing": "linear"
              }
             }
            ],
            "label": "2024-05-16 00:00:00",
            "method": "animate"
           },
           {
            "args": [
             [
              "2024-05-17 00:00:00"
             ],
             {
              "frame": {
               "duration": 0,
               "redraw": false
              },
              "fromcurrent": true,
              "mode": "immediate",
              "transition": {
               "duration": 0,
               "easing": "linear"
              }
             }
            ],
            "label": "2024-05-17 00:00:00",
            "method": "animate"
           },
           {
            "args": [
             [
              "2024-05-18 00:00:00"
             ],
             {
              "frame": {
               "duration": 0,
               "redraw": false
              },
              "fromcurrent": true,
              "mode": "immediate",
              "transition": {
               "duration": 0,
               "easing": "linear"
              }
             }
            ],
            "label": "2024-05-18 00:00:00",
            "method": "animate"
           },
           {
            "args": [
             [
              "2024-05-19 00:00:00"
             ],
             {
              "frame": {
               "duration": 0,
               "redraw": false
              },
              "fromcurrent": true,
              "mode": "immediate",
              "transition": {
               "duration": 0,
               "easing": "linear"
              }
             }
            ],
            "label": "2024-05-19 00:00:00",
            "method": "animate"
           },
           {
            "args": [
             [
              "2024-05-20 00:00:00"
             ],
             {
              "frame": {
               "duration": 0,
               "redraw": false
              },
              "fromcurrent": true,
              "mode": "immediate",
              "transition": {
               "duration": 0,
               "easing": "linear"
              }
             }
            ],
            "label": "2024-05-20 00:00:00",
            "method": "animate"
           },
           {
            "args": [
             [
              "2024-05-21 00:00:00"
             ],
             {
              "frame": {
               "duration": 0,
               "redraw": false
              },
              "fromcurrent": true,
              "mode": "immediate",
              "transition": {
               "duration": 0,
               "easing": "linear"
              }
             }
            ],
            "label": "2024-05-21 00:00:00",
            "method": "animate"
           },
           {
            "args": [
             [
              "2024-05-22 00:00:00"
             ],
             {
              "frame": {
               "duration": 0,
               "redraw": false
              },
              "fromcurrent": true,
              "mode": "immediate",
              "transition": {
               "duration": 0,
               "easing": "linear"
              }
             }
            ],
            "label": "2024-05-22 00:00:00",
            "method": "animate"
           },
           {
            "args": [
             [
              "2024-05-23 00:00:00"
             ],
             {
              "frame": {
               "duration": 0,
               "redraw": false
              },
              "fromcurrent": true,
              "mode": "immediate",
              "transition": {
               "duration": 0,
               "easing": "linear"
              }
             }
            ],
            "label": "2024-05-23 00:00:00",
            "method": "animate"
           },
           {
            "args": [
             [
              "2024-05-24 00:00:00"
             ],
             {
              "frame": {
               "duration": 0,
               "redraw": false
              },
              "fromcurrent": true,
              "mode": "immediate",
              "transition": {
               "duration": 0,
               "easing": "linear"
              }
             }
            ],
            "label": "2024-05-24 00:00:00",
            "method": "animate"
           },
           {
            "args": [
             [
              "2024-05-25 00:00:00"
             ],
             {
              "frame": {
               "duration": 0,
               "redraw": false
              },
              "fromcurrent": true,
              "mode": "immediate",
              "transition": {
               "duration": 0,
               "easing": "linear"
              }
             }
            ],
            "label": "2024-05-25 00:00:00",
            "method": "animate"
           },
           {
            "args": [
             [
              "2024-05-26 00:00:00"
             ],
             {
              "frame": {
               "duration": 0,
               "redraw": false
              },
              "fromcurrent": true,
              "mode": "immediate",
              "transition": {
               "duration": 0,
               "easing": "linear"
              }
             }
            ],
            "label": "2024-05-26 00:00:00",
            "method": "animate"
           },
           {
            "args": [
             [
              "2024-05-27 00:00:00"
             ],
             {
              "frame": {
               "duration": 0,
               "redraw": false
              },
              "fromcurrent": true,
              "mode": "immediate",
              "transition": {
               "duration": 0,
               "easing": "linear"
              }
             }
            ],
            "label": "2024-05-27 00:00:00",
            "method": "animate"
           },
           {
            "args": [
             [
              "2024-05-28 00:00:00"
             ],
             {
              "frame": {
               "duration": 0,
               "redraw": false
              },
              "fromcurrent": true,
              "mode": "immediate",
              "transition": {
               "duration": 0,
               "easing": "linear"
              }
             }
            ],
            "label": "2024-05-28 00:00:00",
            "method": "animate"
           },
           {
            "args": [
             [
              "2024-05-29 00:00:00"
             ],
             {
              "frame": {
               "duration": 0,
               "redraw": false
              },
              "fromcurrent": true,
              "mode": "immediate",
              "transition": {
               "duration": 0,
               "easing": "linear"
              }
             }
            ],
            "label": "2024-05-29 00:00:00",
            "method": "animate"
           },
           {
            "args": [
             [
              "2024-05-30 00:00:00"
             ],
             {
              "frame": {
               "duration": 0,
               "redraw": false
              },
              "fromcurrent": true,
              "mode": "immediate",
              "transition": {
               "duration": 0,
               "easing": "linear"
              }
             }
            ],
            "label": "2024-05-30 00:00:00",
            "method": "animate"
           },
           {
            "args": [
             [
              "2024-05-31 00:00:00"
             ],
             {
              "frame": {
               "duration": 0,
               "redraw": false
              },
              "fromcurrent": true,
              "mode": "immediate",
              "transition": {
               "duration": 0,
               "easing": "linear"
              }
             }
            ],
            "label": "2024-05-31 00:00:00",
            "method": "animate"
           },
           {
            "args": [
             [
              "2024-06-01 00:00:00"
             ],
             {
              "frame": {
               "duration": 0,
               "redraw": false
              },
              "fromcurrent": true,
              "mode": "immediate",
              "transition": {
               "duration": 0,
               "easing": "linear"
              }
             }
            ],
            "label": "2024-06-01 00:00:00",
            "method": "animate"
           },
           {
            "args": [
             [
              "2024-06-02 00:00:00"
             ],
             {
              "frame": {
               "duration": 0,
               "redraw": false
              },
              "fromcurrent": true,
              "mode": "immediate",
              "transition": {
               "duration": 0,
               "easing": "linear"
              }
             }
            ],
            "label": "2024-06-02 00:00:00",
            "method": "animate"
           },
           {
            "args": [
             [
              "2024-06-03 00:00:00"
             ],
             {
              "frame": {
               "duration": 0,
               "redraw": false
              },
              "fromcurrent": true,
              "mode": "immediate",
              "transition": {
               "duration": 0,
               "easing": "linear"
              }
             }
            ],
            "label": "2024-06-03 00:00:00",
            "method": "animate"
           },
           {
            "args": [
             [
              "2024-06-04 00:00:00"
             ],
             {
              "frame": {
               "duration": 0,
               "redraw": false
              },
              "fromcurrent": true,
              "mode": "immediate",
              "transition": {
               "duration": 0,
               "easing": "linear"
              }
             }
            ],
            "label": "2024-06-04 00:00:00",
            "method": "animate"
           },
           {
            "args": [
             [
              "2024-06-05 00:00:00"
             ],
             {
              "frame": {
               "duration": 0,
               "redraw": false
              },
              "fromcurrent": true,
              "mode": "immediate",
              "transition": {
               "duration": 0,
               "easing": "linear"
              }
             }
            ],
            "label": "2024-06-05 00:00:00",
            "method": "animate"
           },
           {
            "args": [
             [
              "2024-06-06 00:00:00"
             ],
             {
              "frame": {
               "duration": 0,
               "redraw": false
              },
              "fromcurrent": true,
              "mode": "immediate",
              "transition": {
               "duration": 0,
               "easing": "linear"
              }
             }
            ],
            "label": "2024-06-06 00:00:00",
            "method": "animate"
           },
           {
            "args": [
             [
              "2024-06-07 00:00:00"
             ],
             {
              "frame": {
               "duration": 0,
               "redraw": false
              },
              "fromcurrent": true,
              "mode": "immediate",
              "transition": {
               "duration": 0,
               "easing": "linear"
              }
             }
            ],
            "label": "2024-06-07 00:00:00",
            "method": "animate"
           },
           {
            "args": [
             [
              "2024-06-08 00:00:00"
             ],
             {
              "frame": {
               "duration": 0,
               "redraw": false
              },
              "fromcurrent": true,
              "mode": "immediate",
              "transition": {
               "duration": 0,
               "easing": "linear"
              }
             }
            ],
            "label": "2024-06-08 00:00:00",
            "method": "animate"
           },
           {
            "args": [
             [
              "2024-06-09 00:00:00"
             ],
             {
              "frame": {
               "duration": 0,
               "redraw": false
              },
              "fromcurrent": true,
              "mode": "immediate",
              "transition": {
               "duration": 0,
               "easing": "linear"
              }
             }
            ],
            "label": "2024-06-09 00:00:00",
            "method": "animate"
           },
           {
            "args": [
             [
              "2024-06-10 00:00:00"
             ],
             {
              "frame": {
               "duration": 0,
               "redraw": false
              },
              "fromcurrent": true,
              "mode": "immediate",
              "transition": {
               "duration": 0,
               "easing": "linear"
              }
             }
            ],
            "label": "2024-06-10 00:00:00",
            "method": "animate"
           },
           {
            "args": [
             [
              "2024-06-11 00:00:00"
             ],
             {
              "frame": {
               "duration": 0,
               "redraw": false
              },
              "fromcurrent": true,
              "mode": "immediate",
              "transition": {
               "duration": 0,
               "easing": "linear"
              }
             }
            ],
            "label": "2024-06-11 00:00:00",
            "method": "animate"
           },
           {
            "args": [
             [
              "2024-06-12 00:00:00"
             ],
             {
              "frame": {
               "duration": 0,
               "redraw": false
              },
              "fromcurrent": true,
              "mode": "immediate",
              "transition": {
               "duration": 0,
               "easing": "linear"
              }
             }
            ],
            "label": "2024-06-12 00:00:00",
            "method": "animate"
           },
           {
            "args": [
             [
              "2024-06-13 00:00:00"
             ],
             {
              "frame": {
               "duration": 0,
               "redraw": false
              },
              "fromcurrent": true,
              "mode": "immediate",
              "transition": {
               "duration": 0,
               "easing": "linear"
              }
             }
            ],
            "label": "2024-06-13 00:00:00",
            "method": "animate"
           },
           {
            "args": [
             [
              "2024-06-14 00:00:00"
             ],
             {
              "frame": {
               "duration": 0,
               "redraw": false
              },
              "fromcurrent": true,
              "mode": "immediate",
              "transition": {
               "duration": 0,
               "easing": "linear"
              }
             }
            ],
            "label": "2024-06-14 00:00:00",
            "method": "animate"
           },
           {
            "args": [
             [
              "2024-06-15 00:00:00"
             ],
             {
              "frame": {
               "duration": 0,
               "redraw": false
              },
              "fromcurrent": true,
              "mode": "immediate",
              "transition": {
               "duration": 0,
               "easing": "linear"
              }
             }
            ],
            "label": "2024-06-15 00:00:00",
            "method": "animate"
           },
           {
            "args": [
             [
              "2024-06-16 00:00:00"
             ],
             {
              "frame": {
               "duration": 0,
               "redraw": false
              },
              "fromcurrent": true,
              "mode": "immediate",
              "transition": {
               "duration": 0,
               "easing": "linear"
              }
             }
            ],
            "label": "2024-06-16 00:00:00",
            "method": "animate"
           },
           {
            "args": [
             [
              "2024-06-17 00:00:00"
             ],
             {
              "frame": {
               "duration": 0,
               "redraw": false
              },
              "fromcurrent": true,
              "mode": "immediate",
              "transition": {
               "duration": 0,
               "easing": "linear"
              }
             }
            ],
            "label": "2024-06-17 00:00:00",
            "method": "animate"
           },
           {
            "args": [
             [
              "2024-06-18 00:00:00"
             ],
             {
              "frame": {
               "duration": 0,
               "redraw": false
              },
              "fromcurrent": true,
              "mode": "immediate",
              "transition": {
               "duration": 0,
               "easing": "linear"
              }
             }
            ],
            "label": "2024-06-18 00:00:00",
            "method": "animate"
           },
           {
            "args": [
             [
              "2024-06-19 00:00:00"
             ],
             {
              "frame": {
               "duration": 0,
               "redraw": false
              },
              "fromcurrent": true,
              "mode": "immediate",
              "transition": {
               "duration": 0,
               "easing": "linear"
              }
             }
            ],
            "label": "2024-06-19 00:00:00",
            "method": "animate"
           },
           {
            "args": [
             [
              "2024-06-20 00:00:00"
             ],
             {
              "frame": {
               "duration": 0,
               "redraw": false
              },
              "fromcurrent": true,
              "mode": "immediate",
              "transition": {
               "duration": 0,
               "easing": "linear"
              }
             }
            ],
            "label": "2024-06-20 00:00:00",
            "method": "animate"
           },
           {
            "args": [
             [
              "2024-06-21 00:00:00"
             ],
             {
              "frame": {
               "duration": 0,
               "redraw": false
              },
              "fromcurrent": true,
              "mode": "immediate",
              "transition": {
               "duration": 0,
               "easing": "linear"
              }
             }
            ],
            "label": "2024-06-21 00:00:00",
            "method": "animate"
           },
           {
            "args": [
             [
              "2024-06-22 00:00:00"
             ],
             {
              "frame": {
               "duration": 0,
               "redraw": false
              },
              "fromcurrent": true,
              "mode": "immediate",
              "transition": {
               "duration": 0,
               "easing": "linear"
              }
             }
            ],
            "label": "2024-06-22 00:00:00",
            "method": "animate"
           },
           {
            "args": [
             [
              "2024-06-23 00:00:00"
             ],
             {
              "frame": {
               "duration": 0,
               "redraw": false
              },
              "fromcurrent": true,
              "mode": "immediate",
              "transition": {
               "duration": 0,
               "easing": "linear"
              }
             }
            ],
            "label": "2024-06-23 00:00:00",
            "method": "animate"
           },
           {
            "args": [
             [
              "2024-06-24 00:00:00"
             ],
             {
              "frame": {
               "duration": 0,
               "redraw": false
              },
              "fromcurrent": true,
              "mode": "immediate",
              "transition": {
               "duration": 0,
               "easing": "linear"
              }
             }
            ],
            "label": "2024-06-24 00:00:00",
            "method": "animate"
           },
           {
            "args": [
             [
              "2024-06-25 00:00:00"
             ],
             {
              "frame": {
               "duration": 0,
               "redraw": false
              },
              "fromcurrent": true,
              "mode": "immediate",
              "transition": {
               "duration": 0,
               "easing": "linear"
              }
             }
            ],
            "label": "2024-06-25 00:00:00",
            "method": "animate"
           },
           {
            "args": [
             [
              "2024-06-26 00:00:00"
             ],
             {
              "frame": {
               "duration": 0,
               "redraw": false
              },
              "fromcurrent": true,
              "mode": "immediate",
              "transition": {
               "duration": 0,
               "easing": "linear"
              }
             }
            ],
            "label": "2024-06-26 00:00:00",
            "method": "animate"
           },
           {
            "args": [
             [
              "2024-06-27 00:00:00"
             ],
             {
              "frame": {
               "duration": 0,
               "redraw": false
              },
              "fromcurrent": true,
              "mode": "immediate",
              "transition": {
               "duration": 0,
               "easing": "linear"
              }
             }
            ],
            "label": "2024-06-27 00:00:00",
            "method": "animate"
           },
           {
            "args": [
             [
              "2024-06-28 00:00:00"
             ],
             {
              "frame": {
               "duration": 0,
               "redraw": false
              },
              "fromcurrent": true,
              "mode": "immediate",
              "transition": {
               "duration": 0,
               "easing": "linear"
              }
             }
            ],
            "label": "2024-06-28 00:00:00",
            "method": "animate"
           },
           {
            "args": [
             [
              "2024-06-29 00:00:00"
             ],
             {
              "frame": {
               "duration": 0,
               "redraw": false
              },
              "fromcurrent": true,
              "mode": "immediate",
              "transition": {
               "duration": 0,
               "easing": "linear"
              }
             }
            ],
            "label": "2024-06-29 00:00:00",
            "method": "animate"
           },
           {
            "args": [
             [
              "2024-06-30 00:00:00"
             ],
             {
              "frame": {
               "duration": 0,
               "redraw": false
              },
              "fromcurrent": true,
              "mode": "immediate",
              "transition": {
               "duration": 0,
               "easing": "linear"
              }
             }
            ],
            "label": "2024-06-30 00:00:00",
            "method": "animate"
           },
           {
            "args": [
             [
              "2024-07-01 00:00:00"
             ],
             {
              "frame": {
               "duration": 0,
               "redraw": false
              },
              "fromcurrent": true,
              "mode": "immediate",
              "transition": {
               "duration": 0,
               "easing": "linear"
              }
             }
            ],
            "label": "2024-07-01 00:00:00",
            "method": "animate"
           },
           {
            "args": [
             [
              "2024-07-02 00:00:00"
             ],
             {
              "frame": {
               "duration": 0,
               "redraw": false
              },
              "fromcurrent": true,
              "mode": "immediate",
              "transition": {
               "duration": 0,
               "easing": "linear"
              }
             }
            ],
            "label": "2024-07-02 00:00:00",
            "method": "animate"
           },
           {
            "args": [
             [
              "2024-07-03 00:00:00"
             ],
             {
              "frame": {
               "duration": 0,
               "redraw": false
              },
              "fromcurrent": true,
              "mode": "immediate",
              "transition": {
               "duration": 0,
               "easing": "linear"
              }
             }
            ],
            "label": "2024-07-03 00:00:00",
            "method": "animate"
           },
           {
            "args": [
             [
              "2024-07-04 00:00:00"
             ],
             {
              "frame": {
               "duration": 0,
               "redraw": false
              },
              "fromcurrent": true,
              "mode": "immediate",
              "transition": {
               "duration": 0,
               "easing": "linear"
              }
             }
            ],
            "label": "2024-07-04 00:00:00",
            "method": "animate"
           },
           {
            "args": [
             [
              "2024-07-05 00:00:00"
             ],
             {
              "frame": {
               "duration": 0,
               "redraw": false
              },
              "fromcurrent": true,
              "mode": "immediate",
              "transition": {
               "duration": 0,
               "easing": "linear"
              }
             }
            ],
            "label": "2024-07-05 00:00:00",
            "method": "animate"
           },
           {
            "args": [
             [
              "2024-07-06 00:00:00"
             ],
             {
              "frame": {
               "duration": 0,
               "redraw": false
              },
              "fromcurrent": true,
              "mode": "immediate",
              "transition": {
               "duration": 0,
               "easing": "linear"
              }
             }
            ],
            "label": "2024-07-06 00:00:00",
            "method": "animate"
           },
           {
            "args": [
             [
              "2024-07-07 00:00:00"
             ],
             {
              "frame": {
               "duration": 0,
               "redraw": false
              },
              "fromcurrent": true,
              "mode": "immediate",
              "transition": {
               "duration": 0,
               "easing": "linear"
              }
             }
            ],
            "label": "2024-07-07 00:00:00",
            "method": "animate"
           }
          ],
          "x": 0.1,
          "xanchor": "left",
          "y": 0,
          "yanchor": "top"
         }
        ],
        "template": {
         "data": {
          "bar": [
           {
            "error_x": {
             "color": "#2a3f5f"
            },
            "error_y": {
             "color": "#2a3f5f"
            },
            "marker": {
             "line": {
              "color": "#E5ECF6",
              "width": 0.5
             },
             "pattern": {
              "fillmode": "overlay",
              "size": 10,
              "solidity": 0.2
             }
            },
            "type": "bar"
           }
          ],
          "barpolar": [
           {
            "marker": {
             "line": {
              "color": "#E5ECF6",
              "width": 0.5
             },
             "pattern": {
              "fillmode": "overlay",
              "size": 10,
              "solidity": 0.2
             }
            },
            "type": "barpolar"
           }
          ],
          "carpet": [
           {
            "aaxis": {
             "endlinecolor": "#2a3f5f",
             "gridcolor": "white",
             "linecolor": "white",
             "minorgridcolor": "white",
             "startlinecolor": "#2a3f5f"
            },
            "baxis": {
             "endlinecolor": "#2a3f5f",
             "gridcolor": "white",
             "linecolor": "white",
             "minorgridcolor": "white",
             "startlinecolor": "#2a3f5f"
            },
            "type": "carpet"
           }
          ],
          "choropleth": [
           {
            "colorbar": {
             "outlinewidth": 0,
             "ticks": ""
            },
            "type": "choropleth"
           }
          ],
          "contour": [
           {
            "colorbar": {
             "outlinewidth": 0,
             "ticks": ""
            },
            "colorscale": [
             [
              0,
              "#0d0887"
             ],
             [
              0.1111111111111111,
              "#46039f"
             ],
             [
              0.2222222222222222,
              "#7201a8"
             ],
             [
              0.3333333333333333,
              "#9c179e"
             ],
             [
              0.4444444444444444,
              "#bd3786"
             ],
             [
              0.5555555555555556,
              "#d8576b"
             ],
             [
              0.6666666666666666,
              "#ed7953"
             ],
             [
              0.7777777777777778,
              "#fb9f3a"
             ],
             [
              0.8888888888888888,
              "#fdca26"
             ],
             [
              1,
              "#f0f921"
             ]
            ],
            "type": "contour"
           }
          ],
          "contourcarpet": [
           {
            "colorbar": {
             "outlinewidth": 0,
             "ticks": ""
            },
            "type": "contourcarpet"
           }
          ],
          "heatmap": [
           {
            "colorbar": {
             "outlinewidth": 0,
             "ticks": ""
            },
            "colorscale": [
             [
              0,
              "#0d0887"
             ],
             [
              0.1111111111111111,
              "#46039f"
             ],
             [
              0.2222222222222222,
              "#7201a8"
             ],
             [
              0.3333333333333333,
              "#9c179e"
             ],
             [
              0.4444444444444444,
              "#bd3786"
             ],
             [
              0.5555555555555556,
              "#d8576b"
             ],
             [
              0.6666666666666666,
              "#ed7953"
             ],
             [
              0.7777777777777778,
              "#fb9f3a"
             ],
             [
              0.8888888888888888,
              "#fdca26"
             ],
             [
              1,
              "#f0f921"
             ]
            ],
            "type": "heatmap"
           }
          ],
          "heatmapgl": [
           {
            "colorbar": {
             "outlinewidth": 0,
             "ticks": ""
            },
            "colorscale": [
             [
              0,
              "#0d0887"
             ],
             [
              0.1111111111111111,
              "#46039f"
             ],
             [
              0.2222222222222222,
              "#7201a8"
             ],
             [
              0.3333333333333333,
              "#9c179e"
             ],
             [
              0.4444444444444444,
              "#bd3786"
             ],
             [
              0.5555555555555556,
              "#d8576b"
             ],
             [
              0.6666666666666666,
              "#ed7953"
             ],
             [
              0.7777777777777778,
              "#fb9f3a"
             ],
             [
              0.8888888888888888,
              "#fdca26"
             ],
             [
              1,
              "#f0f921"
             ]
            ],
            "type": "heatmapgl"
           }
          ],
          "histogram": [
           {
            "marker": {
             "pattern": {
              "fillmode": "overlay",
              "size": 10,
              "solidity": 0.2
             }
            },
            "type": "histogram"
           }
          ],
          "histogram2d": [
           {
            "colorbar": {
             "outlinewidth": 0,
             "ticks": ""
            },
            "colorscale": [
             [
              0,
              "#0d0887"
             ],
             [
              0.1111111111111111,
              "#46039f"
             ],
             [
              0.2222222222222222,
              "#7201a8"
             ],
             [
              0.3333333333333333,
              "#9c179e"
             ],
             [
              0.4444444444444444,
              "#bd3786"
             ],
             [
              0.5555555555555556,
              "#d8576b"
             ],
             [
              0.6666666666666666,
              "#ed7953"
             ],
             [
              0.7777777777777778,
              "#fb9f3a"
             ],
             [
              0.8888888888888888,
              "#fdca26"
             ],
             [
              1,
              "#f0f921"
             ]
            ],
            "type": "histogram2d"
           }
          ],
          "histogram2dcontour": [
           {
            "colorbar": {
             "outlinewidth": 0,
             "ticks": ""
            },
            "colorscale": [
             [
              0,
              "#0d0887"
             ],
             [
              0.1111111111111111,
              "#46039f"
             ],
             [
              0.2222222222222222,
              "#7201a8"
             ],
             [
              0.3333333333333333,
              "#9c179e"
             ],
             [
              0.4444444444444444,
              "#bd3786"
             ],
             [
              0.5555555555555556,
              "#d8576b"
             ],
             [
              0.6666666666666666,
              "#ed7953"
             ],
             [
              0.7777777777777778,
              "#fb9f3a"
             ],
             [
              0.8888888888888888,
              "#fdca26"
             ],
             [
              1,
              "#f0f921"
             ]
            ],
            "type": "histogram2dcontour"
           }
          ],
          "mesh3d": [
           {
            "colorbar": {
             "outlinewidth": 0,
             "ticks": ""
            },
            "type": "mesh3d"
           }
          ],
          "parcoords": [
           {
            "line": {
             "colorbar": {
              "outlinewidth": 0,
              "ticks": ""
             }
            },
            "type": "parcoords"
           }
          ],
          "pie": [
           {
            "automargin": true,
            "type": "pie"
           }
          ],
          "scatter": [
           {
            "fillpattern": {
             "fillmode": "overlay",
             "size": 10,
             "solidity": 0.2
            },
            "type": "scatter"
           }
          ],
          "scatter3d": [
           {
            "line": {
             "colorbar": {
              "outlinewidth": 0,
              "ticks": ""
             }
            },
            "marker": {
             "colorbar": {
              "outlinewidth": 0,
              "ticks": ""
             }
            },
            "type": "scatter3d"
           }
          ],
          "scattercarpet": [
           {
            "marker": {
             "colorbar": {
              "outlinewidth": 0,
              "ticks": ""
             }
            },
            "type": "scattercarpet"
           }
          ],
          "scattergeo": [
           {
            "marker": {
             "colorbar": {
              "outlinewidth": 0,
              "ticks": ""
             }
            },
            "type": "scattergeo"
           }
          ],
          "scattergl": [
           {
            "marker": {
             "colorbar": {
              "outlinewidth": 0,
              "ticks": ""
             }
            },
            "type": "scattergl"
           }
          ],
          "scattermapbox": [
           {
            "marker": {
             "colorbar": {
              "outlinewidth": 0,
              "ticks": ""
             }
            },
            "type": "scattermapbox"
           }
          ],
          "scatterpolar": [
           {
            "marker": {
             "colorbar": {
              "outlinewidth": 0,
              "ticks": ""
             }
            },
            "type": "scatterpolar"
           }
          ],
          "scatterpolargl": [
           {
            "marker": {
             "colorbar": {
              "outlinewidth": 0,
              "ticks": ""
             }
            },
            "type": "scatterpolargl"
           }
          ],
          "scatterternary": [
           {
            "marker": {
             "colorbar": {
              "outlinewidth": 0,
              "ticks": ""
             }
            },
            "type": "scatterternary"
           }
          ],
          "surface": [
           {
            "colorbar": {
             "outlinewidth": 0,
             "ticks": ""
            },
            "colorscale": [
             [
              0,
              "#0d0887"
             ],
             [
              0.1111111111111111,
              "#46039f"
             ],
             [
              0.2222222222222222,
              "#7201a8"
             ],
             [
              0.3333333333333333,
              "#9c179e"
             ],
             [
              0.4444444444444444,
              "#bd3786"
             ],
             [
              0.5555555555555556,
              "#d8576b"
             ],
             [
              0.6666666666666666,
              "#ed7953"
             ],
             [
              0.7777777777777778,
              "#fb9f3a"
             ],
             [
              0.8888888888888888,
              "#fdca26"
             ],
             [
              1,
              "#f0f921"
             ]
            ],
            "type": "surface"
           }
          ],
          "table": [
           {
            "cells": {
             "fill": {
              "color": "#EBF0F8"
             },
             "line": {
              "color": "white"
             }
            },
            "header": {
             "fill": {
              "color": "#C8D4E3"
             },
             "line": {
              "color": "white"
             }
            },
            "type": "table"
           }
          ]
         },
         "layout": {
          "annotationdefaults": {
           "arrowcolor": "#2a3f5f",
           "arrowhead": 0,
           "arrowwidth": 1
          },
          "autotypenumbers": "strict",
          "coloraxis": {
           "colorbar": {
            "outlinewidth": 0,
            "ticks": ""
           }
          },
          "colorscale": {
           "diverging": [
            [
             0,
             "#8e0152"
            ],
            [
             0.1,
             "#c51b7d"
            ],
            [
             0.2,
             "#de77ae"
            ],
            [
             0.3,
             "#f1b6da"
            ],
            [
             0.4,
             "#fde0ef"
            ],
            [
             0.5,
             "#f7f7f7"
            ],
            [
             0.6,
             "#e6f5d0"
            ],
            [
             0.7,
             "#b8e186"
            ],
            [
             0.8,
             "#7fbc41"
            ],
            [
             0.9,
             "#4d9221"
            ],
            [
             1,
             "#276419"
            ]
           ],
           "sequential": [
            [
             0,
             "#0d0887"
            ],
            [
             0.1111111111111111,
             "#46039f"
            ],
            [
             0.2222222222222222,
             "#7201a8"
            ],
            [
             0.3333333333333333,
             "#9c179e"
            ],
            [
             0.4444444444444444,
             "#bd3786"
            ],
            [
             0.5555555555555556,
             "#d8576b"
            ],
            [
             0.6666666666666666,
             "#ed7953"
            ],
            [
             0.7777777777777778,
             "#fb9f3a"
            ],
            [
             0.8888888888888888,
             "#fdca26"
            ],
            [
             1,
             "#f0f921"
            ]
           ],
           "sequentialminus": [
            [
             0,
             "#0d0887"
            ],
            [
             0.1111111111111111,
             "#46039f"
            ],
            [
             0.2222222222222222,
             "#7201a8"
            ],
            [
             0.3333333333333333,
             "#9c179e"
            ],
            [
             0.4444444444444444,
             "#bd3786"
            ],
            [
             0.5555555555555556,
             "#d8576b"
            ],
            [
             0.6666666666666666,
             "#ed7953"
            ],
            [
             0.7777777777777778,
             "#fb9f3a"
            ],
            [
             0.8888888888888888,
             "#fdca26"
            ],
            [
             1,
             "#f0f921"
            ]
           ]
          },
          "colorway": [
           "#636efa",
           "#EF553B",
           "#00cc96",
           "#ab63fa",
           "#FFA15A",
           "#19d3f3",
           "#FF6692",
           "#B6E880",
           "#FF97FF",
           "#FECB52"
          ],
          "font": {
           "color": "#2a3f5f"
          },
          "geo": {
           "bgcolor": "white",
           "lakecolor": "white",
           "landcolor": "#E5ECF6",
           "showlakes": true,
           "showland": true,
           "subunitcolor": "white"
          },
          "hoverlabel": {
           "align": "left"
          },
          "hovermode": "closest",
          "mapbox": {
           "style": "light"
          },
          "paper_bgcolor": "white",
          "plot_bgcolor": "#E5ECF6",
          "polar": {
           "angularaxis": {
            "gridcolor": "white",
            "linecolor": "white",
            "ticks": ""
           },
           "bgcolor": "#E5ECF6",
           "radialaxis": {
            "gridcolor": "white",
            "linecolor": "white",
            "ticks": ""
           }
          },
          "scene": {
           "xaxis": {
            "backgroundcolor": "#E5ECF6",
            "gridcolor": "white",
            "gridwidth": 2,
            "linecolor": "white",
            "showbackground": true,
            "ticks": "",
            "zerolinecolor": "white"
           },
           "yaxis": {
            "backgroundcolor": "#E5ECF6",
            "gridcolor": "white",
            "gridwidth": 2,
            "linecolor": "white",
            "showbackground": true,
            "ticks": "",
            "zerolinecolor": "white"
           },
           "zaxis": {
            "backgroundcolor": "#E5ECF6",
            "gridcolor": "white",
            "gridwidth": 2,
            "linecolor": "white",
            "showbackground": true,
            "ticks": "",
            "zerolinecolor": "white"
           }
          },
          "shapedefaults": {
           "line": {
            "color": "#2a3f5f"
           }
          },
          "ternary": {
           "aaxis": {
            "gridcolor": "white",
            "linecolor": "white",
            "ticks": ""
           },
           "baxis": {
            "gridcolor": "white",
            "linecolor": "white",
            "ticks": ""
           },
           "bgcolor": "#E5ECF6",
           "caxis": {
            "gridcolor": "white",
            "linecolor": "white",
            "ticks": ""
           }
          },
          "title": {
           "x": 0.05
          },
          "xaxis": {
           "automargin": true,
           "gridcolor": "white",
           "linecolor": "white",
           "ticks": "",
           "title": {
            "standoff": 15
           },
           "zerolinecolor": "white",
           "zerolinewidth": 2
          },
          "yaxis": {
           "automargin": true,
           "gridcolor": "white",
           "linecolor": "white",
           "ticks": "",
           "title": {
            "standoff": 15
           },
           "zerolinecolor": "white",
           "zerolinewidth": 2
          }
         }
        },
        "title": {
         "text": "Perfil horario. Año 2024"
        },
        "updatemenus": [
         {
          "buttons": [
           {
            "args": [
             null,
             {
              "frame": {
               "duration": 500,
               "redraw": false
              },
              "fromcurrent": true,
              "mode": "immediate",
              "transition": {
               "duration": 500,
               "easing": "linear"
              }
             }
            ],
            "label": "&#9654;",
            "method": "animate"
           },
           {
            "args": [
             [
              null
             ],
             {
              "frame": {
               "duration": 0,
               "redraw": false
              },
              "fromcurrent": true,
              "mode": "immediate",
              "transition": {
               "duration": 0,
               "easing": "linear"
              }
             }
            ],
            "label": "&#9724;",
            "method": "animate"
           }
          ],
          "direction": "left",
          "pad": {
           "r": 10,
           "t": 70
          },
          "showactive": false,
          "type": "buttons",
          "x": 0.1,
          "xanchor": "right",
          "y": 0,
          "yanchor": "top"
         }
        ],
        "width": 800,
        "xaxis": {
         "anchor": "y",
         "domain": [
          0,
          1
         ],
         "title": {
          "text": "hora"
         }
        },
        "yaxis": {
         "anchor": "x",
         "domain": [
          0,
          1
         ],
         "range": [
          -2,
          181.26
         ],
         "title": {
          "text": "€/MWh"
         }
        }
       }
      }
     },
     "metadata": {},
     "output_type": "display_data"
    }
   ],
   "source": [
    "def graf_horaria():\n",
    "    graf_horaria=px.scatter(datos_horarios, x='hora',y='value',\n",
    "        title='Perfil horario. Año 2024',                            \n",
    "        animation_frame='fecha',\n",
    "        width=800,\n",
    "        labels={'value':'€/MWh'}\n",
    "        #category_orders={'escala':escala_ordenada_hora},\n",
    "        #color_discrete_map=colores\n",
    "        #marker_size=10\n",
    "    )\n",
    "                           \n",
    "    graf_horaria_linea=go.Scatter(\n",
    "        x=pt_curva_horaria['hora'],\n",
    "        y=pt_curva_horaria['value'],\n",
    "        #color=[\"blue\"],\n",
    "        name='Media Anual',\n",
    "        mode='lines',\n",
    "        \n",
    "    )\n",
    "     \n",
    "    graf_horaria.add_trace(graf_horaria_linea)\n",
    "        \n",
    "    graf_horaria.update_layout(\n",
    "        yaxis=dict(range=[datos_horarios['value'].min(), datos_horarios['value'].max()])\n",
    "    )\n",
    "    \n",
    "    return graf_horaria\n",
    "graf_horaria()"
   ]
  },
  {
   "cell_type": "code",
   "execution_count": 265,
   "metadata": {},
   "outputs": [
    {
     "data": {
      "text/plain": [
       "datetime\n",
       "2024-01-01 00:00:00     True\n",
       "2024-01-01 01:00:00     True\n",
       "2024-01-01 02:00:00     True\n",
       "2024-01-01 03:00:00     True\n",
       "2024-01-01 04:00:00     True\n",
       "                       ...  \n",
       "2024-07-07 19:00:00    False\n",
       "2024-07-07 20:00:00    False\n",
       "2024-07-07 21:00:00    False\n",
       "2024-07-07 22:00:00    False\n",
       "2024-07-07 23:00:00    False\n",
       "Name: mes, Length: 4535, dtype: bool"
      ]
     },
     "execution_count": 265,
     "metadata": {},
     "output_type": "execute_result"
    }
   ],
   "source": [
    "mes=1\n",
    "filtro_mes=datos['mes']==mes\n",
    "datos_filtrados=datos[filtro_mes]\n",
    "filtro_mes"
   ]
  },
  {
   "cell_type": "code",
   "execution_count": 266,
   "metadata": {},
   "outputs": [
    {
     "data": {
      "text/html": [
       "<div>\n",
       "<style scoped>\n",
       "    .dataframe tbody tr th:only-of-type {\n",
       "        vertical-align: middle;\n",
       "    }\n",
       "\n",
       "    .dataframe tbody tr th {\n",
       "        vertical-align: top;\n",
       "    }\n",
       "\n",
       "    .dataframe thead th {\n",
       "        text-align: right;\n",
       "    }\n",
       "</style>\n",
       "<table border=\"1\" class=\"dataframe\">\n",
       "  <thead>\n",
       "    <tr style=\"text-align: right;\">\n",
       "      <th></th>\n",
       "      <th>value</th>\n",
       "      <th>fecha</th>\n",
       "      <th>hora</th>\n",
       "      <th>dia</th>\n",
       "      <th>mes</th>\n",
       "      <th>año</th>\n",
       "      <th>escala</th>\n",
       "      <th>color</th>\n",
       "    </tr>\n",
       "    <tr>\n",
       "      <th>datetime</th>\n",
       "      <th></th>\n",
       "      <th></th>\n",
       "      <th></th>\n",
       "      <th></th>\n",
       "      <th></th>\n",
       "      <th></th>\n",
       "      <th></th>\n",
       "      <th></th>\n",
       "    </tr>\n",
       "  </thead>\n",
       "  <tbody>\n",
       "    <tr>\n",
       "      <th>2024-01-01 00:00:00</th>\n",
       "      <td>63.33</td>\n",
       "      <td>2024-01-01</td>\n",
       "      <td>0</td>\n",
       "      <td>1</td>\n",
       "      <td>1</td>\n",
       "      <td>2024</td>\n",
       "      <td>alto</td>\n",
       "      <td>orange</td>\n",
       "    </tr>\n",
       "    <tr>\n",
       "      <th>2024-01-01 01:00:00</th>\n",
       "      <td>50.09</td>\n",
       "      <td>2024-01-01</td>\n",
       "      <td>1</td>\n",
       "      <td>1</td>\n",
       "      <td>1</td>\n",
       "      <td>2024</td>\n",
       "      <td>medio</td>\n",
       "      <td>blue</td>\n",
       "    </tr>\n",
       "    <tr>\n",
       "      <th>2024-01-01 02:00:00</th>\n",
       "      <td>47.50</td>\n",
       "      <td>2024-01-01</td>\n",
       "      <td>2</td>\n",
       "      <td>1</td>\n",
       "      <td>1</td>\n",
       "      <td>2024</td>\n",
       "      <td>medio</td>\n",
       "      <td>blue</td>\n",
       "    </tr>\n",
       "    <tr>\n",
       "      <th>2024-01-01 03:00:00</th>\n",
       "      <td>43.50</td>\n",
       "      <td>2024-01-01</td>\n",
       "      <td>3</td>\n",
       "      <td>1</td>\n",
       "      <td>1</td>\n",
       "      <td>2024</td>\n",
       "      <td>medio</td>\n",
       "      <td>blue</td>\n",
       "    </tr>\n",
       "    <tr>\n",
       "      <th>2024-01-01 04:00:00</th>\n",
       "      <td>42.50</td>\n",
       "      <td>2024-01-01</td>\n",
       "      <td>4</td>\n",
       "      <td>1</td>\n",
       "      <td>1</td>\n",
       "      <td>2024</td>\n",
       "      <td>medio</td>\n",
       "      <td>blue</td>\n",
       "    </tr>\n",
       "    <tr>\n",
       "      <th>...</th>\n",
       "      <td>...</td>\n",
       "      <td>...</td>\n",
       "      <td>...</td>\n",
       "      <td>...</td>\n",
       "      <td>...</td>\n",
       "      <td>...</td>\n",
       "      <td>...</td>\n",
       "      <td>...</td>\n",
       "    </tr>\n",
       "    <tr>\n",
       "      <th>2024-01-31 19:00:00</th>\n",
       "      <td>119.47</td>\n",
       "      <td>2024-01-31</td>\n",
       "      <td>19</td>\n",
       "      <td>31</td>\n",
       "      <td>1</td>\n",
       "      <td>2024</td>\n",
       "      <td>chungo</td>\n",
       "      <td>purple</td>\n",
       "    </tr>\n",
       "    <tr>\n",
       "      <th>2024-01-31 20:00:00</th>\n",
       "      <td>168.35</td>\n",
       "      <td>2024-01-31</td>\n",
       "      <td>20</td>\n",
       "      <td>31</td>\n",
       "      <td>1</td>\n",
       "      <td>2024</td>\n",
       "      <td>chungo</td>\n",
       "      <td>purple</td>\n",
       "    </tr>\n",
       "    <tr>\n",
       "      <th>2024-01-31 21:00:00</th>\n",
       "      <td>94.54</td>\n",
       "      <td>2024-01-31</td>\n",
       "      <td>21</td>\n",
       "      <td>31</td>\n",
       "      <td>1</td>\n",
       "      <td>2024</td>\n",
       "      <td>muy alto</td>\n",
       "      <td>red</td>\n",
       "    </tr>\n",
       "    <tr>\n",
       "      <th>2024-01-31 22:00:00</th>\n",
       "      <td>85.00</td>\n",
       "      <td>2024-01-31</td>\n",
       "      <td>22</td>\n",
       "      <td>31</td>\n",
       "      <td>1</td>\n",
       "      <td>2024</td>\n",
       "      <td>muy alto</td>\n",
       "      <td>red</td>\n",
       "    </tr>\n",
       "    <tr>\n",
       "      <th>2024-01-31 23:00:00</th>\n",
       "      <td>77.52</td>\n",
       "      <td>2024-01-31</td>\n",
       "      <td>23</td>\n",
       "      <td>31</td>\n",
       "      <td>1</td>\n",
       "      <td>2024</td>\n",
       "      <td>alto</td>\n",
       "      <td>orange</td>\n",
       "    </tr>\n",
       "  </tbody>\n",
       "</table>\n",
       "<p>744 rows × 8 columns</p>\n",
       "</div>"
      ],
      "text/plain": [
       "                      value      fecha  hora  dia  mes   año    escala   color\n",
       "datetime                                                                      \n",
       "2024-01-01 00:00:00   63.33 2024-01-01     0    1    1  2024      alto  orange\n",
       "2024-01-01 01:00:00   50.09 2024-01-01     1    1    1  2024     medio    blue\n",
       "2024-01-01 02:00:00   47.50 2024-01-01     2    1    1  2024     medio    blue\n",
       "2024-01-01 03:00:00   43.50 2024-01-01     3    1    1  2024     medio    blue\n",
       "2024-01-01 04:00:00   42.50 2024-01-01     4    1    1  2024     medio    blue\n",
       "...                     ...        ...   ...  ...  ...   ...       ...     ...\n",
       "2024-01-31 19:00:00  119.47 2024-01-31    19   31    1  2024    chungo  purple\n",
       "2024-01-31 20:00:00  168.35 2024-01-31    20   31    1  2024    chungo  purple\n",
       "2024-01-31 21:00:00   94.54 2024-01-31    21   31    1  2024  muy alto     red\n",
       "2024-01-31 22:00:00   85.00 2024-01-31    22   31    1  2024  muy alto     red\n",
       "2024-01-31 23:00:00   77.52 2024-01-31    23   31    1  2024      alto  orange\n",
       "\n",
       "[744 rows x 8 columns]"
      ]
     },
     "execution_count": 266,
     "metadata": {},
     "output_type": "execute_result"
    }
   ],
   "source": [
    "datos_filtrados"
   ]
  },
  {
   "cell_type": "code",
   "execution_count": 267,
   "metadata": {},
   "outputs": [],
   "source": [
    "#datos_filtrados.set_index('datetime', inplace=True)\n",
    "#datos_filtrados"
   ]
  },
  {
   "cell_type": "code",
   "execution_count": 268,
   "metadata": {},
   "outputs": [
    {
     "data": {
      "text/plain": [
       "value            float64\n",
       "fecha     datetime64[ns]\n",
       "hora               int32\n",
       "dia                int32\n",
       "mes                int32\n",
       "año                int32\n",
       "escala          category\n",
       "color           category\n",
       "dtype: object"
      ]
     },
     "execution_count": 268,
     "metadata": {},
     "output_type": "execute_result"
    }
   ],
   "source": [
    "datos_filtrados.dtypes"
   ]
  },
  {
   "cell_type": "markdown",
   "metadata": {},
   "source": [
    "datos_filtrados_dia=datos_filtrados.resample('D').mean()\n",
    "datos_filtrados_dia"
   ]
  },
  {
   "cell_type": "code",
   "execution_count": null,
   "metadata": {},
   "outputs": [],
   "source": []
  },
  {
   "cell_type": "code",
   "execution_count": null,
   "metadata": {},
   "outputs": [],
   "source": []
  },
  {
   "cell_type": "markdown",
   "metadata": {},
   "source": [
    "def graf_dia():\n",
    "    graf_dia=px.line(datos_filtrados_dia,x='fecha',y='value')\n",
    "    \n",
    "    return graf_dia"
   ]
  },
  {
   "cell_type": "markdown",
   "metadata": {},
   "source": [
    "graf_dia()"
   ]
  },
  {
   "cell_type": "code",
   "execution_count": null,
   "metadata": {},
   "outputs": [],
   "source": []
  }
 ],
 "metadata": {
  "kernelspec": {
   "display_name": "base",
   "language": "python",
   "name": "python3"
  },
  "language_info": {
   "codemirror_mode": {
    "name": "ipython",
    "version": 3
   },
   "file_extension": ".py",
   "mimetype": "text/x-python",
   "name": "python",
   "nbconvert_exporter": "python",
   "pygments_lexer": "ipython3",
   "version": "3.11.4"
  }
 },
 "nbformat": 4,
 "nbformat_minor": 2
}
